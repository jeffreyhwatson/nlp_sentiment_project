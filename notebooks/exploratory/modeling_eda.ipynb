{
 "cells": [
  {
   "cell_type": "code",
   "execution_count": 2,
   "id": "b7add308-d216-45f4-9490-5e781afb9511",
   "metadata": {},
   "outputs": [],
   "source": [
    "%load_ext autoreload\n",
    "%autoreload 2"
   ]
  },
  {
   "cell_type": "markdown",
   "id": "88e78bdf-b320-4f27-a65f-f8483c86359a",
   "metadata": {},
   "source": [
    "# NLP Twitter Sentiment Analysis Project\n",
    "<font size=\"4\"> Author: Jeffrey Hanif Watson </font>"
   ]
  },
  {
   "cell_type": "markdown",
   "id": "cee09852-b6e8-4d4a-91cf-cba9715e3e49",
   "metadata": {},
   "source": [
    "## Project Goals & Overview:\n",
    "Develop and train a natural language processing model to classify the sentiment of tweets."
   ]
  },
  {
   "cell_type": "markdown",
   "id": "0739dc5b-d67e-492e-8e25-ab02b9528719",
   "metadata": {},
   "source": [
    "## Business Understanding:\n",
    "Companies can benefit from understanding how consumers perceive and feel about their brands and products, and sentiment analysis of text data from twitter can help provide this knowledge in a timely manner."
   ]
  },
  {
   "cell_type": "markdown",
   "id": "7f11a699-b878-425c-aea2-377ce5f4ce0f",
   "metadata": {},
   "source": [
    "## Data Understanding:\n",
    "The data for this project consists of a csv file containing 9,093 rows of text data (tweets, brand/product ids, sentiments labels) originally sourced from [Twitter](https://twitter.com/?lang=en) and collected into the [crowdflower/brands-and-product-emotions](https://data.world/crowdflower/brands-and-product-emotions). "
   ]
  },
  {
   "cell_type": "markdown",
   "id": "6f4b132a-903e-4206-8cd4-bbb6c0075630",
   "metadata": {},
   "source": [
    "## Package Imports & Setup \n",
    "Importing the required packages, setting the project path and notebook styling."
   ]
  },
  {
   "cell_type": "code",
   "execution_count": 76,
   "id": "47484d2c-f47e-4345-9071-7e14a8549212",
   "metadata": {},
   "outputs": [],
   "source": [
    "# imports\n",
    "import os, sys, string, re, itertools, more_itertools, random\n",
    "from more_itertools import take\n",
    "\n",
    "# setting project path\n",
    "gparent = os.path.join(os.pardir, os.pardir)\n",
    "sys.path.append(gparent)\n",
    "\n",
    "import pandas as pd\n",
    "import numpy as np\n",
    "\n",
    "import nltk\n",
    "\n",
    "from nltk.probability import FreqDist\n",
    "from nltk.corpus import stopwords\n",
    "from nltk.stem import PorterStemmer, WordNetLemmatizer\n",
    "from nltk.tokenize import RegexpTokenizer\n",
    "\n",
    "from sklearn.base import clone\n",
    "from sklearn.pipeline import make_pipeline\n",
    "from sklearn.model_selection import (StratifiedKFold, train_test_split,\n",
    "                                     cross_val_score)\n",
    "from sklearn.feature_extraction.text import (CountVectorizer, TfidfVectorizer,\n",
    "                                             TfidfTransformer)\n",
    "from sklearn.metrics import (f1_score, recall_score, precision_score,\n",
    "                             make_scorer, plot_confusion_matrix)\n",
    "from sklearn.linear_model import LogisticRegression\n",
    "from sklearn.naive_bayes import MultinomialNB\n",
    "from sklearn.tree import DecisionTreeClassifier\n",
    "from sklearn.ensemble import RandomForestClassifier\n",
    "\n",
    "import matplotlib.pyplot as plt\n",
    "# from matplotlib import cm\n",
    "import seaborn as sns\n",
    "%matplotlib inline\n",
    "\n",
    "from src import visualizations as vz\n",
    "from src import functions as fn\n",
    "from src import classes as cl                                     \n",
    "\n",
    "# # updates for nltk helper packages if needed\n",
    "# nltk.download('stopwords')\n",
    "# nltk.download('punkt')\n",
    "# nltk.download('wordnet')\n",
    "                                     \n",
    "# setting style\n",
    "sns.set_theme('talk')\n",
    "plt.style.use('fivethirtyeight')\n",
    "sns.set_palette(palette='Blues_r')\n",
    "pd.options.display.max_rows = 300"
   ]
  },
  {
   "cell_type": "markdown",
   "id": "93ef7a49-19a9-4ff1-b1e9-40dd9d6684e5",
   "metadata": {},
   "source": [
    "## Modeling I: (Exploring the Data)"
   ]
  },
  {
   "cell_type": "markdown",
   "id": "40d58b8b-7c12-4b46-845a-b0e636144a87",
   "metadata": {},
   "source": [
    "## `dir` Check\n",
    "Checking where we are before setting the path."
   ]
  },
  {
   "cell_type": "code",
   "execution_count": 4,
   "id": "0bf37d70-ca7c-4e01-9359-d41964001c8d",
   "metadata": {},
   "outputs": [
    {
     "name": "stdout",
     "output_type": "stream",
     "text": [
      "/Users/dsbox/Documents/Flatiron/p_4_project/nlp_sentiment_project/notebooks/exploratory\n"
     ]
    }
   ],
   "source": [
    "!pwd"
   ]
  },
  {
   "cell_type": "markdown",
   "id": "95585459-5a95-4f5f-b969-386972e6d658",
   "metadata": {},
   "source": [
    "## Importing Data:\n",
    "Setting path to the data, creating data frame, and checking first five rows."
   ]
  },
  {
   "cell_type": "code",
   "execution_count": 11,
   "id": "73ba19c2-3b09-4230-9699-adc5a5b7abaf",
   "metadata": {},
   "outputs": [
    {
     "data": {
      "text/html": [
       "<div>\n",
       "<style scoped>\n",
       "    .dataframe tbody tr th:only-of-type {\n",
       "        vertical-align: middle;\n",
       "    }\n",
       "\n",
       "    .dataframe tbody tr th {\n",
       "        vertical-align: top;\n",
       "    }\n",
       "\n",
       "    .dataframe thead th {\n",
       "        text-align: right;\n",
       "    }\n",
       "</style>\n",
       "<table border=\"1\" class=\"dataframe\">\n",
       "  <thead>\n",
       "    <tr style=\"text-align: right;\">\n",
       "      <th></th>\n",
       "      <th>emotion</th>\n",
       "      <th>stems</th>\n",
       "      <th>lemmas</th>\n",
       "      <th>tweet</th>\n",
       "      <th>brand_product</th>\n",
       "      <th>hashtags</th>\n",
       "    </tr>\n",
       "  </thead>\n",
       "  <tbody>\n",
       "    <tr>\n",
       "      <th>0</th>\n",
       "      <td>0</td>\n",
       "      <td>3g iphon 3 hr tweet rise austin dead need upgr...</td>\n",
       "      <td>3g iphone 3 hr tweeting rise austin dead need ...</td>\n",
       "      <td>.@wesley83 I have a 3G iPhone. After 3 hrs twe...</td>\n",
       "      <td>iPhone</td>\n",
       "      <td>['#RISE_Austin', '#SXSW']</td>\n",
       "    </tr>\n",
       "    <tr>\n",
       "      <th>1</th>\n",
       "      <td>1</td>\n",
       "      <td>know awesom ipad iphon app like appreci design...</td>\n",
       "      <td>know awesome ipad iphone app likely appreciate...</td>\n",
       "      <td>@jessedee Know about @fludapp ? Awesome iPad/i...</td>\n",
       "      <td>iPad or iPhone App</td>\n",
       "      <td>['#SXSW']</td>\n",
       "    </tr>\n",
       "    <tr>\n",
       "      <th>2</th>\n",
       "      <td>1</td>\n",
       "      <td>wait ipad 2 also sale sxsw</td>\n",
       "      <td>wait ipad 2 also sale sxsw</td>\n",
       "      <td>@swonderlin Can not wait for #iPad 2 also. The...</td>\n",
       "      <td>iPad</td>\n",
       "      <td>['#iPad', '#SXSW']</td>\n",
       "    </tr>\n",
       "    <tr>\n",
       "      <th>3</th>\n",
       "      <td>0</td>\n",
       "      <td>hope year festiv crashi year iphon app sxsw</td>\n",
       "      <td>hope year festival crashy year iphone app sxsw</td>\n",
       "      <td>@sxsw I hope this year's festival isn't as cra...</td>\n",
       "      <td>iPad or iPhone App</td>\n",
       "      <td>['#sxsw']</td>\n",
       "    </tr>\n",
       "    <tr>\n",
       "      <th>4</th>\n",
       "      <td>1</td>\n",
       "      <td>great stuff fri sxsw marissa mayer googl tim r...</td>\n",
       "      <td>great stuff fri sxsw marissa mayer google tim ...</td>\n",
       "      <td>@sxtxstate great stuff on Fri #SXSW: Marissa M...</td>\n",
       "      <td>Google</td>\n",
       "      <td>['#SXSW']</td>\n",
       "    </tr>\n",
       "  </tbody>\n",
       "</table>\n",
       "</div>"
      ],
      "text/plain": [
       "   emotion                                              stems  \\\n",
       "0        0  3g iphon 3 hr tweet rise austin dead need upgr...   \n",
       "1        1  know awesom ipad iphon app like appreci design...   \n",
       "2        1                         wait ipad 2 also sale sxsw   \n",
       "3        0        hope year festiv crashi year iphon app sxsw   \n",
       "4        1  great stuff fri sxsw marissa mayer googl tim r...   \n",
       "\n",
       "                                              lemmas  \\\n",
       "0  3g iphone 3 hr tweeting rise austin dead need ...   \n",
       "1  know awesome ipad iphone app likely appreciate...   \n",
       "2                         wait ipad 2 also sale sxsw   \n",
       "3     hope year festival crashy year iphone app sxsw   \n",
       "4  great stuff fri sxsw marissa mayer google tim ...   \n",
       "\n",
       "                                               tweet       brand_product  \\\n",
       "0  .@wesley83 I have a 3G iPhone. After 3 hrs twe...              iPhone   \n",
       "1  @jessedee Know about @fludapp ? Awesome iPad/i...  iPad or iPhone App   \n",
       "2  @swonderlin Can not wait for #iPad 2 also. The...                iPad   \n",
       "3  @sxsw I hope this year's festival isn't as cra...  iPad or iPhone App   \n",
       "4  @sxtxstate great stuff on Fri #SXSW: Marissa M...              Google   \n",
       "\n",
       "                    hashtags  \n",
       "0  ['#RISE_Austin', '#SXSW']  \n",
       "1                  ['#SXSW']  \n",
       "2         ['#iPad', '#SXSW']  \n",
       "3                  ['#sxsw']  \n",
       "4                  ['#SXSW']  "
      ]
     },
     "execution_count": 11,
     "metadata": {},
     "output_type": "execute_result"
    }
   ],
   "source": [
    "path = path = os.path.join(gparent, 'data/processed',\\\n",
    "                           'modeling_binary.csv')\n",
    "df = pd.read_csv(path, encoding='unicode_escape')\n",
    "df.head()"
   ]
  },
  {
   "cell_type": "markdown",
   "id": "eb13aebe-187d-4460-92ad-4b92e64d1b4f",
   "metadata": {},
   "source": [
    "## Checking the DF Info"
   ]
  },
  {
   "cell_type": "code",
   "execution_count": 12,
   "id": "0ec44768-2724-44df-8710-620a8f4a3700",
   "metadata": {},
   "outputs": [
    {
     "name": "stdout",
     "output_type": "stream",
     "text": [
      "<class 'pandas.core.frame.DataFrame'>\n",
      "RangeIndex: 3537 entries, 0 to 3536\n",
      "Data columns (total 6 columns):\n",
      " #   Column         Non-Null Count  Dtype \n",
      "---  ------         --------------  ----- \n",
      " 0   emotion        3537 non-null   int64 \n",
      " 1   stems          3537 non-null   object\n",
      " 2   lemmas         3537 non-null   object\n",
      " 3   tweet          3537 non-null   object\n",
      " 4   brand_product  3180 non-null   object\n",
      " 5   hashtags       3531 non-null   object\n",
      "dtypes: int64(1), object(5)\n",
      "memory usage: 165.9+ KB\n"
     ]
    }
   ],
   "source": [
    "df.info()"
   ]
  },
  {
   "cell_type": "markdown",
   "id": "a967909e-c419-4b7a-aee1-3b3854917c75",
   "metadata": {},
   "source": [
    "## Splitting Initial `data` & `target` Series\n",
    "<font size=\"4\">`emotion` column values = {0: 'negative', 1: 'positive'}</font>"
   ]
  },
  {
   "cell_type": "code",
   "execution_count": 13,
   "id": "3798c0eb-1440-46bb-b97c-869d6e4879d0",
   "metadata": {},
   "outputs": [],
   "source": [
    "data_lemms = df.lemmas\n",
    "data_stems = df.stems\n",
    "target = df['emotion']"
   ]
  },
  {
   "cell_type": "code",
   "execution_count": 14,
   "id": "0ae13f95-33b2-4a7c-a81c-af45da6335e3",
   "metadata": {},
   "outputs": [
    {
     "data": {
      "text/plain": [
       "0"
      ]
     },
     "execution_count": 14,
     "metadata": {},
     "output_type": "execute_result"
    }
   ],
   "source": [
    "data_lemms.isna().sum()\n",
    "data_stems.isna().sum()"
   ]
  },
  {
   "cell_type": "code",
   "execution_count": 15,
   "id": "a2a16a10-d2b9-4c9e-bb6f-d1eca7596c2d",
   "metadata": {},
   "outputs": [
    {
     "data": {
      "text/plain": [
       "0"
      ]
     },
     "execution_count": 15,
     "metadata": {},
     "output_type": "execute_result"
    }
   ],
   "source": [
    "target.isna().sum()"
   ]
  },
  {
   "cell_type": "code",
   "execution_count": 16,
   "id": "62ffd9a2-cf9b-471f-96d8-9e7ea2f430b1",
   "metadata": {},
   "outputs": [
    {
     "name": "stdout",
     "output_type": "stream",
     "text": [
      "3537\n",
      "3537\n",
      "3537\n"
     ]
    }
   ],
   "source": [
    "# checking lengths\n",
    "idx = [data_lemms, data_stems, target]\n",
    "for i in idx:\n",
    "    print(f'{len(i)}')"
   ]
  },
  {
   "cell_type": "markdown",
   "id": "4b9d4681-7d9b-4cd3-936f-9196e9004e08",
   "metadata": {},
   "source": [
    "## Creating Modeling & Holdout Data\n",
    "\n",
    "We are going to focus on modeling with the lemmatized, but we'll prepare a train-validation-test split for the stemmed data just in case. "
   ]
  },
  {
   "cell_type": "code",
   "execution_count": 19,
   "id": "012c687a-97ca-46bc-8cd0-40cc9cdeb98a",
   "metadata": {
    "tags": []
   },
   "outputs": [],
   "source": [
    "# Creating data & target\n",
    "X_lem = data_lemms\n",
    "y_lem = target"
   ]
  },
  {
   "cell_type": "code",
   "execution_count": 20,
   "id": "857e49c4-ce58-4c06-95f9-f5af5505e095",
   "metadata": {},
   "outputs": [
    {
     "name": "stdout",
     "output_type": "stream",
     "text": [
      "3537\n",
      "3537\n"
     ]
    }
   ],
   "source": [
    "# checking lengths\n",
    "print(len(X_lem))\n",
    "print(len(y_lem))"
   ]
  },
  {
   "cell_type": "markdown",
   "id": "203f6ccf-80cd-4795-8d95-7c864f7ad190",
   "metadata": {},
   "source": [
    "<font size=\"4\"> Creating holdout data for testing. X_lem_testing and y_lem_testing will be withheld until the final model is chosen and then used gauge the model's performance on out of sample data. The test set size is 20% of the original lemmatized data. `stratify_y` is being used to ensure that the relative class ratios remain consistent between the training and testing sets. </font>"
   ]
  },
  {
   "cell_type": "code",
   "execution_count": 21,
   "id": "c7c7698d-05fa-4dbe-8169-ffeb31ce0396",
   "metadata": {},
   "outputs": [],
   "source": [
    "X_lem_training, X_lem_testing, y_lem_training, y_lem_testing = fn.splitter(X_lem, y_lem, .20)"
   ]
  },
  {
   "cell_type": "code",
   "execution_count": 22,
   "id": "5c74d185-eaad-4df2-a5ce-ec1f7067a692",
   "metadata": {},
   "outputs": [
    {
     "name": "stdout",
     "output_type": "stream",
     "text": [
      "2829\n",
      "2829\n",
      "708\n",
      "708\n"
     ]
    }
   ],
   "source": [
    "# checking sizes\n",
    "print(len(X_lem_training))\n",
    "print(len(y_lem_training))\n",
    "print(len(X_lem_testing))\n",
    "print(len(y_lem_testing))"
   ]
  },
  {
   "cell_type": "markdown",
   "id": "3a65010f-ec30-4964-811e-e3eb5c8d1100",
   "metadata": {},
   "source": [
    "<font size=\"4\">Splitting the X_lem_training data to create training and validation sets to train the models. The validation set size is 20% of the X_lem_training data. `stratify_y` is being used to ensure that the relative class ratios remain consistent between the training and validation sets.</font>"
   ]
  },
  {
   "cell_type": "code",
   "execution_count": 23,
   "id": "50fba84e-3dad-4a83-8679-d429cb85ff6f",
   "metadata": {},
   "outputs": [],
   "source": [
    "X_lem_train, X_lem_val, y_lem_train, y_lem_val = fn.splitter(X_lem_training, y_lem_training, .20)"
   ]
  },
  {
   "cell_type": "code",
   "execution_count": 24,
   "id": "a793424c-c428-4233-85fb-83a8551c4ae4",
   "metadata": {},
   "outputs": [
    {
     "name": "stdout",
     "output_type": "stream",
     "text": [
      "2263\n",
      "2263\n",
      "566\n",
      "566\n"
     ]
    }
   ],
   "source": [
    "# checking sizes\n",
    "print(len(X_lem_train))\n",
    "print(len(y_lem_train))\n",
    "print(len(X_lem_val))\n",
    "print(len(y_lem_val))"
   ]
  },
  {
   "cell_type": "markdown",
   "id": "44db17d3-bb05-43b1-8f43-7510790e4aa6",
   "metadata": {},
   "source": [
    "#### Stemmed Data"
   ]
  },
  {
   "cell_type": "code",
   "execution_count": 25,
   "id": "62120003-2bc3-499d-8822-484c3e0fcb61",
   "metadata": {},
   "outputs": [],
   "source": [
    "X_stem = data_stems\n",
    "y_stem = target"
   ]
  },
  {
   "cell_type": "code",
   "execution_count": 26,
   "id": "4dae4a8b-e02c-4db7-864d-73295dc73c78",
   "metadata": {},
   "outputs": [
    {
     "name": "stdout",
     "output_type": "stream",
     "text": [
      "3537\n",
      "3537\n"
     ]
    }
   ],
   "source": [
    "# checking lengths\n",
    "print(len(X_stem))\n",
    "print(len(y_stem))"
   ]
  },
  {
   "cell_type": "markdown",
   "id": "0a8e1514-ce2c-41d3-ba2a-a74684446973",
   "metadata": {},
   "source": [
    "<font size=\"4\"> Creating holdout data for testing. X_stem_testing and y_stem_testing will be withheld until the final model is chosen and then used gauge the model's performance on out of sample data. The test set size is 20% of the original stemmed data. `stratify_y` is being used to ensure that the relative class ratios remain consistent between the training and testing sets. </font>"
   ]
  },
  {
   "cell_type": "code",
   "execution_count": 27,
   "id": "9f4f16e5-17b4-4643-8844-6c59aece632a",
   "metadata": {},
   "outputs": [],
   "source": [
    "X_stem_training, X_stem_testing, y_stem_training, y_stem_testing = fn.splitter(X_stem, y_stem, .20)"
   ]
  },
  {
   "cell_type": "code",
   "execution_count": 28,
   "id": "17e2373e-942c-427b-9b26-14d1f1889a90",
   "metadata": {},
   "outputs": [
    {
     "name": "stdout",
     "output_type": "stream",
     "text": [
      "2829\n",
      "2829\n",
      "708\n",
      "708\n"
     ]
    }
   ],
   "source": [
    "# checking sizes\n",
    "print(len(X_stem_training))\n",
    "print(len(y_stem_training))\n",
    "print(len(X_stem_testing))\n",
    "print(len(y_stem_testing))"
   ]
  },
  {
   "cell_type": "markdown",
   "id": "72f5f70b-2d34-47e9-b90c-99292dc445a5",
   "metadata": {},
   "source": [
    "<font size=\"4\">Splitting the X_stem_training data to create training and validation sets to train the models. The validation set size is 20% of the X_stem_training data. `stratify_y` is being used to ensure that the relative class ratios remain consistent between the training and validation sets.</font>"
   ]
  },
  {
   "cell_type": "code",
   "execution_count": 29,
   "id": "a3e0a01a-ae9f-40ab-8a4b-fc412ca04040",
   "metadata": {},
   "outputs": [],
   "source": [
    "X_stem_train, X_stem_val, y_stem_train, y_stem_val = fn.splitter(X_stem_training, y_stem_training, .20)"
   ]
  },
  {
   "cell_type": "code",
   "execution_count": 30,
   "id": "eeb051eb-9565-4a2d-b735-1244239fb6e8",
   "metadata": {},
   "outputs": [
    {
     "name": "stdout",
     "output_type": "stream",
     "text": [
      "2263\n",
      "2263\n",
      "566\n",
      "566\n"
     ]
    }
   ],
   "source": [
    "# checking sizes\n",
    "print(len(X_stem_train))\n",
    "print(len(y_stem_train))\n",
    "print(len(X_stem_val))\n",
    "print(len(y_stem_val))"
   ]
  },
  {
   "cell_type": "code",
   "execution_count": 31,
   "id": "fffc372f-90e2-458a-a033-82e169315aa3",
   "metadata": {},
   "outputs": [
    {
     "data": {
      "text/plain": [
       "True"
      ]
     },
     "execution_count": 31,
     "metadata": {},
     "output_type": "execute_result"
    }
   ],
   "source": [
    "len(X_stem) == len(y_stem)"
   ]
  },
  {
   "cell_type": "markdown",
   "id": "52fa9210-5550-4720-96f9-05f3aa65eef9",
   "metadata": {},
   "source": [
    "## EDA & Corpus Statistics "
   ]
  },
  {
   "cell_type": "code",
   "execution_count": 49,
   "id": "1b542fd1-ba3c-4686-b340-c5bd2ede944e",
   "metadata": {},
   "outputs": [
    {
     "data": {
      "text/plain": [
       "<2263x4215 sparse matrix of type '<class 'numpy.float64'>'\n",
       "\twith 23084 stored elements in Compressed Sparse Row format>"
      ]
     },
     "execution_count": 49,
     "metadata": {},
     "output_type": "execute_result"
    }
   ],
   "source": [
    "tfidf = TfidfVectorizer()\n",
    "\n",
    "tfidf_data_lem_train = tfidf.fit_transform(X_lem_train)\n",
    "tfidf_data_lem_val = tfidf.transform(X_lem_val)\n",
    "\n",
    "tfidf_data_lem_train"
   ]
  },
  {
   "cell_type": "markdown",
   "id": "bed0b0dd-7c56-43b6-823b-ddfefc5cf34a",
   "metadata": {},
   "source": [
    "## Splitting Emotions"
   ]
  },
  {
   "cell_type": "code",
   "execution_count": 58,
   "id": "b5905281-cdf9-4d84-ba98-ecbf624159b2",
   "metadata": {
    "tags": []
   },
   "outputs": [],
   "source": [
    "positive = df[df['emotion']==1]\n",
    "negative = df[df['emotion']==0]"
   ]
  },
  {
   "cell_type": "markdown",
   "id": "b4458569-6a81-4f28-938a-ce8b76ffbfb3",
   "metadata": {},
   "source": [
    "## Emotion Vocabularies"
   ]
  },
  {
   "cell_type": "markdown",
   "id": "321f2c41-cf0b-492c-baf1-b3377f6943f5",
   "metadata": {},
   "source": [
    "#### Lemma Vocabulary"
   ]
  },
  {
   "cell_type": "code",
   "execution_count": 59,
   "id": "6c5801b0-d040-4176-a668-25eb554ea096",
   "metadata": {},
   "outputs": [
    {
     "data": {
      "text/plain": [
       "4624"
      ]
     },
     "execution_count": 59,
     "metadata": {},
     "output_type": "execute_result"
    }
   ],
   "source": [
    "vocab_lem_pos = fn.vocabulary(positive.lemmas)\n",
    "len(vocab_lem_pos)"
   ]
  },
  {
   "cell_type": "markdown",
   "id": "5e52cbf7-ef96-41da-bc13-1a76603b8dab",
   "metadata": {},
   "source": [
    "<font size=\"4\"> There are 4,624 unique tokens in the positve lemmatized tweets.</font>"
   ]
  },
  {
   "cell_type": "code",
   "execution_count": 91,
   "id": "c2279bb7-e9bb-42f2-be38-7830f8c16bf8",
   "metadata": {},
   "outputs": [
    {
     "name": "stdout",
     "output_type": "stream",
     "text": [
      "Word \t\t\tFrequency\n",
      "\n",
      "sxsw      \t\t0.0973    \n",
      "ipad      \t\t0.0318    \n",
      "apple     \t\t0.0289    \n",
      "google    \t\t0.0228    \n",
      "store     \t\t0.0174    \n",
      "iphone    \t\t0.017     \n",
      "2         \t\t0.016     \n",
      "app       \t\t0.0124    \n",
      "new       \t\t0.0112    \n",
      "austin    \t\t0.0092    \n",
      "pop       \t\t0.0066    \n",
      "ipad2     \t\t0.0065    \n",
      "android   \t\t0.0064    \n",
      "get       \t\t0.0056    \n",
      "launch    \t\t0.0054    \n",
      "party     \t\t0.0047    \n",
      "one       \t\t0.0047    \n",
      "line      \t\t0.0045    \n",
      "great     \t\t0.0043    \n",
      "time      \t\t0.0042    \n",
      "via       \t\t0.0041    \n",
      "day       \t\t0.0039    \n",
      "free      \t\t0.0038    \n",
      "social    \t\t0.0038    \n",
      "circle    \t\t0.0038    \n"
     ]
    }
   ],
   "source": [
    "fn.word_frequencies(pos_words, 25)"
   ]
  },
  {
   "cell_type": "markdown",
   "id": "ebf2c591-44d9-4459-a1c8-37d27c97e366",
   "metadata": {},
   "source": [
    "<font size=\"4\">We can see that the top word (sxsw with frequency 9.73%) is three times as likely as the next most frequent word, and after the 8th most frequent word the frequencies drop below 1%.</font> "
   ]
  },
  {
   "cell_type": "code",
   "execution_count": 81,
   "id": "d5ac98b4-ac17-414a-a12b-5bb716abdade",
   "metadata": {},
   "outputs": [
    {
     "data": {
      "image/png": "[encoded data removed]",
      "text/plain": [
       "<Figure size 1080x504 with 1 Axes>"
      ]
     },
     "metadata": {},
     "output_type": "display_data"
    }
   ],
   "source": [
    "pos_words = fn.words(positive.lemmas)\n",
    "vz.top_word_list(pos_words, 25)"
   ]
  },
  {
   "cell_type": "markdown",
   "id": "95fe19f0-9307-4f71-a72d-68e2559b4327",
   "metadata": {},
   "source": [
    "<font size=\"4\">The plot the top 25 words confirms that sxsw is by far the most frequent and the frequencies drop rapidly after the first few words.</font>"
   ]
  },
  {
   "cell_type": "code",
   "execution_count": 88,
   "id": "9b44bfba-a8a6-400d-9456-1bd933e10d32",
   "metadata": {},
   "outputs": [
    {
     "data": {
      "text/plain": [
       "1920"
      ]
     },
     "execution_count": 88,
     "metadata": {},
     "output_type": "execute_result"
    }
   ],
   "source": [
    "vocab_lem_neg = fn.vocabulary(negative.lemmas)\n",
    "len(vocab_lem_neg)"
   ]
  },
  {
   "cell_type": "markdown",
   "id": "f56392fb-1e54-47be-af4d-6bb7386853eb",
   "metadata": {},
   "source": [
    "<font size=\"4\"> There are 1,920 unique tokens in the negative lemmatized tweets.</font>"
   ]
  },
  {
   "cell_type": "code",
   "execution_count": 92,
   "id": "10e08dc1-0dd7-409c-bcd2-b625d8a06220",
   "metadata": {},
   "outputs": [
    {
     "name": "stdout",
     "output_type": "stream",
     "text": [
      "Word \t\t\tFrequency\n",
      "\n",
      "sxsw      \t\t0.0923    \n",
      "ipad      \t\t0.0308    \n",
      "iphone    \t\t0.0256    \n",
      "google    \t\t0.0238    \n",
      "apple     \t\t0.0194    \n",
      "2         \t\t0.0117    \n",
      "app       \t\t0.0095    \n",
      "store     \t\t0.0074    \n",
      "new       \t\t0.0068    \n",
      "like      \t\t0.0068    \n",
      "circle    \t\t0.0058    \n",
      "need      \t\t0.0055    \n",
      "social    \t\t0.0049    \n",
      "apps      \t\t0.0047    \n",
      "design    \t\t0.0046    \n",
      "people    \t\t0.0046    \n",
      "austin    \t\t0.0044    \n",
      "get       \t\t0.0039    \n",
      "android   \t\t0.0038    \n",
      "one       \t\t0.0036    \n",
      "think     \t\t0.0036    \n",
      "time      \t\t0.0036    \n",
      "line      \t\t0.0035    \n",
      "launch    \t\t0.0035    \n",
      "day       \t\t0.0035    \n"
     ]
    }
   ],
   "source": [
    "fn.word_frequencies(neg_words, 25)"
   ]
  },
  {
   "cell_type": "markdown",
   "id": "d37f959a-f405-4240-ae26-b6fb7fafd94c",
   "metadata": {},
   "source": [
    "<font size=\"4\">The top 25 words in the negative tweets follow as similar pattern as the words in the positive tweets but drop off even more rapidly.</font> "
   ]
  },
  {
   "cell_type": "code",
   "execution_count": 72,
   "id": "42e1f0b9-bc94-4de6-ba9e-c984b64b45c3",
   "metadata": {},
   "outputs": [
    {
     "data": {
      "image/png": "[encoded data removed]",
      "text/plain": [
       "<Figure size 1080x504 with 1 Axes>"
      ]
     },
     "metadata": {},
     "output_type": "display_data"
    }
   ],
   "source": [
    "neg_words = fn.words(negative.lemmas)\n",
    "vz.top_word_list(neg_words, 25)"
   ]
  },
  {
   "cell_type": "code",
   "execution_count": null,
   "id": "0bf66e5f-ac98-4f38-abc5-95a93cf63d0e",
   "metadata": {},
   "outputs": [],
   "source": []
  }
 ],
 "metadata": {
  "kernelspec": {
   "display_name": "nlp_project",
   "language": "python",
   "name": "nlp_project"
  },
  "language_info": {
   "codemirror_mode": {
    "name": "ipython",
    "version": 3
   },
   "file_extension": ".py",
   "mimetype": "text/x-python",
   "name": "python",
   "nbconvert_exporter": "python",
   "pygments_lexer": "ipython3",
   "version": "3.8.5"
  }
 },
 "nbformat": 4,
 "nbformat_minor": 5
}
