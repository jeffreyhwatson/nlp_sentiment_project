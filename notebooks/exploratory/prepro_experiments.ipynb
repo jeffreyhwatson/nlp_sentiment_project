{
 "cells": [
  {
   "cell_type": "code",
   "execution_count": 1,
   "id": "8d9e7d61",
   "metadata": {},
   "outputs": [],
   "source": [
    "%load_ext autoreload\n",
    "%autoreload 2"
   ]
  },
  {
   "cell_type": "markdown",
   "id": "1c357f14",
   "metadata": {},
   "source": [
    "## Package Imports & Setup \n",
    "Importing the required packages, setting the project path and notebook styling."
   ]
  },
  {
   "cell_type": "code",
   "execution_count": 223,
   "id": "34460b2f",
   "metadata": {},
   "outputs": [],
   "source": [
    "# imports\n",
    "import os, sys, string, re, itertools, more_itertools, random\n",
    "from more_itertools import take\n",
    "\n",
    "# setting project path\n",
    "gparent = os.path.join(os.pardir, os.pardir)\n",
    "sys.path.append(gparent)\n",
    "\n",
    "import pandas as pd\n",
    "import numpy as np\n",
    "\n",
    "import nltk\n",
    "\n",
    "from nltk.probability import FreqDist\n",
    "from nltk.corpus import stopwords\n",
    "from nltk.stem import PorterStemmer, WordNetLemmatizer\n",
    "from nltk.tokenize import RegexpTokenizer\n",
    "\n",
    "# # updates for nltk helper packages\n",
    "# nltk.download('stopwords')\n",
    "# nltk.download('punkt')\n",
    "# nltk.download('wordnet')\n",
    "\n",
    "import emoji\n",
    "\n",
    "import matplotlib.pyplot as plt\n",
    "from matplotlib import cm\n",
    "import seaborn as sns\n",
    "%matplotlib inline\n",
    "\n",
    "from src import visualizations as vz\n",
    "from src import functions as fn\n",
    "\n",
    "# setting style\n",
    "sns.set_theme('talk')\n",
    "plt.style.use('fivethirtyeight')\n",
    "sns.set_palette(palette='Blues_r')\n",
    "pd.options.display.max_rows = 300"
   ]
  },
  {
   "cell_type": "markdown",
   "id": "bcc52001-e23d-467a-a2ef-e84b663faaba",
   "metadata": {},
   "source": [
    "# NLP Twitter Sentiment Analysis Project\n",
    "#### Author: Jeffrey Hanif Watson"
   ]
  },
  {
   "cell_type": "markdown",
   "id": "2deb2970-cad4-43fc-b0b3-0c4dc2e2e5dd",
   "metadata": {},
   "source": [
    "## Project Goals & Overview:\n",
    "Develop and train a natural language processing model to classify the sentiment of tweets."
   ]
  },
  {
   "cell_type": "markdown",
   "id": "571d8264-2cef-474d-888c-4deef7c3938d",
   "metadata": {},
   "source": [
    "## Business Understanding:\n",
    "Companies can benefit from understanding how consumers perceive and feel about their brands and products, and sentiment analysis of text data from twitter can help provide this knowledge in a timely manner."
   ]
  },
  {
   "cell_type": "markdown",
   "id": "c78b7093-d891-4a54-bd00-625fe06e472d",
   "metadata": {},
   "source": [
    "## Data Understanding:\n",
    "The data for this project consists of a csv file containing 9,093 rows of text data (tweets, brand/product ids, sentiments labels) originally sourced from [Twitter](https://twitter.com/?lang=en) and collected into the [crowdflower/brands-and-product-emotions](https://data.world/crowdflower/brands-and-product-emotions). "
   ]
  },
  {
   "cell_type": "markdown",
   "id": "ded4a574-9232-4e4f-a538-87bb2ab67708",
   "metadata": {},
   "source": [
    "## Data Preparation I: (Exploring the Data)"
   ]
  },
  {
   "cell_type": "markdown",
   "id": "31ec1bd3",
   "metadata": {},
   "source": [
    "## `dir` Check\n",
    "Checking where we are before setting the path."
   ]
  },
  {
   "cell_type": "code",
   "execution_count": 220,
   "id": "9aa23a49",
   "metadata": {},
   "outputs": [
    {
     "name": "stdout",
     "output_type": "stream",
     "text": [
      "/Users/dsbox/Documents/Flatiron/p_4_project/nlp_sentiment_project/notebooks/exploratory\n"
     ]
    }
   ],
   "source": [
    "!pwd"
   ]
  },
  {
   "cell_type": "markdown",
   "id": "bdcb69d3",
   "metadata": {},
   "source": [
    "## Importing Data:\n",
    "Setting path to the data, creating data frame, and checking first five rows."
   ]
  },
  {
   "cell_type": "code",
   "execution_count": 4,
   "id": "e457933b",
   "metadata": {},
   "outputs": [
    {
     "data": {
      "text/html": [
       "<div>\n",
       "<style scoped>\n",
       "    .dataframe tbody tr th:only-of-type {\n",
       "        vertical-align: middle;\n",
       "    }\n",
       "\n",
       "    .dataframe tbody tr th {\n",
       "        vertical-align: top;\n",
       "    }\n",
       "\n",
       "    .dataframe thead th {\n",
       "        text-align: right;\n",
       "    }\n",
       "</style>\n",
       "<table border=\"1\" class=\"dataframe\">\n",
       "  <thead>\n",
       "    <tr style=\"text-align: right;\">\n",
       "      <th></th>\n",
       "      <th>tweet_text</th>\n",
       "      <th>emotion_in_tweet_is_directed_at</th>\n",
       "      <th>is_there_an_emotion_directed_at_a_brand_or_product</th>\n",
       "    </tr>\n",
       "  </thead>\n",
       "  <tbody>\n",
       "    <tr>\n",
       "      <th>0</th>\n",
       "      <td>.@wesley83 I have a 3G iPhone. After 3 hrs twe...</td>\n",
       "      <td>iPhone</td>\n",
       "      <td>Negative emotion</td>\n",
       "    </tr>\n",
       "    <tr>\n",
       "      <th>1</th>\n",
       "      <td>@jessedee Know about @fludapp ? Awesome iPad/i...</td>\n",
       "      <td>iPad or iPhone App</td>\n",
       "      <td>Positive emotion</td>\n",
       "    </tr>\n",
       "    <tr>\n",
       "      <th>2</th>\n",
       "      <td>@swonderlin Can not wait for #iPad 2 also. The...</td>\n",
       "      <td>iPad</td>\n",
       "      <td>Positive emotion</td>\n",
       "    </tr>\n",
       "    <tr>\n",
       "      <th>3</th>\n",
       "      <td>@sxsw I hope this year's festival isn't as cra...</td>\n",
       "      <td>iPad or iPhone App</td>\n",
       "      <td>Negative emotion</td>\n",
       "    </tr>\n",
       "    <tr>\n",
       "      <th>4</th>\n",
       "      <td>@sxtxstate great stuff on Fri #SXSW: Marissa M...</td>\n",
       "      <td>Google</td>\n",
       "      <td>Positive emotion</td>\n",
       "    </tr>\n",
       "  </tbody>\n",
       "</table>\n",
       "</div>"
      ],
      "text/plain": [
       "                                          tweet_text  \\\n",
       "0  .@wesley83 I have a 3G iPhone. After 3 hrs twe...   \n",
       "1  @jessedee Know about @fludapp ? Awesome iPad/i...   \n",
       "2  @swonderlin Can not wait for #iPad 2 also. The...   \n",
       "3  @sxsw I hope this year's festival isn't as cra...   \n",
       "4  @sxtxstate great stuff on Fri #SXSW: Marissa M...   \n",
       "\n",
       "  emotion_in_tweet_is_directed_at  \\\n",
       "0                          iPhone   \n",
       "1              iPad or iPhone App   \n",
       "2                            iPad   \n",
       "3              iPad or iPhone App   \n",
       "4                          Google   \n",
       "\n",
       "  is_there_an_emotion_directed_at_a_brand_or_product  \n",
       "0                                   Negative emotion  \n",
       "1                                   Positive emotion  \n",
       "2                                   Positive emotion  \n",
       "3                                   Negative emotion  \n",
       "4                                   Positive emotion  "
      ]
     },
     "execution_count": 4,
     "metadata": {},
     "output_type": "execute_result"
    }
   ],
   "source": [
    "path = path = os.path.join(gparent, 'data/raw',\\\n",
    "                           'judge-1377884607_tweet_product_company.csv')\n",
    "df = pd.read_csv(path, encoding='unicode_escape')\n",
    "df.head()"
   ]
  },
  {
   "cell_type": "markdown",
   "id": "cb10ef32-b333-4604-9fba-5a209353c485",
   "metadata": {},
   "source": [
    "## Checking the DF Info"
   ]
  },
  {
   "cell_type": "code",
   "execution_count": 5,
   "id": "765d8754",
   "metadata": {},
   "outputs": [
    {
     "name": "stdout",
     "output_type": "stream",
     "text": [
      "<class 'pandas.core.frame.DataFrame'>\n",
      "RangeIndex: 9093 entries, 0 to 9092\n",
      "Data columns (total 3 columns):\n",
      " #   Column                                              Non-Null Count  Dtype \n",
      "---  ------                                              --------------  ----- \n",
      " 0   tweet_text                                          9092 non-null   object\n",
      " 1   emotion_in_tweet_is_directed_at                     3291 non-null   object\n",
      " 2   is_there_an_emotion_directed_at_a_brand_or_product  9093 non-null   object\n",
      "dtypes: object(3)\n",
      "memory usage: 213.2+ KB\n"
     ]
    }
   ],
   "source": [
    "df.info()"
   ]
  },
  {
   "cell_type": "markdown",
   "id": "04e2c23a-96ed-4e90-9eee-39d2ddf05562",
   "metadata": {},
   "source": [
    "<font size=\"4\">We are going to look at the single missing tweet right now and save the nulls in the second column for later.</font>"
   ]
  },
  {
   "cell_type": "markdown",
   "id": "01980b93",
   "metadata": {},
   "source": [
    "## Checking the Null Tweet:\n",
    "We have one null value in the `tweet` column we need to deal with."
   ]
  },
  {
   "cell_type": "code",
   "execution_count": 6,
   "id": "7977d3ce",
   "metadata": {},
   "outputs": [
    {
     "data": {
      "text/html": [
       "<div>\n",
       "<style scoped>\n",
       "    .dataframe tbody tr th:only-of-type {\n",
       "        vertical-align: middle;\n",
       "    }\n",
       "\n",
       "    .dataframe tbody tr th {\n",
       "        vertical-align: top;\n",
       "    }\n",
       "\n",
       "    .dataframe thead th {\n",
       "        text-align: right;\n",
       "    }\n",
       "</style>\n",
       "<table border=\"1\" class=\"dataframe\">\n",
       "  <thead>\n",
       "    <tr style=\"text-align: right;\">\n",
       "      <th></th>\n",
       "      <th>tweet_text</th>\n",
       "      <th>emotion_in_tweet_is_directed_at</th>\n",
       "      <th>is_there_an_emotion_directed_at_a_brand_or_product</th>\n",
       "    </tr>\n",
       "  </thead>\n",
       "  <tbody>\n",
       "    <tr>\n",
       "      <th>6</th>\n",
       "      <td>NaN</td>\n",
       "      <td>NaN</td>\n",
       "      <td>No emotion toward brand or product</td>\n",
       "    </tr>\n",
       "  </tbody>\n",
       "</table>\n",
       "</div>"
      ],
      "text/plain": [
       "  tweet_text emotion_in_tweet_is_directed_at  \\\n",
       "6        NaN                             NaN   \n",
       "\n",
       "  is_there_an_emotion_directed_at_a_brand_or_product  \n",
       "6                 No emotion toward brand or product  "
      ]
     },
     "execution_count": 6,
     "metadata": {},
     "output_type": "execute_result"
    }
   ],
   "source": [
    "df[df['tweet_text'].isnull()]"
   ]
  },
  {
   "cell_type": "markdown",
   "id": "935b8224",
   "metadata": {},
   "source": [
    "## Dropping the Null Tweet"
   ]
  },
  {
   "cell_type": "code",
   "execution_count": 7,
   "id": "5c1231b6",
   "metadata": {},
   "outputs": [],
   "source": [
    "df.drop(6, axis=0, inplace=True)\n",
    "df.reset_index(drop=True, inplace=True)"
   ]
  },
  {
   "cell_type": "code",
   "execution_count": 8,
   "id": "68c117fc",
   "metadata": {},
   "outputs": [
    {
     "name": "stdout",
     "output_type": "stream",
     "text": [
      "<class 'pandas.core.frame.DataFrame'>\n",
      "RangeIndex: 9092 entries, 0 to 9091\n",
      "Data columns (total 3 columns):\n",
      " #   Column                                              Non-Null Count  Dtype \n",
      "---  ------                                              --------------  ----- \n",
      " 0   tweet_text                                          9092 non-null   object\n",
      " 1   emotion_in_tweet_is_directed_at                     3291 non-null   object\n",
      " 2   is_there_an_emotion_directed_at_a_brand_or_product  9092 non-null   object\n",
      "dtypes: object(3)\n",
      "memory usage: 213.2+ KB\n"
     ]
    }
   ],
   "source": [
    "df.info()"
   ]
  },
  {
   "cell_type": "markdown",
   "id": "2000487d",
   "metadata": {},
   "source": [
    "## Renaming Columns:\n",
    "The original names are a bit unwieldy."
   ]
  },
  {
   "cell_type": "code",
   "execution_count": 9,
   "id": "22cd5add",
   "metadata": {},
   "outputs": [
    {
     "data": {
      "text/html": [
       "<div>\n",
       "<style scoped>\n",
       "    .dataframe tbody tr th:only-of-type {\n",
       "        vertical-align: middle;\n",
       "    }\n",
       "\n",
       "    .dataframe tbody tr th {\n",
       "        vertical-align: top;\n",
       "    }\n",
       "\n",
       "    .dataframe thead th {\n",
       "        text-align: right;\n",
       "    }\n",
       "</style>\n",
       "<table border=\"1\" class=\"dataframe\">\n",
       "  <thead>\n",
       "    <tr style=\"text-align: right;\">\n",
       "      <th></th>\n",
       "      <th>tweet</th>\n",
       "      <th>brand_product</th>\n",
       "      <th>emotion</th>\n",
       "    </tr>\n",
       "  </thead>\n",
       "  <tbody>\n",
       "    <tr>\n",
       "      <th>0</th>\n",
       "      <td>.@wesley83 I have a 3G iPhone. After 3 hrs twe...</td>\n",
       "      <td>iPhone</td>\n",
       "      <td>Negative emotion</td>\n",
       "    </tr>\n",
       "    <tr>\n",
       "      <th>1</th>\n",
       "      <td>@jessedee Know about @fludapp ? Awesome iPad/i...</td>\n",
       "      <td>iPad or iPhone App</td>\n",
       "      <td>Positive emotion</td>\n",
       "    </tr>\n",
       "    <tr>\n",
       "      <th>2</th>\n",
       "      <td>@swonderlin Can not wait for #iPad 2 also. The...</td>\n",
       "      <td>iPad</td>\n",
       "      <td>Positive emotion</td>\n",
       "    </tr>\n",
       "    <tr>\n",
       "      <th>3</th>\n",
       "      <td>@sxsw I hope this year's festival isn't as cra...</td>\n",
       "      <td>iPad or iPhone App</td>\n",
       "      <td>Negative emotion</td>\n",
       "    </tr>\n",
       "    <tr>\n",
       "      <th>4</th>\n",
       "      <td>@sxtxstate great stuff on Fri #SXSW: Marissa M...</td>\n",
       "      <td>Google</td>\n",
       "      <td>Positive emotion</td>\n",
       "    </tr>\n",
       "  </tbody>\n",
       "</table>\n",
       "</div>"
      ],
      "text/plain": [
       "                                               tweet       brand_product  \\\n",
       "0  .@wesley83 I have a 3G iPhone. After 3 hrs twe...              iPhone   \n",
       "1  @jessedee Know about @fludapp ? Awesome iPad/i...  iPad or iPhone App   \n",
       "2  @swonderlin Can not wait for #iPad 2 also. The...                iPad   \n",
       "3  @sxsw I hope this year's festival isn't as cra...  iPad or iPhone App   \n",
       "4  @sxtxstate great stuff on Fri #SXSW: Marissa M...              Google   \n",
       "\n",
       "            emotion  \n",
       "0  Negative emotion  \n",
       "1  Positive emotion  \n",
       "2  Positive emotion  \n",
       "3  Negative emotion  \n",
       "4  Positive emotion  "
      ]
     },
     "execution_count": 9,
     "metadata": {},
     "output_type": "execute_result"
    }
   ],
   "source": [
    "rename_dict = {'tweet_text': 'tweet', \n",
    "               'emotion_in_tweet_is_directed_at': 'brand_product', \n",
    "               'is_there_an_emotion_directed_at_a_brand_or_product': 'emotion' }\n",
    "df.rename(columns=rename_dict, inplace=True)\n",
    "df.head()"
   ]
  },
  {
   "cell_type": "markdown",
   "id": "a351d777",
   "metadata": {},
   "source": [
    "## Checking for Duplicated Tweets:\n",
    "If there are duplicated tweets, they probably won't add usefull information and most likely will be dropped."
   ]
  },
  {
   "cell_type": "code",
   "execution_count": 10,
   "id": "955abbeb",
   "metadata": {},
   "outputs": [
    {
     "data": {
      "text/plain": [
       "(9092, 3)"
      ]
     },
     "execution_count": 10,
     "metadata": {},
     "output_type": "execute_result"
    }
   ],
   "source": [
    "# checking the shape baseline shape and saving it to a variable\n",
    "original_shape = df.shape\n",
    "original_shape"
   ]
  },
  {
   "cell_type": "code",
   "execution_count": 11,
   "id": "15cca51c",
   "metadata": {},
   "outputs": [],
   "source": [
    "# filtering for dupes\n",
    "dupes = df[df['tweet'].duplicated()]"
   ]
  },
  {
   "cell_type": "code",
   "execution_count": 12,
   "id": "d6e189fb",
   "metadata": {},
   "outputs": [
    {
     "data": {
      "text/plain": [
       "27"
      ]
     },
     "execution_count": 12,
     "metadata": {},
     "output_type": "execute_result"
    }
   ],
   "source": [
    "# checking the number of dupes\n",
    "len(dupes)"
   ]
  },
  {
   "cell_type": "markdown",
   "id": "80593191-7dfa-4f29-9ffc-5e4e8a6d3391",
   "metadata": {},
   "source": [
    "## Examining the Dupes:\n",
    "Since there are only 27 dupes, we'll just examine all of them."
   ]
  },
  {
   "cell_type": "code",
   "execution_count": 13,
   "id": "85f4319e",
   "metadata": {},
   "outputs": [
    {
     "data": {
      "text/html": [
       "<div>\n",
       "<style scoped>\n",
       "    .dataframe tbody tr th:only-of-type {\n",
       "        vertical-align: middle;\n",
       "    }\n",
       "\n",
       "    .dataframe tbody tr th {\n",
       "        vertical-align: top;\n",
       "    }\n",
       "\n",
       "    .dataframe thead th {\n",
       "        text-align: right;\n",
       "    }\n",
       "</style>\n",
       "<table border=\"1\" class=\"dataframe\">\n",
       "  <thead>\n",
       "    <tr style=\"text-align: right;\">\n",
       "      <th></th>\n",
       "      <th>tweet</th>\n",
       "      <th>brand_product</th>\n",
       "      <th>emotion</th>\n",
       "    </tr>\n",
       "  </thead>\n",
       "  <tbody>\n",
       "    <tr>\n",
       "      <th>467</th>\n",
       "      <td>Before It Even Begins, Apple Wins #SXSW {link}</td>\n",
       "      <td>Apple</td>\n",
       "      <td>Positive emotion</td>\n",
       "    </tr>\n",
       "    <tr>\n",
       "      <th>775</th>\n",
       "      <td>Google to Launch Major New Social Network Call...</td>\n",
       "      <td>NaN</td>\n",
       "      <td>No emotion toward brand or product</td>\n",
       "    </tr>\n",
       "    <tr>\n",
       "      <th>2231</th>\n",
       "      <td>Marissa Mayer: Google Will Connect the Digital...</td>\n",
       "      <td>NaN</td>\n",
       "      <td>No emotion toward brand or product</td>\n",
       "    </tr>\n",
       "    <tr>\n",
       "      <th>2558</th>\n",
       "      <td>Counting down the days to #sxsw plus strong Ca...</td>\n",
       "      <td>Apple</td>\n",
       "      <td>Positive emotion</td>\n",
       "    </tr>\n",
       "    <tr>\n",
       "      <th>3812</th>\n",
       "      <td>Win free ipad 2 from webdoc.com #sxsw RT</td>\n",
       "      <td>iPad</td>\n",
       "      <td>Positive emotion</td>\n",
       "    </tr>\n",
       "    <tr>\n",
       "      <th>3813</th>\n",
       "      <td>Win free iPad 2 from webdoc.com #sxsw RT</td>\n",
       "      <td>iPad</td>\n",
       "      <td>Positive emotion</td>\n",
       "    </tr>\n",
       "    <tr>\n",
       "      <th>3949</th>\n",
       "      <td>Really enjoying the changes in Gowalla 3.0 for...</td>\n",
       "      <td>Android App</td>\n",
       "      <td>Positive emotion</td>\n",
       "    </tr>\n",
       "    <tr>\n",
       "      <th>3961</th>\n",
       "      <td>#SXSW is just starting, #CTIA is around the co...</td>\n",
       "      <td>Android</td>\n",
       "      <td>Positive emotion</td>\n",
       "    </tr>\n",
       "    <tr>\n",
       "      <th>4896</th>\n",
       "      <td>Oh. My. God. The #SXSW app for iPad is pure, u...</td>\n",
       "      <td>iPad or iPhone App</td>\n",
       "      <td>Positive emotion</td>\n",
       "    </tr>\n",
       "    <tr>\n",
       "      <th>5337</th>\n",
       "      <td>RT @mention ÷¼ GO BEYOND BORDERS! ÷_ {link} ...</td>\n",
       "      <td>NaN</td>\n",
       "      <td>No emotion toward brand or product</td>\n",
       "    </tr>\n",
       "    <tr>\n",
       "      <th>5340</th>\n",
       "      <td>RT @mention ÷¼ Happy Woman's Day! Make love, ...</td>\n",
       "      <td>NaN</td>\n",
       "      <td>No emotion toward brand or product</td>\n",
       "    </tr>\n",
       "    <tr>\n",
       "      <th>5880</th>\n",
       "      <td>RT @mention Google to Launch Major New Social ...</td>\n",
       "      <td>NaN</td>\n",
       "      <td>No emotion toward brand or product</td>\n",
       "    </tr>\n",
       "    <tr>\n",
       "      <th>5881</th>\n",
       "      <td>RT @mention Google to Launch Major New Social ...</td>\n",
       "      <td>NaN</td>\n",
       "      <td>No emotion toward brand or product</td>\n",
       "    </tr>\n",
       "    <tr>\n",
       "      <th>5882</th>\n",
       "      <td>RT @mention Google to Launch Major New Social ...</td>\n",
       "      <td>NaN</td>\n",
       "      <td>No emotion toward brand or product</td>\n",
       "    </tr>\n",
       "    <tr>\n",
       "      <th>5883</th>\n",
       "      <td>RT @mention Google to Launch Major New Social ...</td>\n",
       "      <td>NaN</td>\n",
       "      <td>No emotion toward brand or product</td>\n",
       "    </tr>\n",
       "    <tr>\n",
       "      <th>5884</th>\n",
       "      <td>RT @mention Google to Launch Major New Social ...</td>\n",
       "      <td>NaN</td>\n",
       "      <td>No emotion toward brand or product</td>\n",
       "    </tr>\n",
       "    <tr>\n",
       "      <th>6293</th>\n",
       "      <td>RT @mention Marissa Mayer: Google Will Connect...</td>\n",
       "      <td>NaN</td>\n",
       "      <td>No emotion toward brand or product</td>\n",
       "    </tr>\n",
       "    <tr>\n",
       "      <th>6294</th>\n",
       "      <td>RT @mention Marissa Mayer: Google Will Connect...</td>\n",
       "      <td>NaN</td>\n",
       "      <td>No emotion toward brand or product</td>\n",
       "    </tr>\n",
       "    <tr>\n",
       "      <th>6295</th>\n",
       "      <td>RT @mention Marissa Mayer: Google Will Connect...</td>\n",
       "      <td>Google</td>\n",
       "      <td>Positive emotion</td>\n",
       "    </tr>\n",
       "    <tr>\n",
       "      <th>6296</th>\n",
       "      <td>RT @mention Marissa Mayer: Google Will Connect...</td>\n",
       "      <td>NaN</td>\n",
       "      <td>No emotion toward brand or product</td>\n",
       "    </tr>\n",
       "    <tr>\n",
       "      <th>6297</th>\n",
       "      <td>RT @mention Marissa Mayer: Google Will Connect...</td>\n",
       "      <td>Google</td>\n",
       "      <td>Positive emotion</td>\n",
       "    </tr>\n",
       "    <tr>\n",
       "      <th>6298</th>\n",
       "      <td>RT @mention Marissa Mayer: Google Will Connect...</td>\n",
       "      <td>NaN</td>\n",
       "      <td>No emotion toward brand or product</td>\n",
       "    </tr>\n",
       "    <tr>\n",
       "      <th>6299</th>\n",
       "      <td>RT @mention Marissa Mayer: Google Will Connect...</td>\n",
       "      <td>NaN</td>\n",
       "      <td>No emotion toward brand or product</td>\n",
       "    </tr>\n",
       "    <tr>\n",
       "      <th>6545</th>\n",
       "      <td>RT @mention RT @mention Google to Launch Major...</td>\n",
       "      <td>NaN</td>\n",
       "      <td>No emotion toward brand or product</td>\n",
       "    </tr>\n",
       "    <tr>\n",
       "      <th>6575</th>\n",
       "      <td>RT @mention RT @mention It's not a rumor: Appl...</td>\n",
       "      <td>NaN</td>\n",
       "      <td>No emotion toward brand or product</td>\n",
       "    </tr>\n",
       "    <tr>\n",
       "      <th>8482</th>\n",
       "      <td>I just noticed DST is coming this weekend. How...</td>\n",
       "      <td>iPhone</td>\n",
       "      <td>Negative emotion</td>\n",
       "    </tr>\n",
       "    <tr>\n",
       "      <th>8746</th>\n",
       "      <td>Need to buy an iPad2 while I'm in Austin at #s...</td>\n",
       "      <td>iPad</td>\n",
       "      <td>Positive emotion</td>\n",
       "    </tr>\n",
       "  </tbody>\n",
       "</table>\n",
       "</div>"
      ],
      "text/plain": [
       "                                                  tweet       brand_product  \\\n",
       "467      Before It Even Begins, Apple Wins #SXSW {link}               Apple   \n",
       "775   Google to Launch Major New Social Network Call...                 NaN   \n",
       "2231  Marissa Mayer: Google Will Connect the Digital...                 NaN   \n",
       "2558  Counting down the days to #sxsw plus strong Ca...               Apple   \n",
       "3812           Win free ipad 2 from webdoc.com #sxsw RT                iPad   \n",
       "3813           Win free iPad 2 from webdoc.com #sxsw RT                iPad   \n",
       "3949  Really enjoying the changes in Gowalla 3.0 for...         Android App   \n",
       "3961  #SXSW is just starting, #CTIA is around the co...             Android   \n",
       "4896  Oh. My. God. The #SXSW app for iPad is pure, u...  iPad or iPhone App   \n",
       "5337  RT @mention ÷¼ GO BEYOND BORDERS! ÷_ {link} ...                 NaN   \n",
       "5340  RT @mention ÷¼ Happy Woman's Day! Make love, ...                 NaN   \n",
       "5880  RT @mention Google to Launch Major New Social ...                 NaN   \n",
       "5881  RT @mention Google to Launch Major New Social ...                 NaN   \n",
       "5882  RT @mention Google to Launch Major New Social ...                 NaN   \n",
       "5883  RT @mention Google to Launch Major New Social ...                 NaN   \n",
       "5884  RT @mention Google to Launch Major New Social ...                 NaN   \n",
       "6293  RT @mention Marissa Mayer: Google Will Connect...                 NaN   \n",
       "6294  RT @mention Marissa Mayer: Google Will Connect...                 NaN   \n",
       "6295  RT @mention Marissa Mayer: Google Will Connect...              Google   \n",
       "6296  RT @mention Marissa Mayer: Google Will Connect...                 NaN   \n",
       "6297  RT @mention Marissa Mayer: Google Will Connect...              Google   \n",
       "6298  RT @mention Marissa Mayer: Google Will Connect...                 NaN   \n",
       "6299  RT @mention Marissa Mayer: Google Will Connect...                 NaN   \n",
       "6545  RT @mention RT @mention Google to Launch Major...                 NaN   \n",
       "6575  RT @mention RT @mention It's not a rumor: Appl...                 NaN   \n",
       "8482  I just noticed DST is coming this weekend. How...              iPhone   \n",
       "8746  Need to buy an iPad2 while I'm in Austin at #s...                iPad   \n",
       "\n",
       "                                 emotion  \n",
       "467                     Positive emotion  \n",
       "775   No emotion toward brand or product  \n",
       "2231  No emotion toward brand or product  \n",
       "2558                    Positive emotion  \n",
       "3812                    Positive emotion  \n",
       "3813                    Positive emotion  \n",
       "3949                    Positive emotion  \n",
       "3961                    Positive emotion  \n",
       "4896                    Positive emotion  \n",
       "5337  No emotion toward brand or product  \n",
       "5340  No emotion toward brand or product  \n",
       "5880  No emotion toward brand or product  \n",
       "5881  No emotion toward brand or product  \n",
       "5882  No emotion toward brand or product  \n",
       "5883  No emotion toward brand or product  \n",
       "5884  No emotion toward brand or product  \n",
       "6293  No emotion toward brand or product  \n",
       "6294  No emotion toward brand or product  \n",
       "6295                    Positive emotion  \n",
       "6296  No emotion toward brand or product  \n",
       "6297                    Positive emotion  \n",
       "6298  No emotion toward brand or product  \n",
       "6299  No emotion toward brand or product  \n",
       "6545  No emotion toward brand or product  \n",
       "6575  No emotion toward brand or product  \n",
       "8482                    Negative emotion  \n",
       "8746                    Positive emotion  "
      ]
     },
     "execution_count": 13,
     "metadata": {},
     "output_type": "execute_result"
    }
   ],
   "source": [
    "dupes"
   ]
  },
  {
   "cell_type": "markdown",
   "id": "1df0809a-b14f-4998-a4f0-53342c1570ba",
   "metadata": {},
   "source": [
    "<font size=\"4\">Other than the fact that there are a lot of retweets in the dupes, nothing else really stands out. Since we are losing only 27 rows of data, dropping seems like a safe decision.</font>"
   ]
  },
  {
   "cell_type": "markdown",
   "id": "d1678670-eae3-4c11-b6af-7aa1bcac2785",
   "metadata": {},
   "source": [
    "## Dropping Dupes"
   ]
  },
  {
   "cell_type": "code",
   "execution_count": 14,
   "id": "1d8b0f21",
   "metadata": {},
   "outputs": [],
   "source": [
    "df.drop_duplicates(subset='tweet',inplace=True)"
   ]
  },
  {
   "cell_type": "code",
   "execution_count": 15,
   "id": "f378d4a5",
   "metadata": {},
   "outputs": [
    {
     "name": "stdout",
     "output_type": "stream",
     "text": [
      "original shape: (9092, 3)\n",
      "new shape: (9065, 3)\n"
     ]
    }
   ],
   "source": [
    "# comparing shapes\n",
    "print(f'original shape: {original_shape}')\n",
    "print(f'new shape: {df.shape}')"
   ]
  },
  {
   "cell_type": "markdown",
   "id": "2ab4e506-7dbd-4dae-9f57-32a8d71e4795",
   "metadata": {},
   "source": [
    "## Checking for Links:\n",
    "Checking for url and {link} strings and getting a link count."
   ]
  },
  {
   "cell_type": "code",
   "execution_count": 16,
   "id": "9e61e01d-78e6-4e7a-8681-285eb02b1d34",
   "metadata": {},
   "outputs": [
    {
     "name": "stdout",
     "output_type": "stream",
     "text": [
      "[[('http://ht.ly/49n4M', '')], [('http://bit.ly/ieaVOB', '')], [('http://bit.ly/gVLrIn', '')], [('http://j.mp/grN7pK)', '')], [('http://bit.ly/aXZwxB', '')], [('http://tinyurl.com/4nqv92l', '')], [('http://bit.ly/hTdFim', '')], [('http://t.co/kfN3f5Q', '')], [('http://t.co/g4GZypV', '')], [('http://tumblr.com/x6t1pi6av7', '')], [('http://bit.ly/hTdFim', '')], [('http://bit.ly/etsbZk', '')], [('http://t.co/A3xvWc6', '')], [('http://itunes.apple.com/us/app/holler-gram/id420666439?mt=8', '')], [('', '{link}')], [('', '{link}')], [('', '{link}')], [('', '{link}')], [('', '{link}')], [('', '{link}')], [('', '{link}')], [('', '{link}')], [('', '{link}')], [('', '{link}')], [('', '{link}')], [('', '{link}')], [('', '{link}')], [('', '{link}')], [('', '{link}')], [('', '{link}')]]\n"
     ]
    },
    {
     "data": {
      "text/plain": [
       "4175"
      ]
     },
     "execution_count": 16,
     "metadata": {},
     "output_type": "execute_result"
    }
   ],
   "source": [
    "# checking for links\n",
    "tweets = df['tweet']\n",
    "links = fn.find_strings(tweets, r'(https*\\S+)|(\\{link\\})')\n",
    "print(links[:30])\n",
    "len(links)"
   ]
  },
  {
   "cell_type": "markdown",
   "id": "ba1bb91a-9f8c-4186-91a8-04fbf639e92c",
   "metadata": {},
   "source": [
    "<font size=\"4\">Since these strings don't add sentiment information, we'll strip them out during the cleaning process.</font>"
   ]
  },
  {
   "cell_type": "markdown",
   "id": "1424de43",
   "metadata": {},
   "source": [
    "## Adding a Hashtag Column:\n",
    "Hashtags have the potential to contain value information, so we'll create a new column to help explore them."
   ]
  },
  {
   "cell_type": "code",
   "execution_count": 17,
   "id": "e28c726e",
   "metadata": {},
   "outputs": [],
   "source": [
    "# copying hashtags to a new column and setting any empty lists to NaNs\n",
    "df['hashtags'] = df['tweet'].apply(lambda x: \n",
    "                                   re.findall(r'\\B#\\w*[a-zA-Z]+\\w*', x))"
   ]
  },
  {
   "cell_type": "code",
   "execution_count": 18,
   "id": "d1a0f71d-d244-48e6-8a1f-436775d307c6",
   "metadata": {},
   "outputs": [
    {
     "name": "stdout",
     "output_type": "stream",
     "text": [
      "<class 'pandas.core.frame.DataFrame'>\n",
      "Int64Index: 9065 entries, 0 to 9091\n",
      "Data columns (total 4 columns):\n",
      " #   Column         Non-Null Count  Dtype \n",
      "---  ------         --------------  ----- \n",
      " 0   tweet          9065 non-null   object\n",
      " 1   brand_product  3280 non-null   object\n",
      " 2   emotion        9065 non-null   object\n",
      " 3   hashtags       9065 non-null   object\n",
      "dtypes: object(4)\n",
      "memory usage: 354.1+ KB\n",
      "None\n"
     ]
    },
    {
     "data": {
      "text/html": [
       "<div>\n",
       "<style scoped>\n",
       "    .dataframe tbody tr th:only-of-type {\n",
       "        vertical-align: middle;\n",
       "    }\n",
       "\n",
       "    .dataframe tbody tr th {\n",
       "        vertical-align: top;\n",
       "    }\n",
       "\n",
       "    .dataframe thead th {\n",
       "        text-align: right;\n",
       "    }\n",
       "</style>\n",
       "<table border=\"1\" class=\"dataframe\">\n",
       "  <thead>\n",
       "    <tr style=\"text-align: right;\">\n",
       "      <th></th>\n",
       "      <th>tweet</th>\n",
       "      <th>brand_product</th>\n",
       "      <th>emotion</th>\n",
       "      <th>hashtags</th>\n",
       "    </tr>\n",
       "  </thead>\n",
       "  <tbody>\n",
       "    <tr>\n",
       "      <th>0</th>\n",
       "      <td>.@wesley83 I have a 3G iPhone. After 3 hrs twe...</td>\n",
       "      <td>iPhone</td>\n",
       "      <td>Negative emotion</td>\n",
       "      <td>[#RISE_Austin, #SXSW]</td>\n",
       "    </tr>\n",
       "    <tr>\n",
       "      <th>1</th>\n",
       "      <td>@jessedee Know about @fludapp ? Awesome iPad/i...</td>\n",
       "      <td>iPad or iPhone App</td>\n",
       "      <td>Positive emotion</td>\n",
       "      <td>[#SXSW]</td>\n",
       "    </tr>\n",
       "    <tr>\n",
       "      <th>2</th>\n",
       "      <td>@swonderlin Can not wait for #iPad 2 also. The...</td>\n",
       "      <td>iPad</td>\n",
       "      <td>Positive emotion</td>\n",
       "      <td>[#iPad, #SXSW]</td>\n",
       "    </tr>\n",
       "    <tr>\n",
       "      <th>3</th>\n",
       "      <td>@sxsw I hope this year's festival isn't as cra...</td>\n",
       "      <td>iPad or iPhone App</td>\n",
       "      <td>Negative emotion</td>\n",
       "      <td>[#sxsw]</td>\n",
       "    </tr>\n",
       "    <tr>\n",
       "      <th>4</th>\n",
       "      <td>@sxtxstate great stuff on Fri #SXSW: Marissa M...</td>\n",
       "      <td>Google</td>\n",
       "      <td>Positive emotion</td>\n",
       "      <td>[#SXSW]</td>\n",
       "    </tr>\n",
       "  </tbody>\n",
       "</table>\n",
       "</div>"
      ],
      "text/plain": [
       "                                               tweet       brand_product  \\\n",
       "0  .@wesley83 I have a 3G iPhone. After 3 hrs twe...              iPhone   \n",
       "1  @jessedee Know about @fludapp ? Awesome iPad/i...  iPad or iPhone App   \n",
       "2  @swonderlin Can not wait for #iPad 2 also. The...                iPad   \n",
       "3  @sxsw I hope this year's festival isn't as cra...  iPad or iPhone App   \n",
       "4  @sxtxstate great stuff on Fri #SXSW: Marissa M...              Google   \n",
       "\n",
       "            emotion               hashtags  \n",
       "0  Negative emotion  [#RISE_Austin, #SXSW]  \n",
       "1  Positive emotion                [#SXSW]  \n",
       "2  Positive emotion         [#iPad, #SXSW]  \n",
       "3  Negative emotion                [#sxsw]  \n",
       "4  Positive emotion                [#SXSW]  "
      ]
     },
     "execution_count": 18,
     "metadata": {},
     "output_type": "execute_result"
    }
   ],
   "source": [
    "# checking info & first 5 rows\n",
    "print(df.info())\n",
    "df.head()"
   ]
  },
  {
   "cell_type": "markdown",
   "id": "a0727bff",
   "metadata": {},
   "source": [
    "## Exploring the Hashtags\n",
    "Creating a list and checking the length."
   ]
  },
  {
   "cell_type": "code",
   "execution_count": 19,
   "id": "87b9838a",
   "metadata": {},
   "outputs": [],
   "source": [
    "# creating a hashtag list\n",
    "hashlists = df['hashtags'].tolist()"
   ]
  },
  {
   "cell_type": "code",
   "execution_count": 20,
   "id": "47d12634-2337-4446-844d-38ce50377380",
   "metadata": {},
   "outputs": [
    {
     "name": "stdout",
     "output_type": "stream",
     "text": [
      "hashlists length: 9065\n"
     ]
    }
   ],
   "source": [
    "print(f'hashlists length: {len(hashlists)}')"
   ]
  },
  {
   "cell_type": "code",
   "execution_count": 21,
   "id": "b415ed6e-5255-40e2-8a92-666574eaa94a",
   "metadata": {},
   "outputs": [
    {
     "data": {
      "text/plain": [
       "[['#RISE_Austin', '#SXSW'],\n",
       " ['#SXSW'],\n",
       " ['#iPad', '#SXSW'],\n",
       " ['#sxsw'],\n",
       " ['#SXSW']]"
      ]
     },
     "execution_count": 21,
     "metadata": {},
     "output_type": "execute_result"
    }
   ],
   "source": [
    "hashlists[:5]"
   ]
  },
  {
   "cell_type": "code",
   "execution_count": 22,
   "id": "faac1f9d-6976-40c2-bbc1-6023b0b81fb8",
   "metadata": {},
   "outputs": [
    {
     "name": "stdout",
     "output_type": "stream",
     "text": [
      "max tags: 12\n",
      "ave tags: 1.7406508549365691\n"
     ]
    }
   ],
   "source": [
    "hash_counts = []\n",
    "for listy in hashlists:\n",
    "    hash_counts.append(len(listy))\n",
    "print(f'max tags: {max(hash_counts)}')\n",
    "print(f'ave tags: {sum(hash_counts)/len(hash_counts)}')"
   ]
  },
  {
   "cell_type": "code",
   "execution_count": 23,
   "id": "6b4ce362-aad3-4f3a-87c9-91884001abf7",
   "metadata": {},
   "outputs": [
    {
     "data": {
      "text/plain": [
       "2456"
      ]
     },
     "execution_count": 23,
     "metadata": {},
     "output_type": "execute_result"
    }
   ],
   "source": [
    "np.argmax(hash_counts)"
   ]
  },
  {
   "cell_type": "code",
   "execution_count": 24,
   "id": "f75e0607-211c-4f06-9bf9-89cd92688eef",
   "metadata": {},
   "outputs": [
    {
     "data": {
      "text/plain": [
       "['#bnet',\n",
       " '#biz',\n",
       " '#ipad2',\n",
       " '#apple',\n",
       " '#sxsw',\n",
       " '#ipad',\n",
       " '#tablet',\n",
       " '#xoom',\n",
       " '#tech',\n",
       " '#laptop',\n",
       " '#pics',\n",
       " '#sale']"
      ]
     },
     "execution_count": 24,
     "metadata": {},
     "output_type": "execute_result"
    }
   ],
   "source": [
    "hashlists[np.argmax(hash_counts)]"
   ]
  },
  {
   "cell_type": "code",
   "execution_count": 25,
   "id": "a1245f35-7b80-469b-9d6e-ca6cd0fa05ae",
   "metadata": {},
   "outputs": [
    {
     "data": {
      "text/plain": [
       "'iPad 2 and Its Rivals: How They Stack Up {link} #bnet #biz #ipad2 #apple #sxsw #ipad #tablet #xoom #tech #laptop #pics #sale'"
      ]
     },
     "execution_count": 25,
     "metadata": {},
     "output_type": "execute_result"
    }
   ],
   "source": [
    "df.iloc[np.argmax(hash_counts)][0]"
   ]
  },
  {
   "cell_type": "markdown",
   "id": "9956cfb2-7261-4ba1-868f-a8b523b97679",
   "metadata": {},
   "source": [
    "## Checking for Empty Lists & Converting to NaNs\n",
    "Converting and checking length."
   ]
  },
  {
   "cell_type": "code",
   "execution_count": 26,
   "id": "156ecdd3-7680-4a8c-8ff5-77f4ab5a4f5d",
   "metadata": {},
   "outputs": [],
   "source": [
    "df['hashtags'] = df['hashtags'].apply(lambda x: np.nan if len(x) == 0 else x)"
   ]
  },
  {
   "cell_type": "code",
   "execution_count": 27,
   "id": "1c589e04-8e9a-4069-b269-9f9eee13bf1d",
   "metadata": {},
   "outputs": [
    {
     "data": {
      "text/plain": [
       "10"
      ]
     },
     "execution_count": 27,
     "metadata": {},
     "output_type": "execute_result"
    }
   ],
   "source": [
    "df['hashtags'].isna().sum()"
   ]
  },
  {
   "cell_type": "markdown",
   "id": "3cd534e8-a75c-45e8-bb5c-fabc628fe539",
   "metadata": {},
   "source": [
    "## Checking Tweets with no Hashtags\n",
    "There are 10 tweets that don't have a hashtag that we'll examine."
   ]
  },
  {
   "cell_type": "code",
   "execution_count": 28,
   "id": "f11020ef-8ab5-42a8-9a38-b74c1ba21025",
   "metadata": {},
   "outputs": [
    {
     "data": {
      "text/html": [
       "<div>\n",
       "<style scoped>\n",
       "    .dataframe tbody tr th:only-of-type {\n",
       "        vertical-align: middle;\n",
       "    }\n",
       "\n",
       "    .dataframe tbody tr th {\n",
       "        vertical-align: top;\n",
       "    }\n",
       "\n",
       "    .dataframe thead th {\n",
       "        text-align: right;\n",
       "    }\n",
       "</style>\n",
       "<table border=\"1\" class=\"dataframe\">\n",
       "  <thead>\n",
       "    <tr style=\"text-align: right;\">\n",
       "      <th></th>\n",
       "      <th>tweet</th>\n",
       "      <th>brand_product</th>\n",
       "      <th>emotion</th>\n",
       "      <th>hashtags</th>\n",
       "    </tr>\n",
       "  </thead>\n",
       "  <tbody>\n",
       "    <tr>\n",
       "      <th>307</th>\n",
       "      <td>And a few are Android too RT @mention 10 New M...</td>\n",
       "      <td>Android App</td>\n",
       "      <td>Positive emotion</td>\n",
       "      <td>NaN</td>\n",
       "    </tr>\n",
       "    <tr>\n",
       "      <th>472</th>\n",
       "      <td>Before It Even Begins, Apple WinsåÊ#SxSW, {lin...</td>\n",
       "      <td>Apple</td>\n",
       "      <td>Positive emotion</td>\n",
       "      <td>NaN</td>\n",
       "    </tr>\n",
       "    <tr>\n",
       "      <th>769</th>\n",
       "      <td>Google to Launch Major New Social Network Call...</td>\n",
       "      <td>Google</td>\n",
       "      <td>Positive emotion</td>\n",
       "      <td>NaN</td>\n",
       "    </tr>\n",
       "    <tr>\n",
       "      <th>793</th>\n",
       "      <td>Google to Launch Major New Social Network Call...</td>\n",
       "      <td>NaN</td>\n",
       "      <td>No emotion toward brand or product</td>\n",
       "      <td>NaN</td>\n",
       "    </tr>\n",
       "    <tr>\n",
       "      <th>932</th>\n",
       "      <td>To buy or not to buy RT @mention Before It Eve...</td>\n",
       "      <td>Apple</td>\n",
       "      <td>Positive emotion</td>\n",
       "      <td>NaN</td>\n",
       "    </tr>\n",
       "    <tr>\n",
       "      <th>1141</th>\n",
       "      <td>ÛÏ@mention The 10 most dangerous IPhone apps....</td>\n",
       "      <td>NaN</td>\n",
       "      <td>No emotion toward brand or product</td>\n",
       "      <td>NaN</td>\n",
       "    </tr>\n",
       "    <tr>\n",
       "      <th>2430</th>\n",
       "      <td>Extra iPad 2 for sale in Austin convention cen...</td>\n",
       "      <td>NaN</td>\n",
       "      <td>No emotion toward brand or product</td>\n",
       "      <td>NaN</td>\n",
       "    </tr>\n",
       "    <tr>\n",
       "      <th>3481</th>\n",
       "      <td>GENIUS behind Google Circles.\\n¡á¾_Î¾Ð¡____...</td>\n",
       "      <td>Other Google product or service</td>\n",
       "      <td>Positive emotion</td>\n",
       "      <td>NaN</td>\n",
       "    </tr>\n",
       "    <tr>\n",
       "      <th>5024</th>\n",
       "      <td>RT @mention</td>\n",
       "      <td>NaN</td>\n",
       "      <td>No emotion toward brand or product</td>\n",
       "      <td>NaN</td>\n",
       "    </tr>\n",
       "    <tr>\n",
       "      <th>5549</th>\n",
       "      <td>RT @mention Before It Even Begins, Apple Winså...</td>\n",
       "      <td>Apple</td>\n",
       "      <td>Positive emotion</td>\n",
       "      <td>NaN</td>\n",
       "    </tr>\n",
       "  </tbody>\n",
       "</table>\n",
       "</div>"
      ],
      "text/plain": [
       "                                                  tweet  \\\n",
       "307   And a few are Android too RT @mention 10 New M...   \n",
       "472   Before It Even Begins, Apple WinsåÊ#SxSW, {lin...   \n",
       "769   Google to Launch Major New Social Network Call...   \n",
       "793   Google to Launch Major New Social Network Call...   \n",
       "932   To buy or not to buy RT @mention Before It Eve...   \n",
       "1141  ÛÏ@mention The 10 most dangerous IPhone apps....   \n",
       "2430  Extra iPad 2 for sale in Austin convention cen...   \n",
       "3481  GENIUS behind Google Circles.\\n¡á¾_Î¾Ð¡____...   \n",
       "5024                                        RT @mention   \n",
       "5549  RT @mention Before It Even Begins, Apple Winså...   \n",
       "\n",
       "                        brand_product                             emotion  \\\n",
       "307                       Android App                    Positive emotion   \n",
       "472                             Apple                    Positive emotion   \n",
       "769                            Google                    Positive emotion   \n",
       "793                               NaN  No emotion toward brand or product   \n",
       "932                             Apple                    Positive emotion   \n",
       "1141                              NaN  No emotion toward brand or product   \n",
       "2430                              NaN  No emotion toward brand or product   \n",
       "3481  Other Google product or service                    Positive emotion   \n",
       "5024                              NaN  No emotion toward brand or product   \n",
       "5549                            Apple                    Positive emotion   \n",
       "\n",
       "     hashtags  \n",
       "307       NaN  \n",
       "472       NaN  \n",
       "769       NaN  \n",
       "793       NaN  \n",
       "932       NaN  \n",
       "1141      NaN  \n",
       "2430      NaN  \n",
       "3481      NaN  \n",
       "5024      NaN  \n",
       "5549      NaN  "
      ]
     },
     "execution_count": 28,
     "metadata": {},
     "output_type": "execute_result"
    }
   ],
   "source": [
    "df[df['hashtags'].isna()]"
   ]
  },
  {
   "cell_type": "markdown",
   "id": "70f72f83-ca08-4252-b6c7-d6a6701d6b06",
   "metadata": {},
   "source": [
    "<font size=\"4\">It doesn't appear that there is any pattern to the tweets with no hashtags.</font>"
   ]
  },
  {
   "cell_type": "markdown",
   "id": "0735a15d-9a79-4ac0-ab57-61cb3e5db155",
   "metadata": {},
   "source": [
    "## Checking Hashtag Set\n",
    "Removing NaNs, making a list, converting to lowercase and forming a set."
   ]
  },
  {
   "cell_type": "code",
   "execution_count": 29,
   "id": "5ec5a931-2343-4967-abc6-9ce33023748e",
   "metadata": {
    "tags": []
   },
   "outputs": [],
   "source": [
    "# removing Nans\n",
    "hashlists = df.hashtags.tolist()\n",
    "hashlists = [h_list for h_list in hashlists if str(h_list) != 'nan']"
   ]
  },
  {
   "cell_type": "code",
   "execution_count": 30,
   "id": "1c49d551-5497-447d-8a41-d5fbb1fef47b",
   "metadata": {},
   "outputs": [
    {
     "data": {
      "text/plain": [
       "9055"
      ]
     },
     "execution_count": 30,
     "metadata": {},
     "output_type": "execute_result"
    }
   ],
   "source": [
    "# checking length\n",
    "len(hashlists)"
   ]
  },
  {
   "cell_type": "code",
   "execution_count": 31,
   "id": "aa9db683",
   "metadata": {},
   "outputs": [],
   "source": [
    "# unpacking hashtags & lowercasing\n",
    "hashtags = [hashtag.lower() for h_list in hashlists for hashtag in h_list]"
   ]
  },
  {
   "cell_type": "code",
   "execution_count": 32,
   "id": "6ffe6483",
   "metadata": {},
   "outputs": [
    {
     "data": {
      "text/plain": [
       "['#rise_austin',\n",
       " '#sxsw',\n",
       " '#sxsw',\n",
       " '#ipad',\n",
       " '#sxsw',\n",
       " '#sxsw',\n",
       " '#sxsw',\n",
       " '#speechtherapy',\n",
       " '#sxsw',\n",
       " '#iear']"
      ]
     },
     "execution_count": 32,
     "metadata": {},
     "output_type": "execute_result"
    }
   ],
   "source": [
    "# checking work\n",
    "hashtags[:10]"
   ]
  },
  {
   "cell_type": "code",
   "execution_count": 33,
   "id": "188162f0",
   "metadata": {},
   "outputs": [
    {
     "data": {
      "text/plain": [
       "15779"
      ]
     },
     "execution_count": 33,
     "metadata": {},
     "output_type": "execute_result"
    }
   ],
   "source": [
    "# checking length\n",
    "len(hashtags)"
   ]
  },
  {
   "cell_type": "code",
   "execution_count": 34,
   "id": "25b25049",
   "metadata": {},
   "outputs": [
    {
     "data": {
      "text/plain": [
       "1460"
      ]
     },
     "execution_count": 34,
     "metadata": {},
     "output_type": "execute_result"
    }
   ],
   "source": [
    "# making a set and checking length\n",
    "len(set(hashtags))"
   ]
  },
  {
   "cell_type": "markdown",
   "id": "7561ceb9-b148-495f-885f-cbe287c23269",
   "metadata": {},
   "source": [
    "<font size=\"4\">There are 1,460 unique hashtags.</font>"
   ]
  },
  {
   "cell_type": "markdown",
   "id": "e894b137-8ed4-4e3f-b512-049a605caa26",
   "metadata": {},
   "source": [
    "## Visualizing the Top 20 Hashtags\n",
    "Graphing the counts and frequencies of the top 20 hashtags."
   ]
  },
  {
   "cell_type": "code",
   "execution_count": 35,
   "id": "ffa23ae1",
   "metadata": {},
   "outputs": [],
   "source": [
    "# creating a dataframe for the plots\n",
    "hts = pd.DataFrame(hashtags, columns=['hashtags'])"
   ]
  },
  {
   "cell_type": "code",
   "execution_count": 36,
   "id": "bfae6f24-9da9-4b53-8f2d-2bbce0034e81",
   "metadata": {},
   "outputs": [
    {
     "data": {
      "image/png": "[encoded data removed]",
      "text/plain": [
       "<Figure size 1152x576 with 1 Axes>"
      ]
     },
     "metadata": {},
     "output_type": "display_data"
    }
   ],
   "source": [
    "vz.hashtag_c(hts)"
   ]
  },
  {
   "cell_type": "code",
   "execution_count": 37,
   "id": "c7f29420-0239-4b64-b111-fce5f732bc86",
   "metadata": {},
   "outputs": [
    {
     "data": {
      "text/plain": [
       "#sxsw          9087\n",
       "#apple          416\n",
       "#google         321\n",
       "#sxswi          316\n",
       "#ipad2          296\n",
       "#iphone         265\n",
       "#ipad           264\n",
       "#android        131\n",
       "#austin         112\n",
       "#circles         98\n",
       "#tech            87\n",
       "#ubersocial      68\n",
       "#gsdm            64\n",
       "#japan           58\n",
       "#tapworthy       54\n",
       "#fb              52\n",
       "#qagb            50\n",
       "#infektd         48\n",
       "#winning         44\n",
       "#uxdes           40\n",
       "Name: hashtags, dtype: int64"
      ]
     },
     "execution_count": 37,
     "metadata": {},
     "output_type": "execute_result"
    }
   ],
   "source": [
    "hts['hashtags'].value_counts()[:20]"
   ]
  },
  {
   "cell_type": "code",
   "execution_count": 38,
   "id": "99dd7f96",
   "metadata": {},
   "outputs": [
    {
     "data": {
      "image/png": "[encoded data removed]",
      "text/plain": [
       "<Figure size 1152x576 with 1 Axes>"
      ]
     },
     "metadata": {},
     "output_type": "display_data"
    }
   ],
   "source": [
    "vz.hashtag_p(hts)"
   ]
  },
  {
   "cell_type": "code",
   "execution_count": 39,
   "id": "832dd4e7-7b9b-4b48-afee-58f615dfaa50",
   "metadata": {},
   "outputs": [
    {
     "data": {
      "text/plain": [
       "#sxsw          0.575892\n",
       "#apple         0.026364\n",
       "#google        0.020343\n",
       "#sxswi         0.020027\n",
       "#ipad2         0.018759\n",
       "#iphone        0.016794\n",
       "#ipad          0.016731\n",
       "#android       0.008302\n",
       "#austin        0.007098\n",
       "#circles       0.006211\n",
       "#tech          0.005514\n",
       "#ubersocial    0.004310\n",
       "#gsdm          0.004056\n",
       "#japan         0.003676\n",
       "#tapworthy     0.003422\n",
       "#fb            0.003296\n",
       "#qagb          0.003169\n",
       "#infektd       0.003042\n",
       "#winning       0.002789\n",
       "#uxdes         0.002535\n",
       "Name: hashtags, dtype: float64"
      ]
     },
     "execution_count": 39,
     "metadata": {},
     "output_type": "execute_result"
    }
   ],
   "source": [
    "hts['hashtags'].value_counts(normalize=True)[:20]"
   ]
  },
  {
   "cell_type": "markdown",
   "id": "83c854a4-6d39-46ed-8674-41d74bb5122d",
   "metadata": {},
   "source": [
    "<font size=\"4\">We can see from the graphs above that the vast majority (58%) of the hashtags are `#sxsw`. Every other hashtag is less than 2.7% of the total number of hashtags.</font>"
   ]
  },
  {
   "cell_type": "markdown",
   "id": "c9410595-b8e7-43d6-a219-8a0d7f4c89f0",
   "metadata": {},
   "source": [
    "## Checking for RTs\n",
    "Collecting the retweets checking the count. "
   ]
  },
  {
   "cell_type": "code",
   "execution_count": 40,
   "id": "f28d65b5-e888-439c-840a-1d5de188ff66",
   "metadata": {},
   "outputs": [],
   "source": [
    "RTs = fn.find_strings(df['tweet'], '(RT\\s@[A-Za-z]+[A-Za-z0-9-_]+)')"
   ]
  },
  {
   "cell_type": "code",
   "execution_count": 221,
   "id": "dd605471-df92-458a-96a0-a8bdcf288346",
   "metadata": {},
   "outputs": [
    {
     "data": {
      "text/plain": [
       "[['RT @madebymany'],\n",
       " ['RT @hamsandwich'],\n",
       " ['RT @malbonster'],\n",
       " ['RT @LaurieShook'],\n",
       " ['RT @mention']]"
      ]
     },
     "execution_count": 221,
     "metadata": {},
     "output_type": "execute_result"
    }
   ],
   "source": [
    "RTs[:5]"
   ]
  },
  {
   "cell_type": "code",
   "execution_count": 42,
   "id": "9e636cfc-7b91-4b6e-a2c5-45a0675e5a1e",
   "metadata": {},
   "outputs": [
    {
     "data": {
      "text/plain": [
       "2551"
      ]
     },
     "execution_count": 42,
     "metadata": {},
     "output_type": "execute_result"
    }
   ],
   "source": [
    "len(RTs)"
   ]
  },
  {
   "cell_type": "markdown",
   "id": "b9175555-3185-4705-b4ab-11c513c54664",
   "metadata": {},
   "source": [
    "## Checking for Mentions\n",
    "Collecting the mentions checking the count"
   ]
  },
  {
   "cell_type": "code",
   "execution_count": 43,
   "id": "307ec2db-4de8-4f97-a102-0c9ca72bc8d8",
   "metadata": {},
   "outputs": [
    {
     "data": {
      "text/plain": [
       "[['@wesley83'],\n",
       " ['@jessedee', '@fludapp'],\n",
       " ['@swonderlin'],\n",
       " ['@sxsw'],\n",
       " ['@sxtxstate'],\n",
       " ['@teachntech00'],\n",
       " ['@madebymany', '@thenextweb'],\n",
       " ['@samsungmobileus'],\n",
       " ['@HurricaneParty'],\n",
       " ['@Gowalla']]"
      ]
     },
     "execution_count": 43,
     "metadata": {},
     "output_type": "execute_result"
    }
   ],
   "source": [
    "ats = fn.find_strings(df['tweet'], '@[A-Za-z]+[A-Za-z0-9-_]+')\n",
    "ats[:10]"
   ]
  },
  {
   "cell_type": "code",
   "execution_count": 44,
   "id": "6e63415c-6f63-49c5-93a9-2248fdd3a6ef",
   "metadata": {},
   "outputs": [
    {
     "data": {
      "text/plain": [
       "4903"
      ]
     },
     "execution_count": 44,
     "metadata": {},
     "output_type": "execute_result"
    }
   ],
   "source": [
    "len(ats)"
   ]
  },
  {
   "cell_type": "markdown",
   "id": "292cdef8",
   "metadata": {},
   "source": [
    "## Checking Brand/Product Counts and Frequencies"
   ]
  },
  {
   "cell_type": "code",
   "execution_count": 242,
   "id": "d9a423f8",
   "metadata": {},
   "outputs": [
    {
     "data": {
      "text/plain": [
       "10"
      ]
     },
     "execution_count": 242,
     "metadata": {},
     "output_type": "execute_result"
    }
   ],
   "source": [
    "len(df.brand_product.unique())"
   ]
  },
  {
   "cell_type": "markdown",
   "id": "273276d2-1262-4ea4-8033-e67635482c80",
   "metadata": {},
   "source": [
    "<font size=\"4\">The are 10 unique values in the `Brand/Product` column including `NaN`.</font>"
   ]
  },
  {
   "cell_type": "code",
   "execution_count": 230,
   "id": "700c8ccf",
   "metadata": {},
   "outputs": [
    {
     "data": {
      "text/plain": [
       "0.6381687810259239"
      ]
     },
     "execution_count": 230,
     "metadata": {},
     "output_type": "execute_result"
    }
   ],
   "source": [
    "df.brand_product.isna().sum()/df.shape[0]"
   ]
  },
  {
   "cell_type": "markdown",
   "id": "907b5c1d-cd2c-4c6a-b0a4-ee4d8f5c8524",
   "metadata": {},
   "source": [
    "<font size=\"4\">63% of the rows have null values in the `Brand/Product` column.</font>"
   ]
  },
  {
   "cell_type": "code",
   "execution_count": 232,
   "id": "7d873212",
   "metadata": {},
   "outputs": [
    {
     "data": {
      "text/plain": [
       "0.3618312189740761"
      ]
     },
     "execution_count": 232,
     "metadata": {},
     "output_type": "execute_result"
    }
   ],
   "source": [
    "df.brand_product.value_counts().sum()/df.shape[0]"
   ]
  },
  {
   "cell_type": "markdown",
   "id": "2f60b3b8-fc90-4cca-9615-b8ab655c1f1d",
   "metadata": {},
   "source": [
    "<font size=\"4\">36% of rows have non-null brand data.</font >"
   ]
  },
  {
   "cell_type": "code",
   "execution_count": 245,
   "id": "dbe65717-a6d8-4768-aea9-3770db7cd188",
   "metadata": {},
   "outputs": [
    {
     "data": {
      "text/plain": [
       "iPad                               0.287500\n",
       "Apple                              0.200915\n",
       "iPad or iPhone App                 0.142988\n",
       "Google                             0.130488\n",
       "iPhone                             0.090244\n",
       "Other Google product or service    0.089329\n",
       "Android App                        0.024390\n",
       "Android                            0.023476\n",
       "Other Apple product or service     0.010671\n",
       "Name: brand_product, dtype: float64"
      ]
     },
     "execution_count": 245,
     "metadata": {},
     "output_type": "execute_result"
    }
   ],
   "source": [
    "df.brand_product.value_counts(normalize=True)"
   ]
  },
  {
   "cell_type": "code",
   "execution_count": 246,
   "id": "2c7959fd-8693-4ff2-8242-3dff07d0da92",
   "metadata": {},
   "outputs": [
    {
     "data": {
      "text/plain": [
       "0.7323170731707316"
      ]
     },
     "execution_count": 246,
     "metadata": {},
     "output_type": "execute_result"
    }
   ],
   "source": [
    "idx = [0, 1, 2, 4, 8]\n",
    "sum = 0\n",
    "for i in idx:\n",
    "    sum += df.brand_product.value_counts(normalize=True)[i]\n",
    "sum"
   ]
  },
  {
   "cell_type": "markdown",
   "id": "12ea7956-646a-4db5-a07b-dddf4866a46a",
   "metadata": {},
   "source": [
    "<font size=\"4\">The Apple brand and Apple products account for 73% of the brand data.</font>"
   ]
  },
  {
   "cell_type": "code",
   "execution_count": 249,
   "id": "0741a500-98cf-42d4-8d5f-260ead287ac9",
   "metadata": {},
   "outputs": [
    {
     "data": {
      "image/png": "[encoded data removed]",
      "text/plain": [
       "<Figure size 1440x576 with 1 Axes>"
      ]
     },
     "metadata": {},
     "output_type": "display_data"
    }
   ],
   "source": [
    "vz.brand_freqs(df)"
   ]
  },
  {
   "cell_type": "markdown",
   "id": "89391d5d-3c64-4a6f-ba77-b8bbd141ef6a",
   "metadata": {},
   "source": [
    "<font size=\"4\"> The graph above confirm Apple's predominance in the `Brand/Product` column. </font>"
   ]
  },
  {
   "cell_type": "markdown",
   "id": "5aceb821",
   "metadata": {},
   "source": [
    "## Checking Emotion Unique Values"
   ]
  },
  {
   "cell_type": "code",
   "execution_count": 247,
   "id": "3992aacd",
   "metadata": {},
   "outputs": [
    {
     "data": {
      "text/plain": [
       "4"
      ]
     },
     "execution_count": 247,
     "metadata": {},
     "output_type": "execute_result"
    }
   ],
   "source": [
    "len(df.emotion.unique())"
   ]
  },
  {
   "cell_type": "markdown",
   "id": "c7023a62-f9e0-4ab7-9e9b-78ca8b8e9581",
   "metadata": {},
   "source": [
    "<font size=\"4\">There are 4 unique values in the emotion category.</font>"
   ]
  },
  {
   "cell_type": "code",
   "execution_count": 51,
   "id": "5a829df8",
   "metadata": {
    "tags": []
   },
   "outputs": [
    {
     "data": {
      "text/plain": [
       "No emotion toward brand or product    5372\n",
       "Positive emotion                      2968\n",
       "Negative emotion                       569\n",
       "I can't tell                           156\n",
       "Name: emotion, dtype: int64"
      ]
     },
     "execution_count": 51,
     "metadata": {},
     "output_type": "execute_result"
    }
   ],
   "source": [
    "df.emotion.value_counts()"
   ]
  },
  {
   "cell_type": "code",
   "execution_count": 248,
   "id": "c0f7c345-4c3c-4970-8bfc-07246b50ebf2",
   "metadata": {
    "tags": []
   },
   "outputs": [
    {
     "data": {
      "text/plain": [
       "No emotion toward brand or product    0.592609\n",
       "Positive emotion                      0.327413\n",
       "Negative emotion                      0.062769\n",
       "I can't tell                          0.017209\n",
       "Name: emotion, dtype: float64"
      ]
     },
     "execution_count": 248,
     "metadata": {},
     "output_type": "execute_result"
    }
   ],
   "source": [
    "df.emotion.value_counts(normalize=True)"
   ]
  },
  {
   "cell_type": "code",
   "execution_count": 250,
   "id": "86712027",
   "metadata": {},
   "outputs": [
    {
     "data": {
      "image/png": "[encoded data removed]",
      "text/plain": [
       "<Figure size 1440x576 with 1 Axes>"
      ]
     },
     "metadata": {},
     "output_type": "display_data"
    }
   ],
   "source": [
    "vz.emotion_freqs(df)"
   ]
  },
  {
   "cell_type": "markdown",
   "id": "8ead0b56-4602-4ee7-aa67-4715de0ca0de",
   "metadata": {},
   "source": [
    "<font size=\"4\">`No emotion toward brand or product` accounts for 59% of the data.</font>\n",
    "\n",
    "<font size=\"4\">`Positive emotion`                   accounts for 33% of the data.</font>\n",
    "\n",
    "<font size=\"4\">`Negative emotion`                   accounts for 6% of the data.</font>\n",
    "\n",
    "<font size=\"4\">`I can't tell`                       accounts for 2% of the data.</font>"
   ]
  },
  {
   "cell_type": "markdown",
   "id": "07c86348",
   "metadata": {},
   "source": [
    "## Emotions by Brand"
   ]
  },
  {
   "cell_type": "code",
   "execution_count": 52,
   "id": "34adbc7d",
   "metadata": {},
   "outputs": [
    {
     "data": {
      "image/png": "[encoded data removed]",
      "text/plain": [
       "<Figure size 1440x720 with 1 Axes>"
      ]
     },
     "metadata": {},
     "output_type": "display_data"
    }
   ],
   "source": [
    "vz.brand_emotions(df)"
   ]
  },
  {
   "cell_type": "markdown",
   "id": "b31ae81e",
   "metadata": {},
   "source": [
    "## Checking Nulls in Product Column"
   ]
  },
  {
   "cell_type": "code",
   "execution_count": 53,
   "id": "ae4843ff",
   "metadata": {},
   "outputs": [],
   "source": [
    "product_nulls = df[df['brand_product'].isnull()]"
   ]
  },
  {
   "cell_type": "code",
   "execution_count": 54,
   "id": "a53c5c05",
   "metadata": {},
   "outputs": [
    {
     "data": {
      "text/html": [
       "<div>\n",
       "<style scoped>\n",
       "    .dataframe tbody tr th:only-of-type {\n",
       "        vertical-align: middle;\n",
       "    }\n",
       "\n",
       "    .dataframe tbody tr th {\n",
       "        vertical-align: top;\n",
       "    }\n",
       "\n",
       "    .dataframe thead th {\n",
       "        text-align: right;\n",
       "    }\n",
       "</style>\n",
       "<table border=\"1\" class=\"dataframe\">\n",
       "  <thead>\n",
       "    <tr style=\"text-align: right;\">\n",
       "      <th></th>\n",
       "      <th>tweet</th>\n",
       "      <th>brand_product</th>\n",
       "      <th>emotion</th>\n",
       "      <th>hashtags</th>\n",
       "    </tr>\n",
       "  </thead>\n",
       "  <tbody>\n",
       "    <tr>\n",
       "      <th>5</th>\n",
       "      <td>@teachntech00 New iPad Apps For #SpeechTherapy...</td>\n",
       "      <td>NaN</td>\n",
       "      <td>No emotion toward brand or product</td>\n",
       "      <td>[#SpeechTherapy, #SXSW, #iear, #edchat, #asd]</td>\n",
       "    </tr>\n",
       "    <tr>\n",
       "      <th>15</th>\n",
       "      <td>Holler Gram for iPad on the iTunes App Store -...</td>\n",
       "      <td>NaN</td>\n",
       "      <td>No emotion toward brand or product</td>\n",
       "      <td>[#sxsw]</td>\n",
       "    </tr>\n",
       "    <tr>\n",
       "      <th>31</th>\n",
       "      <td>Attn: All  #SXSW frineds, @mention Register fo...</td>\n",
       "      <td>NaN</td>\n",
       "      <td>No emotion toward brand or product</td>\n",
       "      <td>[#SXSW, #GDGTLive]</td>\n",
       "    </tr>\n",
       "    <tr>\n",
       "      <th>32</th>\n",
       "      <td>Anyone at  #sxsw want to sell their old iPad?</td>\n",
       "      <td>NaN</td>\n",
       "      <td>No emotion toward brand or product</td>\n",
       "      <td>[#sxsw]</td>\n",
       "    </tr>\n",
       "    <tr>\n",
       "      <th>33</th>\n",
       "      <td>Anyone at  #SXSW who bought the new iPad want ...</td>\n",
       "      <td>NaN</td>\n",
       "      <td>No emotion toward brand or product</td>\n",
       "      <td>[#SXSW]</td>\n",
       "    </tr>\n",
       "  </tbody>\n",
       "</table>\n",
       "</div>"
      ],
      "text/plain": [
       "                                                tweet brand_product  \\\n",
       "5   @teachntech00 New iPad Apps For #SpeechTherapy...           NaN   \n",
       "15  Holler Gram for iPad on the iTunes App Store -...           NaN   \n",
       "31  Attn: All  #SXSW frineds, @mention Register fo...           NaN   \n",
       "32      Anyone at  #sxsw want to sell their old iPad?           NaN   \n",
       "33  Anyone at  #SXSW who bought the new iPad want ...           NaN   \n",
       "\n",
       "                               emotion  \\\n",
       "5   No emotion toward brand or product   \n",
       "15  No emotion toward brand or product   \n",
       "31  No emotion toward brand or product   \n",
       "32  No emotion toward brand or product   \n",
       "33  No emotion toward brand or product   \n",
       "\n",
       "                                         hashtags  \n",
       "5   [#SpeechTherapy, #SXSW, #iear, #edchat, #asd]  \n",
       "15                                        [#sxsw]  \n",
       "31                             [#SXSW, #GDGTLive]  \n",
       "32                                        [#sxsw]  \n",
       "33                                        [#SXSW]  "
      ]
     },
     "execution_count": 54,
     "metadata": {},
     "output_type": "execute_result"
    }
   ],
   "source": [
    "product_nulls.head()"
   ]
  },
  {
   "cell_type": "code",
   "execution_count": 55,
   "id": "7c734862",
   "metadata": {},
   "outputs": [
    {
     "name": "stdout",
     "output_type": "stream",
     "text": [
      "<class 'pandas.core.frame.DataFrame'>\n",
      "Int64Index: 5785 entries, 5 to 9091\n",
      "Data columns (total 4 columns):\n",
      " #   Column         Non-Null Count  Dtype \n",
      "---  ------         --------------  ----- \n",
      " 0   tweet          5785 non-null   object\n",
      " 1   brand_product  0 non-null      object\n",
      " 2   emotion        5785 non-null   object\n",
      " 3   hashtags       5781 non-null   object\n",
      "dtypes: object(4)\n",
      "memory usage: 226.0+ KB\n"
     ]
    }
   ],
   "source": [
    "product_nulls.info()"
   ]
  },
  {
   "cell_type": "code",
   "execution_count": 56,
   "id": "5256d611",
   "metadata": {},
   "outputs": [
    {
     "data": {
      "text/plain": [
       "No emotion toward brand or product    5281\n",
       "Positive emotion                       306\n",
       "I can't tell                           147\n",
       "Negative emotion                        51\n",
       "Name: emotion, dtype: int64"
      ]
     },
     "execution_count": 56,
     "metadata": {},
     "output_type": "execute_result"
    }
   ],
   "source": [
    "product_nulls['emotion'].value_counts()"
   ]
  },
  {
   "cell_type": "markdown",
   "id": "fd8dd4c8",
   "metadata": {},
   "source": [
    "## Checking Null Brands Emotion Data"
   ]
  },
  {
   "cell_type": "code",
   "execution_count": 57,
   "id": "471cbcec",
   "metadata": {},
   "outputs": [],
   "source": [
    "null_brand_emotions = df[(df['brand_product'].isna()) &\\\n",
    "                        (df['emotion'] != 'No emotion toward brand or product')]"
   ]
  },
  {
   "cell_type": "code",
   "execution_count": 58,
   "id": "6b5b97cb",
   "metadata": {},
   "outputs": [
    {
     "name": "stdout",
     "output_type": "stream",
     "text": [
      "<class 'pandas.core.frame.DataFrame'>\n",
      "Int64Index: 504 entries, 45 to 9057\n",
      "Data columns (total 4 columns):\n",
      " #   Column         Non-Null Count  Dtype \n",
      "---  ------         --------------  ----- \n",
      " 0   tweet          504 non-null    object\n",
      " 1   brand_product  0 non-null      object\n",
      " 2   emotion        504 non-null    object\n",
      " 3   hashtags       504 non-null    object\n",
      "dtypes: object(4)\n",
      "memory usage: 19.7+ KB\n"
     ]
    }
   ],
   "source": [
    "null_brand_emotions.info()"
   ]
  },
  {
   "cell_type": "code",
   "execution_count": 59,
   "id": "9bdaf3ee",
   "metadata": {},
   "outputs": [
    {
     "data": {
      "text/html": [
       "<div>\n",
       "<style scoped>\n",
       "    .dataframe tbody tr th:only-of-type {\n",
       "        vertical-align: middle;\n",
       "    }\n",
       "\n",
       "    .dataframe tbody tr th {\n",
       "        vertical-align: top;\n",
       "    }\n",
       "\n",
       "    .dataframe thead th {\n",
       "        text-align: right;\n",
       "    }\n",
       "</style>\n",
       "<table border=\"1\" class=\"dataframe\">\n",
       "  <thead>\n",
       "    <tr style=\"text-align: right;\">\n",
       "      <th></th>\n",
       "      <th>tweet</th>\n",
       "      <th>brand_product</th>\n",
       "      <th>emotion</th>\n",
       "      <th>hashtags</th>\n",
       "    </tr>\n",
       "  </thead>\n",
       "  <tbody>\n",
       "    <tr>\n",
       "      <th>45</th>\n",
       "      <td>Hand-Held Û÷HoboÛª: Drafthouse launches Û÷H...</td>\n",
       "      <td>NaN</td>\n",
       "      <td>Positive emotion</td>\n",
       "      <td>[#SXSW]</td>\n",
       "    </tr>\n",
       "    <tr>\n",
       "      <th>63</th>\n",
       "      <td>Again? RT @mention Line at the Apple store is ...</td>\n",
       "      <td>NaN</td>\n",
       "      <td>Negative emotion</td>\n",
       "      <td>[#sxsw]</td>\n",
       "    </tr>\n",
       "    <tr>\n",
       "      <th>67</th>\n",
       "      <td>Boooo! RT @mention Flipboard is developing an ...</td>\n",
       "      <td>NaN</td>\n",
       "      <td>Negative emotion</td>\n",
       "      <td>[#sxsw]</td>\n",
       "    </tr>\n",
       "    <tr>\n",
       "      <th>89</th>\n",
       "      <td>Thanks to @mention for publishing the news of ...</td>\n",
       "      <td>NaN</td>\n",
       "      <td>I can't tell</td>\n",
       "      <td>[#sxswi, #sxsw, #sxswh]</td>\n",
       "    </tr>\n",
       "    <tr>\n",
       "      <th>101</th>\n",
       "      <td>ÛÏ@mention &amp;quot;Apple has opened a pop-up st...</td>\n",
       "      <td>NaN</td>\n",
       "      <td>I can't tell</td>\n",
       "      <td>[#SXSW, #wow]</td>\n",
       "    </tr>\n",
       "  </tbody>\n",
       "</table>\n",
       "</div>"
      ],
      "text/plain": [
       "                                                 tweet brand_product  \\\n",
       "45   Hand-Held Û÷HoboÛª: Drafthouse launches Û÷H...           NaN   \n",
       "63   Again? RT @mention Line at the Apple store is ...           NaN   \n",
       "67   Boooo! RT @mention Flipboard is developing an ...           NaN   \n",
       "89   Thanks to @mention for publishing the news of ...           NaN   \n",
       "101  ÛÏ@mention &quot;Apple has opened a pop-up st...           NaN   \n",
       "\n",
       "              emotion                 hashtags  \n",
       "45   Positive emotion                  [#SXSW]  \n",
       "63   Negative emotion                  [#sxsw]  \n",
       "67   Negative emotion                  [#sxsw]  \n",
       "89       I can't tell  [#sxswi, #sxsw, #sxswh]  \n",
       "101      I can't tell            [#SXSW, #wow]  "
      ]
     },
     "execution_count": 59,
     "metadata": {},
     "output_type": "execute_result"
    }
   ],
   "source": [
    "null_brand_emotions.head()"
   ]
  },
  {
   "cell_type": "markdown",
   "id": "51781d9e",
   "metadata": {},
   "source": [
    "## Null Brand Emotion Counts"
   ]
  },
  {
   "cell_type": "code",
   "execution_count": 60,
   "id": "17e1495b",
   "metadata": {},
   "outputs": [
    {
     "data": {
      "image/png": "[encoded data removed]",
      "text/plain": [
       "<Figure size 1440x576 with 1 Axes>"
      ]
     },
     "metadata": {},
     "output_type": "display_data"
    }
   ],
   "source": [
    "vz.null_brand_emotions(df)"
   ]
  },
  {
   "cell_type": "markdown",
   "id": "e0a0e211",
   "metadata": {},
   "source": [
    "## Examining Some Null Brand Tweets"
   ]
  },
  {
   "cell_type": "code",
   "execution_count": 61,
   "id": "e88fb8aa",
   "metadata": {
    "tags": []
   },
   "outputs": [
    {
     "name": "stdout",
     "output_type": "stream",
     "text": [
      "Hand-Held Û÷HoboÛª: Drafthouse launches Û÷Hobo With a ShotgunÛª iPhone app #SXSW {link}\n"
     ]
    }
   ],
   "source": [
    "print(null_brand_emotions.tweet[45])"
   ]
  },
  {
   "cell_type": "code",
   "execution_count": 62,
   "id": "be668fac",
   "metadata": {},
   "outputs": [
    {
     "name": "stdout",
     "output_type": "stream",
     "text": [
      "Again? RT @mention Line at the Apple store is insane.. #sxsw\n"
     ]
    }
   ],
   "source": [
    "print(null_brand_emotions.tweet[63])"
   ]
  },
  {
   "cell_type": "code",
   "execution_count": 63,
   "id": "d592f664",
   "metadata": {},
   "outputs": [
    {
     "name": "stdout",
     "output_type": "stream",
     "text": [
      "Boooo! RT @mention Flipboard is developing an iPhone version, not Android, says @mention #sxsw\n"
     ]
    }
   ],
   "source": [
    "print(null_brand_emotions.tweet[67])"
   ]
  },
  {
   "cell_type": "markdown",
   "id": "28f36471",
   "metadata": {},
   "source": [
    "## Filtering for Binary Emotion Data\n",
    "The initial model will be trained to classify positive and negative sentiments."
   ]
  },
  {
   "cell_type": "code",
   "execution_count": 64,
   "id": "a73f6103",
   "metadata": {},
   "outputs": [],
   "source": [
    "binary_data = df[(df['emotion'] == 'Positive emotion') |\\\n",
    "                 (df['emotion'] == 'Negative emotion')].copy()"
   ]
  },
  {
   "cell_type": "code",
   "execution_count": 65,
   "id": "bb803553",
   "metadata": {},
   "outputs": [],
   "source": [
    "binary_data.reset_index(drop=True, inplace=True)"
   ]
  },
  {
   "cell_type": "code",
   "execution_count": 66,
   "id": "f3c811d7",
   "metadata": {},
   "outputs": [
    {
     "data": {
      "text/html": [
       "<div>\n",
       "<style scoped>\n",
       "    .dataframe tbody tr th:only-of-type {\n",
       "        vertical-align: middle;\n",
       "    }\n",
       "\n",
       "    .dataframe tbody tr th {\n",
       "        vertical-align: top;\n",
       "    }\n",
       "\n",
       "    .dataframe thead th {\n",
       "        text-align: right;\n",
       "    }\n",
       "</style>\n",
       "<table border=\"1\" class=\"dataframe\">\n",
       "  <thead>\n",
       "    <tr style=\"text-align: right;\">\n",
       "      <th></th>\n",
       "      <th>tweet</th>\n",
       "      <th>brand_product</th>\n",
       "      <th>emotion</th>\n",
       "      <th>hashtags</th>\n",
       "    </tr>\n",
       "  </thead>\n",
       "  <tbody>\n",
       "    <tr>\n",
       "      <th>0</th>\n",
       "      <td>.@wesley83 I have a 3G iPhone. After 3 hrs twe...</td>\n",
       "      <td>iPhone</td>\n",
       "      <td>Negative emotion</td>\n",
       "      <td>[#RISE_Austin, #SXSW]</td>\n",
       "    </tr>\n",
       "    <tr>\n",
       "      <th>1</th>\n",
       "      <td>@jessedee Know about @fludapp ? Awesome iPad/i...</td>\n",
       "      <td>iPad or iPhone App</td>\n",
       "      <td>Positive emotion</td>\n",
       "      <td>[#SXSW]</td>\n",
       "    </tr>\n",
       "    <tr>\n",
       "      <th>2</th>\n",
       "      <td>@swonderlin Can not wait for #iPad 2 also. The...</td>\n",
       "      <td>iPad</td>\n",
       "      <td>Positive emotion</td>\n",
       "      <td>[#iPad, #SXSW]</td>\n",
       "    </tr>\n",
       "    <tr>\n",
       "      <th>3</th>\n",
       "      <td>@sxsw I hope this year's festival isn't as cra...</td>\n",
       "      <td>iPad or iPhone App</td>\n",
       "      <td>Negative emotion</td>\n",
       "      <td>[#sxsw]</td>\n",
       "    </tr>\n",
       "    <tr>\n",
       "      <th>4</th>\n",
       "      <td>@sxtxstate great stuff on Fri #SXSW: Marissa M...</td>\n",
       "      <td>Google</td>\n",
       "      <td>Positive emotion</td>\n",
       "      <td>[#SXSW]</td>\n",
       "    </tr>\n",
       "  </tbody>\n",
       "</table>\n",
       "</div>"
      ],
      "text/plain": [
       "                                               tweet       brand_product  \\\n",
       "0  .@wesley83 I have a 3G iPhone. After 3 hrs twe...              iPhone   \n",
       "1  @jessedee Know about @fludapp ? Awesome iPad/i...  iPad or iPhone App   \n",
       "2  @swonderlin Can not wait for #iPad 2 also. The...                iPad   \n",
       "3  @sxsw I hope this year's festival isn't as cra...  iPad or iPhone App   \n",
       "4  @sxtxstate great stuff on Fri #SXSW: Marissa M...              Google   \n",
       "\n",
       "            emotion               hashtags  \n",
       "0  Negative emotion  [#RISE_Austin, #SXSW]  \n",
       "1  Positive emotion                [#SXSW]  \n",
       "2  Positive emotion         [#iPad, #SXSW]  \n",
       "3  Negative emotion                [#sxsw]  \n",
       "4  Positive emotion                [#SXSW]  "
      ]
     },
     "execution_count": 66,
     "metadata": {},
     "output_type": "execute_result"
    }
   ],
   "source": [
    "binary_data.head()"
   ]
  },
  {
   "cell_type": "code",
   "execution_count": 67,
   "id": "c4e62f60",
   "metadata": {},
   "outputs": [
    {
     "name": "stdout",
     "output_type": "stream",
     "text": [
      "<class 'pandas.core.frame.DataFrame'>\n",
      "RangeIndex: 3537 entries, 0 to 3536\n",
      "Data columns (total 4 columns):\n",
      " #   Column         Non-Null Count  Dtype \n",
      "---  ------         --------------  ----- \n",
      " 0   tweet          3537 non-null   object\n",
      " 1   brand_product  3180 non-null   object\n",
      " 2   emotion        3537 non-null   object\n",
      " 3   hashtags       3531 non-null   object\n",
      "dtypes: object(4)\n",
      "memory usage: 110.7+ KB\n"
     ]
    }
   ],
   "source": [
    "binary_data.info()"
   ]
  },
  {
   "cell_type": "code",
   "execution_count": 68,
   "id": "7f8a9ee1",
   "metadata": {
    "tags": []
   },
   "outputs": [
    {
     "data": {
      "text/plain": [
       "tweet              0\n",
       "brand_product    357\n",
       "emotion            0\n",
       "hashtags           6\n",
       "dtype: int64"
      ]
     },
     "execution_count": 68,
     "metadata": {},
     "output_type": "execute_result"
    }
   ],
   "source": [
    "binary_data.isna().sum()"
   ]
  },
  {
   "cell_type": "code",
   "execution_count": 69,
   "id": "46140183",
   "metadata": {},
   "outputs": [
    {
     "data": {
      "text/plain": [
       "Positive emotion    2968\n",
       "Negative emotion     569\n",
       "Name: emotion, dtype: int64"
      ]
     },
     "execution_count": 69,
     "metadata": {},
     "output_type": "execute_result"
    }
   ],
   "source": [
    "binary_data['emotion'].value_counts()"
   ]
  },
  {
   "cell_type": "markdown",
   "id": "f8cc6323",
   "metadata": {},
   "source": [
    "## Binarizing the `emotion` Target"
   ]
  },
  {
   "cell_type": "code",
   "execution_count": 70,
   "id": "43495d03",
   "metadata": {},
   "outputs": [],
   "source": [
    "binary_data['emotion'] = binary_data['emotion'].replace(['Negative emotion'], 0)"
   ]
  },
  {
   "cell_type": "code",
   "execution_count": 71,
   "id": "78cbb7f4",
   "metadata": {},
   "outputs": [],
   "source": [
    "binary_data['emotion'] = binary_data['emotion'].map(lambda x: 1 if x != 0 else 0)"
   ]
  },
  {
   "cell_type": "code",
   "execution_count": 72,
   "id": "d2bdc52f",
   "metadata": {},
   "outputs": [
    {
     "data": {
      "text/plain": [
       "1    2968\n",
       "0     569\n",
       "Name: emotion, dtype: int64"
      ]
     },
     "execution_count": 72,
     "metadata": {},
     "output_type": "execute_result"
    }
   ],
   "source": [
    "binary_data['emotion'].value_counts()"
   ]
  },
  {
   "cell_type": "markdown",
   "id": "acd28e48",
   "metadata": {},
   "source": [
    "## Setting `data` & `target`"
   ]
  },
  {
   "cell_type": "code",
   "execution_count": 73,
   "id": "1db7c266",
   "metadata": {},
   "outputs": [],
   "source": [
    "data = binary_data['tweet']\n",
    "target = binary_data['emotion']"
   ]
  },
  {
   "cell_type": "code",
   "execution_count": 74,
   "id": "b90d708e",
   "metadata": {},
   "outputs": [
    {
     "data": {
      "text/plain": [
       "0"
      ]
     },
     "execution_count": 74,
     "metadata": {},
     "output_type": "execute_result"
    }
   ],
   "source": [
    "data.isna().sum()"
   ]
  },
  {
   "cell_type": "code",
   "execution_count": 75,
   "id": "418dc0e0",
   "metadata": {},
   "outputs": [
    {
     "data": {
      "text/plain": [
       "0"
      ]
     },
     "execution_count": 75,
     "metadata": {},
     "output_type": "execute_result"
    }
   ],
   "source": [
    "target.isna().sum()"
   ]
  },
  {
   "cell_type": "code",
   "execution_count": 76,
   "id": "6c56c321",
   "metadata": {},
   "outputs": [
    {
     "data": {
      "text/plain": [
       "3537"
      ]
     },
     "execution_count": 76,
     "metadata": {},
     "output_type": "execute_result"
    }
   ],
   "source": [
    "len(data)"
   ]
  },
  {
   "cell_type": "code",
   "execution_count": 77,
   "id": "4639b121",
   "metadata": {},
   "outputs": [
    {
     "data": {
      "text/plain": [
       "True"
      ]
     },
     "execution_count": 77,
     "metadata": {},
     "output_type": "execute_result"
    }
   ],
   "source": [
    "len(data) == len(target)"
   ]
  },
  {
   "cell_type": "code",
   "execution_count": 78,
   "id": "4d1bcb1b",
   "metadata": {},
   "outputs": [
    {
     "data": {
      "text/plain": [
       "'.@wesley83 I have a 3G iPhone. After 3 hrs tweeting at #RISE_Austin, it was dead!  I need to upgrade. Plugin stations at #SXSW.'"
      ]
     },
     "execution_count": 78,
     "metadata": {},
     "output_type": "execute_result"
    }
   ],
   "source": [
    "data[0]"
   ]
  },
  {
   "cell_type": "markdown",
   "id": "e1f9ec0b",
   "metadata": {},
   "source": [
    "## Exploring Hashtags in the Data"
   ]
  },
  {
   "cell_type": "code",
   "execution_count": 79,
   "id": "6203056f",
   "metadata": {},
   "outputs": [],
   "source": [
    "data_hashtags = fn.ht_extract(data)"
   ]
  },
  {
   "cell_type": "code",
   "execution_count": 80,
   "id": "59316425",
   "metadata": {},
   "outputs": [
    {
     "data": {
      "text/plain": [
       "['#rise_austin',\n",
       " '#sxsw',\n",
       " '#sxsw',\n",
       " '#ipad',\n",
       " '#sxsw',\n",
       " '#sxsw',\n",
       " '#sxsw',\n",
       " '#sxsw',\n",
       " '#ctia',\n",
       " '#googleio']"
      ]
     },
     "execution_count": 80,
     "metadata": {},
     "output_type": "execute_result"
    }
   ],
   "source": [
    "data_hashtags[:10]"
   ]
  },
  {
   "cell_type": "code",
   "execution_count": 81,
   "id": "02c531a8",
   "metadata": {},
   "outputs": [
    {
     "data": {
      "text/plain": [
       "5896"
      ]
     },
     "execution_count": 81,
     "metadata": {},
     "output_type": "execute_result"
    }
   ],
   "source": [
    "len(data_hashtags)"
   ]
  },
  {
   "cell_type": "code",
   "execution_count": 82,
   "id": "7827d264",
   "metadata": {},
   "outputs": [
    {
     "data": {
      "text/plain": [
       "744"
      ]
     },
     "execution_count": 82,
     "metadata": {},
     "output_type": "execute_result"
    }
   ],
   "source": [
    "len(set(data_hashtags))"
   ]
  },
  {
   "cell_type": "code",
   "execution_count": 83,
   "id": "aa8ed3c5",
   "metadata": {},
   "outputs": [],
   "source": [
    "data_hts = pd.DataFrame(data_hashtags, columns=['hashtags'])"
   ]
  },
  {
   "cell_type": "code",
   "execution_count": 84,
   "id": "854bc919",
   "metadata": {},
   "outputs": [
    {
     "data": {
      "image/png": "[encoded data removed]",
      "text/plain": [
       "<Figure size 1152x576 with 1 Axes>"
      ]
     },
     "metadata": {},
     "output_type": "display_data"
    }
   ],
   "source": [
    "vz.hashtag_c(data_hts)"
   ]
  },
  {
   "cell_type": "code",
   "execution_count": 85,
   "id": "b5d12916-7073-40b9-a390-6fc30254cde9",
   "metadata": {},
   "outputs": [
    {
     "data": {
      "text/plain": [
       "hashtags          \n",
       "#sxsw                 3551\n",
       "#apple                 192\n",
       "#ipad2                 138\n",
       "#ipad                  112\n",
       "#sxswi                 107\n",
       "                      ... \n",
       "#notevenstartedyet       1\n",
       "#nightjar                1\n",
       "#nfusion                 1\n",
       "#newtwitter              1\n",
       "#100tc                   1\n",
       "Length: 744, dtype: int64"
      ]
     },
     "execution_count": 85,
     "metadata": {},
     "output_type": "execute_result"
    }
   ],
   "source": [
    "data_hts.value_counts()"
   ]
  },
  {
   "cell_type": "code",
   "execution_count": 86,
   "id": "dd2a6579",
   "metadata": {},
   "outputs": [
    {
     "data": {
      "image/png": "[encoded data removed]",
      "text/plain": [
       "<Figure size 1152x576 with 1 Axes>"
      ]
     },
     "metadata": {},
     "output_type": "display_data"
    }
   ],
   "source": [
    "vz.hashtag_p(data_hts)"
   ]
  },
  {
   "cell_type": "code",
   "execution_count": 87,
   "id": "98f2e38e-603d-447e-84a2-a536e3a6f70f",
   "metadata": {},
   "outputs": [
    {
     "data": {
      "text/plain": [
       "hashtags          \n",
       "#sxsw                 0.602273\n",
       "#apple                0.032564\n",
       "#ipad2                0.023406\n",
       "#ipad                 0.018996\n",
       "#sxswi                0.018148\n",
       "                        ...   \n",
       "#notevenstartedyet    0.000170\n",
       "#nightjar             0.000170\n",
       "#nfusion              0.000170\n",
       "#newtwitter           0.000170\n",
       "#100tc                0.000170\n",
       "Length: 744, dtype: float64"
      ]
     },
     "execution_count": 87,
     "metadata": {},
     "output_type": "execute_result"
    }
   ],
   "source": [
    "data_hts.value_counts(normalize=True)"
   ]
  },
  {
   "cell_type": "markdown",
   "id": "1cc8a409",
   "metadata": {},
   "source": [
    "## Checking for RTs in the Data"
   ]
  },
  {
   "cell_type": "code",
   "execution_count": 88,
   "id": "4ec9fa40",
   "metadata": {},
   "outputs": [],
   "source": [
    "RTs_data = fn.find_strings(data, '(RT\\s@[A-Za-z]+[A-Za-z0-9-_]+)')"
   ]
  },
  {
   "cell_type": "code",
   "execution_count": 89,
   "id": "d22938a7",
   "metadata": {},
   "outputs": [
    {
     "data": {
      "text/plain": [
       "[['RT @madebymany'],\n",
       " ['RT @hamsandwich'],\n",
       " ['RT @malbonster'],\n",
       " ['RT @LaurieShook'],\n",
       " ['RT @mention'],\n",
       " ['RT @mention'],\n",
       " ['RT @mention'],\n",
       " ['RT @mention'],\n",
       " ['RT @mention'],\n",
       " ['RT @mention']]"
      ]
     },
     "execution_count": 89,
     "metadata": {},
     "output_type": "execute_result"
    }
   ],
   "source": [
    "RTs_data[:10]"
   ]
  },
  {
   "cell_type": "code",
   "execution_count": 90,
   "id": "7857778e-d1f1-40ef-a7ec-077cacd6fc51",
   "metadata": {},
   "outputs": [
    {
     "data": {
      "text/plain": [
       "932"
      ]
     },
     "execution_count": 90,
     "metadata": {},
     "output_type": "execute_result"
    }
   ],
   "source": [
    "len(RTs_data)"
   ]
  },
  {
   "cell_type": "markdown",
   "id": "33a34c89",
   "metadata": {},
   "source": [
    "## Checking for @s in the Data"
   ]
  },
  {
   "cell_type": "code",
   "execution_count": 91,
   "id": "15dbe129",
   "metadata": {},
   "outputs": [
    {
     "data": {
      "text/plain": [
       "[['@wesley83'],\n",
       " ['@jessedee', '@fludapp'],\n",
       " ['@swonderlin'],\n",
       " ['@sxsw'],\n",
       " ['@sxtxstate'],\n",
       " ['@madebymany', '@thenextweb'],\n",
       " ['@samsungmobileus'],\n",
       " ['@HurricaneParty'],\n",
       " ['@Gowalla'],\n",
       " ['@hamsandwich', '@ischafer']]"
      ]
     },
     "execution_count": 91,
     "metadata": {},
     "output_type": "execute_result"
    }
   ],
   "source": [
    "ats_data = fn.find_strings(data, '@[A-Za-z]+[A-Za-z0-9-_]+')\n",
    "ats_data[:10]"
   ]
  },
  {
   "cell_type": "code",
   "execution_count": 92,
   "id": "59ac0289-4465-459a-ae28-f41cc53d5808",
   "metadata": {},
   "outputs": [
    {
     "data": {
      "text/plain": [
       "1832"
      ]
     },
     "execution_count": 92,
     "metadata": {},
     "output_type": "execute_result"
    }
   ],
   "source": [
    "len(ats_data)"
   ]
  },
  {
   "cell_type": "markdown",
   "id": "3a6eeeb9-3d10-4c40-976d-b9805ba06b91",
   "metadata": {},
   "source": [
    "## Frequency Distribution of Raw Data"
   ]
  },
  {
   "cell_type": "code",
   "execution_count": 130,
   "id": "ef6f5c95-d239-4d5e-aebc-478fbd57e8a7",
   "metadata": {},
   "outputs": [],
   "source": [
    "processed_data = list(map(fn.re_tokens, data))"
   ]
  },
  {
   "cell_type": "code",
   "execution_count": 139,
   "id": "73dec314-7704-4cf2-8ab1-f9d477cbb6db",
   "metadata": {},
   "outputs": [],
   "source": [
    "word_list = fn.word_list(processed_data)"
   ]
  },
  {
   "cell_type": "code",
   "execution_count": 141,
   "id": "0c80a9ba-f019-499e-af83-b57cf26766f9",
   "metadata": {},
   "outputs": [
    {
     "name": "stdout",
     "output_type": "stream",
     "text": [
      "['wesley83', '3g', 'iphone', '3', 'hrs', 'tweeting', 'rise', 'austin', 'dead', 'need', 'upgrade', 'plugin', 'stations', 'sxsw', 'jessedee', 'know', 'fludapp', 'awesome', 'ipad', 'iphone']\n"
     ]
    }
   ],
   "source": [
    "print(word_list[:20])"
   ]
  },
  {
   "cell_type": "code",
   "execution_count": 188,
   "id": "8aeb8881-27b9-4223-bd99-3768d528edce",
   "metadata": {},
   "outputs": [
    {
     "name": "stdout",
     "output_type": "stream",
     "text": [
      "<FreqDist with 5861 samples and 44484 outcomes>\n"
     ]
    }
   ],
   "source": [
    "dirty_freqdist = FreqDist(word_list)\n",
    "print(dirty_freqdist)"
   ]
  },
  {
   "cell_type": "code",
   "execution_count": 187,
   "id": "cd169e94-56f5-4745-8131-6c72a72528f9",
   "metadata": {},
   "outputs": [
    {
     "data": {
      "image/png": "[encoded data removed]",
      "text/plain": [
       "<Figure size 1152x576 with 1 Axes>"
      ]
     },
     "metadata": {},
     "output_type": "display_data"
    }
   ],
   "source": [
    "plt.figure(figsize=(16,8))\n",
    "dirty_freqdist.plot(30);"
   ]
  },
  {
   "cell_type": "markdown",
   "id": "c04ce3af-16d7-4985-8354-c43a09b56d2f",
   "metadata": {},
   "source": [
    "## Data Preparation II: (Cleaning the Data) "
   ]
  },
  {
   "cell_type": "code",
   "execution_count": 198,
   "id": "863f6fc8-df94-4f96-b94b-f6b267340f2e",
   "metadata": {},
   "outputs": [],
   "source": [
    "clean_lemmas = fn.clean_corpus_lem(data)"
   ]
  },
  {
   "cell_type": "code",
   "execution_count": 199,
   "id": "780c93f8-d45f-4095-8e65-a89d4a9abf02",
   "metadata": {},
   "outputs": [],
   "source": [
    "clean_stems = fn.clean_corpus_stem(data)"
   ]
  },
  {
   "cell_type": "code",
   "execution_count": 200,
   "id": "6a4f0143-8524-4b8e-b9c4-65351440f1da",
   "metadata": {
    "scrolled": true,
    "tags": []
   },
   "outputs": [
    {
     "name": "stdout",
     "output_type": "stream",
     "text": [
      "original: .@wesley83 I have a 3G iPhone. After 3 hrs tweeting at #RISE_Austin, it was dead!  I need to upgrade. Plugin stations at #SXSW.\n",
      "\n",
      "lemms: 3g iphone 3 hr tweeting rise austin dead need upgrade plugin station sxsw\n",
      "stems: 3g iphon 3 hr tweet rise austin dead need upgrad plugin station sxsw\n",
      "\n",
      "original: @jessedee Know about @fludapp ? Awesome iPad/iPhone app that you'll likely appreciate for its design. Also, they're giving free Ts at #SXSW\n",
      "\n",
      "lemms: know awesome ipad iphone app likely appreciate design also giving free t sxsw\n",
      "stems: know awesom ipad iphon app like appreci design also give free ts sxsw\n",
      "\n",
      "original: @swonderlin Can not wait for #iPad 2 also. They should sale them down at #SXSW.\n",
      "\n",
      "lemms: wait ipad 2 also sale sxsw\n",
      "stems: wait ipad 2 also sale sxsw\n",
      "\n",
      "original: @sxsw I hope this year's festival isn't as crashy as this year's iPhone app. #sxsw\n",
      "\n",
      "lemms: hope year festival crashy year iphone app sxsw\n",
      "stems: hope year festiv crashi year iphon app sxsw\n",
      "\n",
      "original: @sxtxstate great stuff on Fri #SXSW: Marissa Mayer (Google), Tim O'Reilly (tech books/conferences) &amp; Matt Mullenweg (Wordpress)\n",
      "\n",
      "lemms: great stuff fri sxsw marissa mayer google tim reilly tech book conference matt mullenweg wordpress\n",
      "stems: great stuff fri sxsw marissa mayer googl tim reilli tech book confer matt mullenweg wordpress\n",
      "\n",
      "original: #SXSW is just starting, #CTIA is around the corner and #googleio is only a hop skip and a jump from there, good time to be an #android fan\n",
      "\n",
      "lemms: sxsw starting ctia around corner googleio hop skip jump good time android fan\n",
      "stems: sxsw start ctia around corner googleio hop skip jump good time android fan\n",
      "\n",
      "original: Beautifully smart and simple idea RT @madebymany @thenextweb wrote about our #hollergram iPad app for #sxsw! http://bit.ly/ieaVOB\n",
      "\n",
      "lemms: beautifully smart simple idea wrote hollergram ipad app sxsw\n",
      "stems: beauti smart simpl idea wrote hollergram ipad app sxsw\n",
      "\n",
      "original: Counting down the days to #sxsw plus strong Canadian dollar means stock up on Apple gear\n",
      "\n",
      "lemms: counting day sxsw plus strong canadian dollar mean stock apple gear\n",
      "stems: count day sxsw plu strong canadian dollar mean stock appl gear\n",
      "\n",
      "original: Excited to meet the @samsungmobileus at #sxsw so I can show them my Sprint Galaxy S still running Android 2.1.   #fail\n",
      "\n",
      "lemms: excited meet sxsw show sprint galaxy still running android 2 1 fail\n",
      "stems: excit meet sxsw show sprint galaxi still run android 2 1 fail\n",
      "\n",
      "original: Find &amp; Start Impromptu Parties at #SXSW With @HurricaneParty http://bit.ly/gVLrIn I can't wait til the Android app comes out.\n",
      "\n",
      "lemms: find start impromptu party sxsw wait til android app come\n",
      "stems: find start impromptu parti sxsw wait til android app come\n",
      "\n",
      "original: Foursquare ups the game, just in time for #SXSW http://j.mp/grN7pK) - Still prefer @Gowalla by far, best looking Android app to date.\n",
      "\n",
      "lemms: foursquare ups game time sxsw still prefer far best looking android app date\n",
      "stems: foursquar up game time sxsw still prefer far best look android app date\n",
      "\n",
      "original: Gotta love this #SXSW Google Calendar featuring top parties/ show cases to check out.  RT @hamsandwich via @ischafer =&gt;http://bit.ly/aXZwxB\n",
      "\n",
      "lemms: gotta love sxsw google calendar featuring top party show case check via\n",
      "stems: gotta love sxsw googl calendar featur top parti show case check via\n",
      "\n",
      "original: Great #sxsw ipad app from @madebymany: http://tinyurl.com/4nqv92l\n",
      "\n",
      "lemms: great sxsw ipad app\n",
      "stems: great sxsw ipad app\n",
      "\n",
      "original: haha, awesomely rad iPad app by @madebymany http://bit.ly/hTdFim #hollergram #sxsw\n",
      "\n",
      "lemms: haha awesomely rad ipad app hollergram sxsw\n",
      "stems: haha awesom rad ipad app hollergram sxsw\n",
      "\n",
      "original: I just noticed DST is coming this weekend. How many iPhone users will be an hour late at SXSW come Sunday morning? #SXSW #iPhone\n",
      "\n",
      "lemms: noticed dst coming weekend many iphone user hour late sxsw come sunday morning sxsw iphone\n",
      "stems: notic dst come weekend mani iphon user hour late sxsw come sunday morn sxsw iphon\n",
      "\n",
      "original: Just added my #SXSW flights to @planely. Matching people on planes/airports. Also downloaded the @KLM iPhone app, nicely done.\n",
      "\n",
      "lemms: added sxsw flight matching people plane airport also downloaded iphone app nicely done\n",
      "stems: ad sxsw flight match peopl plane airport also download iphon app nice done\n",
      "\n",
      "original: Must have #SXSW app! RT @malbonster: Lovely review from Forbes for our SXSW iPad app Holler Gram - http://t.co/g4GZypV\n",
      "\n",
      "lemms: must sxsw app lovely review forbes sxsw ipad app holler gram\n",
      "stems: must sxsw app love review forb sxsw ipad app holler gram\n",
      "\n",
      "original: Need to buy an iPad2 while I'm in Austin at #sxsw. Not sure if I'll need to Q up at an Austin Apple store?\n",
      "\n",
      "lemms: need buy ipad2 austin sxsw sure need q austin apple store\n",
      "stems: need buy ipad2 austin sxsw sure need q austin appl store\n",
      "\n",
      "original: Oh. My. God. The #SXSW app for iPad is pure, unadulterated awesome. It's easier to browse events on iPad than on the website!!!\n",
      "\n",
      "lemms: oh god sxsw app ipad pure unadulterated awesome easier browse event ipad website\n",
      "stems: oh god sxsw app ipad pure unadulter awesom easier brows event ipad websit\n",
      "\n",
      "original: Okay, this is really it: yay new @Foursquare for #Android app!!!!11 kthxbai. #sxsw\n",
      "\n",
      "lemms: okay really yay new android app 11 kthxbai sxsw\n",
      "stems: okay realli yay new android app 11 kthxbai sxsw\n",
      "\n",
      "original: Photo: Just installed the #SXSW iPhone app, which is really nice! http://tumblr.com/x6t1pi6av7\n",
      "\n",
      "lemms: photo installed sxsw iphone app really nice\n",
      "stems: photo instal sxsw iphon app realli nice\n",
      "\n",
      "original: Really enjoying the changes in Gowalla 3.0 for Android! Looking forward to seeing what else they &amp; Foursquare have up their sleeves at #SXSW\n",
      "\n",
      "lemms: really enjoying change gowalla 3 0 android looking forward seeing else foursquare sleeve sxsw\n",
      "stems: realli enjoy chang gowalla 3 0 android look forward see els foursquar sleev sxsw\n",
      "\n",
      "original: RT @LaurieShook: I'm looking forward to the #SMCDallas pre #SXSW party Wed., and hoping I'll win an #iPad resulting from my shameless promotion.  #ChevySMC\n",
      "\n",
      "lemms: looking forward smcdallas pre sxsw party wed hoping win ipad resulting shameless promotion chevysmc\n",
      "stems: look forward smcdalla pre sxsw parti wed hope win ipad result shameless promot chevysmc\n",
      "\n",
      "original: RT haha, awesomely rad iPad app by @madebymany http://bit.ly/hTdFim #hollergram #sxsw (via @michaelpiliero)\n",
      "\n",
      "lemms: haha awesomely rad ipad app hollergram sxsw via\n",
      "stems: haha awesom rad ipad app hollergram sxsw via\n",
      "\n",
      "original: someone started an #austin @PartnerHub group in google groups, pre-#sxsw. great idea\n",
      "\n",
      "lemms: someone started austin group google group pre sxsw great idea\n",
      "stems: someon start austin group googl group pre sxsw great idea\n",
      "\n",
      "original: The new #4sq3 looks like it is going to rock. Update for iPhone and Android should push tonight http://bit.ly/etsbZk #SXSW #KeepAustinWeird\n",
      "\n",
      "lemms: new 4sq3 look like going rock update iphone android push tonight sxsw keepaustinweird\n",
      "stems: new 4sq3 look like go rock updat iphon android push tonight sxsw keepaustinweird\n",
      "\n",
      "original: They were right, the @gowalla 3 app on #android is sweeeeet! Nice job by the team there. #sxsw\n",
      "\n",
      "lemms: right 3 app android sweeeeet nice job team sxsw\n",
      "stems: right 3 app android sweeeeet nice job team sxsw\n",
      "\n",
      "original: Very smart from @madebymany #hollergram iPad app for #sxsw! http://t.co/A3xvWc6 (may leave my vuvuzela at home now)\n",
      "\n",
      "lemms: smart hollergram ipad app sxsw may leave vuvuzela home\n",
      "stems: smart hollergram ipad app sxsw may leav vuvuzela home\n",
      "\n",
      "original: You must have this app for your iPad if you are going to #SXSW http://itunes.apple.com/us/app/holler-gram/id420666439?mt=8 #hollergram\n",
      "\n",
      "lemms: must app ipad going sxsw hollergram\n",
      "stems: must app ipad go sxsw hollergram\n",
      "\n",
      "original: The best!  RT @mention Ha! First in line for #ipad2 at #sxsw &quot;pop-up&quot; Apple store was an event planner #eventprofs #pcma #engage365\n",
      "\n",
      "lemms: best ha first line ipad2 sxsw pop apple store event planner eventprofs pcma engage365\n",
      "stems: best ha first line ipad2 sxsw pop appl store event planner eventprof pcma engage365\n",
      "\n",
      "original: @mention  - False Alarm: Google Circles Not Coming NowÛÒand Probably Not Ever? - {link} #Google #Circles #Social #SXSW\n",
      "\n",
      "lemms: false alarm google circle coming probably ever google circle social sxsw\n",
      "stems: fals alarm googl circl come probabl ever googl circl social sxsw\n",
      "\n",
      "original: @mention  - Great weather to greet you for #sxsw! Still need a sweater at night..Apple putting up &quot;flash store&quot; downtown to sell iPad2\n",
      "\n",
      "lemms: great weather greet sxsw still need sweater night apple putting flash store downtown sell ipad2\n",
      "stems: great weather greet sxsw still need sweater night appl put flash store downtown sell ipad2\n",
      "\n",
      "original: #IPad2 's Û÷#SmartCoverÛª Opens to Instant Access - I should have waited to get one! - {link} #apple #SXSW\n",
      "\n",
      "lemms: ipad2 smartcover open instant access waited get one apple sxsw\n",
      "stems: ipad2 smartcov open instant access wait get one appl sxsw\n",
      "\n",
      "original: Hand-Held Û÷HoboÛª: Drafthouse launches Û÷Hobo With a ShotgunÛª iPhone app #SXSW {link}\n",
      "\n",
      "lemms: hand held hobo drafthouse launch hobo shotgun iphone app sxsw\n",
      "stems: hand held hobo drafthous launch hobo shotgun iphon app sxsw\n",
      "\n",
      "original: HOORAY RT ÛÏ@mention Apple Is Opening A Pop-Up Store In Austin For #SXSW | @mention {link}\n",
      "\n",
      "lemms: hooray apple opening pop store austin sxsw\n",
      "stems: hooray appl open pop store austin sxsw\n",
      "\n",
      "original: wooooo!!! ÛÏ@mention Apple store downtown Austin open til Midnight. #sxswÛ\n",
      "\n",
      "lemms: wooooo apple store downtown austin open til midnight sxsw\n",
      "stems: wooooo appl store downtown austin open til midnight sxsw\n",
      "\n",
      "original: ÛÏ@mention @mention talking about {link} - Google's effort to allow users to have open systems #bettercloud #sxswÛ\n",
      "\n",
      "lemms: talking google effort allow user open system bettercloud sxsw\n",
      "stems: talk googl effort allow user open system bettercloud sxsw\n",
      "\n",
      "original: {link} RT @mention 1st stop on the #SXSW #Chaos &amp; @mention hunt: Austin Java. Get in the spy game 4 a chance 2 win an iPad!\n",
      "\n",
      "lemms: 1st stop sxsw chaos hunt austin java get spy game 4 chance 2 win ipad\n",
      "stems: 1st stop sxsw chao hunt austin java get spi game 4 chanc 2 win ipad\n",
      "\n",
      "original: #OMFG! RT @mention Heard about Apple's pop-up store in downtown Austin? Pics are already on Gowalla: {link} #sxsw #iPad2\n",
      "\n",
      "lemms: omfg heard apple pop store downtown austin pic already gowalla sxsw ipad2\n",
      "stems: omfg heard appl pop store downtown austin pic alreadi gowalla sxsw ipad2\n",
      "\n",
      "original: Again? RT @mention Line at the Apple store is insane.. #sxsw\n",
      "\n",
      "lemms: line apple store insane sxsw\n",
      "stems: line appl store insan sxsw\n",
      "\n",
      "original: attending @mention iPad design headaches #sxsw {link}\n",
      "\n",
      "lemms: attending ipad design headache sxsw\n",
      "stems: attend ipad design headach sxsw\n",
      "\n",
      "original: Boooo! RT @mention Flipboard is developing an iPhone version, not Android, says @mention #sxsw\n",
      "\n",
      "lemms: boooo flipboard developing iphone version android say sxsw\n",
      "stems: boooo flipboard develop iphon version android say sxsw\n",
      "\n",
      "original: Check out @mention @mention &amp; @mention in line for their iPad 2 in Austin. Power to them! #sxswi #SXSW  {link}\n",
      "\n",
      "lemms: check line ipad 2 austin power sxswi sxsw\n",
      "stems: check line ipad 2 austin power sxswi sxsw\n",
      "\n",
      "original: Do it. RT @mention Come party w/ Google tonight at #sxsw! {link} - Bands, food, art, ice cream, nifty interactive maps!\n",
      "\n",
      "lemms: come party w google tonight sxsw band food art ice cream nifty interactive map\n",
      "stems: come parti w googl tonight sxsw band food art ice cream nifti interact map\n",
      "\n",
      "original: Holla! RT @mention At google party. Best ever! Get your butt over here. #sxsw\n",
      "\n",
      "lemms: holla google party best ever get butt sxsw\n",
      "stems: holla googl parti best ever get butt sxsw\n",
      "\n",
      "original: I love my @mention iPhone case from #Sxsw but I can't get my phone out of it #fail\n",
      "\n",
      "lemms: love iphone case sxsw get phone fail\n",
      "stems: love iphon case sxsw get phone fail\n",
      "\n",
      "original: New Post: @mention iPhone app makes it easy to connect on all social networks with people you meet  {link} #sxsw\n",
      "\n",
      "lemms: new post iphone app make easy connect social network people meet sxsw\n",
      "stems: new post iphon app make easi connect social network peopl meet sxsw\n",
      "\n",
      "original: Nice that @mention iPhone app is behaving today. Crashes yesterday were ridiculous. #sxsw\n",
      "\n",
      "lemms: nice iphone app behaving today crash yesterday ridiculous sxsw\n",
      "stems: nice iphon app behav today crash yesterday ridicul sxsw\n",
      "\n",
      "original: Nice!! RT @mention Hey, Apple fans! Get a peek at the space that's slated to be a pop-up #SXSW Apple Store tomorrow: {link}\n",
      "\n",
      "lemms: nice hey apple fan get peek space slated pop sxsw apple store tomorrow\n",
      "stems: nice hey appl fan get peek space slate pop sxsw appl store tomorrow\n",
      "\n",
      "original: one thing @mention is doing so great is get a great, down to earth face to Google as a company - You can only love her #sxsw #sxwsi\n",
      "\n",
      "lemms: one thing great get great earth face google company love sxsw sxwsi\n",
      "stems: one thing great get great earth face googl compani love sxsw sxwsi\n",
      "\n",
      "original: Thanks to @mention for her mention of our new #Speech iPad apps being showcased at the #SXSW Conf. {link} #sxswh #sxsh\n",
      "\n",
      "lemms: thanks mention new speech ipad apps showcased sxsw conf sxswh sxsh\n",
      "stems: thank mention new speech ipad app showcas sxsw conf sxswh sxsh\n",
      "\n",
      "original: What !?!? @mention  #SXSW does not provide iPhone chargers?!?  I've changed my mind about going next year!\n",
      "\n",
      "lemms: sxsw provide iphone charger changed mind going next year\n",
      "stems: sxsw provid iphon charger chang mind go next year\n",
      "\n",
      "original: XMAS!! RT @mention Shiny new @mention @mention @mention apps, a new @garyvee book, pop-up iPad 2 stores... #SXSW is Christmas for nerds.\n",
      "\n",
      "lemms: xmas shiny new apps new book pop ipad 2 store sxsw christmas nerd\n",
      "stems: xma shini new app new book pop ipad 2 store sxsw christma nerd\n",
      "\n",
      "original: Yai!!! RT @mention New #UberSocial for #iPhone now in the App Store includes UberGuide to #SXSW sponsored by (cont) {link}\n",
      "\n",
      "lemms: yai new ubersocial iphone app store includes uberguide sxsw sponsored cont\n",
      "stems: yai new ubersoci iphon app store includ uberguid sxsw sponsor cont\n",
      "\n",
      "original: Fast, Fun &amp; Future: @mention of Google presenting at #sxsw on search, local and mobile\n",
      "\n",
      "lemms: fast fun future google presenting sxsw search local mobile\n",
      "stems: fast fun futur googl present sxsw search local mobil\n",
      "\n",
      "original: Headline: &quot;#iPad 2 is the Must-Have Gadget at #SXSW&quot; Hmm... I could have seen that one coming! {link} #gadget\n",
      "\n",
      "lemms: headline ipad 2 must gadget sxsw hmm could seen one coming gadget\n",
      "stems: headlin ipad 2 must gadget sxsw hmm could seen one come gadget\n",
      "\n",
      "original: Know that &quot;dataviz&quot; translates to &quot;satanic&quot; on an iPhone. I'm just sayin'. #sxsw\n",
      "\n",
      "lemms: know dataviz translates satanic iphone sayin sxsw\n",
      "stems: know dataviz translat satan iphon sayin sxsw\n",
      "\n",
      "original: .@mention &quot;Google launched checkins a month ago.&quot; Check ins are ok, but CHECK OUTS are the future. #sxsw #Bizzy\n",
      "\n",
      "lemms: google launched checkins month ago check in ok check out future sxsw bizzy\n",
      "stems: googl launch checkin month ago check in ok check out futur sxsw bizzi\n",
      "\n",
      "original: ÛÏ@mention &quot;Google before you tweet&quot; is the new &quot;think before you speak.&quot; - Mark Belinsky, #911tweets panel at #SXSW.Û\n",
      "\n",
      "lemms: google tweet new think speak mark belinsky 911tweets panel sxsw\n",
      "stems: googl tweet new think speak mark belinski 911tweet panel sxsw\n",
      "\n",
      "original: Kawasaki: &quot;Not C.S. Lewis level reasoning, but Apple's continued existence is evidence for the existence of God&quot; #bawling #sxsw\n",
      "\n",
      "lemms: kawasaki c lewis level reasoning apple continued existence evidence existence god bawling sxsw\n",
      "stems: kawasaki c lewi level reason appl continu exist evid exist god bawl sxsw\n",
      "\n",
      "original: Kawasaki: &quot;pagemaker saved Apple.&quot; Oh those were the days. #sxsw #jwtatl #enchantment  via @mention\n",
      "\n",
      "lemms: kawasaki pagemaker saved apple oh day sxsw jwtatl enchantment via\n",
      "stems: kawasaki pagemak save appl oh day sxsw jwtatl enchant via\n",
      "\n",
      "original: Spark for #android is up for a #teamandroid award at #SXSW read about it here: {link}\n",
      "\n",
      "lemms: spark android teamandroid award sxsw read\n",
      "stems: spark android teamandroid award sxsw read\n",
      "\n",
      "original: #SXSW and #Apple iPad 2's are great, but thoughts are w/ Japan and APAC regions dealing w/ earthquake &amp; tsunami trauma. #sxswi\n",
      "\n",
      "lemms: sxsw apple ipad 2 great thought w japan apac region dealing w earthquake tsunami trauma sxswi\n",
      "stems: sxsw appl ipad 2 great thought w japan apac region deal w earthquak tsunami trauma sxswi\n",
      "\n",
      "original: At #SXSW, #Apple schools the marketing experts - {link}\n",
      "\n",
      "lemms: sxsw apple school marketing expert\n",
      "stems: sxsw appl school market expert\n",
      "\n",
      "original: Temporary #apple store is def not a tent, it's a powerhouse gym #SXSW  {link}\n",
      "\n",
      "lemms: temporary apple store def tent powerhouse gym sxsw\n",
      "stems: temporari appl store def tent powerhous gym sxsw\n",
      "\n",
      "original: Temporary #Apple store on 6th and Congress for #sxsw, along with 10,000 very happy hipsters.\n",
      "\n",
      "lemms: temporary apple store 6th congress sxsw along 10 000 happy hipster\n",
      "stems: temporari appl store 6th congress sxsw along 10 000 happi hipster\n",
      "\n",
      "original: ÛÏ@mention #Apple wins #SXSW {link} Opening a temporary store in downtown Austin to support #iPad2 launch - That is good.\n",
      "\n",
      "lemms: apple win sxsw opening temporary store downtown austin support ipad2 launch good\n",
      "stems: appl win sxsw open temporari store downtown austin support ipad2 launch good\n",
      "\n",
      "original: #iPad and #Austin are trending today. Have fun at #sxsw all you nerdy nerds!!!\n",
      "\n",
      "lemms: ipad austin trending today fun sxsw nerdy nerd\n",
      "stems: ipad austin trend today fun sxsw nerdi nerd\n",
      "\n",
      "original: Christian #iPad #iPhone devs I want to talk to u at #sxsw or after -maybe we can wk together on cool app! @mention me\n",
      "\n",
      "lemms: christian ipad iphone devs want talk u sxsw maybe wk together cool app\n",
      "stems: christian ipad iphon dev want talk u sxsw mayb wk togeth cool app\n",
      "\n",
      "original: The Apple #iPAD2  has taken #SxSW and #Austin by storm.. {link}  @mention excited to a be a part #mobile\n",
      "\n",
      "lemms: apple ipad2 taken sxsw austin storm excited part mobile\n",
      "stems: appl ipad2 taken sxsw austin storm excit part mobil\n",
      "\n",
      "original: I can haz #iPad2 ifrom #SxSW Gr8 {link}\n",
      "\n",
      "lemms: haz ipad2 ifrom sxsw gr8\n",
      "stems: haz ipad2 ifrom sxsw gr8\n",
      "\n",
      "original: Stacks of #ipad2's waiting to be bought at #sxsw. I got mine, no hassle at all. Apple handled this perfectly {link}\n",
      "\n",
      "lemms: stack ipad2 waiting bought sxsw got mine hassle apple handled perfectly\n",
      "stems: stack ipad2 wait bought sxsw got mine hassl appl handl perfectli\n",
      "\n",
      "original: Does your #SmallBiz need reviews to play on Google Places...We got an App for that..{link}  #seo #sxsw\n",
      "\n",
      "lemms: smallbiz need review play google place got app seo sxsw\n",
      "stems: smallbiz need review play googl place got app seo sxsw\n",
      "\n",
      "original: Take that #SXSW ! RT @mention Major South Korean director gets $130,000 to make a movie entirely with his iPhone. {link}\n",
      "\n",
      "lemms: take sxsw major south korean director get 130 000 make movie entirely iphone\n",
      "stems: take sxsw major south korean director get 130 000 make movi entir iphon\n",
      "\n",
      "original: Beautiful #sxsw (@mention Apple Store, SXSW) [pic]: {link}\n",
      "\n",
      "lemms: beautiful sxsw apple store sxsw pic\n",
      "stems: beauti sxsw appl store sxsw pic\n",
      "\n",
      "original: Must have #SXSW app! RT @mention Lovely review from Forbes for our SXSW iPad app Holler Gram - {link}\n",
      "\n",
      "lemms: must sxsw app lovely review forbes sxsw ipad app holler gram\n",
      "stems: must sxsw app love review forb sxsw ipad app holler gram\n",
      "\n",
      "original: Temporary #sxsw apple store. Apple being sneaky as usual  {link}\n",
      "\n",
      "lemms: temporary sxsw apple store apple sneaky usual\n",
      "stems: temporari sxsw appl store appl sneaki usual\n",
      "\n",
      "original: ÛÏ@mention #sxsw beta testing interactive book for iPad app by Moonbot studios out of Louisiana.  Cool app.Û\n",
      "\n",
      "lemms: sxsw beta testing interactive book ipad app moonbot studio louisiana cool app\n",
      "stems: sxsw beta test interact book ipad app moonbot studio louisiana cool app\n",
      "\n",
      "original: Apple won #SxSW from day one. Seeing a TON of #iPad2\n",
      "\n",
      "lemms: apple sxsw day one seeing ton ipad2\n",
      "stems: appl sxsw day one see ton ipad2\n",
      "\n",
      "original: ÛÏ@mention #sxsw ipad store sold out of everything except 64gig wifi only whiteÛ @mention Did you manage to get yours?\n",
      "\n",
      "lemms: sxsw ipad store sold everything except 64gig wifi white manage get\n",
      "stems: sxsw ipad store sold everyth except 64gig wifi white manag get\n",
      "\n",
      "original: ÛÏ@mention #sxsw ipad store sold out of everything except 64gig wifi only whiteÛ also known as the white jeans configuration.\n",
      "\n",
      "lemms: sxsw ipad store sold everything except 64gig wifi white also known white jean configuration\n",
      "stems: sxsw ipad store sold everyth except 64gig wifi white also known white jean configur\n",
      "\n",
      "original: Offered a #sxsw ipad promo to ninjafinder users and fans who are not here at #sxsw. Sucks to not be here. #sxsw\n",
      "\n",
      "lemms: offered sxsw ipad promo ninjafinder user fan sxsw suck sxsw\n",
      "stems: offer sxsw ipad promo ninjafind user fan sxsw suck sxsw\n",
      "\n",
      "original: #POURsite #SXSW learning about the life-changing impact of the iPad on real people's actual lives - bravo!\n",
      "\n",
      "lemms: poursite sxsw learning life changing impact ipad real people actual life bravo\n",
      "stems: poursit sxsw learn life chang impact ipad real peopl actual live bravo\n",
      "\n",
      "original: @mention  #SXSW LonelyPlanet Austin guide for #iPhone is free for a limited time {link} #lp #travel\n",
      "\n",
      "lemms: sxsw lonelyplanet austin guide iphone free limited time lp travel\n",
      "stems: sxsw lonelyplanet austin guid iphon free limit time lp travel\n",
      "\n",
      "original: The Apple #SXSW store still has iPad 2's and short lines.\n",
      "\n",
      "lemms: apple sxsw store still ipad 2 short line\n",
      "stems: appl sxsw store still ipad 2 short line\n",
      "\n",
      "original: Just left #sxsw tradeshow demo of @mention at the Google Theatre. Ok, I get it. I see why all the presenters here are using it.\n",
      "\n",
      "lemms: left sxsw tradeshow demo google theatre ok get see presenter using\n",
      "stems: left sxsw tradeshow demo googl theatr ok get see present use\n",
      "\n",
      "original: Anyone at #sxsw want to make a quick hundred dollars? New #ipad2 from ad hoc apple store here gets hundred plus cost!\n",
      "\n",
      "lemms: anyone sxsw want make quick hundred dollar new ipad2 ad hoc apple store get hundred plus cost\n",
      "stems: anyon sxsw want make quick hundr dollar new ipad2 ad hoc appl store get hundr plu cost\n",
      "\n",
      "original: Monday at #sxsw: barry diller, new york times, congress lunch, W Hotel party, Google party, six dirty martinis. How mondays should be.\n",
      "\n",
      "lemms: monday sxsw barry diller new york time congress lunch w hotel party google party six dirty martini monday\n",
      "stems: monday sxsw barri diller new york time congress lunch w hotel parti googl parti six dirti martini monday\n",
      "\n",
      "original: Seriously #sxsw? Did you do any testing on the mobile apps? Constant iPad crashes causing lost schedules, and no sync for WP7.\n",
      "\n",
      "lemms: seriously sxsw testing mobile apps constant ipad crash causing lost schedule sync wp7\n",
      "stems: serious sxsw test mobil app constant ipad crash caus lost schedul sync wp7\n",
      "\n",
      "original: Ready for #SXSW?! Here are some iPhone apps 2 make ur blogging easier | {link} #SXSW #SXSWi\n",
      "\n",
      "lemms: ready sxsw iphone apps 2 make ur blogging easier sxsw sxswi\n",
      "stems: readi sxsw iphon app 2 make ur blog easier sxsw sxswi\n",
      "\n",
      "original: ipad2 and #sxsw...a conflagration of doofusness.  {link}\n",
      "\n",
      "lemms: ipad2 sxsw conflagration doofusness\n",
      "stems: ipad2 sxsw conflagr doofus\n",
      "\n",
      "original: attention #sxsw'ers - {link} - rumored pop-up temporary Apple store for all your #sxsw iPad 2 launch needs.\n",
      "\n",
      "lemms: attention sxsw er rumored pop temporary apple store sxsw ipad 2 launch need\n",
      "stems: attent sxsw er rumor pop temporari appl store sxsw ipad 2 launch need\n",
      "\n",
      "original: I went to #sxswi and all I won was this lousy #iPad #sxsw :-) :-) {link}\n",
      "\n",
      "lemms: went sxswi lousy ipad sxsw\n",
      "stems: went sxswi lousi ipad sxsw\n",
      "\n",
      "original: This is a #WINNING picture #android #google #sxsw {link}\n",
      "\n",
      "lemms: winning picture android google sxsw\n",
      "stems: win pictur android googl sxsw\n",
      "\n",
      "original: You spent $1,000+ to come to SXSW. \n",
      "\n",
      "You've already used iPad 1. \n",
      "\n",
      "The wait is a couple city blocks. \n",
      "\n",
      "Why? #ipad2 #SXSW {link}\n",
      "\n",
      "lemms: spent 1 000 come sxsw already used ipad 1 wait couple city block ipad2 sxsw\n",
      "stems: spent 1 000 come sxsw alreadi use ipad 1 wait coupl citi block ipad2 sxsw\n",
      "\n",
      "original: Behind on 100s of emails? Give them all 1 line iPhone composed replies. #SXSW #protip\n",
      "\n",
      "lemms: behind 100 email give 1 line iphone composed reply sxsw protip\n",
      "stems: behind 100 email give 1 line iphon compos repli sxsw protip\n",
      "\n",
      "original: It's like 10pm at night and there is a line around the block at the popup apple stores selling iPad2s. #sxsw\n",
      "\n",
      "lemms: like 10pm night line around block popup apple store selling ipad2s sxsw\n",
      "stems: like 10pm night line around block popup appl store sell ipad2 sxsw\n",
      "\n",
      "original: I'm up to 2 iPad 2s seen in the wild. Both people say it is fast, but the still pics are terrible. #sxsw\n",
      "\n",
      "lemms: 2 ipad 2 seen wild people say fast still pic terrible sxsw\n",
      "stems: 2 ipad 2s seen wild peopl say fast still pic terribl sxsw\n",
      "\n",
      "original: The #iPad 2 Takes Over #SXSW [VIDEO] /by @mention {link}\n",
      "\n",
      "lemms: ipad 2 take sxsw video\n",
      "stems: ipad 2 take sxsw video\n",
      "\n",
      "original: many iPad 2's snapping away at the keynote slides! #sxsw\n",
      "\n",
      "lemms: many ipad 2 snapping away keynote slide sxsw\n",
      "stems: mani ipad 2 snap away keynot slide sxsw\n",
      "\n"
     ]
    }
   ],
   "source": [
    "for i in range(100):\n",
    "    print(f'original: {data[i]}\\n')\n",
    "    print(f'lemms: {clean_lemmas[i]}')\n",
    "    print(f'stems: {clean_stems[i]}\\n')"
   ]
  },
  {
   "cell_type": "markdown",
   "id": "9888fe34-b751-43ab-aea5-8bbe1628a3da",
   "metadata": {},
   "source": [
    "## Frequency Distribution of Cleaned Data"
   ]
  },
  {
   "cell_type": "code",
   "execution_count": 213,
   "id": "7fa1893e-8d8c-4c86-b69b-83c2a37b2a5e",
   "metadata": {},
   "outputs": [],
   "source": [
    "clean_lemma_list = fn.words(clean_lemmas)"
   ]
  },
  {
   "cell_type": "code",
   "execution_count": 214,
   "id": "fc0644d8-ae52-46cc-8de1-dd2280659627",
   "metadata": {},
   "outputs": [
    {
     "name": "stdout",
     "output_type": "stream",
     "text": [
      "<FreqDist with 5388 samples and 38567 outcomes>\n"
     ]
    }
   ],
   "source": [
    "clean_lemma_freqdist = FreqDist(clean_lemma_list)\n",
    "print(clean_lemma_freqdist)"
   ]
  },
  {
   "cell_type": "code",
   "execution_count": 215,
   "id": "70080061-888a-4299-b465-0437d4dd840d",
   "metadata": {},
   "outputs": [
    {
     "data": {
      "image/png": "[encoded data removed]",
      "text/plain": [
       "<Figure size 1152x576 with 1 Axes>"
      ]
     },
     "metadata": {},
     "output_type": "display_data"
    }
   ],
   "source": [
    "plt.figure(figsize=(16,8))\n",
    "clean_lemma_freqdist.plot(30);"
   ]
  },
  {
   "cell_type": "code",
   "execution_count": 216,
   "id": "2d6a84ef-0ff5-4df1-80a1-902103c92a7c",
   "metadata": {},
   "outputs": [],
   "source": [
    "clean_stems_list = fn.words(clean_stems)"
   ]
  },
  {
   "cell_type": "code",
   "execution_count": 217,
   "id": "7a7c6716-a5b3-4169-8ff5-7c1d71f5d5df",
   "metadata": {},
   "outputs": [
    {
     "name": "stdout",
     "output_type": "stream",
     "text": [
      "<FreqDist with 4621 samples and 38567 outcomes>\n"
     ]
    }
   ],
   "source": [
    "clean_stems_freqdist = FreqDist(clean_stems_list)\n",
    "print(clean_stems_freqdist)"
   ]
  },
  {
   "cell_type": "code",
   "execution_count": 219,
   "id": "dc78fd44-a53f-4fb1-9d30-76454bc9e188",
   "metadata": {},
   "outputs": [
    {
     "data": {
      "image/png": "[encoded data removed]",
      "text/plain": [
       "<Figure size 1152x576 with 1 Axes>"
      ]
     },
     "metadata": {},
     "output_type": "display_data"
    }
   ],
   "source": [
    "plt.figure(figsize=(16,8))\n",
    "clean_stems_freqdist.plot(30);"
   ]
  },
  {
   "cell_type": "markdown",
   "id": "e012451f",
   "metadata": {},
   "source": [
    "## Vocabularies"
   ]
  },
  {
   "cell_type": "markdown",
   "id": "d091a8c6",
   "metadata": {},
   "source": [
    "#### Lemmas Vocabulary"
   ]
  },
  {
   "cell_type": "code",
   "execution_count": 119,
   "id": "8676eac3-83fb-4f68-bdb1-dbd7b711efd1",
   "metadata": {},
   "outputs": [],
   "source": [
    "lemma_vocab = fn.vocabulary_set(clean_lemms)"
   ]
  },
  {
   "cell_type": "code",
   "execution_count": 120,
   "id": "0f6dcd10",
   "metadata": {},
   "outputs": [
    {
     "data": {
      "text/plain": [
       "5388"
      ]
     },
     "execution_count": 120,
     "metadata": {},
     "output_type": "execute_result"
    }
   ],
   "source": [
    "# checking number of words\n",
    "len(lemma_vocab)"
   ]
  },
  {
   "cell_type": "code",
   "execution_count": 98,
   "id": "45c9659d",
   "metadata": {
    "scrolled": true,
    "tags": []
   },
   "outputs": [
    {
     "name": "stdout",
     "output_type": "stream",
     "text": [
      "corralling\n",
      "pavement\n",
      "covered\n",
      "four\n",
      "solves\n",
      "dfcbto\n",
      "transparently\n",
      "cunning\n",
      "confusion\n",
      "locker\n",
      "sesh\n",
      "planting\n",
      "ask\n",
      "mega\n",
      "retail\n",
      "toolongforme\n",
      "vestibule\n",
      "lmndst\n",
      "link\n",
      "enable\n",
      "headache\n",
      "installing\n",
      "impediment\n",
      "delivery\n",
      "fuel\n",
      "background\n",
      "plixi\n",
      "pocket\n",
      "jo\n",
      "bc\n",
      "tougher\n",
      "delay\n",
      "pdf\n",
      "lot\n",
      "lobbying\n",
      "serious\n",
      "input\n",
      "rji\n",
      "networking\n",
      "dali\n",
      "wr\n",
      "program\n",
      "basic\n",
      "sixth\n",
      "reclaimed\n",
      "quinn\n",
      "introducing\n",
      "everbody\n",
      "fantastic\n",
      "androidsxsw\n",
      "home\n",
      "winamp\n",
      "ranked\n",
      "introduces\n",
      "denotes\n",
      "making\n",
      "absolute\n",
      "seem\n",
      "surely\n",
      "studying\n",
      "compatible\n",
      "buzzing\n",
      "10x\n",
      "already\n",
      "marker\n",
      "overwhelming\n",
      "17\n",
      "hacker\n",
      "bank\n",
      "banality\n",
      "tunehopper\n",
      "timechange\n",
      "suffering\n",
      "buyer\n",
      "toodamnlucky\n",
      "blackbook\n",
      "flop\n",
      "interviewed\n",
      "actual\n",
      "cup\n",
      "easy\n",
      "avoiding\n",
      "covet\n",
      "someone\n",
      "microsoft\n",
      "ifr3dw\n",
      "twit\n",
      "googlecircles\n",
      "myegc\n",
      "frontend\n",
      "1500\n",
      "mania\n",
      "mover\n",
      "center\n",
      "heaving\n",
      "sxswsmall\n",
      "2\n",
      "visitor\n",
      "battery\n",
      "lousy\n"
     ]
    }
   ],
   "source": [
    "# first 100 words\n",
    "for i, val in enumerate(itertools.islice(lemma_vocab, 100)):\n",
    "    print(val)"
   ]
  },
  {
   "cell_type": "code",
   "execution_count": 99,
   "id": "e34a5b49",
   "metadata": {
    "scrolled": true,
    "tags": []
   },
   "outputs": [
    {
     "name": "stdout",
     "output_type": "stream",
     "text": [
      "visit\n",
      "input\n",
      "simplicity\n",
      "moonshine\n",
      "hm\n",
      "pulling\n",
      "3g\n",
      "crowdbeacon\n",
      "360\n",
      "shite\n",
      "coincides\n",
      "superbia\n",
      "winamp\n",
      "vintage\n",
      "socially\n",
      "passing\n",
      "immobile\n",
      "v1\n",
      "latest\n",
      "hilton\n",
      "born\n",
      "exactly\n",
      "futurecast\n",
      "omgz\n",
      "storm\n",
      "fulltime\n",
      "right\n",
      "mistake\n",
      "npr\n",
      "session\n",
      "margin\n",
      "observer\n",
      "24\n",
      "reward\n",
      "bean\n",
      "prop\n",
      "ridiculous\n",
      "lost\n",
      "politics\n",
      "far\n",
      "issue\n",
      "aicn\n",
      "perfectly\n",
      "asddieu\n",
      "intrvw\n",
      "zap\n",
      "added\n",
      "station\n",
      "advent\n",
      "joke\n",
      "franco\n",
      "bnet\n",
      "earplug\n",
      "vufinders\n",
      "unloaded\n",
      "night\n",
      "acceptable\n",
      "inde\n",
      "united\n",
      "nightjar\n",
      "ridic\n",
      "piece\n",
      "hall\n",
      "fixing\n",
      "login\n",
      "oldsko0l\n",
      "topic\n",
      "ea1zgd\n",
      "resetting\n",
      "downloaded\n",
      "customizable\n",
      "sxswmymistake\n",
      "collab\n",
      "video\n",
      "coder\n",
      "googled\n",
      "sullivan\n",
      "beautifully\n",
      "atm\n",
      "brk\n",
      "310409h2011\n",
      "oil\n",
      "2\n",
      "straw\n",
      "joined\n",
      "boooo\n",
      "mac\n",
      "immersive\n",
      "influence\n",
      "yay\n",
      "wearing\n",
      "amazon\n",
      "starbu\n",
      "leading\n",
      "control\n",
      "waze\n",
      "doc\n",
      "hated\n",
      "accommodate\n",
      "st\n"
     ]
    }
   ],
   "source": [
    "# random 100 words\n",
    "for i, val in enumerate(random.sample(lemma_vocab, 100)):\n",
    "    print(val)"
   ]
  },
  {
   "cell_type": "code",
   "execution_count": 100,
   "id": "8022a4da",
   "metadata": {},
   "outputs": [
    {
     "name": "stdout",
     "output_type": "stream",
     "text": [
      "string is not in data\n",
      "string is in data\n"
     ]
    }
   ],
   "source": [
    "fn.string_checker(lemma_vocab, 'https')\n",
    "fn.string_checker(lemma_vocab, 'madebymany')"
   ]
  },
  {
   "cell_type": "code",
   "execution_count": 145,
   "id": "e5bc968d-e87c-4034-92df-0e03a199d3f7",
   "metadata": {},
   "outputs": [],
   "source": [
    "test_words = ['crowdbeacon', '360', 'shite', 'coincides','superbia']"
   ]
  },
  {
   "cell_type": "code",
   "execution_count": 147,
   "id": "2939ea20-0477-4b77-bbdc-ab07ca8e1d0d",
   "metadata": {},
   "outputs": [
    {
     "name": "stdout",
     "output_type": "stream",
     "text": [
      "string is not in data\n"
     ]
    }
   ],
   "source": [
    "fn.string_checker('360', 'https')"
   ]
  },
  {
   "cell_type": "markdown",
   "id": "eb853d77",
   "metadata": {},
   "source": [
    "#### Stems Vocabulary"
   ]
  },
  {
   "cell_type": "code",
   "execution_count": 101,
   "id": "37939377-f752-4eed-821b-6f7ca0429e7a",
   "metadata": {},
   "outputs": [],
   "source": [
    "stemma_vocab = fn.vocabulary(clean_stems)"
   ]
  },
  {
   "cell_type": "code",
   "execution_count": 102,
   "id": "948dac3c",
   "metadata": {},
   "outputs": [
    {
     "data": {
      "text/plain": [
       "4621"
      ]
     },
     "execution_count": 102,
     "metadata": {},
     "output_type": "execute_result"
    }
   ],
   "source": [
    "# number of words\n",
    "len(stemma_vocab)"
   ]
  },
  {
   "cell_type": "code",
   "execution_count": 103,
   "id": "c093e75d",
   "metadata": {
    "scrolled": true,
    "tags": []
   },
   "outputs": [
    {
     "name": "stdout",
     "output_type": "stream",
     "text": [
      "stellar\n",
      "pose\n",
      "jo\n",
      "hunt\n",
      "clutter\n",
      "vuvuzela\n",
      "ring\n",
      "min\n",
      "emot\n",
      "fastcompanygril\n",
      "horror\n",
      "deck\n",
      "catfight\n",
      "us\n",
      "principl\n",
      "usa\n",
      "notch\n",
      "whiteboard\n",
      "mbp\n",
      "spiltbeer\n",
      "troubl\n",
      "wwsxsw\n",
      "seta\n",
      "2nd\n",
      "grrr\n",
      "critiqu\n",
      "well\n",
      "grow\n",
      "prob\n",
      "ahead\n",
      "2honor\n",
      "panelist\n",
      "circl\n",
      "grindr\n",
      "disneyland\n",
      "ceo\n",
      "wolfram\n",
      "dongl\n",
      "badger\n",
      "classiest\n",
      "11th\n",
      "poo\n",
      "board\n",
      "marissagoogl\n",
      "savvi\n",
      "veryslow\n",
      "reco\n",
      "fist\n",
      "maladi\n",
      "alex\n",
      "cera\n",
      "notic\n",
      "brushstrok\n",
      "mophi\n",
      "mayor\n",
      "nifti\n",
      "prize\n",
      "1415\n",
      "forgot\n",
      "stoke\n",
      "tour\n",
      "seriou\n",
      "revolut\n",
      "media\n",
      "armadillo\n",
      "task\n",
      "puppi\n",
      "outlandish\n",
      "row\n",
      "trench\n",
      "symbol\n",
      "search\n",
      "initi\n",
      "ipod\n",
      "hive\n",
      "mountain\n",
      "al\n",
      "disabl\n",
      "grate\n",
      "simpli\n",
      "dynam\n",
      "therebi\n",
      "mostli\n",
      "cocki\n",
      "dodo\n",
      "lord\n",
      "ihop\n",
      "held\n",
      "formerli\n",
      "smut\n",
      "complement\n",
      "marketplac\n",
      "atx\n",
      "help\n",
      "32gb\n",
      "ear\n",
      "lowest\n",
      "good\n",
      "special\n",
      "need\n"
     ]
    }
   ],
   "source": [
    "# first 100 words\n",
    "for i, val in enumerate(itertools.islice(stemma_vocab, 100)):\n",
    "    print(val)"
   ]
  },
  {
   "cell_type": "code",
   "execution_count": 104,
   "id": "fe874f54",
   "metadata": {
    "scrolled": true,
    "tags": []
   },
   "outputs": [
    {
     "name": "stdout",
     "output_type": "stream",
     "text": [
      "akqa\n",
      "fanboi\n",
      "sync\n",
      "autocorrect\n",
      "damn\n",
      "recommend\n",
      "revel\n",
      "nonprofit\n",
      "newspap\n",
      "dimension\n",
      "boom\n",
      "ship\n",
      "nearli\n",
      "demonstr\n",
      "ubertwitt\n",
      "thumb\n",
      "addit\n",
      "flipboard\n",
      "mdw\n",
      "toolkit\n",
      "hangov\n",
      "twitter\n",
      "cough\n",
      "anyway\n",
      "danni\n",
      "p\n",
      "whole\n",
      "saw\n",
      "papyru\n",
      "kiiiiiill\n",
      "fanboy\n",
      "trench\n",
      "major\n",
      "catfight\n",
      "rout\n",
      "transit\n",
      "padless\n",
      "goin\n",
      "45\n",
      "ia\n",
      "planzai\n",
      "combin\n",
      "updat\n",
      "skyfir\n",
      "lovefresh\n",
      "grill\n",
      "bowl\n",
      "compani\n",
      "korin\n",
      "6\n",
      "miracl\n",
      "ya\n",
      "walkin\n",
      "bulletin\n",
      "lightbulb\n",
      "coordin\n",
      "hl\n",
      "given\n",
      "thirsti\n",
      "smmnextgen\n",
      "mess\n",
      "concertgo\n",
      "imagin\n",
      "wander\n",
      "locker\n",
      "sprint\n",
      "algorithm\n",
      "slate\n",
      "v1\n",
      "1991\n",
      "recognit\n",
      "appleaddict\n",
      "neumann\n",
      "director\n",
      "sxxpress\n",
      "translat\n",
      "allow\n",
      "ridicul\n",
      "qualcomm\n",
      "eatdrinktweet\n",
      "shall\n",
      "conscious\n",
      "pm\n",
      "holla\n",
      "succeed\n",
      "ness\n",
      "produc\n",
      "b4\n",
      "buzz\n",
      "import\n",
      "al\n",
      "cast\n",
      "photoshar\n",
      "cold\n",
      "mayer\n",
      "chronicl\n",
      "reader\n",
      "frood\n",
      "tye\n",
      "partner\n"
     ]
    }
   ],
   "source": [
    "# random 100 words\n",
    "for i, val in enumerate(random.sample(stemma_vocab, 100)):\n",
    "    print(val)"
   ]
  },
  {
   "cell_type": "code",
   "execution_count": 105,
   "id": "5fe216a2",
   "metadata": {},
   "outputs": [
    {
     "name": "stdout",
     "output_type": "stream",
     "text": [
      "string is not in data\n",
      "string is not in data\n"
     ]
    }
   ],
   "source": [
    "fn.string_checker(stemma_vocab, 'https')\n",
    "fn.string_checker(stemma_vocab, 'madebymany')"
   ]
  },
  {
   "cell_type": "markdown",
   "id": "73b9b34b",
   "metadata": {},
   "source": [
    "## Splitting Emotions"
   ]
  },
  {
   "cell_type": "code",
   "execution_count": 106,
   "id": "55b46f94",
   "metadata": {
    "tags": []
   },
   "outputs": [],
   "source": [
    "bin_positive = binary_data[binary_data['emotion']==1]\n",
    "bin_negative = binary_data[binary_data['emotion']==0]"
   ]
  },
  {
   "cell_type": "code",
   "execution_count": 107,
   "id": "aa029729",
   "metadata": {},
   "outputs": [],
   "source": [
    "df_positive = bin_positive['tweet']\n",
    "df_negative = bin_negative['tweet']"
   ]
  },
  {
   "cell_type": "markdown",
   "id": "fd059778-c21c-4c88-9452-ba4eb35c0606",
   "metadata": {},
   "source": [
    "## Emotion Vocabularies"
   ]
  },
  {
   "cell_type": "code",
   "execution_count": 108,
   "id": "dffa10c3",
   "metadata": {},
   "outputs": [
    {
     "data": {
      "text/plain": [
       "4624"
      ]
     },
     "execution_count": 108,
     "metadata": {},
     "output_type": "execute_result"
    }
   ],
   "source": [
    "process_pos = fn.clean_lemms(df_positive)\n",
    "vocab_re_pos = fn.vocabulary(process_pos)\n",
    "len(vocab_re_pos)"
   ]
  },
  {
   "cell_type": "code",
   "execution_count": 109,
   "id": "6bb079ab",
   "metadata": {},
   "outputs": [
    {
     "data": {
      "text/plain": [
       "1920"
      ]
     },
     "execution_count": 109,
     "metadata": {},
     "output_type": "execute_result"
    }
   ],
   "source": [
    "process_neg = fn.clean_lemms(df_negative)\n",
    "vocab_re_neg = fn.vocabulary(process_neg)\n",
    "len(vocab_re_neg)"
   ]
  },
  {
   "cell_type": "code",
   "execution_count": null,
   "id": "17be36a3",
   "metadata": {},
   "outputs": [],
   "source": []
  },
  {
   "cell_type": "code",
   "execution_count": null,
   "id": "36d84a17-dc4b-4187-a453-d1405453b7ad",
   "metadata": {
    "tags": []
   },
   "outputs": [],
   "source": []
  }
 ],
 "metadata": {
  "kernelspec": {
   "display_name": "nlp_project",
   "language": "python",
   "name": "nlp_project"
  },
  "language_info": {
   "codemirror_mode": {
    "name": "ipython",
    "version": 3
   },
   "file_extension": ".py",
   "mimetype": "text/x-python",
   "name": "python",
   "nbconvert_exporter": "python",
   "pygments_lexer": "ipython3",
   "version": "3.8.5"
  }
 },
 "nbformat": 4,
 "nbformat_minor": 5
}
