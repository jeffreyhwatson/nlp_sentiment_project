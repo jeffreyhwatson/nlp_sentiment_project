{
 "cells": [
  {
   "cell_type": "code",
   "execution_count": 1,
   "id": "67ca021e-d54a-4ebe-bc8d-c2ddc4d4171c",
   "metadata": {},
   "outputs": [],
   "source": [
    "%load_ext autoreload\n",
    "%autoreload 2"
   ]
  },
  {
   "cell_type": "markdown",
   "id": "9ed6caf3-cfff-4b57-9e5b-a26c1432e93b",
   "metadata": {},
   "source": [
    "## Importing & Setting Style"
   ]
  },
  {
   "cell_type": "code",
   "execution_count": 2,
   "id": "3020f4c8-a51a-4996-9c0d-566da8377132",
   "metadata": {},
   "outputs": [],
   "source": [
    "# imports\n",
    "import os, sys, string, re, itertools, random\n",
    "\n",
    "# setting project path\n",
    "gparent = os.path.join(os.pardir, os.pardir)\n",
    "sys.path.append(gparent)\n",
    "\n",
    "import pandas as pd\n",
    "import numpy as np\n",
    "\n",
    "import nltk\n",
    "\n",
    "from nltk.probability import FreqDist\n",
    "from nltk.corpus import stopwords\n",
    "from nltk.stem import PorterStemmer, WordNetLemmatizer\n",
    "from nltk.tokenize import RegexpTokenizer\n",
    "\n",
    "# # updates for nltk helper packages\n",
    "# nltk.download('stopwords')\n",
    "# nltk.download('punkt')\n",
    "# nltk.download('wordnet')\n",
    "\n",
    "import matplotlib.pyplot as plt\n",
    "from matplotlib import cm\n",
    "import seaborn as sns\n",
    "%matplotlib inline\n",
    "\n",
    "from src import visualizations as vz\n",
    "from src import functions as fn\n",
    "\n",
    "# setting style\n",
    "sns.set_theme('talk')\n",
    "plt.style.use('fivethirtyeight')\n",
    "sns.set_palette(palette='Blues_r')\n",
    "pd.options.display.max_rows = 300"
   ]
  },
  {
   "cell_type": "markdown",
   "id": "bee933f1-a477-4b47-bff6-702e87f44e93",
   "metadata": {},
   "source": [
    "## Sanity Check"
   ]
  },
  {
   "cell_type": "code",
   "execution_count": 3,
   "id": "1f9f66eb-6c03-4f42-a4e1-7a1d5c355957",
   "metadata": {},
   "outputs": [
    {
     "name": "stdout",
     "output_type": "stream",
     "text": [
      "/Users/dsbox/Documents/Flatiron/p_4_project/nlp_sentiment_project/notebooks/exploratory\n"
     ]
    }
   ],
   "source": [
    "!pwd"
   ]
  },
  {
   "cell_type": "markdown",
   "id": "3d1a2f23-a9ac-4253-9be3-8a02bab38a4b",
   "metadata": {},
   "source": [
    "## Importing Data & Checking Info"
   ]
  },
  {
   "cell_type": "code",
   "execution_count": 4,
   "id": "5342f9d5-22e9-4e7e-9ee8-40d0280c5b8b",
   "metadata": {},
   "outputs": [
    {
     "data": {
      "text/html": [
       "<div>\n",
       "<style scoped>\n",
       "    .dataframe tbody tr th:only-of-type {\n",
       "        vertical-align: middle;\n",
       "    }\n",
       "\n",
       "    .dataframe tbody tr th {\n",
       "        vertical-align: top;\n",
       "    }\n",
       "\n",
       "    .dataframe thead th {\n",
       "        text-align: right;\n",
       "    }\n",
       "</style>\n",
       "<table border=\"1\" class=\"dataframe\">\n",
       "  <thead>\n",
       "    <tr style=\"text-align: right;\">\n",
       "      <th></th>\n",
       "      <th>tweet_text</th>\n",
       "      <th>emotion_in_tweet_is_directed_at</th>\n",
       "      <th>is_there_an_emotion_directed_at_a_brand_or_product</th>\n",
       "    </tr>\n",
       "  </thead>\n",
       "  <tbody>\n",
       "    <tr>\n",
       "      <th>0</th>\n",
       "      <td>.@wesley83 I have a 3G iPhone. After 3 hrs twe...</td>\n",
       "      <td>iPhone</td>\n",
       "      <td>Negative emotion</td>\n",
       "    </tr>\n",
       "    <tr>\n",
       "      <th>1</th>\n",
       "      <td>@jessedee Know about @fludapp ? Awesome iPad/i...</td>\n",
       "      <td>iPad or iPhone App</td>\n",
       "      <td>Positive emotion</td>\n",
       "    </tr>\n",
       "    <tr>\n",
       "      <th>2</th>\n",
       "      <td>@swonderlin Can not wait for #iPad 2 also. The...</td>\n",
       "      <td>iPad</td>\n",
       "      <td>Positive emotion</td>\n",
       "    </tr>\n",
       "    <tr>\n",
       "      <th>3</th>\n",
       "      <td>@sxsw I hope this year's festival isn't as cra...</td>\n",
       "      <td>iPad or iPhone App</td>\n",
       "      <td>Negative emotion</td>\n",
       "    </tr>\n",
       "    <tr>\n",
       "      <th>4</th>\n",
       "      <td>@sxtxstate great stuff on Fri #SXSW: Marissa M...</td>\n",
       "      <td>Google</td>\n",
       "      <td>Positive emotion</td>\n",
       "    </tr>\n",
       "  </tbody>\n",
       "</table>\n",
       "</div>"
      ],
      "text/plain": [
       "                                          tweet_text  \\\n",
       "0  .@wesley83 I have a 3G iPhone. After 3 hrs twe...   \n",
       "1  @jessedee Know about @fludapp ? Awesome iPad/i...   \n",
       "2  @swonderlin Can not wait for #iPad 2 also. The...   \n",
       "3  @sxsw I hope this year's festival isn't as cra...   \n",
       "4  @sxtxstate great stuff on Fri #SXSW: Marissa M...   \n",
       "\n",
       "  emotion_in_tweet_is_directed_at  \\\n",
       "0                          iPhone   \n",
       "1              iPad or iPhone App   \n",
       "2                            iPad   \n",
       "3              iPad or iPhone App   \n",
       "4                          Google   \n",
       "\n",
       "  is_there_an_emotion_directed_at_a_brand_or_product  \n",
       "0                                   Negative emotion  \n",
       "1                                   Positive emotion  \n",
       "2                                   Positive emotion  \n",
       "3                                   Negative emotion  \n",
       "4                                   Positive emotion  "
      ]
     },
     "execution_count": 4,
     "metadata": {},
     "output_type": "execute_result"
    }
   ],
   "source": [
    "path = path = os.path.join(gparent, 'data/raw',\\\n",
    "                           'judge-1377884607_tweet_product_company.csv')\n",
    "df = pd.read_csv(path, encoding='unicode_escape')\n",
    "df.head()"
   ]
  },
  {
   "cell_type": "code",
   "execution_count": 5,
   "id": "ac986cde-7c52-4fd0-99ef-3f62a0c4c87a",
   "metadata": {},
   "outputs": [
    {
     "name": "stdout",
     "output_type": "stream",
     "text": [
      "<class 'pandas.core.frame.DataFrame'>\n",
      "RangeIndex: 9093 entries, 0 to 9092\n",
      "Data columns (total 3 columns):\n",
      " #   Column                                              Non-Null Count  Dtype \n",
      "---  ------                                              --------------  ----- \n",
      " 0   tweet_text                                          9092 non-null   object\n",
      " 1   emotion_in_tweet_is_directed_at                     3291 non-null   object\n",
      " 2   is_there_an_emotion_directed_at_a_brand_or_product  9093 non-null   object\n",
      "dtypes: object(3)\n",
      "memory usage: 213.2+ KB\n"
     ]
    }
   ],
   "source": [
    "df.info()"
   ]
  },
  {
   "cell_type": "markdown",
   "id": "bdcaab23-4313-4243-aa98-3d6ed34b63bf",
   "metadata": {},
   "source": [
    "## Checking Null Tweet"
   ]
  },
  {
   "cell_type": "code",
   "execution_count": 6,
   "id": "a3761369-be58-40e6-aed1-ffca9ca1d5f1",
   "metadata": {},
   "outputs": [
    {
     "data": {
      "text/html": [
       "<div>\n",
       "<style scoped>\n",
       "    .dataframe tbody tr th:only-of-type {\n",
       "        vertical-align: middle;\n",
       "    }\n",
       "\n",
       "    .dataframe tbody tr th {\n",
       "        vertical-align: top;\n",
       "    }\n",
       "\n",
       "    .dataframe thead th {\n",
       "        text-align: right;\n",
       "    }\n",
       "</style>\n",
       "<table border=\"1\" class=\"dataframe\">\n",
       "  <thead>\n",
       "    <tr style=\"text-align: right;\">\n",
       "      <th></th>\n",
       "      <th>tweet_text</th>\n",
       "      <th>emotion_in_tweet_is_directed_at</th>\n",
       "      <th>is_there_an_emotion_directed_at_a_brand_or_product</th>\n",
       "    </tr>\n",
       "  </thead>\n",
       "  <tbody>\n",
       "    <tr>\n",
       "      <th>6</th>\n",
       "      <td>NaN</td>\n",
       "      <td>NaN</td>\n",
       "      <td>No emotion toward brand or product</td>\n",
       "    </tr>\n",
       "  </tbody>\n",
       "</table>\n",
       "</div>"
      ],
      "text/plain": [
       "  tweet_text emotion_in_tweet_is_directed_at  \\\n",
       "6        NaN                             NaN   \n",
       "\n",
       "  is_there_an_emotion_directed_at_a_brand_or_product  \n",
       "6                 No emotion toward brand or product  "
      ]
     },
     "execution_count": 6,
     "metadata": {},
     "output_type": "execute_result"
    }
   ],
   "source": [
    "df[df['tweet_text'].isnull()]"
   ]
  },
  {
   "cell_type": "markdown",
   "id": "0c89e9ce-9314-4279-9de8-49320bbbfb1d",
   "metadata": {},
   "source": [
    "## Dropping Null Tweet"
   ]
  },
  {
   "cell_type": "code",
   "execution_count": 7,
   "id": "16d7ab1b-0742-4645-acc4-e537845bafc3",
   "metadata": {},
   "outputs": [],
   "source": [
    "df.drop(6, axis=0, inplace=True)\n",
    "df.reset_index(drop=True, inplace=True)"
   ]
  },
  {
   "cell_type": "code",
   "execution_count": 8,
   "id": "b5f8325b-c404-4eaa-a2e1-4cab5525646f",
   "metadata": {},
   "outputs": [
    {
     "name": "stdout",
     "output_type": "stream",
     "text": [
      "<class 'pandas.core.frame.DataFrame'>\n",
      "RangeIndex: 9092 entries, 0 to 9091\n",
      "Data columns (total 3 columns):\n",
      " #   Column                                              Non-Null Count  Dtype \n",
      "---  ------                                              --------------  ----- \n",
      " 0   tweet_text                                          9092 non-null   object\n",
      " 1   emotion_in_tweet_is_directed_at                     3291 non-null   object\n",
      " 2   is_there_an_emotion_directed_at_a_brand_or_product  9092 non-null   object\n",
      "dtypes: object(3)\n",
      "memory usage: 213.2+ KB\n"
     ]
    }
   ],
   "source": [
    "df.info()"
   ]
  },
  {
   "cell_type": "markdown",
   "id": "e0996e82-c16c-48ee-a858-1edf6886c07c",
   "metadata": {},
   "source": [
    "## Renaming Columns\n",
    "The original names are a bit unwieldy."
   ]
  },
  {
   "cell_type": "code",
   "execution_count": 9,
   "id": "fa44960a-3a20-4c85-96b5-ab640e9c6e51",
   "metadata": {},
   "outputs": [
    {
     "data": {
      "text/html": [
       "<div>\n",
       "<style scoped>\n",
       "    .dataframe tbody tr th:only-of-type {\n",
       "        vertical-align: middle;\n",
       "    }\n",
       "\n",
       "    .dataframe tbody tr th {\n",
       "        vertical-align: top;\n",
       "    }\n",
       "\n",
       "    .dataframe thead th {\n",
       "        text-align: right;\n",
       "    }\n",
       "</style>\n",
       "<table border=\"1\" class=\"dataframe\">\n",
       "  <thead>\n",
       "    <tr style=\"text-align: right;\">\n",
       "      <th></th>\n",
       "      <th>tweet</th>\n",
       "      <th>brand_product</th>\n",
       "      <th>emotion</th>\n",
       "    </tr>\n",
       "  </thead>\n",
       "  <tbody>\n",
       "    <tr>\n",
       "      <th>0</th>\n",
       "      <td>.@wesley83 I have a 3G iPhone. After 3 hrs twe...</td>\n",
       "      <td>iPhone</td>\n",
       "      <td>Negative emotion</td>\n",
       "    </tr>\n",
       "    <tr>\n",
       "      <th>1</th>\n",
       "      <td>@jessedee Know about @fludapp ? Awesome iPad/i...</td>\n",
       "      <td>iPad or iPhone App</td>\n",
       "      <td>Positive emotion</td>\n",
       "    </tr>\n",
       "    <tr>\n",
       "      <th>2</th>\n",
       "      <td>@swonderlin Can not wait for #iPad 2 also. The...</td>\n",
       "      <td>iPad</td>\n",
       "      <td>Positive emotion</td>\n",
       "    </tr>\n",
       "    <tr>\n",
       "      <th>3</th>\n",
       "      <td>@sxsw I hope this year's festival isn't as cra...</td>\n",
       "      <td>iPad or iPhone App</td>\n",
       "      <td>Negative emotion</td>\n",
       "    </tr>\n",
       "    <tr>\n",
       "      <th>4</th>\n",
       "      <td>@sxtxstate great stuff on Fri #SXSW: Marissa M...</td>\n",
       "      <td>Google</td>\n",
       "      <td>Positive emotion</td>\n",
       "    </tr>\n",
       "  </tbody>\n",
       "</table>\n",
       "</div>"
      ],
      "text/plain": [
       "                                               tweet       brand_product  \\\n",
       "0  .@wesley83 I have a 3G iPhone. After 3 hrs twe...              iPhone   \n",
       "1  @jessedee Know about @fludapp ? Awesome iPad/i...  iPad or iPhone App   \n",
       "2  @swonderlin Can not wait for #iPad 2 also. The...                iPad   \n",
       "3  @sxsw I hope this year's festival isn't as cra...  iPad or iPhone App   \n",
       "4  @sxtxstate great stuff on Fri #SXSW: Marissa M...              Google   \n",
       "\n",
       "            emotion  \n",
       "0  Negative emotion  \n",
       "1  Positive emotion  \n",
       "2  Positive emotion  \n",
       "3  Negative emotion  \n",
       "4  Positive emotion  "
      ]
     },
     "execution_count": 9,
     "metadata": {},
     "output_type": "execute_result"
    }
   ],
   "source": [
    "rename_dict = {'tweet_text': 'tweet', \n",
    "               'emotion_in_tweet_is_directed_at': 'brand_product', \n",
    "               'is_there_an_emotion_directed_at_a_brand_or_product': 'emotion' }\n",
    "df.rename(columns=rename_dict, inplace=True)\n",
    "df.head()"
   ]
  },
  {
   "cell_type": "markdown",
   "id": "beca53ac-3597-4b78-9eed-461e416a7f6b",
   "metadata": {},
   "source": [
    "## Checking Brand/Product Unique Values"
   ]
  },
  {
   "cell_type": "code",
   "execution_count": 10,
   "id": "8efe4201-eacc-4988-b8d9-6df43000c0ca",
   "metadata": {},
   "outputs": [
    {
     "data": {
      "text/plain": [
       "array(['iPhone', 'iPad or iPhone App', 'iPad', 'Google', nan, 'Android',\n",
       "       'Apple', 'Android App', 'Other Google product or service',\n",
       "       'Other Apple product or service'], dtype=object)"
      ]
     },
     "execution_count": 10,
     "metadata": {},
     "output_type": "execute_result"
    }
   ],
   "source": [
    "df.brand_product.unique()"
   ]
  },
  {
   "cell_type": "code",
   "execution_count": 11,
   "id": "e7fc4bfb-8c32-4270-9a9a-1264a424ee6d",
   "metadata": {},
   "outputs": [
    {
     "data": {
      "image/png": "[encoded data removed]",
      "text/plain": [
       "<Figure size 1440x576 with 1 Axes>"
      ]
     },
     "metadata": {},
     "output_type": "display_data"
    }
   ],
   "source": [
    "vz.brand_counts(df)"
   ]
  },
  {
   "cell_type": "code",
   "execution_count": 12,
   "id": "11e9cb8b-c66e-41f3-9015-44128f6514b3",
   "metadata": {},
   "outputs": [
    {
     "data": {
      "text/plain": [
       "iPad                               946\n",
       "Apple                              661\n",
       "iPad or iPhone App                 470\n",
       "Google                             430\n",
       "iPhone                             297\n",
       "Other Google product or service    293\n",
       "Android App                         81\n",
       "Android                             78\n",
       "Other Apple product or service      35\n",
       "Name: brand_product, dtype: int64"
      ]
     },
     "execution_count": 12,
     "metadata": {},
     "output_type": "execute_result"
    }
   ],
   "source": [
    "df.brand_product.value_counts()"
   ]
  },
  {
   "cell_type": "code",
   "execution_count": 13,
   "id": "2dea16af-9c2a-49eb-ae65-32152435353e",
   "metadata": {},
   "outputs": [
    {
     "data": {
      "text/plain": [
       "5801"
      ]
     },
     "execution_count": 13,
     "metadata": {},
     "output_type": "execute_result"
    }
   ],
   "source": [
    "df.brand_product.isna().sum()"
   ]
  },
  {
   "cell_type": "markdown",
   "id": "41fe3f65-2ffe-4fe9-b423-14e2d15125bf",
   "metadata": {},
   "source": [
    "## Checking Emotion Unique Values"
   ]
  },
  {
   "cell_type": "code",
   "execution_count": 14,
   "id": "2eb5e92a-6263-439c-8dc0-dc4f1eb664c4",
   "metadata": {},
   "outputs": [
    {
     "data": {
      "text/plain": [
       "array(['Negative emotion', 'Positive emotion',\n",
       "       'No emotion toward brand or product', \"I can't tell\"], dtype=object)"
      ]
     },
     "execution_count": 14,
     "metadata": {},
     "output_type": "execute_result"
    }
   ],
   "source": [
    "df.emotion.unique()"
   ]
  },
  {
   "cell_type": "code",
   "execution_count": 15,
   "id": "cc82154e-11e8-4749-9f71-713f8b5002f9",
   "metadata": {},
   "outputs": [
    {
     "data": {
      "image/png": "[encoded data removed]",
      "text/plain": [
       "<Figure size 1440x576 with 1 Axes>"
      ]
     },
     "metadata": {},
     "output_type": "display_data"
    }
   ],
   "source": [
    "vz.emotion_counts(df)"
   ]
  },
  {
   "cell_type": "code",
   "execution_count": 16,
   "id": "c41234c2-8847-4f4a-b60d-d7955978a533",
   "metadata": {},
   "outputs": [
    {
     "data": {
      "text/plain": [
       "No emotion toward brand or product    5388\n",
       "Positive emotion                      2978\n",
       "Negative emotion                       570\n",
       "I can't tell                           156\n",
       "Name: emotion, dtype: int64"
      ]
     },
     "execution_count": 16,
     "metadata": {},
     "output_type": "execute_result"
    }
   ],
   "source": [
    "df.emotion.value_counts()"
   ]
  },
  {
   "cell_type": "markdown",
   "id": "373f3a71-40f9-478b-9063-d9f7266beb81",
   "metadata": {},
   "source": [
    "## Checking Null Brands Data"
   ]
  },
  {
   "cell_type": "code",
   "execution_count": 17,
   "id": "788da5f0-f175-4048-8bdd-c542499d4fbb",
   "metadata": {},
   "outputs": [],
   "source": [
    "null_brand_emotions = df[(df['brand_product'].isna()) &\\\n",
    "                        (df['emotion'] != 'No emotion toward brand or product')]"
   ]
  },
  {
   "cell_type": "code",
   "execution_count": 18,
   "id": "36089b56-61ab-43a8-934b-cecef7708fcb",
   "metadata": {},
   "outputs": [
    {
     "data": {
      "text/html": [
       "<div>\n",
       "<style scoped>\n",
       "    .dataframe tbody tr th:only-of-type {\n",
       "        vertical-align: middle;\n",
       "    }\n",
       "\n",
       "    .dataframe tbody tr th {\n",
       "        vertical-align: top;\n",
       "    }\n",
       "\n",
       "    .dataframe thead th {\n",
       "        text-align: right;\n",
       "    }\n",
       "</style>\n",
       "<table border=\"1\" class=\"dataframe\">\n",
       "  <thead>\n",
       "    <tr style=\"text-align: right;\">\n",
       "      <th></th>\n",
       "      <th>tweet</th>\n",
       "      <th>brand_product</th>\n",
       "      <th>emotion</th>\n",
       "    </tr>\n",
       "  </thead>\n",
       "  <tbody>\n",
       "    <tr>\n",
       "      <th>45</th>\n",
       "      <td>Hand-Held Û÷HoboÛª: Drafthouse launches Û÷H...</td>\n",
       "      <td>NaN</td>\n",
       "      <td>Positive emotion</td>\n",
       "    </tr>\n",
       "    <tr>\n",
       "      <th>63</th>\n",
       "      <td>Again? RT @mention Line at the Apple store is ...</td>\n",
       "      <td>NaN</td>\n",
       "      <td>Negative emotion</td>\n",
       "    </tr>\n",
       "    <tr>\n",
       "      <th>67</th>\n",
       "      <td>Boooo! RT @mention Flipboard is developing an ...</td>\n",
       "      <td>NaN</td>\n",
       "      <td>Negative emotion</td>\n",
       "    </tr>\n",
       "    <tr>\n",
       "      <th>89</th>\n",
       "      <td>Thanks to @mention for publishing the news of ...</td>\n",
       "      <td>NaN</td>\n",
       "      <td>I can't tell</td>\n",
       "    </tr>\n",
       "    <tr>\n",
       "      <th>101</th>\n",
       "      <td>ÛÏ@mention &amp;quot;Apple has opened a pop-up st...</td>\n",
       "      <td>NaN</td>\n",
       "      <td>I can't tell</td>\n",
       "    </tr>\n",
       "  </tbody>\n",
       "</table>\n",
       "</div>"
      ],
      "text/plain": [
       "                                                 tweet brand_product  \\\n",
       "45   Hand-Held Û÷HoboÛª: Drafthouse launches Û÷H...           NaN   \n",
       "63   Again? RT @mention Line at the Apple store is ...           NaN   \n",
       "67   Boooo! RT @mention Flipboard is developing an ...           NaN   \n",
       "89   Thanks to @mention for publishing the news of ...           NaN   \n",
       "101  ÛÏ@mention &quot;Apple has opened a pop-up st...           NaN   \n",
       "\n",
       "              emotion  \n",
       "45   Positive emotion  \n",
       "63   Negative emotion  \n",
       "67   Negative emotion  \n",
       "89       I can't tell  \n",
       "101      I can't tell  "
      ]
     },
     "execution_count": 18,
     "metadata": {},
     "output_type": "execute_result"
    }
   ],
   "source": [
    "null_brand_emotions.head()"
   ]
  },
  {
   "cell_type": "code",
   "execution_count": 19,
   "id": "b03f0c06-8a55-4e4b-88c9-7d3aeb75d6ba",
   "metadata": {
    "tags": []
   },
   "outputs": [
    {
     "name": "stdout",
     "output_type": "stream",
     "text": [
      "Hand-Held Û÷HoboÛª: Drafthouse launches Û÷Hobo With a ShotgunÛª iPhone app #SXSW {link}\n"
     ]
    }
   ],
   "source": [
    "print(null_brand_emotions.tweet[45])"
   ]
  },
  {
   "cell_type": "code",
   "execution_count": 20,
   "id": "6baddcca-0fbd-4bc2-b3f2-a896ebac0fc8",
   "metadata": {},
   "outputs": [
    {
     "name": "stdout",
     "output_type": "stream",
     "text": [
      "Again? RT @mention Line at the Apple store is insane.. #sxsw\n"
     ]
    }
   ],
   "source": [
    "print(null_brand_emotions.tweet[63])"
   ]
  },
  {
   "cell_type": "code",
   "execution_count": 21,
   "id": "056ac36d-fb2f-43db-8d61-6a01e87afd18",
   "metadata": {},
   "outputs": [
    {
     "name": "stdout",
     "output_type": "stream",
     "text": [
      "Boooo! RT @mention Flipboard is developing an iPhone version, not Android, says @mention #sxsw\n"
     ]
    }
   ],
   "source": [
    "print(null_brand_emotions.tweet[67])"
   ]
  },
  {
   "cell_type": "code",
   "execution_count": 22,
   "id": "5bfdf246-9dcc-41d2-93dd-8db606b48e94",
   "metadata": {},
   "outputs": [
    {
     "name": "stdout",
     "output_type": "stream",
     "text": [
      "<class 'pandas.core.frame.DataFrame'>\n",
      "Int64Index: 504 entries, 45 to 9057\n",
      "Data columns (total 3 columns):\n",
      " #   Column         Non-Null Count  Dtype \n",
      "---  ------         --------------  ----- \n",
      " 0   tweet          504 non-null    object\n",
      " 1   brand_product  0 non-null      object\n",
      " 2   emotion        504 non-null    object\n",
      "dtypes: object(3)\n",
      "memory usage: 35.8+ KB\n"
     ]
    }
   ],
   "source": [
    "null_brand_emotions.info()"
   ]
  },
  {
   "cell_type": "code",
   "execution_count": 23,
   "id": "3256b4ff-abdd-4d47-add4-7685a335561a",
   "metadata": {},
   "outputs": [
    {
     "data": {
      "image/png": "[encoded data removed]",
      "text/plain": [
       "<Figure size 1440x576 with 1 Axes>"
      ]
     },
     "metadata": {},
     "output_type": "display_data"
    }
   ],
   "source": [
    "vz.null_brand_emotions(df)"
   ]
  },
  {
   "cell_type": "markdown",
   "id": "f3fc981a-0238-42b7-8206-9a814ac7efaf",
   "metadata": {},
   "source": [
    "## Setting `data` & `target`"
   ]
  },
  {
   "cell_type": "code",
   "execution_count": 24,
   "id": "4c743ee7-6a72-44c4-ae1b-eeefdfc862bf",
   "metadata": {},
   "outputs": [
    {
     "data": {
      "text/plain": [
       "tweet               0\n",
       "brand_product    5801\n",
       "emotion             0\n",
       "dtype: int64"
      ]
     },
     "execution_count": 24,
     "metadata": {},
     "output_type": "execute_result"
    }
   ],
   "source": [
    "df.isna().sum()"
   ]
  },
  {
   "cell_type": "code",
   "execution_count": 25,
   "id": "9a19d5da-76ea-4a83-8641-196bb017b2ef",
   "metadata": {},
   "outputs": [
    {
     "data": {
      "text/plain": [
       "'.@wesley83 I have a 3G iPhone. After 3 hrs tweeting at #RISE_Austin, it was dead!  I need to upgrade. Plugin stations at #SXSW.'"
      ]
     },
     "execution_count": 25,
     "metadata": {},
     "output_type": "execute_result"
    }
   ],
   "source": [
    "df.tweet[0]"
   ]
  },
  {
   "cell_type": "code",
   "execution_count": 26,
   "id": "6bab1c16-aabb-4113-8c22-3f5996eb41ea",
   "metadata": {},
   "outputs": [],
   "source": [
    "data = df['tweet']\n",
    "target = df['emotion']"
   ]
  },
  {
   "cell_type": "code",
   "execution_count": 27,
   "id": "8bd33761-670f-4412-a3ac-58ed95f11e8c",
   "metadata": {},
   "outputs": [
    {
     "data": {
      "text/plain": [
       "0"
      ]
     },
     "execution_count": 27,
     "metadata": {},
     "output_type": "execute_result"
    }
   ],
   "source": [
    "data.isna().sum()"
   ]
  },
  {
   "cell_type": "code",
   "execution_count": 28,
   "id": "806d4850-9381-4991-86c8-f9bcfa0b5057",
   "metadata": {},
   "outputs": [
    {
     "data": {
      "text/plain": [
       "9092"
      ]
     },
     "execution_count": 28,
     "metadata": {},
     "output_type": "execute_result"
    }
   ],
   "source": [
    "len(data)"
   ]
  },
  {
   "cell_type": "code",
   "execution_count": 29,
   "id": "590d79df-ccb2-4034-8eab-b70aa4a408ec",
   "metadata": {},
   "outputs": [
    {
     "data": {
      "text/plain": [
       "True"
      ]
     },
     "execution_count": 29,
     "metadata": {},
     "output_type": "execute_result"
    }
   ],
   "source": [
    "len(data) == len(target)"
   ]
  },
  {
   "cell_type": "markdown",
   "id": "b132e230-ccf3-4552-a965-25faa50b68cb",
   "metadata": {},
   "source": [
    "## Testing Tokenizations"
   ]
  },
  {
   "cell_type": "markdown",
   "id": "5405ba72-216d-4670-8f1f-83780438dd60",
   "metadata": {},
   "source": [
    "### Strategy: (stopwords, string.punctuation)"
   ]
  },
  {
   "cell_type": "code",
   "execution_count": 30,
   "id": "63dbadb7-2402-4abc-af1f-337afcdf529e",
   "metadata": {},
   "outputs": [],
   "source": [
    "# removing stopwords & punx\n",
    "processed_data = list(map(fn.tweet_tokens, data))\n",
    "\n",
    "# making vocab set\n",
    "vocabulary = fn.vocabulary(processed_data)"
   ]
  },
  {
   "cell_type": "markdown",
   "id": "11238b65-b5c2-40cd-b78b-45025101340a",
   "metadata": {},
   "source": [
    "#### Checking Out Our Vocab"
   ]
  },
  {
   "cell_type": "code",
   "execution_count": 31,
   "id": "29212c2f-66c5-44e5-a6b8-a98bff0b5ec0",
   "metadata": {},
   "outputs": [
    {
     "data": {
      "text/plain": [
       "10533"
      ]
     },
     "execution_count": 31,
     "metadata": {},
     "output_type": "execute_result"
    }
   ],
   "source": [
    "# checking number of words\n",
    "len(vocabulary)"
   ]
  },
  {
   "cell_type": "code",
   "execution_count": 32,
   "id": "ddc70bd2-1996-45a3-805e-69ed6a41049f",
   "metadata": {
    "scrolled": true,
    "tags": []
   },
   "outputs": [
    {
     "name": "stdout",
     "output_type": "stream",
     "text": [
      "cheers\n",
      "evangelist\n",
      "ofåêhere\n",
      "shrink\n",
      "donuts\n",
      "weasel\n",
      "lovers\n",
      "halfway\n",
      "marissamayer\n",
      "ws\n",
      "rare\n",
      "textbook\n",
      "hits\n",
      "re-shoot\n",
      "prototype\n",
      "comparison\n",
      "html5\n",
      "evil\n",
      "opinion\n",
      "omgz\n",
      "elegant\n",
      "chevysxsw\n",
      "direction\n",
      "existent\n",
      "former\n",
      "notepad\n",
      "guards\n",
      "ghost\n",
      "-ness\n",
      "jesus\n",
      "schooling\n",
      "billboard\n",
      "high-five\n",
      "soooooo\n",
      "bottom\n",
      "2.û\n",
      "sxsw-google\n",
      "providers\n",
      "mophie\n",
      "howard\n",
      "assisted.\n",
      "appolicious\n",
      "gaming\n",
      "loko\n",
      "metaphors\n",
      "offchain\n",
      "irelay\n",
      "hating\n",
      "favorited\n",
      "lovin\n",
      "easeljs\n",
      "sony\n",
      "scott\n",
      "hoodies\n",
      "yep\n",
      "recommendation\n",
      "cartridge\n",
      "picplz\n",
      "sun\n",
      "whiteboard\n",
      "barging\n",
      "perhaps\n",
      "revolutionary\n",
      "value\n",
      "displaying\n",
      "execs\n",
      "torturous\n",
      "curve\n",
      "timberlake\n",
      "gasps\n",
      "aaron\n",
      "dfw\n",
      "x\n",
      "letters\n",
      "attracting\n",
      "augcomm\n",
      "banking\n",
      "noteshelf\n",
      "mom/ipad\n",
      "circle.\n",
      "scenes\n",
      "extend\n",
      "concentrate\n",
      "atl\n",
      "androidsxsw\n",
      "cartel\n",
      "ubersoc\n",
      "wordpress\n",
      "volt\n",
      "felix\n",
      "12:30pm\n",
      "symphony\n",
      "co-workers\n",
      "askd\n",
      "drink\n",
      "yowza\n",
      "boots\n",
      "applefanatic\n",
      "mustachepox\n",
      "latte\n"
     ]
    }
   ],
   "source": [
    "# first 100 words\n",
    "for i, val in enumerate(itertools.islice(vocabulary, 100)):\n",
    "    print(val)"
   ]
  },
  {
   "cell_type": "code",
   "execution_count": 33,
   "id": "62d16d28-bd20-4bbf-a288-5eb7bb383622",
   "metadata": {
    "scrolled": true,
    "tags": []
   },
   "outputs": [
    {
     "name": "stdout",
     "output_type": "stream",
     "text": [
      "signals\n",
      "silicon\n",
      "stocked\n",
      "powerpad\n",
      "nih\n",
      "existence\n",
      "thewildernessdowntown.com\n",
      "earlier\n",
      "skewed\n",
      "plixi.com/p/83323324\n",
      "tipping\n",
      "option\n",
      "contradicting\n",
      "adi\n",
      "fascinated\n",
      "winamp\n",
      "a.m\n",
      "rudy\n",
      "1:1\n",
      "ipadmadness\n",
      "iun\n",
      "consumerist\n",
      "economy.\n",
      "wkend\n",
      "seatmate\n",
      "syncing\n",
      "digital\n",
      "ù_¾´_\n",
      "heartrate\n",
      "schema\n",
      "realizing\n",
      "morning\n",
      "orly\n",
      "portion\n",
      "geosocial\n",
      "sadpanda\n",
      "convience\n",
      "print\n",
      "formation\n",
      "understand\n",
      "succumb\n",
      "ex\n",
      "tsotchke\n",
      "geeksrule\n",
      "approaching\n",
      "til\n",
      "ft\n",
      "impactdashboard\n",
      "owners\n",
      "ill\n",
      "atv\n",
      "fandango\n",
      "retreat\n",
      "correct\n",
      "attendence\n",
      "longhorn\n",
      "smells\n",
      "policy\n",
      "si\n",
      "nasty\n",
      "withdrawal\n",
      "50-60\n",
      "yall\n",
      "75-80\n",
      "alcoholics\n",
      "earbud\n",
      "1/4\n",
      "toy\n",
      "feeding\n",
      "spend\n",
      "designing\n",
      "wolfram\n",
      "personalized\n",
      "nice\n",
      "regularly\n",
      "eod\n",
      "drinking\n",
      "whetherapple\n",
      "laptop+charger\n",
      "disney\n",
      "wifi-only\n",
      "degrading\n",
      "gr2l2\n",
      "tdg\n",
      "fans\n",
      "viewing\n",
      "followed\n",
      "usurped\n",
      "0310apple\n",
      "neck\n",
      "painfully\n",
      "wipe-\n",
      "beat\n",
      "squarespace\n",
      "rhapsody/echo\n",
      "pecan\n",
      "wth\n",
      "topic\n",
      "lobbying\n",
      "here.\n"
     ]
    }
   ],
   "source": [
    "# random 100 words\n",
    "for i, val in enumerate(random.sample(vocabulary, 100)):\n",
    "    print(val)"
   ]
  },
  {
   "cell_type": "markdown",
   "id": "4c3fb0a6-481e-42dc-b955-0a01e6de5cdf",
   "metadata": {},
   "source": [
    "### Strategy: (Regex: r'[a-zA-Z0-9]+')"
   ]
  },
  {
   "cell_type": "code",
   "execution_count": 34,
   "id": "31458e7c-c880-4b43-8af0-2cf24bfb7bf1",
   "metadata": {},
   "outputs": [],
   "source": [
    "# removing stopwords & punx\n",
    "processed_data = list(map(fn.re_tokens, data))\n",
    "\n",
    "vocabulary_re = fn.vocabulary(processed_data)"
   ]
  },
  {
   "cell_type": "markdown",
   "id": "625e5425-46d3-4eae-b679-078dec8e3e8e",
   "metadata": {},
   "source": [
    "#### Checking Out Our Vocab"
   ]
  },
  {
   "cell_type": "code",
   "execution_count": 35,
   "id": "2b4341fd-b3d7-4413-9358-fd65e2e020ef",
   "metadata": {},
   "outputs": [
    {
     "data": {
      "text/plain": [
       "9548"
      ]
     },
     "execution_count": 35,
     "metadata": {},
     "output_type": "execute_result"
    }
   ],
   "source": [
    "# number of words\n",
    "len(vocabulary_re)"
   ]
  },
  {
   "cell_type": "code",
   "execution_count": 36,
   "id": "638948c6-8fba-4f6a-a73a-4c5f2d268cad",
   "metadata": {
    "scrolled": true,
    "tags": []
   },
   "outputs": [
    {
     "name": "stdout",
     "output_type": "stream",
     "text": [
      "cheers\n",
      "evangelist\n",
      "shrink\n",
      "donuts\n",
      "cannot\n",
      "weasel\n",
      "lovers\n",
      "halfway\n",
      "marissamayer\n",
      "ws\n",
      "rare\n",
      "textbook\n",
      "hits\n",
      "prototype\n",
      "comparison\n",
      "html5\n",
      "evil\n",
      "opinion\n",
      "omgz\n",
      "elegant\n",
      "chevysxsw\n",
      "direction\n",
      "existent\n",
      "former\n",
      "notepad\n",
      "guards\n",
      "ghost\n",
      "jesus\n",
      "schooling\n",
      "billboard\n",
      "soooooo\n",
      "bottom\n",
      "providers\n",
      "pper\n",
      "mophie\n",
      "howard\n",
      "appolicious\n",
      "gaming\n",
      "loko\n",
      "metaphors\n",
      "offchain\n",
      "irelay\n",
      "hating\n",
      "favorited\n",
      "lovin\n",
      "easeljs\n",
      "sony\n",
      "scott\n",
      "hoodies\n",
      "yep\n",
      "recommendation\n",
      "cartridge\n",
      "picplz\n",
      "sun\n",
      "whiteboard\n",
      "barging\n",
      "perhaps\n",
      "revolutionary\n",
      "value\n",
      "displaying\n",
      "execs\n",
      "torturous\n",
      "curve\n",
      "timberlake\n",
      "gasps\n",
      "aaron\n",
      "dfw\n",
      "x\n",
      "letters\n",
      "attracting\n",
      "augcomm\n",
      "banking\n",
      "noteshelf\n",
      "scenes\n",
      "extend\n",
      "concentrate\n",
      "atl\n",
      "androidsxsw\n",
      "cartel\n",
      "ubersoc\n",
      "wordpress\n",
      "volt\n",
      "felix\n",
      "symphony\n",
      "askd\n",
      "drink\n",
      "yowza\n",
      "boots\n",
      "applefanatic\n",
      "mustachepox\n",
      "latte\n",
      "n22\n",
      "overcome\n",
      "accessible\n",
      "quake\n",
      "shang\n",
      "workinprogress\n",
      "killers\n",
      "verpixelungsrecht\n",
      "sold\n"
     ]
    }
   ],
   "source": [
    "# first 100 words\n",
    "for i, val in enumerate(itertools.islice(vocabulary_re, 100)):\n",
    "    print(val)"
   ]
  },
  {
   "cell_type": "code",
   "execution_count": 37,
   "id": "bd2047c2-9edb-4d32-bda9-e698ad0d05ab",
   "metadata": {
    "scrolled": true,
    "tags": []
   },
   "outputs": [
    {
     "name": "stdout",
     "output_type": "stream",
     "text": [
      "figure\n",
      "view512\n",
      "rely\n",
      "marathon\n",
      "2g\n",
      "interviewing\n",
      "drumroll\n",
      "routing\n",
      "expierence\n",
      "air\n",
      "pity\n",
      "recorded\n",
      "zation\n",
      "creator\n",
      "web3\n",
      "stated\n",
      "zelda\n",
      "mappers\n",
      "turkey\n",
      "warwick\n",
      "dream\n",
      "sis\n",
      "clip\n",
      "notwinning\n",
      "lady\n",
      "many\n",
      "pgi\n",
      "recipe\n",
      "addicted\n",
      "deal\n",
      "funny\n",
      "upload\n",
      "googling\n",
      "come\n",
      "musique\n",
      "nfl\n",
      "picture\n",
      "band\n",
      "quicker\n",
      "college\n",
      "passing\n",
      "lock\n",
      "er\n",
      "wil\n",
      "matter\n",
      "hold\n",
      "joy\n",
      "cheapen\n",
      "capitalism\n",
      "deadline\n",
      "ordered\n",
      "feature\n",
      "itun\n",
      "scrub\n",
      "sketching\n",
      "kiddie\n",
      "extensive\n",
      "xml\n",
      "pentagram\n",
      "increase\n",
      "fixed\n",
      "tech\n",
      "partied\n",
      "puzzles\n",
      "tummy\n",
      "mash\n",
      "tragedy\n",
      "prepaid\n",
      "triple\n",
      "favorited\n",
      "lenashaw\n",
      "hundreds\n",
      "existent\n",
      "tchin\n",
      "organically\n",
      "bemyneighbor\n",
      "speaker\n",
      "trans\n",
      "additional\n",
      "successful\n",
      "met\n",
      "ughhhhh\n",
      "key\n",
      "btw\n",
      "fado\n",
      "make\n",
      "empowering\n",
      "offic\n",
      "smack\n",
      "ingredients\n",
      "tops\n",
      "charles\n",
      "compact\n",
      "sxswnfc\n",
      "appy\n",
      "response\n",
      "hopefully\n",
      "37\n",
      "partial\n",
      "employees\n"
     ]
    }
   ],
   "source": [
    "# random 100 words\n",
    "for i, val in enumerate(random.sample(vocabulary_re, 100)):\n",
    "    print(val)"
   ]
  },
  {
   "cell_type": "code",
   "execution_count": null,
   "id": "75f61fe4-26ae-4d97-af43-447f9f37320d",
   "metadata": {},
   "outputs": [],
   "source": []
  }
 ],
 "metadata": {
  "kernelspec": {
   "display_name": "nlp_project",
   "language": "python",
   "name": "nlp_project"
  },
  "language_info": {
   "codemirror_mode": {
    "name": "ipython",
    "version": 3
   },
   "file_extension": ".py",
   "mimetype": "text/x-python",
   "name": "python",
   "nbconvert_exporter": "python",
   "pygments_lexer": "ipython3",
   "version": "3.8.5"
  }
 },
 "nbformat": 4,
 "nbformat_minor": 5
}
