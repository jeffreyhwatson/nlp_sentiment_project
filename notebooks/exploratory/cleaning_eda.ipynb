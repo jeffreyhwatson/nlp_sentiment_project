{
 "cells": [
  {
   "cell_type": "code",
   "execution_count": 1,
   "id": "5ef9b4fd",
   "metadata": {},
   "outputs": [],
   "source": [
    "%load_ext autoreload\n",
    "%autoreload 2"
   ]
  },
  {
   "cell_type": "markdown",
   "id": "08003a67",
   "metadata": {},
   "source": [
    "# NLP Twitter Sentiment Analysis Project\n",
    "<font size=\"4\"> Author: Jeffrey Hanif Watson </font>"
   ]
  },
  {
   "cell_type": "markdown",
   "id": "f7a356df-c856-463b-a481-0e833a36ba96",
   "metadata": {},
   "source": [
    "## Overview\n",
    "In recent years, Twitter has emerged as a prominent platform for marketing and targeted advertising. It is also a valuable conduit for the collection of consumer data, and natural language processing (NLP) methods can provide a solution for companies seeking to track consumer sentiment with respect to their brands and products. This project developed and implemented several NLP models to classify tweets as negative or positive. \n",
    "\n",
    "Data cleaning and augmentation, EDA, modeling, and evaluation were performed, and a random forest classifier was chosen as the the final model for the project. Because we wanted to avoid both false positives and false negatives for this project, an accuracy measure of F1 was employed since it is sensitive to both types of error. An F1 score is a mix of both precision and recall (F1=1 means perfect recall and precision), so interpretation of the results is more easily described in terms of recall and precision. \n",
    "\n",
    "An F1 accuracy score of 0.89 (recall=.85, precision=.94) was attained at the end of the project's modeling process. The recall score of .85 meant that 85% of negative tweets were correctly classified as negative, while the precision score of .94 indicated that 94% of tweets classified as negative were truly negative. \n",
    "\n",
    "An alternate logistic regression model with an F1 accuracy score of 0.89 (recall=.83, precision=.97) is also available for use by interested parties."
   ]
  },
  {
   "cell_type": "markdown",
   "id": "3dc1c3de-85b1-4c73-b774-c378d78ec0bd",
   "metadata": {},
   "source": [
    "## Business Understanding:\n",
    "Companies can benefit from understanding how consumers perceive their brands and products, and sentiment analysis of text data from twitter can help provide this knowledge in a timely manner. A surge in negative sentiment would indicate a crisis of some sort that would need to be addressed quickly, and thus negative sentiment was deemed to be the most important class for modeling purposes in the project. However, data on the level of positive sentiment is still very valuable information, so a model that captures both sentiments as accurately as possible is most desirable.  "
   ]
  },
  {
   "cell_type": "markdown",
   "id": "20661c18-e7b4-4830-a40a-7ee4a5fee698",
   "metadata": {},
   "source": [
    "## Data Understanding:\n",
    "The baseline data for this project consists of a csv file containing 9,093 rows of text data (tweets, brand/product ids, sentiments labels) originally sourced from [Twitter](https://twitter.com/?lang=en) and collected into the [crowdflower/brands-and-product-emotions](https://data.world/crowdflower/brands-and-product-emotions) dataset. From the overwhelming amount of SXSW hashtags, and numerous references to the iPad 2 (which was released on March 2nd, 2011), it appears that the data was collected during the 2011 South by Southwest festival (which ran from March 11th to March 20th). The data contained ternary (positive, neutral, negative) sentiment data which was filtered down to binary (positive, negative) classes for modeling purposes. \n",
    "\n",
    "During the modeling process, the class imbalance in the data was shown to interfer with model performance, and additional negative sentiment data was used to augment the baseline data. 1,117 rows of negative general topic tweets were obtained from [Kaggle](https://www.kaggle.com/shashank1558/preprocessed-twitter-tweets), and an additional 1,219 negative apple tweets were procured from [data.world](https://data.world/crowdflower/apple-twitter-sentiment). This data augmentation greatly improved model performance."
   ]
  },
  {
   "cell_type": "markdown",
   "id": "075841a9",
   "metadata": {},
   "source": [
    "## Package Imports & Setup \n",
    "Importing the required packages, setting the project path and notebook styling."
   ]
  },
  {
   "cell_type": "code",
   "execution_count": 2,
   "id": "dd4a6d2d",
   "metadata": {},
   "outputs": [],
   "source": [
    "# imports\n",
    "import os, sys, string, re, itertools, more_itertools, random, collections\n",
    "\n",
    "from collections import Counter\n",
    "from more_itertools import take\n",
    "\n",
    "# setting project path\n",
    "gparent = os.path.join(os.pardir, os.pardir)\n",
    "sys.path.append(gparent)\n",
    "\n",
    "import pandas as pd\n",
    "import numpy as np\n",
    "\n",
    "import nltk\n",
    "from nltk.probability import FreqDist\n",
    "from nltk.corpus import stopwords\n",
    "from nltk.stem import PorterStemmer, WordNetLemmatizer\n",
    "from nltk.tokenize import RegexpTokenizer\n",
    "\n",
    "# # updates for nltk helper packages if needed\n",
    "# nltk.download('stopwords')\n",
    "# nltk.download('punkt')\n",
    "# nltk.download('wordnet')\n",
    "                           \n",
    "\n",
    "import matplotlib.pyplot as plt\n",
    "import seaborn as sns\n",
    "%matplotlib inline\n",
    "\n",
    "from src import visualizations as vz\n",
    "from src import functions as fn\n",
    "          \n",
    "# setting style\n",
    "sns.set_theme('talk')\n",
    "plt.style.use('fivethirtyeight')\n",
    "sns.set_palette(palette='Blues_r')\n",
    "pd.options.display.max_rows = 300"
   ]
  },
  {
   "cell_type": "markdown",
   "id": "f60cb7d8",
   "metadata": {},
   "source": [
    "## Data Preparation I: (Exploring the Data)"
   ]
  },
  {
   "cell_type": "markdown",
   "id": "5cce33cb",
   "metadata": {},
   "source": [
    "## `dir` Check\n",
    "Checking where we are before setting the path."
   ]
  },
  {
   "cell_type": "code",
   "execution_count": 3,
   "id": "6f5c44a0",
   "metadata": {},
   "outputs": [
    {
     "name": "stdout",
     "output_type": "stream",
     "text": [
      "/Users/dsbox/Documents/Flatiron/p_4_project/nlp_sentiment_project/notebooks/exploratory\n"
     ]
    }
   ],
   "source": [
    "!pwd"
   ]
  },
  {
   "cell_type": "markdown",
   "id": "e6edee0f",
   "metadata": {},
   "source": [
    "## Importing Data:\n",
    "Setting path to the data, creating data frame, and checking first five rows."
   ]
  },
  {
   "cell_type": "code",
   "execution_count": 4,
   "id": "f850ed12",
   "metadata": {},
   "outputs": [
    {
     "data": {
      "text/html": [
       "<div>\n",
       "<style scoped>\n",
       "    .dataframe tbody tr th:only-of-type {\n",
       "        vertical-align: middle;\n",
       "    }\n",
       "\n",
       "    .dataframe tbody tr th {\n",
       "        vertical-align: top;\n",
       "    }\n",
       "\n",
       "    .dataframe thead th {\n",
       "        text-align: right;\n",
       "    }\n",
       "</style>\n",
       "<table border=\"1\" class=\"dataframe\">\n",
       "  <thead>\n",
       "    <tr style=\"text-align: right;\">\n",
       "      <th></th>\n",
       "      <th>tweet_text</th>\n",
       "      <th>emotion_in_tweet_is_directed_at</th>\n",
       "      <th>is_there_an_emotion_directed_at_a_brand_or_product</th>\n",
       "    </tr>\n",
       "  </thead>\n",
       "  <tbody>\n",
       "    <tr>\n",
       "      <th>0</th>\n",
       "      <td>.@wesley83 I have a 3G iPhone. After 3 hrs twe...</td>\n",
       "      <td>iPhone</td>\n",
       "      <td>Negative emotion</td>\n",
       "    </tr>\n",
       "    <tr>\n",
       "      <th>1</th>\n",
       "      <td>@jessedee Know about @fludapp ? Awesome iPad/i...</td>\n",
       "      <td>iPad or iPhone App</td>\n",
       "      <td>Positive emotion</td>\n",
       "    </tr>\n",
       "    <tr>\n",
       "      <th>2</th>\n",
       "      <td>@swonderlin Can not wait for #iPad 2 also. The...</td>\n",
       "      <td>iPad</td>\n",
       "      <td>Positive emotion</td>\n",
       "    </tr>\n",
       "    <tr>\n",
       "      <th>3</th>\n",
       "      <td>@sxsw I hope this year's festival isn't as cra...</td>\n",
       "      <td>iPad or iPhone App</td>\n",
       "      <td>Negative emotion</td>\n",
       "    </tr>\n",
       "    <tr>\n",
       "      <th>4</th>\n",
       "      <td>@sxtxstate great stuff on Fri #SXSW: Marissa M...</td>\n",
       "      <td>Google</td>\n",
       "      <td>Positive emotion</td>\n",
       "    </tr>\n",
       "  </tbody>\n",
       "</table>\n",
       "</div>"
      ],
      "text/plain": [
       "                                          tweet_text  \\\n",
       "0  .@wesley83 I have a 3G iPhone. After 3 hrs twe...   \n",
       "1  @jessedee Know about @fludapp ? Awesome iPad/i...   \n",
       "2  @swonderlin Can not wait for #iPad 2 also. The...   \n",
       "3  @sxsw I hope this year's festival isn't as cra...   \n",
       "4  @sxtxstate great stuff on Fri #SXSW: Marissa M...   \n",
       "\n",
       "  emotion_in_tweet_is_directed_at  \\\n",
       "0                          iPhone   \n",
       "1              iPad or iPhone App   \n",
       "2                            iPad   \n",
       "3              iPad or iPhone App   \n",
       "4                          Google   \n",
       "\n",
       "  is_there_an_emotion_directed_at_a_brand_or_product  \n",
       "0                                   Negative emotion  \n",
       "1                                   Positive emotion  \n",
       "2                                   Positive emotion  \n",
       "3                                   Negative emotion  \n",
       "4                                   Positive emotion  "
      ]
     },
     "execution_count": 4,
     "metadata": {},
     "output_type": "execute_result"
    }
   ],
   "source": [
    "path = os.path.join(gparent, 'data/raw',\\\n",
    "                           'judge-1377884607_tweet_product_company.csv')\n",
    "df = pd.read_csv(path, encoding='unicode_escape')\n",
    "df.head()"
   ]
  },
  {
   "cell_type": "markdown",
   "id": "6fcccaed",
   "metadata": {},
   "source": [
    "## Checking the DF Info"
   ]
  },
  {
   "cell_type": "code",
   "execution_count": 5,
   "id": "5dcda8dc",
   "metadata": {},
   "outputs": [
    {
     "name": "stdout",
     "output_type": "stream",
     "text": [
      "<class 'pandas.core.frame.DataFrame'>\n",
      "RangeIndex: 9093 entries, 0 to 9092\n",
      "Data columns (total 3 columns):\n",
      " #   Column                                              Non-Null Count  Dtype \n",
      "---  ------                                              --------------  ----- \n",
      " 0   tweet_text                                          9092 non-null   object\n",
      " 1   emotion_in_tweet_is_directed_at                     3291 non-null   object\n",
      " 2   is_there_an_emotion_directed_at_a_brand_or_product  9093 non-null   object\n",
      "dtypes: object(3)\n",
      "memory usage: 213.2+ KB\n"
     ]
    }
   ],
   "source": [
    "df.info()"
   ]
  },
  {
   "cell_type": "markdown",
   "id": "af7ffa32",
   "metadata": {},
   "source": [
    "<font size=\"4\">We are going to look at the single missing tweet right now and save the nulls in the second column for later.</font>"
   ]
  },
  {
   "cell_type": "markdown",
   "id": "1ae6e487",
   "metadata": {},
   "source": [
    "## Checking the Null Tweet:\n",
    "We have one null value in the `tweet` column we need to deal with."
   ]
  },
  {
   "cell_type": "code",
   "execution_count": 6,
   "id": "b0130f54",
   "metadata": {},
   "outputs": [
    {
     "data": {
      "text/html": [
       "<div>\n",
       "<style scoped>\n",
       "    .dataframe tbody tr th:only-of-type {\n",
       "        vertical-align: middle;\n",
       "    }\n",
       "\n",
       "    .dataframe tbody tr th {\n",
       "        vertical-align: top;\n",
       "    }\n",
       "\n",
       "    .dataframe thead th {\n",
       "        text-align: right;\n",
       "    }\n",
       "</style>\n",
       "<table border=\"1\" class=\"dataframe\">\n",
       "  <thead>\n",
       "    <tr style=\"text-align: right;\">\n",
       "      <th></th>\n",
       "      <th>tweet_text</th>\n",
       "      <th>emotion_in_tweet_is_directed_at</th>\n",
       "      <th>is_there_an_emotion_directed_at_a_brand_or_product</th>\n",
       "    </tr>\n",
       "  </thead>\n",
       "  <tbody>\n",
       "    <tr>\n",
       "      <th>6</th>\n",
       "      <td>NaN</td>\n",
       "      <td>NaN</td>\n",
       "      <td>No emotion toward brand or product</td>\n",
       "    </tr>\n",
       "  </tbody>\n",
       "</table>\n",
       "</div>"
      ],
      "text/plain": [
       "  tweet_text emotion_in_tweet_is_directed_at  \\\n",
       "6        NaN                             NaN   \n",
       "\n",
       "  is_there_an_emotion_directed_at_a_brand_or_product  \n",
       "6                 No emotion toward brand or product  "
      ]
     },
     "execution_count": 6,
     "metadata": {},
     "output_type": "execute_result"
    }
   ],
   "source": [
    "df[df['tweet_text'].isnull()]"
   ]
  },
  {
   "cell_type": "markdown",
   "id": "35597840",
   "metadata": {},
   "source": [
    "## Dropping the Null Tweet"
   ]
  },
  {
   "cell_type": "code",
   "execution_count": 7,
   "id": "c95012d1",
   "metadata": {},
   "outputs": [],
   "source": [
    "df.drop(6, axis=0, inplace=True)\n",
    "df.reset_index(drop=True, inplace=True)"
   ]
  },
  {
   "cell_type": "code",
   "execution_count": 8,
   "id": "43eae8f3",
   "metadata": {},
   "outputs": [
    {
     "name": "stdout",
     "output_type": "stream",
     "text": [
      "<class 'pandas.core.frame.DataFrame'>\n",
      "RangeIndex: 9092 entries, 0 to 9091\n",
      "Data columns (total 3 columns):\n",
      " #   Column                                              Non-Null Count  Dtype \n",
      "---  ------                                              --------------  ----- \n",
      " 0   tweet_text                                          9092 non-null   object\n",
      " 1   emotion_in_tweet_is_directed_at                     3291 non-null   object\n",
      " 2   is_there_an_emotion_directed_at_a_brand_or_product  9092 non-null   object\n",
      "dtypes: object(3)\n",
      "memory usage: 213.2+ KB\n"
     ]
    }
   ],
   "source": [
    "df.info()"
   ]
  },
  {
   "cell_type": "markdown",
   "id": "03e70afb",
   "metadata": {},
   "source": [
    "## Renaming Columns:\n",
    "The original names are a bit unwieldy."
   ]
  },
  {
   "cell_type": "code",
   "execution_count": 9,
   "id": "bcac6fd4",
   "metadata": {},
   "outputs": [
    {
     "data": {
      "text/html": [
       "<div>\n",
       "<style scoped>\n",
       "    .dataframe tbody tr th:only-of-type {\n",
       "        vertical-align: middle;\n",
       "    }\n",
       "\n",
       "    .dataframe tbody tr th {\n",
       "        vertical-align: top;\n",
       "    }\n",
       "\n",
       "    .dataframe thead th {\n",
       "        text-align: right;\n",
       "    }\n",
       "</style>\n",
       "<table border=\"1\" class=\"dataframe\">\n",
       "  <thead>\n",
       "    <tr style=\"text-align: right;\">\n",
       "      <th></th>\n",
       "      <th>tweet</th>\n",
       "      <th>brand_product</th>\n",
       "      <th>emotion</th>\n",
       "    </tr>\n",
       "  </thead>\n",
       "  <tbody>\n",
       "    <tr>\n",
       "      <th>0</th>\n",
       "      <td>.@wesley83 I have a 3G iPhone. After 3 hrs twe...</td>\n",
       "      <td>iPhone</td>\n",
       "      <td>Negative emotion</td>\n",
       "    </tr>\n",
       "    <tr>\n",
       "      <th>1</th>\n",
       "      <td>@jessedee Know about @fludapp ? Awesome iPad/i...</td>\n",
       "      <td>iPad or iPhone App</td>\n",
       "      <td>Positive emotion</td>\n",
       "    </tr>\n",
       "    <tr>\n",
       "      <th>2</th>\n",
       "      <td>@swonderlin Can not wait for #iPad 2 also. The...</td>\n",
       "      <td>iPad</td>\n",
       "      <td>Positive emotion</td>\n",
       "    </tr>\n",
       "    <tr>\n",
       "      <th>3</th>\n",
       "      <td>@sxsw I hope this year's festival isn't as cra...</td>\n",
       "      <td>iPad or iPhone App</td>\n",
       "      <td>Negative emotion</td>\n",
       "    </tr>\n",
       "    <tr>\n",
       "      <th>4</th>\n",
       "      <td>@sxtxstate great stuff on Fri #SXSW: Marissa M...</td>\n",
       "      <td>Google</td>\n",
       "      <td>Positive emotion</td>\n",
       "    </tr>\n",
       "  </tbody>\n",
       "</table>\n",
       "</div>"
      ],
      "text/plain": [
       "                                               tweet       brand_product  \\\n",
       "0  .@wesley83 I have a 3G iPhone. After 3 hrs twe...              iPhone   \n",
       "1  @jessedee Know about @fludapp ? Awesome iPad/i...  iPad or iPhone App   \n",
       "2  @swonderlin Can not wait for #iPad 2 also. The...                iPad   \n",
       "3  @sxsw I hope this year's festival isn't as cra...  iPad or iPhone App   \n",
       "4  @sxtxstate great stuff on Fri #SXSW: Marissa M...              Google   \n",
       "\n",
       "            emotion  \n",
       "0  Negative emotion  \n",
       "1  Positive emotion  \n",
       "2  Positive emotion  \n",
       "3  Negative emotion  \n",
       "4  Positive emotion  "
      ]
     },
     "execution_count": 9,
     "metadata": {},
     "output_type": "execute_result"
    }
   ],
   "source": [
    "rename_dict = {'tweet_text': 'tweet', \n",
    "               'emotion_in_tweet_is_directed_at': 'brand_product', \n",
    "               'is_there_an_emotion_directed_at_a_brand_or_product': 'emotion' }\n",
    "df.rename(columns=rename_dict, inplace=True)\n",
    "df.head()"
   ]
  },
  {
   "cell_type": "markdown",
   "id": "e46442b9",
   "metadata": {},
   "source": [
    "## Shortening `emotion` Labels\n",
    "Same reasoning as above."
   ]
  },
  {
   "cell_type": "code",
   "execution_count": 10,
   "id": "0d0ac0ce",
   "metadata": {},
   "outputs": [],
   "source": [
    "df['emotion'] = df['emotion'].replace(['Negative emotion',\n",
    "                                       'Positive emotion',\n",
    "                                       'No emotion toward brand or product'],\n",
    "                                      ['Negative',\n",
    "                                       'Positive',\n",
    "                                       'Neutral'])"
   ]
  },
  {
   "cell_type": "markdown",
   "id": "f29669a0",
   "metadata": {},
   "source": [
    "## Checking for Duplicated Tweets:\n",
    "If there are duplicated tweets, they probably won't add usefull information and most likely will be dropped."
   ]
  },
  {
   "cell_type": "code",
   "execution_count": 11,
   "id": "0aacd0d0",
   "metadata": {},
   "outputs": [
    {
     "data": {
      "text/plain": [
       "(9092, 3)"
      ]
     },
     "execution_count": 11,
     "metadata": {},
     "output_type": "execute_result"
    }
   ],
   "source": [
    "# checking the shape baseline shape and saving it to a variable\n",
    "original_shape = df.shape\n",
    "original_shape"
   ]
  },
  {
   "cell_type": "code",
   "execution_count": 12,
   "id": "9705fb50",
   "metadata": {},
   "outputs": [],
   "source": [
    "# filtering for dupes\n",
    "dupes = df[df['tweet'].duplicated()]"
   ]
  },
  {
   "cell_type": "code",
   "execution_count": 13,
   "id": "1cb8941a",
   "metadata": {},
   "outputs": [
    {
     "data": {
      "text/plain": [
       "27"
      ]
     },
     "execution_count": 13,
     "metadata": {},
     "output_type": "execute_result"
    }
   ],
   "source": [
    "# checking the number of dupes\n",
    "len(dupes)"
   ]
  },
  {
   "cell_type": "markdown",
   "id": "a58fa89f",
   "metadata": {},
   "source": [
    "## Examining the Dupes:\n",
    "Since there are only 27 dupes, we'll just examine all of them."
   ]
  },
  {
   "cell_type": "code",
   "execution_count": 14,
   "id": "227ece95",
   "metadata": {},
   "outputs": [
    {
     "data": {
      "text/html": [
       "<div>\n",
       "<style scoped>\n",
       "    .dataframe tbody tr th:only-of-type {\n",
       "        vertical-align: middle;\n",
       "    }\n",
       "\n",
       "    .dataframe tbody tr th {\n",
       "        vertical-align: top;\n",
       "    }\n",
       "\n",
       "    .dataframe thead th {\n",
       "        text-align: right;\n",
       "    }\n",
       "</style>\n",
       "<table border=\"1\" class=\"dataframe\">\n",
       "  <thead>\n",
       "    <tr style=\"text-align: right;\">\n",
       "      <th></th>\n",
       "      <th>tweet</th>\n",
       "      <th>brand_product</th>\n",
       "      <th>emotion</th>\n",
       "    </tr>\n",
       "  </thead>\n",
       "  <tbody>\n",
       "    <tr>\n",
       "      <th>467</th>\n",
       "      <td>Before It Even Begins, Apple Wins #SXSW {link}</td>\n",
       "      <td>Apple</td>\n",
       "      <td>Positive</td>\n",
       "    </tr>\n",
       "    <tr>\n",
       "      <th>775</th>\n",
       "      <td>Google to Launch Major New Social Network Call...</td>\n",
       "      <td>NaN</td>\n",
       "      <td>Neutral</td>\n",
       "    </tr>\n",
       "    <tr>\n",
       "      <th>2231</th>\n",
       "      <td>Marissa Mayer: Google Will Connect the Digital...</td>\n",
       "      <td>NaN</td>\n",
       "      <td>Neutral</td>\n",
       "    </tr>\n",
       "    <tr>\n",
       "      <th>2558</th>\n",
       "      <td>Counting down the days to #sxsw plus strong Ca...</td>\n",
       "      <td>Apple</td>\n",
       "      <td>Positive</td>\n",
       "    </tr>\n",
       "    <tr>\n",
       "      <th>3812</th>\n",
       "      <td>Win free ipad 2 from webdoc.com #sxsw RT</td>\n",
       "      <td>iPad</td>\n",
       "      <td>Positive</td>\n",
       "    </tr>\n",
       "    <tr>\n",
       "      <th>3813</th>\n",
       "      <td>Win free iPad 2 from webdoc.com #sxsw RT</td>\n",
       "      <td>iPad</td>\n",
       "      <td>Positive</td>\n",
       "    </tr>\n",
       "    <tr>\n",
       "      <th>3949</th>\n",
       "      <td>Really enjoying the changes in Gowalla 3.0 for...</td>\n",
       "      <td>Android App</td>\n",
       "      <td>Positive</td>\n",
       "    </tr>\n",
       "    <tr>\n",
       "      <th>3961</th>\n",
       "      <td>#SXSW is just starting, #CTIA is around the co...</td>\n",
       "      <td>Android</td>\n",
       "      <td>Positive</td>\n",
       "    </tr>\n",
       "    <tr>\n",
       "      <th>4896</th>\n",
       "      <td>Oh. My. God. The #SXSW app for iPad is pure, u...</td>\n",
       "      <td>iPad or iPhone App</td>\n",
       "      <td>Positive</td>\n",
       "    </tr>\n",
       "    <tr>\n",
       "      <th>5337</th>\n",
       "      <td>RT @mention ÷¼ GO BEYOND BORDERS! ÷_ {link} ...</td>\n",
       "      <td>NaN</td>\n",
       "      <td>Neutral</td>\n",
       "    </tr>\n",
       "    <tr>\n",
       "      <th>5340</th>\n",
       "      <td>RT @mention ÷¼ Happy Woman's Day! Make love, ...</td>\n",
       "      <td>NaN</td>\n",
       "      <td>Neutral</td>\n",
       "    </tr>\n",
       "    <tr>\n",
       "      <th>5880</th>\n",
       "      <td>RT @mention Google to Launch Major New Social ...</td>\n",
       "      <td>NaN</td>\n",
       "      <td>Neutral</td>\n",
       "    </tr>\n",
       "    <tr>\n",
       "      <th>5881</th>\n",
       "      <td>RT @mention Google to Launch Major New Social ...</td>\n",
       "      <td>NaN</td>\n",
       "      <td>Neutral</td>\n",
       "    </tr>\n",
       "    <tr>\n",
       "      <th>5882</th>\n",
       "      <td>RT @mention Google to Launch Major New Social ...</td>\n",
       "      <td>NaN</td>\n",
       "      <td>Neutral</td>\n",
       "    </tr>\n",
       "    <tr>\n",
       "      <th>5883</th>\n",
       "      <td>RT @mention Google to Launch Major New Social ...</td>\n",
       "      <td>NaN</td>\n",
       "      <td>Neutral</td>\n",
       "    </tr>\n",
       "    <tr>\n",
       "      <th>5884</th>\n",
       "      <td>RT @mention Google to Launch Major New Social ...</td>\n",
       "      <td>NaN</td>\n",
       "      <td>Neutral</td>\n",
       "    </tr>\n",
       "    <tr>\n",
       "      <th>6293</th>\n",
       "      <td>RT @mention Marissa Mayer: Google Will Connect...</td>\n",
       "      <td>NaN</td>\n",
       "      <td>Neutral</td>\n",
       "    </tr>\n",
       "    <tr>\n",
       "      <th>6294</th>\n",
       "      <td>RT @mention Marissa Mayer: Google Will Connect...</td>\n",
       "      <td>NaN</td>\n",
       "      <td>Neutral</td>\n",
       "    </tr>\n",
       "    <tr>\n",
       "      <th>6295</th>\n",
       "      <td>RT @mention Marissa Mayer: Google Will Connect...</td>\n",
       "      <td>Google</td>\n",
       "      <td>Positive</td>\n",
       "    </tr>\n",
       "    <tr>\n",
       "      <th>6296</th>\n",
       "      <td>RT @mention Marissa Mayer: Google Will Connect...</td>\n",
       "      <td>NaN</td>\n",
       "      <td>Neutral</td>\n",
       "    </tr>\n",
       "    <tr>\n",
       "      <th>6297</th>\n",
       "      <td>RT @mention Marissa Mayer: Google Will Connect...</td>\n",
       "      <td>Google</td>\n",
       "      <td>Positive</td>\n",
       "    </tr>\n",
       "    <tr>\n",
       "      <th>6298</th>\n",
       "      <td>RT @mention Marissa Mayer: Google Will Connect...</td>\n",
       "      <td>NaN</td>\n",
       "      <td>Neutral</td>\n",
       "    </tr>\n",
       "    <tr>\n",
       "      <th>6299</th>\n",
       "      <td>RT @mention Marissa Mayer: Google Will Connect...</td>\n",
       "      <td>NaN</td>\n",
       "      <td>Neutral</td>\n",
       "    </tr>\n",
       "    <tr>\n",
       "      <th>6545</th>\n",
       "      <td>RT @mention RT @mention Google to Launch Major...</td>\n",
       "      <td>NaN</td>\n",
       "      <td>Neutral</td>\n",
       "    </tr>\n",
       "    <tr>\n",
       "      <th>6575</th>\n",
       "      <td>RT @mention RT @mention It's not a rumor: Appl...</td>\n",
       "      <td>NaN</td>\n",
       "      <td>Neutral</td>\n",
       "    </tr>\n",
       "    <tr>\n",
       "      <th>8482</th>\n",
       "      <td>I just noticed DST is coming this weekend. How...</td>\n",
       "      <td>iPhone</td>\n",
       "      <td>Negative</td>\n",
       "    </tr>\n",
       "    <tr>\n",
       "      <th>8746</th>\n",
       "      <td>Need to buy an iPad2 while I'm in Austin at #s...</td>\n",
       "      <td>iPad</td>\n",
       "      <td>Positive</td>\n",
       "    </tr>\n",
       "  </tbody>\n",
       "</table>\n",
       "</div>"
      ],
      "text/plain": [
       "                                                  tweet       brand_product  \\\n",
       "467      Before It Even Begins, Apple Wins #SXSW {link}               Apple   \n",
       "775   Google to Launch Major New Social Network Call...                 NaN   \n",
       "2231  Marissa Mayer: Google Will Connect the Digital...                 NaN   \n",
       "2558  Counting down the days to #sxsw plus strong Ca...               Apple   \n",
       "3812           Win free ipad 2 from webdoc.com #sxsw RT                iPad   \n",
       "3813           Win free iPad 2 from webdoc.com #sxsw RT                iPad   \n",
       "3949  Really enjoying the changes in Gowalla 3.0 for...         Android App   \n",
       "3961  #SXSW is just starting, #CTIA is around the co...             Android   \n",
       "4896  Oh. My. God. The #SXSW app for iPad is pure, u...  iPad or iPhone App   \n",
       "5337  RT @mention ÷¼ GO BEYOND BORDERS! ÷_ {link} ...                 NaN   \n",
       "5340  RT @mention ÷¼ Happy Woman's Day! Make love, ...                 NaN   \n",
       "5880  RT @mention Google to Launch Major New Social ...                 NaN   \n",
       "5881  RT @mention Google to Launch Major New Social ...                 NaN   \n",
       "5882  RT @mention Google to Launch Major New Social ...                 NaN   \n",
       "5883  RT @mention Google to Launch Major New Social ...                 NaN   \n",
       "5884  RT @mention Google to Launch Major New Social ...                 NaN   \n",
       "6293  RT @mention Marissa Mayer: Google Will Connect...                 NaN   \n",
       "6294  RT @mention Marissa Mayer: Google Will Connect...                 NaN   \n",
       "6295  RT @mention Marissa Mayer: Google Will Connect...              Google   \n",
       "6296  RT @mention Marissa Mayer: Google Will Connect...                 NaN   \n",
       "6297  RT @mention Marissa Mayer: Google Will Connect...              Google   \n",
       "6298  RT @mention Marissa Mayer: Google Will Connect...                 NaN   \n",
       "6299  RT @mention Marissa Mayer: Google Will Connect...                 NaN   \n",
       "6545  RT @mention RT @mention Google to Launch Major...                 NaN   \n",
       "6575  RT @mention RT @mention It's not a rumor: Appl...                 NaN   \n",
       "8482  I just noticed DST is coming this weekend. How...              iPhone   \n",
       "8746  Need to buy an iPad2 while I'm in Austin at #s...                iPad   \n",
       "\n",
       "       emotion  \n",
       "467   Positive  \n",
       "775    Neutral  \n",
       "2231   Neutral  \n",
       "2558  Positive  \n",
       "3812  Positive  \n",
       "3813  Positive  \n",
       "3949  Positive  \n",
       "3961  Positive  \n",
       "4896  Positive  \n",
       "5337   Neutral  \n",
       "5340   Neutral  \n",
       "5880   Neutral  \n",
       "5881   Neutral  \n",
       "5882   Neutral  \n",
       "5883   Neutral  \n",
       "5884   Neutral  \n",
       "6293   Neutral  \n",
       "6294   Neutral  \n",
       "6295  Positive  \n",
       "6296   Neutral  \n",
       "6297  Positive  \n",
       "6298   Neutral  \n",
       "6299   Neutral  \n",
       "6545   Neutral  \n",
       "6575   Neutral  \n",
       "8482  Negative  \n",
       "8746  Positive  "
      ]
     },
     "execution_count": 14,
     "metadata": {},
     "output_type": "execute_result"
    }
   ],
   "source": [
    "dupes"
   ]
  },
  {
   "cell_type": "markdown",
   "id": "e56c129a",
   "metadata": {},
   "source": [
    "<font size=\"4\">Other than the fact that there are a lot of retweets in the dupes, nothing else really stands out. Since we are losing only 27 rows of data, dropping seems like a safe decision.</font>"
   ]
  },
  {
   "cell_type": "markdown",
   "id": "9e13040f",
   "metadata": {},
   "source": [
    "## Dropping Dupes"
   ]
  },
  {
   "cell_type": "code",
   "execution_count": 15,
   "id": "165feb98",
   "metadata": {},
   "outputs": [],
   "source": [
    "df.drop_duplicates(subset='tweet',inplace=True)\n",
    "df.reset_index(drop=True, inplace=True)"
   ]
  },
  {
   "cell_type": "code",
   "execution_count": 16,
   "id": "c0ad7201",
   "metadata": {},
   "outputs": [
    {
     "name": "stdout",
     "output_type": "stream",
     "text": [
      "original shape: (9092, 3)\n",
      "new shape: (9065, 3)\n"
     ]
    }
   ],
   "source": [
    "# comparing shapes\n",
    "print(f'original shape: {original_shape}')\n",
    "print(f'new shape: {df.shape}')"
   ]
  },
  {
   "cell_type": "markdown",
   "id": "4c9d84d9",
   "metadata": {},
   "source": [
    "## Checking for Links:\n",
    "Checking for url and {link} strings and getting a link count."
   ]
  },
  {
   "cell_type": "code",
   "execution_count": 17,
   "id": "cfc25009",
   "metadata": {},
   "outputs": [
    {
     "name": "stdout",
     "output_type": "stream",
     "text": [
      "[[('http://ht.ly/49n4M', '')], [('http://bit.ly/ieaVOB', '')], [('http://bit.ly/gVLrIn', '')], [('http://j.mp/grN7pK)', '')], [('http://bit.ly/aXZwxB', '')], [('http://tinyurl.com/4nqv92l', '')], [('http://bit.ly/hTdFim', '')], [('http://t.co/kfN3f5Q', '')], [('http://t.co/g4GZypV', '')], [('http://tumblr.com/x6t1pi6av7', '')], [('http://bit.ly/hTdFim', '')], [('http://bit.ly/etsbZk', '')], [('http://t.co/A3xvWc6', '')], [('http://itunes.apple.com/us/app/holler-gram/id420666439?mt=8', '')], [('', '{link}')], [('', '{link}')], [('', '{link}')], [('', '{link}')], [('', '{link}')], [('', '{link}')], [('', '{link}')], [('', '{link}')], [('', '{link}')], [('', '{link}')], [('', '{link}')]]\n"
     ]
    },
    {
     "data": {
      "text/plain": [
       "4175"
      ]
     },
     "execution_count": 17,
     "metadata": {},
     "output_type": "execute_result"
    }
   ],
   "source": [
    "# checking for links\n",
    "tweets = df['tweet']\n",
    "links = fn.find_strings(tweets, r'(https*\\S+)|(\\{link\\})')\n",
    "print(links[:25])\n",
    "len(links)"
   ]
  },
  {
   "cell_type": "markdown",
   "id": "cb903385",
   "metadata": {},
   "source": [
    "<font size=\"4\">Since these strings don't add sentiment information, we'll strip them out during the cleaning process.</font>"
   ]
  },
  {
   "cell_type": "markdown",
   "id": "22dee326",
   "metadata": {},
   "source": [
    "## Adding a Hashtag Column:\n",
    "Hashtags have the potential to contain value information, so we'll create a new column to help explore them."
   ]
  },
  {
   "cell_type": "code",
   "execution_count": 18,
   "id": "1094f693",
   "metadata": {},
   "outputs": [],
   "source": [
    "# copying hashtags to a new column and setting any empty lists to NaNs\n",
    "df['hashtags'] = df['tweet'].apply(lambda x: \n",
    "                                   re.findall(r'\\B#\\w*[a-zA-Z]+\\w*', x))"
   ]
  },
  {
   "cell_type": "code",
   "execution_count": 19,
   "id": "c333fe3b",
   "metadata": {},
   "outputs": [
    {
     "name": "stdout",
     "output_type": "stream",
     "text": [
      "<class 'pandas.core.frame.DataFrame'>\n",
      "RangeIndex: 9065 entries, 0 to 9064\n",
      "Data columns (total 4 columns):\n",
      " #   Column         Non-Null Count  Dtype \n",
      "---  ------         --------------  ----- \n",
      " 0   tweet          9065 non-null   object\n",
      " 1   brand_product  3280 non-null   object\n",
      " 2   emotion        9065 non-null   object\n",
      " 3   hashtags       9065 non-null   object\n",
      "dtypes: object(4)\n",
      "memory usage: 283.4+ KB\n",
      "None\n"
     ]
    },
    {
     "data": {
      "text/html": [
       "<div>\n",
       "<style scoped>\n",
       "    .dataframe tbody tr th:only-of-type {\n",
       "        vertical-align: middle;\n",
       "    }\n",
       "\n",
       "    .dataframe tbody tr th {\n",
       "        vertical-align: top;\n",
       "    }\n",
       "\n",
       "    .dataframe thead th {\n",
       "        text-align: right;\n",
       "    }\n",
       "</style>\n",
       "<table border=\"1\" class=\"dataframe\">\n",
       "  <thead>\n",
       "    <tr style=\"text-align: right;\">\n",
       "      <th></th>\n",
       "      <th>tweet</th>\n",
       "      <th>brand_product</th>\n",
       "      <th>emotion</th>\n",
       "      <th>hashtags</th>\n",
       "    </tr>\n",
       "  </thead>\n",
       "  <tbody>\n",
       "    <tr>\n",
       "      <th>0</th>\n",
       "      <td>.@wesley83 I have a 3G iPhone. After 3 hrs twe...</td>\n",
       "      <td>iPhone</td>\n",
       "      <td>Negative</td>\n",
       "      <td>[#RISE_Austin, #SXSW]</td>\n",
       "    </tr>\n",
       "    <tr>\n",
       "      <th>1</th>\n",
       "      <td>@jessedee Know about @fludapp ? Awesome iPad/i...</td>\n",
       "      <td>iPad or iPhone App</td>\n",
       "      <td>Positive</td>\n",
       "      <td>[#SXSW]</td>\n",
       "    </tr>\n",
       "    <tr>\n",
       "      <th>2</th>\n",
       "      <td>@swonderlin Can not wait for #iPad 2 also. The...</td>\n",
       "      <td>iPad</td>\n",
       "      <td>Positive</td>\n",
       "      <td>[#iPad, #SXSW]</td>\n",
       "    </tr>\n",
       "    <tr>\n",
       "      <th>3</th>\n",
       "      <td>@sxsw I hope this year's festival isn't as cra...</td>\n",
       "      <td>iPad or iPhone App</td>\n",
       "      <td>Negative</td>\n",
       "      <td>[#sxsw]</td>\n",
       "    </tr>\n",
       "    <tr>\n",
       "      <th>4</th>\n",
       "      <td>@sxtxstate great stuff on Fri #SXSW: Marissa M...</td>\n",
       "      <td>Google</td>\n",
       "      <td>Positive</td>\n",
       "      <td>[#SXSW]</td>\n",
       "    </tr>\n",
       "  </tbody>\n",
       "</table>\n",
       "</div>"
      ],
      "text/plain": [
       "                                               tweet       brand_product  \\\n",
       "0  .@wesley83 I have a 3G iPhone. After 3 hrs twe...              iPhone   \n",
       "1  @jessedee Know about @fludapp ? Awesome iPad/i...  iPad or iPhone App   \n",
       "2  @swonderlin Can not wait for #iPad 2 also. The...                iPad   \n",
       "3  @sxsw I hope this year's festival isn't as cra...  iPad or iPhone App   \n",
       "4  @sxtxstate great stuff on Fri #SXSW: Marissa M...              Google   \n",
       "\n",
       "    emotion               hashtags  \n",
       "0  Negative  [#RISE_Austin, #SXSW]  \n",
       "1  Positive                [#SXSW]  \n",
       "2  Positive         [#iPad, #SXSW]  \n",
       "3  Negative                [#sxsw]  \n",
       "4  Positive                [#SXSW]  "
      ]
     },
     "execution_count": 19,
     "metadata": {},
     "output_type": "execute_result"
    }
   ],
   "source": [
    "# checking info & first 5 rows\n",
    "print(df.info())\n",
    "df.head()"
   ]
  },
  {
   "cell_type": "markdown",
   "id": "136a69af",
   "metadata": {},
   "source": [
    "## Exploring the Hashtags\n",
    "Creating a list and checking the length."
   ]
  },
  {
   "cell_type": "code",
   "execution_count": 20,
   "id": "d09c268a",
   "metadata": {},
   "outputs": [],
   "source": [
    "# creating a hashtag list\n",
    "hashlists = df['hashtags'].tolist()"
   ]
  },
  {
   "cell_type": "code",
   "execution_count": 21,
   "id": "1ee979b2",
   "metadata": {},
   "outputs": [
    {
     "name": "stdout",
     "output_type": "stream",
     "text": [
      "hashlists length: 9065\n"
     ]
    }
   ],
   "source": [
    "print(f'hashlists length: {len(hashlists)}')"
   ]
  },
  {
   "cell_type": "code",
   "execution_count": 22,
   "id": "47137542",
   "metadata": {},
   "outputs": [
    {
     "data": {
      "text/plain": [
       "[['#RISE_Austin', '#SXSW'],\n",
       " ['#SXSW'],\n",
       " ['#iPad', '#SXSW'],\n",
       " ['#sxsw'],\n",
       " ['#SXSW']]"
      ]
     },
     "execution_count": 22,
     "metadata": {},
     "output_type": "execute_result"
    }
   ],
   "source": [
    "hashlists[:5]"
   ]
  },
  {
   "cell_type": "code",
   "execution_count": 23,
   "id": "7d24172e",
   "metadata": {
    "tags": []
   },
   "outputs": [
    {
     "name": "stdout",
     "output_type": "stream",
     "text": [
      "total tags: 15779\n",
      "ave tags: 1.7406508549365691\n",
      "max tags: 12\n"
     ]
    }
   ],
   "source": [
    "hash_counts = []\n",
    "for listy in hashlists:\n",
    "    hash_counts.append(len(listy))\n",
    "print(f'total tags: {np.sum(hash_counts)}')\n",
    "print(f'ave tags: {np.sum(hash_counts)/len(hash_counts)}')\n",
    "print(f'max tags: {max(hash_counts)}')"
   ]
  },
  {
   "cell_type": "markdown",
   "id": "f99d3d4d",
   "metadata": {},
   "source": [
    "<font size=\"5\"> There are 15,779 hashtags.</font>\n",
    "\n",
    "<font size=\"5\"> The average number of hashtags per tweet is 1.74.</font>\n",
    "\n",
    "<font size=\"5\"> The maximum number of hashtags in a single tweet is 12.</font>\n",
    "\n",
    "<font size =\"5\"> Below is the tweet with the max number of hashtags and a list of the hashtags.</font>"
   ]
  },
  {
   "cell_type": "code",
   "execution_count": 24,
   "id": "e7bd9de8",
   "metadata": {},
   "outputs": [
    {
     "name": "stdout",
     "output_type": "stream",
     "text": [
      "iPad 2 and Its Rivals: How They Stack Up {link} #bnet #biz #ipad2 #apple #sxsw #ipad #tablet #xoom #tech #laptop #pics #sale\n",
      "['#bnet', '#biz', '#ipad2', '#apple', '#sxsw', '#ipad', '#tablet', '#xoom', '#tech', '#laptop', '#pics', '#sale']\n"
     ]
    }
   ],
   "source": [
    "print(df.iloc[np.argmax(hash_counts)][0])\n",
    "\n",
    "print(hashlists[np.argmax(hash_counts)])"
   ]
  },
  {
   "cell_type": "markdown",
   "id": "72456d02",
   "metadata": {},
   "source": [
    "## Checking for Empty Lists & Converting to NaNs\n",
    "Converting and checking length."
   ]
  },
  {
   "cell_type": "code",
   "execution_count": 25,
   "id": "b350ef42",
   "metadata": {},
   "outputs": [],
   "source": [
    "df['hashtags'] = df['hashtags'].apply(lambda x: np.nan if len(x) == 0 else x)"
   ]
  },
  {
   "cell_type": "code",
   "execution_count": 26,
   "id": "012e33a7",
   "metadata": {},
   "outputs": [
    {
     "data": {
      "text/plain": [
       "10"
      ]
     },
     "execution_count": 26,
     "metadata": {},
     "output_type": "execute_result"
    }
   ],
   "source": [
    "df['hashtags'].isna().sum()"
   ]
  },
  {
   "cell_type": "markdown",
   "id": "2306a20f",
   "metadata": {},
   "source": [
    "## Checking Tweets with no Hashtags\n",
    "There are 10 tweets that don't have a hashtag that we'll examine."
   ]
  },
  {
   "cell_type": "code",
   "execution_count": 27,
   "id": "d011c741",
   "metadata": {},
   "outputs": [
    {
     "data": {
      "text/html": [
       "<div>\n",
       "<style scoped>\n",
       "    .dataframe tbody tr th:only-of-type {\n",
       "        vertical-align: middle;\n",
       "    }\n",
       "\n",
       "    .dataframe tbody tr th {\n",
       "        vertical-align: top;\n",
       "    }\n",
       "\n",
       "    .dataframe thead th {\n",
       "        text-align: right;\n",
       "    }\n",
       "</style>\n",
       "<table border=\"1\" class=\"dataframe\">\n",
       "  <thead>\n",
       "    <tr style=\"text-align: right;\">\n",
       "      <th></th>\n",
       "      <th>tweet</th>\n",
       "      <th>brand_product</th>\n",
       "      <th>emotion</th>\n",
       "      <th>hashtags</th>\n",
       "    </tr>\n",
       "  </thead>\n",
       "  <tbody>\n",
       "    <tr>\n",
       "      <th>307</th>\n",
       "      <td>And a few are Android too RT @mention 10 New M...</td>\n",
       "      <td>Android App</td>\n",
       "      <td>Positive</td>\n",
       "      <td>NaN</td>\n",
       "    </tr>\n",
       "    <tr>\n",
       "      <th>471</th>\n",
       "      <td>Before It Even Begins, Apple WinsåÊ#SxSW, {lin...</td>\n",
       "      <td>Apple</td>\n",
       "      <td>Positive</td>\n",
       "      <td>NaN</td>\n",
       "    </tr>\n",
       "    <tr>\n",
       "      <th>768</th>\n",
       "      <td>Google to Launch Major New Social Network Call...</td>\n",
       "      <td>Google</td>\n",
       "      <td>Positive</td>\n",
       "      <td>NaN</td>\n",
       "    </tr>\n",
       "    <tr>\n",
       "      <th>791</th>\n",
       "      <td>Google to Launch Major New Social Network Call...</td>\n",
       "      <td>NaN</td>\n",
       "      <td>Neutral</td>\n",
       "      <td>NaN</td>\n",
       "    </tr>\n",
       "    <tr>\n",
       "      <th>930</th>\n",
       "      <td>To buy or not to buy RT @mention Before It Eve...</td>\n",
       "      <td>Apple</td>\n",
       "      <td>Positive</td>\n",
       "      <td>NaN</td>\n",
       "    </tr>\n",
       "    <tr>\n",
       "      <th>1139</th>\n",
       "      <td>ÛÏ@mention The 10 most dangerous IPhone apps....</td>\n",
       "      <td>NaN</td>\n",
       "      <td>Neutral</td>\n",
       "      <td>NaN</td>\n",
       "    </tr>\n",
       "    <tr>\n",
       "      <th>2427</th>\n",
       "      <td>Extra iPad 2 for sale in Austin convention cen...</td>\n",
       "      <td>NaN</td>\n",
       "      <td>Neutral</td>\n",
       "      <td>NaN</td>\n",
       "    </tr>\n",
       "    <tr>\n",
       "      <th>3477</th>\n",
       "      <td>GENIUS behind Google Circles.\\n¡á¾_Î¾Ð¡____...</td>\n",
       "      <td>Other Google product or service</td>\n",
       "      <td>Positive</td>\n",
       "      <td>NaN</td>\n",
       "    </tr>\n",
       "    <tr>\n",
       "      <th>5015</th>\n",
       "      <td>RT @mention</td>\n",
       "      <td>NaN</td>\n",
       "      <td>Neutral</td>\n",
       "      <td>NaN</td>\n",
       "    </tr>\n",
       "    <tr>\n",
       "      <th>5538</th>\n",
       "      <td>RT @mention Before It Even Begins, Apple Winså...</td>\n",
       "      <td>Apple</td>\n",
       "      <td>Positive</td>\n",
       "      <td>NaN</td>\n",
       "    </tr>\n",
       "  </tbody>\n",
       "</table>\n",
       "</div>"
      ],
      "text/plain": [
       "                                                  tweet  \\\n",
       "307   And a few are Android too RT @mention 10 New M...   \n",
       "471   Before It Even Begins, Apple WinsåÊ#SxSW, {lin...   \n",
       "768   Google to Launch Major New Social Network Call...   \n",
       "791   Google to Launch Major New Social Network Call...   \n",
       "930   To buy or not to buy RT @mention Before It Eve...   \n",
       "1139  ÛÏ@mention The 10 most dangerous IPhone apps....   \n",
       "2427  Extra iPad 2 for sale in Austin convention cen...   \n",
       "3477  GENIUS behind Google Circles.\\n¡á¾_Î¾Ð¡____...   \n",
       "5015                                        RT @mention   \n",
       "5538  RT @mention Before It Even Begins, Apple Winså...   \n",
       "\n",
       "                        brand_product   emotion hashtags  \n",
       "307                       Android App  Positive      NaN  \n",
       "471                             Apple  Positive      NaN  \n",
       "768                            Google  Positive      NaN  \n",
       "791                               NaN   Neutral      NaN  \n",
       "930                             Apple  Positive      NaN  \n",
       "1139                              NaN   Neutral      NaN  \n",
       "2427                              NaN   Neutral      NaN  \n",
       "3477  Other Google product or service  Positive      NaN  \n",
       "5015                              NaN   Neutral      NaN  \n",
       "5538                            Apple  Positive      NaN  "
      ]
     },
     "execution_count": 27,
     "metadata": {},
     "output_type": "execute_result"
    }
   ],
   "source": [
    "df[df['hashtags'].isna()]"
   ]
  },
  {
   "cell_type": "markdown",
   "id": "05a096ac",
   "metadata": {},
   "source": [
    "<font size=\"4\">It doesn't appear that there is any pattern to the tweets with no hashtags.</font>"
   ]
  },
  {
   "cell_type": "markdown",
   "id": "6b9b9998",
   "metadata": {},
   "source": [
    "## Checking the Hashtag Set\n",
    "Removing NaNs, making a list, converting to lowercase and forming a set."
   ]
  },
  {
   "cell_type": "code",
   "execution_count": 28,
   "id": "109cdb01",
   "metadata": {
    "tags": []
   },
   "outputs": [],
   "source": [
    "# removing Nans\n",
    "hashlists = df.hashtags.tolist()\n",
    "hashlists = [h_list for h_list in hashlists if str(h_list) != 'nan']"
   ]
  },
  {
   "cell_type": "code",
   "execution_count": 29,
   "id": "6f48a2a1",
   "metadata": {},
   "outputs": [
    {
     "data": {
      "text/plain": [
       "9055"
      ]
     },
     "execution_count": 29,
     "metadata": {},
     "output_type": "execute_result"
    }
   ],
   "source": [
    "# checking length\n",
    "len(hashlists)"
   ]
  },
  {
   "cell_type": "code",
   "execution_count": 30,
   "id": "45a0a3f6",
   "metadata": {},
   "outputs": [],
   "source": [
    "# unpacking hashtags & lowercasing\n",
    "hashtags = [hashtag.lower() for h_list in hashlists for hashtag in h_list]"
   ]
  },
  {
   "cell_type": "code",
   "execution_count": 31,
   "id": "43e61bd5",
   "metadata": {},
   "outputs": [
    {
     "data": {
      "text/plain": [
       "['#rise_austin', '#sxsw', '#sxsw', '#ipad', '#sxsw']"
      ]
     },
     "execution_count": 31,
     "metadata": {},
     "output_type": "execute_result"
    }
   ],
   "source": [
    "# checking work\n",
    "hashtags[:5]"
   ]
  },
  {
   "cell_type": "code",
   "execution_count": 32,
   "id": "1d91e83f",
   "metadata": {},
   "outputs": [
    {
     "data": {
      "text/plain": [
       "1460"
      ]
     },
     "execution_count": 32,
     "metadata": {},
     "output_type": "execute_result"
    }
   ],
   "source": [
    "# making a set and checking length\n",
    "len(set(hashtags))"
   ]
  },
  {
   "cell_type": "markdown",
   "id": "d10a168f",
   "metadata": {},
   "source": [
    "<font size=\"4\">There are 1,460 unique hashtags.</font>"
   ]
  },
  {
   "cell_type": "markdown",
   "id": "f17780d3",
   "metadata": {},
   "source": [
    "## Visualizing the Top 20 Hashtags\n",
    "Graphing the counts and frequencies of the top 20 hashtags."
   ]
  },
  {
   "cell_type": "code",
   "execution_count": 33,
   "id": "dfadfd5b",
   "metadata": {},
   "outputs": [],
   "source": [
    "# creating a dataframe for the plots\n",
    "hts = pd.DataFrame(hashtags, columns=['hashtags'])"
   ]
  },
  {
   "cell_type": "code",
   "execution_count": 34,
   "id": "6fb2aba8",
   "metadata": {},
   "outputs": [
    {
     "data": {
      "image/png": "[encoded data removed]",
      "text/plain": [
       "<Figure size 1152x576 with 1 Axes>"
      ]
     },
     "metadata": {},
     "output_type": "display_data"
    }
   ],
   "source": [
    "vz.hashtag_c(hts)"
   ]
  },
  {
   "cell_type": "code",
   "execution_count": 35,
   "id": "ac68abf2",
   "metadata": {},
   "outputs": [
    {
     "data": {
      "text/plain": [
       "#sxsw          9087\n",
       "#apple          416\n",
       "#google         321\n",
       "#sxswi          316\n",
       "#ipad2          296\n",
       "#iphone         265\n",
       "#ipad           264\n",
       "#android        131\n",
       "#austin         112\n",
       "#circles         98\n",
       "#tech            87\n",
       "#ubersocial      68\n",
       "#gsdm            64\n",
       "#japan           58\n",
       "#tapworthy       54\n",
       "#fb              52\n",
       "#qagb            50\n",
       "#infektd         48\n",
       "#winning         44\n",
       "#uxdes           40\n",
       "Name: hashtags, dtype: int64"
      ]
     },
     "execution_count": 35,
     "metadata": {},
     "output_type": "execute_result"
    }
   ],
   "source": [
    "hts['hashtags'].value_counts()[:20]"
   ]
  },
  {
   "cell_type": "code",
   "execution_count": 36,
   "id": "eda4fe47",
   "metadata": {},
   "outputs": [
    {
     "data": {
      "image/png": "[encoded data removed]",
      "text/plain": [
       "<Figure size 1152x576 with 1 Axes>"
      ]
     },
     "metadata": {},
     "output_type": "display_data"
    }
   ],
   "source": [
    "vz.hashtag_p(hts)"
   ]
  },
  {
   "cell_type": "code",
   "execution_count": 37,
   "id": "87cfb9a9",
   "metadata": {},
   "outputs": [
    {
     "data": {
      "text/plain": [
       "#sxsw          0.575892\n",
       "#apple         0.026364\n",
       "#google        0.020343\n",
       "#sxswi         0.020027\n",
       "#ipad2         0.018759\n",
       "#iphone        0.016794\n",
       "#ipad          0.016731\n",
       "#android       0.008302\n",
       "#austin        0.007098\n",
       "#circles       0.006211\n",
       "#tech          0.005514\n",
       "#ubersocial    0.004310\n",
       "#gsdm          0.004056\n",
       "#japan         0.003676\n",
       "#tapworthy     0.003422\n",
       "#fb            0.003296\n",
       "#qagb          0.003169\n",
       "#infektd       0.003042\n",
       "#winning       0.002789\n",
       "#uxdes         0.002535\n",
       "Name: hashtags, dtype: float64"
      ]
     },
     "execution_count": 37,
     "metadata": {},
     "output_type": "execute_result"
    }
   ],
   "source": [
    "hts['hashtags'].value_counts(normalize=True)[:20]"
   ]
  },
  {
   "cell_type": "markdown",
   "id": "11df0e07",
   "metadata": {},
   "source": [
    "<font size=\"4\">We can see from the graphs above that the vast majority (58%) of the hashtags are `#sxsw`. Every other hashtag is less than 2.7% of the total number of hashtags.</font>"
   ]
  },
  {
   "cell_type": "markdown",
   "id": "e6f32a49",
   "metadata": {},
   "source": [
    "## Checking for RTs\n",
    "Collecting the retweets checking the count. "
   ]
  },
  {
   "cell_type": "code",
   "execution_count": 38,
   "id": "9b144577",
   "metadata": {},
   "outputs": [],
   "source": [
    "RTs = fn.find_strings(df['tweet'], '(RT\\s@[A-Za-z]+[A-Za-z0-9-_]+)')"
   ]
  },
  {
   "cell_type": "code",
   "execution_count": 39,
   "id": "79aa2c6e",
   "metadata": {},
   "outputs": [
    {
     "data": {
      "text/plain": [
       "[['RT @madebymany'],\n",
       " ['RT @hamsandwich'],\n",
       " ['RT @malbonster'],\n",
       " ['RT @LaurieShook'],\n",
       " ['RT @mention']]"
      ]
     },
     "execution_count": 39,
     "metadata": {},
     "output_type": "execute_result"
    }
   ],
   "source": [
    "RTs[:5]"
   ]
  },
  {
   "cell_type": "code",
   "execution_count": 40,
   "id": "6ec3b7fd",
   "metadata": {},
   "outputs": [
    {
     "data": {
      "text/plain": [
       "2551"
      ]
     },
     "execution_count": 40,
     "metadata": {},
     "output_type": "execute_result"
    }
   ],
   "source": [
    "len(RTs)"
   ]
  },
  {
   "cell_type": "markdown",
   "id": "1bc92e1d",
   "metadata": {},
   "source": [
    "<font size=\"4\"> There are 2551 retweets. </font>"
   ]
  },
  {
   "cell_type": "markdown",
   "id": "2fbe0a75",
   "metadata": {},
   "source": [
    "## Checking for Mentions\n",
    "Collecting the mentions checking the count"
   ]
  },
  {
   "cell_type": "code",
   "execution_count": 41,
   "id": "d5f49b3c",
   "metadata": {},
   "outputs": [
    {
     "data": {
      "text/plain": [
       "[['@wesley83'],\n",
       " ['@jessedee', '@fludapp'],\n",
       " ['@swonderlin'],\n",
       " ['@sxsw'],\n",
       " ['@sxtxstate']]"
      ]
     },
     "execution_count": 41,
     "metadata": {},
     "output_type": "execute_result"
    }
   ],
   "source": [
    "ats = fn.find_strings(df['tweet'], '@[A-Za-z]+[A-Za-z0-9-_]+')\n",
    "ats[:5]"
   ]
  },
  {
   "cell_type": "code",
   "execution_count": 42,
   "id": "f5554637",
   "metadata": {},
   "outputs": [
    {
     "data": {
      "text/plain": [
       "4903"
      ]
     },
     "execution_count": 42,
     "metadata": {},
     "output_type": "execute_result"
    }
   ],
   "source": [
    "len(ats)"
   ]
  },
  {
   "cell_type": "markdown",
   "id": "e42a0793",
   "metadata": {},
   "source": [
    "<font size=\"4\"> There are 4903 mentions. </font>"
   ]
  },
  {
   "cell_type": "markdown",
   "id": "a9a8d7f3",
   "metadata": {},
   "source": [
    "## Checking Brand/Product Counts and Frequencies"
   ]
  },
  {
   "cell_type": "code",
   "execution_count": 43,
   "id": "40f99f8d",
   "metadata": {},
   "outputs": [
    {
     "data": {
      "text/plain": [
       "10"
      ]
     },
     "execution_count": 43,
     "metadata": {},
     "output_type": "execute_result"
    }
   ],
   "source": [
    "len(df.brand_product.unique())"
   ]
  },
  {
   "cell_type": "markdown",
   "id": "6df94935",
   "metadata": {},
   "source": [
    "<font size=\"4\">The are 10 unique values in the `Brand/Product` column including `NaN`.</font>"
   ]
  },
  {
   "cell_type": "code",
   "execution_count": 44,
   "id": "e589b2f4",
   "metadata": {},
   "outputs": [
    {
     "data": {
      "text/plain": [
       "0.6381687810259239"
      ]
     },
     "execution_count": 44,
     "metadata": {},
     "output_type": "execute_result"
    }
   ],
   "source": [
    "df.brand_product.isna().sum()/df.shape[0]"
   ]
  },
  {
   "cell_type": "markdown",
   "id": "428b4ad4",
   "metadata": {},
   "source": [
    "<font size=\"4\">63% of the rows have null values in the `Brand/Product` column.</font>"
   ]
  },
  {
   "cell_type": "code",
   "execution_count": 45,
   "id": "02d30940",
   "metadata": {},
   "outputs": [
    {
     "data": {
      "text/plain": [
       "0.3618312189740761"
      ]
     },
     "execution_count": 45,
     "metadata": {},
     "output_type": "execute_result"
    }
   ],
   "source": [
    "df.brand_product.value_counts().sum()/df.shape[0]"
   ]
  },
  {
   "cell_type": "markdown",
   "id": "f0c6823c",
   "metadata": {},
   "source": [
    "<font size=\"4\">36% of rows have non-null brand data.</font >"
   ]
  },
  {
   "cell_type": "code",
   "execution_count": 46,
   "id": "965cc886",
   "metadata": {},
   "outputs": [
    {
     "data": {
      "text/plain": [
       "iPad                               0.287500\n",
       "Apple                              0.200915\n",
       "iPad or iPhone App                 0.142988\n",
       "Google                             0.130488\n",
       "iPhone                             0.090244\n",
       "Other Google product or service    0.089329\n",
       "Android App                        0.024390\n",
       "Android                            0.023476\n",
       "Other Apple product or service     0.010671\n",
       "Name: brand_product, dtype: float64"
      ]
     },
     "execution_count": 46,
     "metadata": {},
     "output_type": "execute_result"
    }
   ],
   "source": [
    "df.brand_product.value_counts(normalize=True)"
   ]
  },
  {
   "cell_type": "code",
   "execution_count": 47,
   "id": "291c3dc3",
   "metadata": {},
   "outputs": [
    {
     "data": {
      "text/plain": [
       "0.7323170731707316"
      ]
     },
     "execution_count": 47,
     "metadata": {},
     "output_type": "execute_result"
    }
   ],
   "source": [
    "idx = [0, 1, 2, 4, 8]\n",
    "sum = 0\n",
    "for i in idx:\n",
    "    sum += df.brand_product.value_counts(normalize=True)[i]\n",
    "sum"
   ]
  },
  {
   "cell_type": "markdown",
   "id": "911ceba8",
   "metadata": {},
   "source": [
    "<font size=\"4\">The Apple brand and Apple products account for 73% of the brand data.</font>"
   ]
  },
  {
   "cell_type": "code",
   "execution_count": 48,
   "id": "4a23c5f7",
   "metadata": {},
   "outputs": [
    {
     "data": {
      "image/png": "[encoded data removed]",
      "text/plain": [
       "<Figure size 1440x576 with 1 Axes>"
      ]
     },
     "metadata": {},
     "output_type": "display_data"
    }
   ],
   "source": [
    "vz.brand_freqs(df)"
   ]
  },
  {
   "cell_type": "markdown",
   "id": "47f26bc9",
   "metadata": {},
   "source": [
    "<font size=\"4\"> The graph above confirm Apple's predominance in the `Brand/Product` column. </font>"
   ]
  },
  {
   "cell_type": "markdown",
   "id": "8837d5b3",
   "metadata": {},
   "source": [
    "## Checking Emotion Unique Values"
   ]
  },
  {
   "cell_type": "code",
   "execution_count": 49,
   "id": "1c5e2812",
   "metadata": {},
   "outputs": [
    {
     "data": {
      "text/plain": [
       "4"
      ]
     },
     "execution_count": 49,
     "metadata": {},
     "output_type": "execute_result"
    }
   ],
   "source": [
    "len(df.emotion.unique())"
   ]
  },
  {
   "cell_type": "markdown",
   "id": "c992b9c6",
   "metadata": {},
   "source": [
    "<font size=\"4\">There are 4 unique values in the emotion category.</font>"
   ]
  },
  {
   "cell_type": "code",
   "execution_count": 50,
   "id": "02836492",
   "metadata": {
    "tags": []
   },
   "outputs": [
    {
     "data": {
      "text/plain": [
       "Neutral         5372\n",
       "Positive        2968\n",
       "Negative         569\n",
       "I can't tell     156\n",
       "Name: emotion, dtype: int64"
      ]
     },
     "execution_count": 50,
     "metadata": {},
     "output_type": "execute_result"
    }
   ],
   "source": [
    "df.emotion.value_counts()"
   ]
  },
  {
   "cell_type": "code",
   "execution_count": 51,
   "id": "521ce9b9",
   "metadata": {
    "tags": []
   },
   "outputs": [
    {
     "data": {
      "text/plain": [
       "Neutral         0.592609\n",
       "Positive        0.327413\n",
       "Negative        0.062769\n",
       "I can't tell    0.017209\n",
       "Name: emotion, dtype: float64"
      ]
     },
     "execution_count": 51,
     "metadata": {},
     "output_type": "execute_result"
    }
   ],
   "source": [
    "df.emotion.value_counts(normalize=True)"
   ]
  },
  {
   "cell_type": "code",
   "execution_count": 52,
   "id": "5c26bcb0",
   "metadata": {},
   "outputs": [
    {
     "data": {
      "image/png": "[encoded data removed]",
      "text/plain": [
       "<Figure size 1440x576 with 1 Axes>"
      ]
     },
     "metadata": {},
     "output_type": "display_data"
    }
   ],
   "source": [
    "vz.emotion_freqs(df)"
   ]
  },
  {
   "cell_type": "markdown",
   "id": "cd1d4240",
   "metadata": {},
   "source": [
    "<font size=\"4\">`No emotion` accounts for 59% of the data.</font>\n",
    "\n",
    "<font size=\"4\">`Positive emotion`                   accounts for 33% of the data.</font>\n",
    "\n",
    "<font size=\"4\">`Negative emotion`                   accounts for 6% of the data.</font>\n",
    "\n",
    "<font size=\"4\">`I can't tell`                       accounts for 2% of the data.</font>"
   ]
  },
  {
   "cell_type": "markdown",
   "id": "3f816c64",
   "metadata": {},
   "source": [
    "<font size=\"4\">We want to be able to detect the emotional sentiment of the tweets so we'll drop the `I can't tell` labels.</font>"
   ]
  },
  {
   "cell_type": "code",
   "execution_count": 53,
   "id": "9263ae7f",
   "metadata": {},
   "outputs": [
    {
     "data": {
      "text/plain": [
       "True"
      ]
     },
     "execution_count": 53,
     "metadata": {},
     "output_type": "execute_result"
    }
   ],
   "source": [
    "# getting the original number of rows\n",
    "before = df.shape[0]\n",
    "\n",
    "# saving number of 'can't tell' rows\n",
    "num_cant_tell =df.emotion.value_counts()[3]\n",
    "\n",
    "# dropping the 'can't tell' rows\n",
    "df = df[~(df['emotion']=='I can\\'t tell')]\n",
    "\n",
    "# resetting index\n",
    "df.reset_index(drop=True, inplace=True)\n",
    "\n",
    "# checking that the number of rows dropped match the number of 'can't tell' rows\n",
    "before - df.shape[0] == num_cant_tell"
   ]
  },
  {
   "cell_type": "markdown",
   "id": "16111c7e",
   "metadata": {},
   "source": [
    "## Emotions by Brand"
   ]
  },
  {
   "cell_type": "code",
   "execution_count": 54,
   "id": "6b8bf5a4",
   "metadata": {},
   "outputs": [
    {
     "data": {
      "image/png": "[encoded data removed]",
      "text/plain": [
       "<Figure size 1152x576 with 1 Axes>"
      ]
     },
     "metadata": {},
     "output_type": "display_data"
    }
   ],
   "source": [
    "vz.brand_emotions(df)"
   ]
  },
  {
   "cell_type": "markdown",
   "id": "aa348e1e-ee33-4202-9d2a-865cbd312b2e",
   "metadata": {},
   "source": [
    "<font size=\"4\">Apple dominates the tweets with `iPad`, `Apple`, and `iPad or iPhone App` being the subjects of the most tweets.</font>"
   ]
  },
  {
   "cell_type": "code",
   "execution_count": 55,
   "id": "f0d52a21",
   "metadata": {},
   "outputs": [
    {
     "data": {
      "image/png": "[encoded data removed]",
      "text/plain": [
       "<Figure size 1152x576 with 1 Axes>"
      ]
     },
     "metadata": {},
     "output_type": "display_data"
    }
   ],
   "source": [
    "vz.brand_emotion_n(df)"
   ]
  },
  {
   "cell_type": "markdown",
   "id": "2fedd0cd-fa4d-465d-bf60-f3ec18fd48fa",
   "metadata": {},
   "source": [
    "<font size=\"4\">Tweets about product and brands have a strong postive skew, with the only exception being tweets about the iPhone. `iPhone` has a much more mixed ratio of postives and negatives</font>"
   ]
  },
  {
   "cell_type": "markdown",
   "id": "d45c779c",
   "metadata": {},
   "source": [
    "## Checking Nulls in Product Column"
   ]
  },
  {
   "cell_type": "code",
   "execution_count": 56,
   "id": "73e976bb",
   "metadata": {},
   "outputs": [],
   "source": [
    "#  filtering down to null porduct data\n",
    "product_nulls = df[df['brand_product'].isnull()]"
   ]
  },
  {
   "cell_type": "code",
   "execution_count": 57,
   "id": "713d3549",
   "metadata": {},
   "outputs": [
    {
     "data": {
      "text/html": [
       "<div>\n",
       "<style scoped>\n",
       "    .dataframe tbody tr th:only-of-type {\n",
       "        vertical-align: middle;\n",
       "    }\n",
       "\n",
       "    .dataframe tbody tr th {\n",
       "        vertical-align: top;\n",
       "    }\n",
       "\n",
       "    .dataframe thead th {\n",
       "        text-align: right;\n",
       "    }\n",
       "</style>\n",
       "<table border=\"1\" class=\"dataframe\">\n",
       "  <thead>\n",
       "    <tr style=\"text-align: right;\">\n",
       "      <th></th>\n",
       "      <th>tweet</th>\n",
       "      <th>brand_product</th>\n",
       "      <th>emotion</th>\n",
       "      <th>hashtags</th>\n",
       "    </tr>\n",
       "  </thead>\n",
       "  <tbody>\n",
       "    <tr>\n",
       "      <th>5</th>\n",
       "      <td>@teachntech00 New iPad Apps For #SpeechTherapy...</td>\n",
       "      <td>NaN</td>\n",
       "      <td>Neutral</td>\n",
       "      <td>[#SpeechTherapy, #SXSW, #iear, #edchat, #asd]</td>\n",
       "    </tr>\n",
       "    <tr>\n",
       "      <th>15</th>\n",
       "      <td>Holler Gram for iPad on the iTunes App Store -...</td>\n",
       "      <td>NaN</td>\n",
       "      <td>Neutral</td>\n",
       "      <td>[#sxsw]</td>\n",
       "    </tr>\n",
       "    <tr>\n",
       "      <th>31</th>\n",
       "      <td>Attn: All  #SXSW frineds, @mention Register fo...</td>\n",
       "      <td>NaN</td>\n",
       "      <td>Neutral</td>\n",
       "      <td>[#SXSW, #GDGTLive]</td>\n",
       "    </tr>\n",
       "    <tr>\n",
       "      <th>32</th>\n",
       "      <td>Anyone at  #sxsw want to sell their old iPad?</td>\n",
       "      <td>NaN</td>\n",
       "      <td>Neutral</td>\n",
       "      <td>[#sxsw]</td>\n",
       "    </tr>\n",
       "    <tr>\n",
       "      <th>33</th>\n",
       "      <td>Anyone at  #SXSW who bought the new iPad want ...</td>\n",
       "      <td>NaN</td>\n",
       "      <td>Neutral</td>\n",
       "      <td>[#SXSW]</td>\n",
       "    </tr>\n",
       "  </tbody>\n",
       "</table>\n",
       "</div>"
      ],
      "text/plain": [
       "                                                tweet brand_product  emotion  \\\n",
       "5   @teachntech00 New iPad Apps For #SpeechTherapy...           NaN  Neutral   \n",
       "15  Holler Gram for iPad on the iTunes App Store -...           NaN  Neutral   \n",
       "31  Attn: All  #SXSW frineds, @mention Register fo...           NaN  Neutral   \n",
       "32      Anyone at  #sxsw want to sell their old iPad?           NaN  Neutral   \n",
       "33  Anyone at  #SXSW who bought the new iPad want ...           NaN  Neutral   \n",
       "\n",
       "                                         hashtags  \n",
       "5   [#SpeechTherapy, #SXSW, #iear, #edchat, #asd]  \n",
       "15                                        [#sxsw]  \n",
       "31                             [#SXSW, #GDGTLive]  \n",
       "32                                        [#sxsw]  \n",
       "33                                        [#SXSW]  "
      ]
     },
     "execution_count": 57,
     "metadata": {},
     "output_type": "execute_result"
    }
   ],
   "source": [
    "# checking first five rows\n",
    "product_nulls.head()"
   ]
  },
  {
   "cell_type": "markdown",
   "id": "6f9c76c2-2896-4bd5-acd3-fed7537d85f0",
   "metadata": {},
   "source": [
    "## Checking The Null Product Data Frame Info"
   ]
  },
  {
   "cell_type": "code",
   "execution_count": 58,
   "id": "c4568a4f",
   "metadata": {},
   "outputs": [
    {
     "name": "stdout",
     "output_type": "stream",
     "text": [
      "<class 'pandas.core.frame.DataFrame'>\n",
      "Int64Index: 5638 entries, 5 to 8908\n",
      "Data columns (total 4 columns):\n",
      " #   Column         Non-Null Count  Dtype \n",
      "---  ------         --------------  ----- \n",
      " 0   tweet          5638 non-null   object\n",
      " 1   brand_product  0 non-null      object\n",
      " 2   emotion        5638 non-null   object\n",
      " 3   hashtags       5634 non-null   object\n",
      "dtypes: object(4)\n",
      "memory usage: 220.2+ KB\n"
     ]
    }
   ],
   "source": [
    "product_nulls.info()"
   ]
  },
  {
   "cell_type": "markdown",
   "id": "bdf14709-40f5-4023-9d8f-8dcb7a472ac6",
   "metadata": {},
   "source": [
    "## Checking the Null Product Emotion Value Counts & Percentages"
   ]
  },
  {
   "cell_type": "code",
   "execution_count": 59,
   "id": "cd5a2e66",
   "metadata": {},
   "outputs": [
    {
     "data": {
      "text/plain": [
       "Neutral     5281\n",
       "Positive     306\n",
       "Negative      51\n",
       "Name: emotion, dtype: int64"
      ]
     },
     "execution_count": 59,
     "metadata": {},
     "output_type": "execute_result"
    }
   ],
   "source": [
    "product_nulls['emotion'].value_counts()"
   ]
  },
  {
   "cell_type": "code",
   "execution_count": 60,
   "id": "54757708-d3b6-4216-8ee1-27b0bfed941a",
   "metadata": {},
   "outputs": [
    {
     "data": {
      "text/plain": [
       "Neutral     0.936680\n",
       "Positive    0.054275\n",
       "Negative    0.009046\n",
       "Name: emotion, dtype: float64"
      ]
     },
     "execution_count": 60,
     "metadata": {},
     "output_type": "execute_result"
    }
   ],
   "source": [
    "product_nulls['emotion'].value_counts(normalize=True)"
   ]
  },
  {
   "cell_type": "markdown",
   "id": "72b408ff-28c2-4999-8469-b797e4ce7bfa",
   "metadata": {},
   "source": [
    "<font size=\"4\"></font>"
   ]
  },
  {
   "cell_type": "markdown",
   "id": "bd55588b-b8af-4bc2-85f4-f5aa0b94554f",
   "metadata": {},
   "source": [
    "<font size=\"4\">Over 90% of tweets with null brand data are  neutral.</font>"
   ]
  },
  {
   "cell_type": "markdown",
   "id": "d9b3cf19",
   "metadata": {},
   "source": [
    "## Visualizing Null Brands Emotion Data"
   ]
  },
  {
   "cell_type": "code",
   "execution_count": 61,
   "id": "cbbb01bf",
   "metadata": {},
   "outputs": [],
   "source": [
    "null_brand_emotions = df[(df['brand_product'].isna()) &\\\n",
    "                        (df['emotion'] != 'Neutral')]"
   ]
  },
  {
   "cell_type": "code",
   "execution_count": 62,
   "id": "3557ed1f",
   "metadata": {},
   "outputs": [
    {
     "name": "stdout",
     "output_type": "stream",
     "text": [
      "<class 'pandas.core.frame.DataFrame'>\n",
      "Int64Index: 357 entries, 45 to 8872\n",
      "Data columns (total 4 columns):\n",
      " #   Column         Non-Null Count  Dtype \n",
      "---  ------         --------------  ----- \n",
      " 0   tweet          357 non-null    object\n",
      " 1   brand_product  0 non-null      object\n",
      " 2   emotion        357 non-null    object\n",
      " 3   hashtags       357 non-null    object\n",
      "dtypes: object(4)\n",
      "memory usage: 13.9+ KB\n"
     ]
    }
   ],
   "source": [
    "null_brand_emotions.info()"
   ]
  },
  {
   "cell_type": "markdown",
   "id": "f6ede941",
   "metadata": {},
   "source": [
    "## Null Brand Emotion Counts"
   ]
  },
  {
   "cell_type": "code",
   "execution_count": 63,
   "id": "6569ac44",
   "metadata": {},
   "outputs": [
    {
     "data": {
      "image/png": "[encoded data removed]",
      "text/plain": [
       "<Figure size 1440x576 with 1 Axes>"
      ]
     },
     "metadata": {},
     "output_type": "display_data"
    }
   ],
   "source": [
    "vz.null_brand_emotions(df)"
   ]
  },
  {
   "cell_type": "markdown",
   "id": "3269e017",
   "metadata": {},
   "source": [
    "## Examining Some Null Brand Tweets"
   ]
  },
  {
   "cell_type": "code",
   "execution_count": 64,
   "id": "6dc7bed3",
   "metadata": {
    "tags": []
   },
   "outputs": [
    {
     "name": "stdout",
     "output_type": "stream",
     "text": [
      "Hand-Held Û÷HoboÛª: Drafthouse launches Û÷Hobo With a ShotgunÛª iPhone app #SXSW {link}\n"
     ]
    }
   ],
   "source": [
    "print(null_brand_emotions.tweet[45])"
   ]
  },
  {
   "cell_type": "code",
   "execution_count": 65,
   "id": "e1d6c1b2",
   "metadata": {},
   "outputs": [
    {
     "name": "stdout",
     "output_type": "stream",
     "text": [
      "Again? RT @mention Line at the Apple store is insane.. #sxsw\n"
     ]
    }
   ],
   "source": [
    "print(null_brand_emotions.tweet[63])"
   ]
  },
  {
   "cell_type": "code",
   "execution_count": 66,
   "id": "9abde844",
   "metadata": {},
   "outputs": [
    {
     "name": "stdout",
     "output_type": "stream",
     "text": [
      "Boooo! RT @mention Flipboard is developing an iPhone version, not Android, says @mention #sxsw\n"
     ]
    }
   ],
   "source": [
    "print(null_brand_emotions.tweet[67])"
   ]
  },
  {
   "cell_type": "markdown",
   "id": "5057f537",
   "metadata": {},
   "source": [
    "## Data Preparation II: (Cleaning & Feature Engineering)\n",
    "The master cleaning functions remove punctuation, urls, retweets, mentions, other unwanted substrings ('{link}', &amp, &quot, &nbsp, &lt, &gt), lower case all letters, and return a list of clean and regularized (lemmas and stems) tweets."
   ]
  },
  {
   "cell_type": "code",
   "execution_count": 67,
   "id": "eb4df6c3",
   "metadata": {},
   "outputs": [
    {
     "data": {
      "text/plain": [
       "['3g',\n",
       " 'iphone',\n",
       " 'hr',\n",
       " 'tweeting',\n",
       " 'rise',\n",
       " 'austin',\n",
       " 'dead',\n",
       " 'need',\n",
       " 'upgrade',\n",
       " 'plugin',\n",
       " 'station']"
      ]
     },
     "execution_count": 67,
     "metadata": {},
     "output_type": "execute_result"
    }
   ],
   "source": [
    "fn.clean_tweet_lem(df.tweet[0])"
   ]
  },
  {
   "cell_type": "code",
   "execution_count": 68,
   "id": "3d6d473a",
   "metadata": {},
   "outputs": [],
   "source": [
    "data_clean_lemmas = fn.clean_corpus_lem(df.tweet)\n",
    "\n",
    "data_clean_stems = fn.clean_corpus_stem(df.tweet)"
   ]
  },
  {
   "cell_type": "markdown",
   "id": "8be1f170",
   "metadata": {},
   "source": [
    "## Comparing Raw Tweets to the Cleaned & Regularized Tweets"
   ]
  },
  {
   "cell_type": "code",
   "execution_count": 69,
   "id": "f2e22841",
   "metadata": {
    "scrolled": true,
    "tags": []
   },
   "outputs": [
    {
     "name": "stdout",
     "output_type": "stream",
     "text": [
      "original: .@wesley83 I have a 3G iPhone. After 3 hrs tweeting at #RISE_Austin, it was dead!  I need to upgrade. Plugin stations at #SXSW.\n",
      "\n",
      "lemms: 3g iphone hr tweeting rise austin dead need upgrade plugin station\n",
      "stems: 3g iphon 3 hr tweet rise austin dead need upgrad plugin station\n",
      "\n",
      "original: @jessedee Know about @fludapp ? Awesome iPad/iPhone app that you'll likely appreciate for its design. Also, they're giving free Ts at #SXSW\n",
      "\n",
      "lemms: know awesome ipad iphone app likely appreciate design also giving free t\n",
      "stems: know awesom ipad iphon app like appreci design also give free ts\n",
      "\n",
      "original: @swonderlin Can not wait for #iPad 2 also. They should sale them down at #SXSW.\n",
      "\n",
      "lemms: wait ipad also sale\n",
      "stems: wait ipad also sale\n",
      "\n",
      "original: @sxsw I hope this year's festival isn't as crashy as this year's iPhone app. #sxsw\n",
      "\n",
      "lemms: hope year festival crashy year iphone app\n",
      "stems: hope year festiv crashi year iphon app\n",
      "\n",
      "original: @sxtxstate great stuff on Fri #SXSW: Marissa Mayer (Google), Tim O'Reilly (tech books/conferences) &amp; Matt Mullenweg (Wordpress)\n",
      "\n",
      "lemms: great stuff fri marissa mayer google tim reilly tech book conference matt mullenweg wordpress\n",
      "stems: great stuff fri marissa mayer googl tim reilli tech book confer matt mullenweg wordpress\n",
      "\n",
      "original: @teachntech00 New iPad Apps For #SpeechTherapy And Communication Are Showcased At The #SXSW Conference http://ht.ly/49n4M #iear #edchat #asd\n",
      "\n",
      "lemms: new ipad apps speechtherapy communication showcased conference iear edchat asd\n",
      "stems: new ipad app speechtherapi commun showcas confer iear edchat asd\n",
      "\n",
      "original: #SXSW is just starting, #CTIA is around the corner and #googleio is only a hop skip and a jump from there, good time to be an #android fan\n",
      "\n",
      "lemms: starting ctia around corner googleio hop skip jump good time android fan\n",
      "stems: start ctia around corner googleio hop skip jump good time android fan\n",
      "\n",
      "original: Beautifully smart and simple idea RT @madebymany @thenextweb wrote about our #hollergram iPad app for #sxsw! http://bit.ly/ieaVOB\n",
      "\n",
      "lemms: beautifully smart simple idea wrote hollergram ipad app\n",
      "stems: beauti smart simpl idea wrote hollergram ipad app\n",
      "\n",
      "original: Counting down the days to #sxsw plus strong Canadian dollar means stock up on Apple gear\n",
      "\n",
      "lemms: counting day plus strong canadian dollar mean stock apple gear\n",
      "stems: count day plu strong canadian dollar mean stock appl gear\n",
      "\n",
      "original: Excited to meet the @samsungmobileus at #sxsw so I can show them my Sprint Galaxy S still running Android 2.1.   #fail\n",
      "\n",
      "lemms: excited meet show sprint galaxy still running android fail\n",
      "stems: excit meet show sprint galaxi still run android 1 fail\n",
      "\n",
      "original: Find &amp; Start Impromptu Parties at #SXSW With @HurricaneParty http://bit.ly/gVLrIn I can't wait til the Android app comes out.\n",
      "\n",
      "lemms: find start impromptu party wait til android app come\n",
      "stems: find start impromptu parti wait til android app come\n",
      "\n",
      "original: Foursquare ups the game, just in time for #SXSW http://j.mp/grN7pK) - Still prefer @Gowalla by far, best looking Android app to date.\n",
      "\n",
      "lemms: foursquare ups game time still prefer far best looking android app date\n",
      "stems: foursquar up game time still prefer far best look android app date\n",
      "\n",
      "original: Gotta love this #SXSW Google Calendar featuring top parties/ show cases to check out.  RT @hamsandwich via @ischafer =&gt;http://bit.ly/aXZwxB\n",
      "\n",
      "lemms: gotta love google calendar featuring top party show case check via\n",
      "stems: gotta love googl calendar featur top parti show case check via\n",
      "\n",
      "original: Great #sxsw ipad app from @madebymany: http://tinyurl.com/4nqv92l\n",
      "\n",
      "lemms: great ipad app\n",
      "stems: great ipad app\n",
      "\n",
      "original: haha, awesomely rad iPad app by @madebymany http://bit.ly/hTdFim #hollergram #sxsw\n",
      "\n",
      "lemms: haha awesomely rad ipad app hollergram\n",
      "stems: haha awesom rad ipad app hollergram\n",
      "\n",
      "original: Holler Gram for iPad on the iTunes App Store -  http://t.co/kfN3f5Q (via @marc_is_ken) #sxsw\n",
      "\n",
      "lemms: holler gram ipad itunes app store via\n",
      "stems: holler gram ipad itun app store via\n",
      "\n",
      "original: I just noticed DST is coming this weekend. How many iPhone users will be an hour late at SXSW come Sunday morning? #SXSW #iPhone\n",
      "\n",
      "lemms: noticed dst coming weekend many iphone user hour late come sunday morning iphone\n",
      "stems: notic dst come weekend mani iphon user hour late come sunday morn iphon\n",
      "\n",
      "original: Just added my #SXSW flights to @planely. Matching people on planes/airports. Also downloaded the @KLM iPhone app, nicely done.\n",
      "\n",
      "lemms: added flight matching people plane airport also downloaded iphone app nicely done\n",
      "stems: ad flight match peopl plane airport also download iphon app nice done\n",
      "\n",
      "original: Must have #SXSW app! RT @malbonster: Lovely review from Forbes for our SXSW iPad app Holler Gram - http://t.co/g4GZypV\n",
      "\n",
      "lemms: must app lovely review forbes ipad app holler gram\n",
      "stems: must app love review forb ipad app holler gram\n",
      "\n",
      "original: Need to buy an iPad2 while I'm in Austin at #sxsw. Not sure if I'll need to Q up at an Austin Apple store?\n",
      "\n",
      "lemms: need buy ipad austin sure need q austin apple store\n",
      "stems: need buy ipad2 austin sure need q austin appl store\n",
      "\n",
      "original: Oh. My. God. The #SXSW app for iPad is pure, unadulterated awesome. It's easier to browse events on iPad than on the website!!!\n",
      "\n",
      "lemms: oh god app ipad pure unadulterated awesome easier browse event ipad website\n",
      "stems: oh god app ipad pure unadulter awesom easier brows event ipad websit\n",
      "\n",
      "original: Okay, this is really it: yay new @Foursquare for #Android app!!!!11 kthxbai. #sxsw\n",
      "\n",
      "lemms: okay really yay new android app kthxbai\n",
      "stems: okay realli yay new android app 11 kthxbai\n",
      "\n",
      "original: Photo: Just installed the #SXSW iPhone app, which is really nice! http://tumblr.com/x6t1pi6av7\n",
      "\n",
      "lemms: photo installed iphone app really nice\n",
      "stems: photo instal iphon app realli nice\n",
      "\n",
      "original: Really enjoying the changes in Gowalla 3.0 for Android! Looking forward to seeing what else they &amp; Foursquare have up their sleeves at #SXSW\n",
      "\n",
      "lemms: really enjoying change gowalla android looking forward seeing else foursquare sleeve\n",
      "stems: realli enjoy chang gowalla 3 0 android look forward see els foursquar sleev\n",
      "\n",
      "original: RT @LaurieShook: I'm looking forward to the #SMCDallas pre #SXSW party Wed., and hoping I'll win an #iPad resulting from my shameless promotion.  #ChevySMC\n",
      "\n",
      "lemms: looking forward smcdallas pre party wed hoping win ipad resulting shameless promotion chevysmc\n",
      "stems: look forward smcdalla pre parti wed hope win ipad result shameless promot chevysmc\n",
      "\n",
      "original: RT haha, awesomely rad iPad app by @madebymany http://bit.ly/hTdFim #hollergram #sxsw (via @michaelpiliero)\n",
      "\n",
      "lemms: haha awesomely rad ipad app hollergram via\n",
      "stems: haha awesom rad ipad app hollergram via\n",
      "\n",
      "original: someone started an #austin @PartnerHub group in google groups, pre-#sxsw. great idea\n",
      "\n",
      "lemms: someone started austin group google group pre great idea\n",
      "stems: someon start austin group googl group pre great idea\n",
      "\n",
      "original: The new #4sq3 looks like it is going to rock. Update for iPhone and Android should push tonight http://bit.ly/etsbZk #SXSW #KeepAustinWeird\n",
      "\n",
      "lemms: new 4sq look like going rock update iphone android push tonight keepaustinweird\n",
      "stems: new 4sq3 look like go rock updat iphon android push tonight keepaustinweird\n",
      "\n",
      "original: They were right, the @gowalla 3 app on #android is sweeeeet! Nice job by the team there. #sxsw\n",
      "\n",
      "lemms: right app android sweeeeet nice job team\n",
      "stems: right 3 app android sweeeeet nice job team\n",
      "\n",
      "original: Very smart from @madebymany #hollergram iPad app for #sxsw! http://t.co/A3xvWc6 (may leave my vuvuzela at home now)\n",
      "\n",
      "lemms: smart hollergram ipad app may leave vuvuzela home\n",
      "stems: smart hollergram ipad app may leav vuvuzela home\n",
      "\n",
      "original: You must have this app for your iPad if you are going to #SXSW http://itunes.apple.com/us/app/holler-gram/id420666439?mt=8 #hollergram\n",
      "\n",
      "lemms: must app ipad going hollergram\n",
      "stems: must app ipad go hollergram\n",
      "\n",
      "original: Attn: All  #SXSW frineds, @mention Register for #GDGTLive  and see Cobra iRadar for Android. {link}\n",
      "\n",
      "lemms: attn frineds register gdgtlive see cobra iradar android\n",
      "stems: attn frine regist gdgtlive see cobra iradar android\n",
      "\n",
      "original: Anyone at  #sxsw want to sell their old iPad?\n",
      "\n",
      "lemms: anyone want sell old ipad\n",
      "stems: anyon want sell old ipad\n",
      "\n",
      "original: Anyone at  #SXSW who bought the new iPad want to sell their older iPad to me?\n",
      "\n",
      "lemms: anyone bought new ipad want sell older ipad\n",
      "stems: anyon bought new ipad want sell older ipad\n",
      "\n",
      "original: At #sxsw.  Oooh. RT @mention Google to Launch Major New Social Network Called Circles, Possibly Today {link}\n",
      "\n",
      "lemms: oooh google launch major new social network called circle possibly today\n",
      "stems: oooh googl launch major new social network call circl possibl today\n",
      "\n",
      "original: The best!  RT @mention Ha! First in line for #ipad2 at #sxsw &quot;pop-up&quot; Apple store was an event planner #eventprofs #pcma #engage365\n",
      "\n",
      "lemms: best ha first line ipad pop apple store event planner eventprofs pcma engage\n",
      "stems: best ha first line ipad2 pop appl store event planner eventprof pcma engage365\n",
      "\n",
      "original: SPIN Play - a new concept in music discovery for your iPad from @mention &amp; spin.com {link} #iTunes #sxsw @mention\n",
      "\n",
      "lemms: spin play new concept music discovery ipad spin com itunes\n",
      "stems: spin play new concept music discoveri ipad spin com itun\n",
      "\n",
      "original: @mention  - False Alarm: Google Circles Not Coming NowÛÒand Probably Not Ever? - {link} #Google #Circles #Social #SXSW\n",
      "\n",
      "lemms: false alarm google circle coming probably ever google circle social\n",
      "stems: fals alarm googl circl come probabl ever googl circl social\n",
      "\n",
      "original: VatorNews - Google And Apple Force Print Media to Evolve? {link} #sxsw\n",
      "\n",
      "lemms: vatornews google apple force print medium evolve\n",
      "stems: vatornew googl appl forc print media evolv\n",
      "\n",
      "original: @mention  - Great weather to greet you for #sxsw! Still need a sweater at night..Apple putting up &quot;flash store&quot; downtown to sell iPad2\n",
      "\n",
      "lemms: great weather greet still need sweater night apple putting flash store downtown sell ipad\n",
      "stems: great weather greet still need sweater night appl put flash store downtown sell ipad2\n",
      "\n",
      "original: HootSuite - HootSuite Mobile for #SXSW ~ Updates for iPhone, BlackBerry &amp; Android: Whether youÛªre getting friend... {link}\n",
      "\n",
      "lemms: hootsuite hootsuite mobile update iphone blackberry android whether getting friend\n",
      "stems: hootsuit hootsuit mobil updat iphon blackberri android whether get friend\n",
      "\n",
      "original: Hey #SXSW - How long do you think it takes us to make an iPhone case? answer @mention using #zazzlesxsw and weÛªll make you one!\n",
      "\n",
      "lemms: hey long think take u make iphone case answer using zazzlesxsw make one\n",
      "stems: hey long think take us make iphon case answer use zazzlesxsw make one\n",
      "\n",
      "original: Mashable! - The iPad 2 Takes Over SXSW [VIDEO] #ipad #sxsw #gadgets {link}\n",
      "\n",
      "lemms: mashable ipad take video ipad gadget\n",
      "stems: mashabl ipad take video ipad gadget\n",
      "\n",
      "original: For I-Pad ?RT @mention New #UberSocial for #iPhone now in the App Store includes UberGuide to #SXSW sponsored by ... {link}\n",
      "\n",
      "lemms: pad new ubersocial iphone app store includes uberguide sponsored\n",
      "stems: pad new ubersoci iphon app store includ uberguid sponsor\n",
      "\n",
      "original: #IPad2 's Û÷#SmartCoverÛª Opens to Instant Access - I should have waited to get one! - {link} #apple #SXSW\n",
      "\n",
      "lemms: ipad smartcover open instant access waited get one apple\n",
      "stems: ipad2 smartcov open instant access wait get one appl\n",
      "\n",
      "original: Hand-Held Û÷HoboÛª: Drafthouse launches Û÷Hobo With a ShotgunÛª iPhone app #SXSW {link}\n",
      "\n",
      "lemms: hand held hobo drafthouse launch hobo shotgun iphone app\n",
      "stems: hand held hobo drafthous launch hobo shotgun iphon app\n",
      "\n",
      "original: HOORAY RT ÛÏ@mention Apple Is Opening A Pop-Up Store In Austin For #SXSW | @mention {link}\n",
      "\n",
      "lemms: hooray apple opening pop store austin\n",
      "stems: hooray appl open pop store austin\n",
      "\n",
      "original: Orly....? ÛÏ@mention Google set to launch new social network #Circles today at #sxswÛ\n",
      "\n",
      "lemms: orly google set launch new social network circle today\n",
      "stems: orli googl set launch new social network circl today\n",
      "\n",
      "original: wooooo!!! ÛÏ@mention Apple store downtown Austin open til Midnight. #sxswÛ\n",
      "\n",
      "lemms: wooooo apple store downtown austin open til midnight\n",
      "stems: wooooo appl store downtown austin open til midnight\n",
      "\n",
      "original: Khoi Vinh (@mention says Conde Nast's headlong rush into iPad publishing was a &quot;fundamental misunderstanding&quot; of the platform #sxsw\n",
      "\n",
      "lemms: khoi vinh say conde nast headlong rush ipad publishing fundamental misunderstanding platform\n",
      "stems: khoi vinh say cond nast headlong rush ipad publish fundament misunderstand platform\n",
      "\n",
      "original: ÛÏ@mention {link} &lt;-- HELP ME FORWARD THIS DOC to all Anonymous accounts, techies,&amp; ppl who can help us JAM #libya #SXSW\n",
      "\n",
      "lemms: help forward doc anonymous account techie ppl help u jam libya\n",
      "stems: help forward doc anonym account techi ppl help us jam libya\n",
      "\n",
      "original: ÷¼ WHAT? ÷_ {link} ã_ #edchat #musedchat #sxsw #sxswi #classical #newTwitter\n",
      "\n",
      "lemms: edchat musedchat classical newtwitter\n",
      "stems: edchat musedchat classic newtwitt\n",
      "\n",
      "original: .@mention @mention on the location-based 'fast, fun and future' - {link} (via @mention #sxsw\n",
      "\n",
      "lemms: location based fast fun future via\n",
      "stems: locat base fast fun futur via\n",
      "\n",
      "original: ÛÏ@mention @mention #Google Will Connect the Digital &amp; Physical Worlds Through Mobile - {link} #sxswÛ @mention\n",
      "\n",
      "lemms: google connect digital physical world mobile\n",
      "stems: googl connect digit physic world mobil\n",
      "\n",
      "original: ÛÏ@mention @mention talking about {link} - Google's effort to allow users to have open systems #bettercloud #sxswÛ\n",
      "\n",
      "lemms: talking google effort allow user open system bettercloud\n",
      "stems: talk googl effort allow user open system bettercloud\n",
      "\n",
      "original: {link} RT @mention &quot;Google before you tweet&quot; is the new &quot;think before you speak.&quot; - Mark Belinsky, #911tweets panel at #SXSW.\n",
      "\n",
      "lemms: google tweet new think speak mark belinsky 1tweets panel\n",
      "stems: googl tweet new think speak mark belinski 911tweet panel\n",
      "\n",
      "original: {link} RT @mention 1st stop on the #SXSW #Chaos &amp; @mention hunt: Austin Java. Get in the spy game 4 a chance 2 win an iPad!\n",
      "\n",
      "lemms: 1st stop chaos hunt austin java get spy game chance win ipad\n",
      "stems: 1st stop chao hunt austin java get spi game 4 chanc win ipad\n",
      "\n",
      "original: {link} RT @mention Those at #SXSW check out the Holler Gram ipad app from @mention  {link}\n",
      "\n",
      "lemms: check holler gram ipad app\n",
      "stems: check holler gram ipad app\n",
      "\n",
      "original: @mention  @mention &amp;  @mention having fun at #google [pic] #SXSW {link}\n",
      "\n",
      "lemms: fun google pic\n",
      "stems: fun googl pic\n",
      "\n",
      "original: &quot;via @mention : {link} Guy Kawasaki talks 'Enchanted' at SXSW - HE knows his stuff! #books #internet #Apple #sxsw  &quot;\n",
      "\n",
      "lemms: via guy kawasaki talk enchanted know stuff book internet apple\n",
      "stems: via guy kawasaki talk enchant know stuff book internet appl\n",
      "\n",
      "original: #futuremf @mention {link} spec for recipes on the web, now in google search: {link}  #sxsw\n",
      "\n",
      "lemms: futuremf spec recipe web google search\n",
      "stems: futuremf spec recip web googl search\n",
      "\n",
      "original: #OMFG! RT @mention Heard about Apple's pop-up store in downtown Austin? Pics are already on Gowalla: {link} #sxsw #iPad2\n",
      "\n",
      "lemms: omfg heard apple pop store downtown austin pic already gowalla ipad\n",
      "stems: omfg heard appl pop store downtown austin pic alreadi gowalla ipad2\n",
      "\n",
      "original: #Smile RT @mention I think Apple's &quot;pop-up store&quot; in Austin would be a lot more interesting if it actually, you know... popped up #sxsw\n",
      "\n",
      "lemms: smile think apple pop store austin would lot interesting actually know popped\n",
      "stems: smile think appl pop store austin would lot interest actual know pop\n",
      "\n",
      "original: Again? RT @mention Line at the Apple store is insane.. #sxsw\n",
      "\n",
      "lemms: line apple store insane\n",
      "stems: line appl store insan\n",
      "\n",
      "original: Agree. RT @mention Wait. FIONA APPLE is in town??? Somebody kidnap her and put her in a recording studio until she records a new album. #sxsw\n",
      "\n",
      "lemms: agree wait fiona apple town somebody kidnap put recording studio record new album\n",
      "stems: agre wait fiona appl town somebodi kidnap put record studio record new album\n",
      "\n",
      "original: At #sxsw? @mention / @mention wanna buy you a drink. 7pm at Fado on 4th. {link} Join us!\n",
      "\n",
      "lemms: wanna buy drink 7pm fado 4th join u\n",
      "stems: wanna buy drink 7pm fado 4th join us\n",
      "\n",
      "original: attending @mention iPad design headaches #sxsw {link}\n",
      "\n",
      "lemms: attending ipad design headache\n",
      "stems: attend ipad design headach\n",
      "\n",
      "original: Boooo! RT @mention Flipboard is developing an iPhone version, not Android, says @mention #sxsw\n",
      "\n",
      "lemms: boooo flipboard developing iphone version android say\n",
      "stems: boooo flipboard develop iphon version android say\n",
      "\n",
      "original: Check out @mention @mention &amp; @mention in line for their iPad 2 in Austin. Power to them! #sxswi #SXSW  {link}\n",
      "\n",
      "lemms: check line ipad austin power\n",
      "stems: check line ipad austin power\n",
      "\n",
      "original: Check! RT @mention giving added value to location based services needs to battle check-in fatigue #google #pnid #sxsw\n",
      "\n",
      "lemms: check giving added value location based service need battle check fatigue google pnid\n",
      "stems: check give ad valu locat base servic need battl check fatigu googl pnid\n",
      "\n",
      "original: Chilcott: @mention #SXSW stand talking with Blogger staff. Too late to win competition for best tweet mentioning @mention So no t-shirt.\n",
      "\n",
      "lemms: chilcott stand talking blogger staff late win competition best tweet mentioning shirt\n",
      "stems: chilcott stand talk blogger staff late win competit best tweet mention shirt\n",
      "\n",
      "original: Do it. RT @mention Come party w/ Google tonight at #sxsw! {link} - Bands, food, art, ice cream, nifty interactive maps!\n",
      "\n",
      "lemms: come party w google tonight band food art ice cream nifty interactive map\n",
      "stems: come parti w googl tonight band food art ice cream nifti interact map\n",
      "\n",
      "original: Gowalla's @mention promises to launch Foursquare check-in + Groupon rewards-type service at #SXSW. Finger's crossed. {link}\n",
      "\n",
      "lemms: gowalla promise launch foursquare check groupon reward type service finger crossed\n",
      "stems: gowalla promis launch foursquar check groupon reward type servic finger cross\n",
      "\n",
      "original: Ha.ha. RT @mention #SXSW News: Yahoo.com is loosing search traffic to new site, Google.com. Doubt it will last tho w/ that weird name.\n",
      "\n",
      "lemms: ha ha news yahoo com loosing search traffic new site google com doubt last tho w weird name\n",
      "stems: ha ha news yahoo com loos search traffic new site googl com doubt last tho w weird name\n",
      "\n",
      "original: Holla! RT @mention At google party. Best ever! Get your butt over here. #sxsw\n",
      "\n",
      "lemms: holla google party best ever get butt\n",
      "stems: holla googl parti best ever get butt\n",
      "\n",
      "original: I love my @mention iPhone case from #Sxsw but I can't get my phone out of it #fail\n",
      "\n",
      "lemms: love iphone case get phone fail\n",
      "stems: love iphon case get phone fail\n",
      "\n",
      "original: I worship @mention {link} #SXSW\n",
      "\n",
      "lemms: worship\n",
      "stems: worship\n",
      "\n",
      "original: iPad2? RT @mention Droid &amp; Mac here :) RT @mention My #agnerd confession, using laptop, iPad &amp; blackberry to follow #SXSW\n",
      "\n",
      "lemms: ipad droid mac agnerd confession using laptop ipad blackberry follow\n",
      "stems: ipad2 droid mac agnerd confess use laptop ipad blackberri follow\n",
      "\n",
      "original: Launching @mention #SxSW? RT @mention @mention Denies Social Network Called Circles Will Debut Today, Despite Report {link}\n",
      "\n",
      "lemms: launching denies social network called circle debut today despite report\n",
      "stems: launch deni social network call circl debut today despit report\n",
      "\n",
      "original: New Post: @mention iPhone app makes it easy to connect on all social networks with people you meet  {link} #sxsw\n",
      "\n",
      "lemms: new post iphone app make easy connect social network people meet\n",
      "stems: new post iphon app make easi connect social network peopl meet\n",
      "\n",
      "original: Nice that @mention iPhone app is behaving today. Crashes yesterday were ridiculous. #sxsw\n",
      "\n",
      "lemms: nice iphone app behaving today crash yesterday ridiculous\n",
      "stems: nice iphon app behav today crash yesterday ridicul\n",
      "\n",
      "original: Nice!  RT @mention Apple opening popup store for iPad launch in downtown Austin during #SXSW {link} via @mention\n",
      "\n",
      "lemms: nice apple opening popup store ipad launch downtown austin via\n",
      "stems: nice appl open popup store ipad launch downtown austin via\n",
      "\n",
      "original: Nice!! RT @mention Hey, Apple fans! Get a peek at the space that's slated to be a pop-up #SXSW Apple Store tomorrow: {link}\n",
      "\n",
      "lemms: nice hey apple fan get peek space slated pop apple store tomorrow\n",
      "stems: nice hey appl fan get peek space slate pop appl store tomorrow\n",
      "\n",
      "original: one thing @mention is doing so great is get a great, down to earth face to Google as a company - You can only love her #sxsw #sxwsi\n",
      "\n",
      "lemms: one thing great get great earth face google company love sxwsi\n",
      "stems: one thing great get great earth face googl compani love sxwsi\n",
      "\n",
      "original: Stay tune @mention showcase #H4ckers {link} #SXSW\n",
      "\n",
      "lemms: stay tune showcase h4ckers\n",
      "stems: stay tune showcas h4cker\n",
      "\n",
      "original: Thank you @mention @mention for the #touchingstories preso #SXSW . Here's their deck {link}\n",
      "\n",
      "lemms: thank touchingstories preso deck\n",
      "stems: thank touchingstori preso deck\n",
      "\n",
      "original: Thank you @mention for an awesome #sxsw party! {link}\n",
      "\n",
      "lemms: thank awesome party\n",
      "stems: thank awesom parti\n",
      "\n",
      "original: Thanks RT @mention If you're trying to contact friends or family in #Japan, @mention has created a person finder: {link} #SXSW\n",
      "\n",
      "lemms: thanks trying contact friend family japan created person finder\n",
      "stems: thank tri contact friend famili japan creat person finder\n",
      "\n",
      "original: Thanks to @mention for her mention of our new #Speech iPad apps being showcased at the #SXSW Conf. {link} #sxswh #sxsh\n",
      "\n",
      "lemms: thanks mention new speech ipad apps showcased conf sxswh sxsh\n",
      "stems: thank mention new speech ipad app showcas conf sxswh sxsh\n",
      "\n",
      "original: Thanks to @mention for publishing the news of our new medical Apps in the #sxswi conf. blog {link} #sxsw #sxswh #mhealth\n",
      "\n",
      "lemms: thanks publishing news new medical apps conf blog sxswh mhealth\n",
      "stems: thank publish news new medic app conf blog sxswh mhealth\n",
      "\n",
      "original: What !?!? @mention  #SXSW does not provide iPhone chargers?!?  I've changed my mind about going next year!\n",
      "\n",
      "lemms: provide iphone charger changed mind going next year\n",
      "stems: provid iphon charger chang mind go next year\n",
      "\n",
      "original: Wonder if @mention &amp; @mention will be in the apple flashmob: tcrn.ch/fcs45j #SXSW #ipad2\n",
      "\n",
      "lemms: wonder apple flashmob tcrn ch fcs5j ipad\n",
      "stems: wonder appl flashmob tcrn ch fcs45j ipad2\n",
      "\n",
      "original: Wonder if @mention is putting tips from the @mention API... #SxSW #SUxSW\n",
      "\n",
      "lemms: wonder putting tip api suxsw\n",
      "stems: wonder put tip api suxsw\n",
      "\n",
      "original: XMAS!! RT @mention Shiny new @mention @mention @mention apps, a new @garyvee book, pop-up iPad 2 stores... #SXSW is Christmas for nerds.\n",
      "\n",
      "lemms: xmas shiny new apps new book pop ipad store christmas nerd\n",
      "stems: xma shini new app new book pop ipad store christma nerd\n",
      "\n",
      "original: Yai!!! RT @mention New #UberSocial for #iPhone now in the App Store includes UberGuide to #SXSW sponsored by (cont) {link}\n",
      "\n",
      "lemms: yai new ubersocial iphone app store includes uberguide sponsored cont\n",
      "stems: yai new ubersoci iphon app store includ uberguid sponsor cont\n",
      "\n",
      "original: Yes!!! RT @mention hey @mention , i've got another gem for you --&gt; free @mention sxsw {link} #SXSW\n",
      "\n",
      "lemms: yes hey got another gem free\n",
      "stems: ye hey got anoth gem free\n",
      "\n",
      "original: Fast, Fun &amp; Future: @mention of Google presenting at #sxsw on search, local and mobile\n",
      "\n",
      "lemms: fast fun future google presenting search local mobile\n",
      "stems: fast fun futur googl present search local mobil\n",
      "\n",
      "original: GSD&amp;M &amp; Google's Industry Party Tonight @mention - See u there! {link} #SXSW #Austin #Welivehere #GSDM\n",
      "\n",
      "lemms: gsd google industry party tonight see u austin welivehere gsdm\n",
      "stems: gsd googl industri parti tonight see u austin weliveher gsdm\n",
      "\n",
      "original: New buzz? &quot;@mention Google to Launch Major New Social Network Called Circles, Possibly Today {link} rt @mention #sxsw&quot;\n",
      "\n",
      "lemms: new buzz google launch major new social network called circle possibly today rt\n",
      "stems: new buzz googl launch major new social network call circl possibl today rt\n",
      "\n",
      "original: Headline: &quot;#iPad 2 is the Must-Have Gadget at #SXSW&quot; Hmm... I could have seen that one coming! {link} #gadget\n",
      "\n",
      "lemms: headline ipad must gadget hmm could seen one coming gadget\n",
      "stems: headlin ipad must gadget hmm could seen one come gadget\n",
      "\n"
     ]
    }
   ],
   "source": [
    "for i in range(100):\n",
    "    print(f'original: {df.tweet[i]}\\n')\n",
    "    print(f'lemms: {data_clean_lemmas[i]}')\n",
    "    print(f'stems: {data_clean_stems[i]}\\n')"
   ]
  },
  {
   "cell_type": "markdown",
   "id": "53b28957",
   "metadata": {},
   "source": [
    "<font size=\"4\">Looks good, so we''ll add the lemmatized and stemmed tweets  to the data frame as columns.</font>"
   ]
  },
  {
   "cell_type": "markdown",
   "id": "6098438f",
   "metadata": {},
   "source": [
    "## Adding Cleaned Data to DF"
   ]
  },
  {
   "cell_type": "code",
   "execution_count": 70,
   "id": "20280c93",
   "metadata": {},
   "outputs": [],
   "source": [
    "df['lemmas'] = data_clean_lemmas"
   ]
  },
  {
   "cell_type": "code",
   "execution_count": 71,
   "id": "6a30742b",
   "metadata": {},
   "outputs": [],
   "source": [
    "df['stems'] = data_clean_stems"
   ]
  },
  {
   "cell_type": "code",
   "execution_count": 72,
   "id": "bae651ec",
   "metadata": {},
   "outputs": [
    {
     "data": {
      "text/html": [
       "<div>\n",
       "<style scoped>\n",
       "    .dataframe tbody tr th:only-of-type {\n",
       "        vertical-align: middle;\n",
       "    }\n",
       "\n",
       "    .dataframe tbody tr th {\n",
       "        vertical-align: top;\n",
       "    }\n",
       "\n",
       "    .dataframe thead th {\n",
       "        text-align: right;\n",
       "    }\n",
       "</style>\n",
       "<table border=\"1\" class=\"dataframe\">\n",
       "  <thead>\n",
       "    <tr style=\"text-align: right;\">\n",
       "      <th></th>\n",
       "      <th>tweet</th>\n",
       "      <th>brand_product</th>\n",
       "      <th>emotion</th>\n",
       "      <th>hashtags</th>\n",
       "      <th>lemmas</th>\n",
       "      <th>stems</th>\n",
       "    </tr>\n",
       "  </thead>\n",
       "  <tbody>\n",
       "    <tr>\n",
       "      <th>0</th>\n",
       "      <td>.@wesley83 I have a 3G iPhone. After 3 hrs twe...</td>\n",
       "      <td>iPhone</td>\n",
       "      <td>Negative</td>\n",
       "      <td>[#RISE_Austin, #SXSW]</td>\n",
       "      <td>3g iphone hr tweeting rise austin dead need up...</td>\n",
       "      <td>3g iphon 3 hr tweet rise austin dead need upgr...</td>\n",
       "    </tr>\n",
       "    <tr>\n",
       "      <th>1</th>\n",
       "      <td>@jessedee Know about @fludapp ? Awesome iPad/i...</td>\n",
       "      <td>iPad or iPhone App</td>\n",
       "      <td>Positive</td>\n",
       "      <td>[#SXSW]</td>\n",
       "      <td>know awesome ipad iphone app likely appreciate...</td>\n",
       "      <td>know awesom ipad iphon app like appreci design...</td>\n",
       "    </tr>\n",
       "    <tr>\n",
       "      <th>2</th>\n",
       "      <td>@swonderlin Can not wait for #iPad 2 also. The...</td>\n",
       "      <td>iPad</td>\n",
       "      <td>Positive</td>\n",
       "      <td>[#iPad, #SXSW]</td>\n",
       "      <td>wait ipad also sale</td>\n",
       "      <td>wait ipad also sale</td>\n",
       "    </tr>\n",
       "    <tr>\n",
       "      <th>3</th>\n",
       "      <td>@sxsw I hope this year's festival isn't as cra...</td>\n",
       "      <td>iPad or iPhone App</td>\n",
       "      <td>Negative</td>\n",
       "      <td>[#sxsw]</td>\n",
       "      <td>hope year festival crashy year iphone app</td>\n",
       "      <td>hope year festiv crashi year iphon app</td>\n",
       "    </tr>\n",
       "    <tr>\n",
       "      <th>4</th>\n",
       "      <td>@sxtxstate great stuff on Fri #SXSW: Marissa M...</td>\n",
       "      <td>Google</td>\n",
       "      <td>Positive</td>\n",
       "      <td>[#SXSW]</td>\n",
       "      <td>great stuff fri marissa mayer google tim reill...</td>\n",
       "      <td>great stuff fri marissa mayer googl tim reilli...</td>\n",
       "    </tr>\n",
       "  </tbody>\n",
       "</table>\n",
       "</div>"
      ],
      "text/plain": [
       "                                               tweet       brand_product  \\\n",
       "0  .@wesley83 I have a 3G iPhone. After 3 hrs twe...              iPhone   \n",
       "1  @jessedee Know about @fludapp ? Awesome iPad/i...  iPad or iPhone App   \n",
       "2  @swonderlin Can not wait for #iPad 2 also. The...                iPad   \n",
       "3  @sxsw I hope this year's festival isn't as cra...  iPad or iPhone App   \n",
       "4  @sxtxstate great stuff on Fri #SXSW: Marissa M...              Google   \n",
       "\n",
       "    emotion               hashtags  \\\n",
       "0  Negative  [#RISE_Austin, #SXSW]   \n",
       "1  Positive                [#SXSW]   \n",
       "2  Positive         [#iPad, #SXSW]   \n",
       "3  Negative                [#sxsw]   \n",
       "4  Positive                [#SXSW]   \n",
       "\n",
       "                                              lemmas  \\\n",
       "0  3g iphone hr tweeting rise austin dead need up...   \n",
       "1  know awesome ipad iphone app likely appreciate...   \n",
       "2                                wait ipad also sale   \n",
       "3          hope year festival crashy year iphone app   \n",
       "4  great stuff fri marissa mayer google tim reill...   \n",
       "\n",
       "                                               stems  \n",
       "0  3g iphon 3 hr tweet rise austin dead need upgr...  \n",
       "1  know awesom ipad iphon app like appreci design...  \n",
       "2                                wait ipad also sale  \n",
       "3             hope year festiv crashi year iphon app  \n",
       "4  great stuff fri marissa mayer googl tim reilli...  "
      ]
     },
     "execution_count": 72,
     "metadata": {},
     "output_type": "execute_result"
    }
   ],
   "source": [
    "df.head()"
   ]
  },
  {
   "cell_type": "code",
   "execution_count": 73,
   "id": "1546d4aa",
   "metadata": {},
   "outputs": [
    {
     "data": {
      "text/plain": [
       "'3g iphone hr tweeting rise austin dead need upgrade plugin station'"
      ]
     },
     "execution_count": 73,
     "metadata": {},
     "output_type": "execute_result"
    }
   ],
   "source": [
    "df.lemmas[0]"
   ]
  },
  {
   "cell_type": "markdown",
   "id": "e81225de",
   "metadata": {},
   "source": [
    "## Checking for Nulls & Empty Cells"
   ]
  },
  {
   "cell_type": "code",
   "execution_count": 74,
   "id": "4084be39",
   "metadata": {},
   "outputs": [
    {
     "data": {
      "text/plain": [
       "tweet               0\n",
       "brand_product    5638\n",
       "emotion             0\n",
       "hashtags           10\n",
       "lemmas              0\n",
       "stems               0\n",
       "dtype: int64"
      ]
     },
     "execution_count": 74,
     "metadata": {},
     "output_type": "execute_result"
    }
   ],
   "source": [
    "# checking for nulls\n",
    "df.isnull().sum()"
   ]
  },
  {
   "cell_type": "code",
   "execution_count": 75,
   "id": "a39eb5c0",
   "metadata": {},
   "outputs": [
    {
     "data": {
      "text/plain": [
       "(array([4925, 4925]), array([4, 5]))"
      ]
     },
     "execution_count": 75,
     "metadata": {},
     "output_type": "execute_result"
    }
   ],
   "source": [
    "# checking for blank cells\n",
    "np.where(df.applymap(lambda x: x == ''))"
   ]
  },
  {
   "cell_type": "markdown",
   "id": "4170da3b",
   "metadata": {},
   "source": [
    "## Dropping Row With Empty Cells"
   ]
  },
  {
   "cell_type": "code",
   "execution_count": 76,
   "id": "84969e2a",
   "metadata": {},
   "outputs": [],
   "source": [
    "df.drop(4925, axis=0, inplace=True)\n",
    "df.reset_index(drop=True, inplace=True)"
   ]
  },
  {
   "cell_type": "markdown",
   "id": "a355f27f",
   "metadata": {},
   "source": [
    "## Making the `emotion` Target Numeric"
   ]
  },
  {
   "cell_type": "code",
   "execution_count": 77,
   "id": "4593a178",
   "metadata": {},
   "outputs": [
    {
     "data": {
      "text/plain": [
       "Neutral     5371\n",
       "Positive    2968\n",
       "Negative     569\n",
       "Name: emotion, dtype: int64"
      ]
     },
     "execution_count": 77,
     "metadata": {},
     "output_type": "execute_result"
    }
   ],
   "source": [
    "# checking counts\n",
    "df.emotion.value_counts()"
   ]
  },
  {
   "cell_type": "code",
   "execution_count": 78,
   "id": "a74e3912",
   "metadata": {},
   "outputs": [],
   "source": [
    "# changing to ints\n",
    "df['emotion'] = df['emotion'].replace(['Negative',\n",
    "                                       'Positive',\n",
    "                                       'Neutral'],\n",
    "                                       [1, 0, 2])"
   ]
  },
  {
   "cell_type": "code",
   "execution_count": 79,
   "id": "c81591a7",
   "metadata": {},
   "outputs": [
    {
     "data": {
      "text/plain": [
       "2    5371\n",
       "0    2968\n",
       "1     569\n",
       "Name: emotion, dtype: int64"
      ]
     },
     "execution_count": 79,
     "metadata": {},
     "output_type": "execute_result"
    }
   ],
   "source": [
    "# re-checking counts\n",
    "df['emotion'].value_counts()"
   ]
  },
  {
   "cell_type": "markdown",
   "id": "a8fc0823",
   "metadata": {},
   "source": [
    "## Moving the Target and Regularized Columns to the Front of the Data Frame"
   ]
  },
  {
   "cell_type": "code",
   "execution_count": 80,
   "id": "d8b77816",
   "metadata": {},
   "outputs": [
    {
     "data": {
      "text/html": [
       "<div>\n",
       "<style scoped>\n",
       "    .dataframe tbody tr th:only-of-type {\n",
       "        vertical-align: middle;\n",
       "    }\n",
       "\n",
       "    .dataframe tbody tr th {\n",
       "        vertical-align: top;\n",
       "    }\n",
       "\n",
       "    .dataframe thead th {\n",
       "        text-align: right;\n",
       "    }\n",
       "</style>\n",
       "<table border=\"1\" class=\"dataframe\">\n",
       "  <thead>\n",
       "    <tr style=\"text-align: right;\">\n",
       "      <th></th>\n",
       "      <th>emotion</th>\n",
       "      <th>stems</th>\n",
       "      <th>lemmas</th>\n",
       "      <th>tweet</th>\n",
       "      <th>brand_product</th>\n",
       "      <th>hashtags</th>\n",
       "    </tr>\n",
       "  </thead>\n",
       "  <tbody>\n",
       "    <tr>\n",
       "      <th>0</th>\n",
       "      <td>1</td>\n",
       "      <td>3g iphon 3 hr tweet rise austin dead need upgr...</td>\n",
       "      <td>3g iphone hr tweeting rise austin dead need up...</td>\n",
       "      <td>.@wesley83 I have a 3G iPhone. After 3 hrs twe...</td>\n",
       "      <td>iPhone</td>\n",
       "      <td>[#RISE_Austin, #SXSW]</td>\n",
       "    </tr>\n",
       "    <tr>\n",
       "      <th>1</th>\n",
       "      <td>0</td>\n",
       "      <td>know awesom ipad iphon app like appreci design...</td>\n",
       "      <td>know awesome ipad iphone app likely appreciate...</td>\n",
       "      <td>@jessedee Know about @fludapp ? Awesome iPad/i...</td>\n",
       "      <td>iPad or iPhone App</td>\n",
       "      <td>[#SXSW]</td>\n",
       "    </tr>\n",
       "    <tr>\n",
       "      <th>2</th>\n",
       "      <td>0</td>\n",
       "      <td>wait ipad also sale</td>\n",
       "      <td>wait ipad also sale</td>\n",
       "      <td>@swonderlin Can not wait for #iPad 2 also. The...</td>\n",
       "      <td>iPad</td>\n",
       "      <td>[#iPad, #SXSW]</td>\n",
       "    </tr>\n",
       "    <tr>\n",
       "      <th>3</th>\n",
       "      <td>1</td>\n",
       "      <td>hope year festiv crashi year iphon app</td>\n",
       "      <td>hope year festival crashy year iphone app</td>\n",
       "      <td>@sxsw I hope this year's festival isn't as cra...</td>\n",
       "      <td>iPad or iPhone App</td>\n",
       "      <td>[#sxsw]</td>\n",
       "    </tr>\n",
       "    <tr>\n",
       "      <th>4</th>\n",
       "      <td>0</td>\n",
       "      <td>great stuff fri marissa mayer googl tim reilli...</td>\n",
       "      <td>great stuff fri marissa mayer google tim reill...</td>\n",
       "      <td>@sxtxstate great stuff on Fri #SXSW: Marissa M...</td>\n",
       "      <td>Google</td>\n",
       "      <td>[#SXSW]</td>\n",
       "    </tr>\n",
       "  </tbody>\n",
       "</table>\n",
       "</div>"
      ],
      "text/plain": [
       "   emotion                                              stems  \\\n",
       "0        1  3g iphon 3 hr tweet rise austin dead need upgr...   \n",
       "1        0  know awesom ipad iphon app like appreci design...   \n",
       "2        0                                wait ipad also sale   \n",
       "3        1             hope year festiv crashi year iphon app   \n",
       "4        0  great stuff fri marissa mayer googl tim reilli...   \n",
       "\n",
       "                                              lemmas  \\\n",
       "0  3g iphone hr tweeting rise austin dead need up...   \n",
       "1  know awesome ipad iphone app likely appreciate...   \n",
       "2                                wait ipad also sale   \n",
       "3          hope year festival crashy year iphone app   \n",
       "4  great stuff fri marissa mayer google tim reill...   \n",
       "\n",
       "                                               tweet       brand_product  \\\n",
       "0  .@wesley83 I have a 3G iPhone. After 3 hrs twe...              iPhone   \n",
       "1  @jessedee Know about @fludapp ? Awesome iPad/i...  iPad or iPhone App   \n",
       "2  @swonderlin Can not wait for #iPad 2 also. The...                iPad   \n",
       "3  @sxsw I hope this year's festival isn't as cra...  iPad or iPhone App   \n",
       "4  @sxtxstate great stuff on Fri #SXSW: Marissa M...              Google   \n",
       "\n",
       "                hashtags  \n",
       "0  [#RISE_Austin, #SXSW]  \n",
       "1                [#SXSW]  \n",
       "2         [#iPad, #SXSW]  \n",
       "3                [#sxsw]  \n",
       "4                [#SXSW]  "
      ]
     },
     "execution_count": 80,
     "metadata": {},
     "output_type": "execute_result"
    }
   ],
   "source": [
    "cols = ['lemmas', 'stems', 'emotion']\n",
    "\n",
    "for col in cols:\n",
    "    c = df.pop(col)\n",
    "    df.insert(0, col, c)\n",
    "    \n",
    "# checking work\n",
    "df.head()"
   ]
  },
  {
   "cell_type": "markdown",
   "id": "2642ffd4",
   "metadata": {},
   "source": [
    "## Exporting Data for Modeling"
   ]
  },
  {
   "cell_type": "code",
   "execution_count": 81,
   "id": "57e7ce46",
   "metadata": {},
   "outputs": [],
   "source": [
    "# path = os.path.join(gparent, 'data/processed', 'baseline_data.csv')\n",
    "# df.to_csv(path, index=False)"
   ]
  },
  {
   "cell_type": "markdown",
   "id": "63ec48cb-4697-481f-9fe4-94989a079465",
   "metadata": {},
   "source": [
    "## Exporting Data for Visualizations"
   ]
  },
  {
   "cell_type": "code",
   "execution_count": 82,
   "id": "7c22ce31-3cad-40c2-8292-21be88c620dd",
   "metadata": {},
   "outputs": [],
   "source": [
    "# # converting the target integers to strings for the visualiztions\n",
    "# df['emotion'] = df['emotion'].replace([1, 0, 2],\n",
    "#                                       ['Negative',\n",
    "#                                        'Positive',\n",
    "#                                        'Neutral']\n",
    "#                                       )\n",
    "\n",
    "# path = os.path.join(gparent, 'data/processed', 'report_baseline_viz.csv')\n",
    "# df.to_csv(path, index=False)"
   ]
  },
  {
   "cell_type": "markdown",
   "id": "f24eff6d",
   "metadata": {},
   "source": [
    "## EDA on Clean, Regularized Data"
   ]
  },
  {
   "cell_type": "markdown",
   "id": "3f6dc2a4",
   "metadata": {},
   "source": [
    "## Word Frequency Distributions of Raw vs Cleaned Data"
   ]
  },
  {
   "cell_type": "markdown",
   "id": "f27b58fa",
   "metadata": {},
   "source": [
    "#### Raw Data"
   ]
  },
  {
   "cell_type": "code",
   "execution_count": 83,
   "id": "88e15b77",
   "metadata": {},
   "outputs": [
    {
     "name": "stdout",
     "output_type": "stream",
     "text": [
      "Word \t\t\tFrequency\n",
      "\n",
      "mention   \t\t0.0685    \n",
      "link      \t\t0.0415    \n",
      "rt        \t\t0.0285    \n",
      "google    \t\t0.0254    \n",
      "ipad      \t\t0.0242    \n",
      "apple     \t\t0.0225    \n",
      "quot      \t\t0.0162    \n",
      "iphone    \t\t0.0152    \n",
      "store     \t\t0.0143    \n",
      "2         \t\t0.0115    \n",
      "new       \t\t0.0105    \n",
      "austin    \t\t0.0093    \n",
      "amp       \t\t0.0081    \n",
      "app       \t\t0.008     \n",
      "social    \t\t0.0064    \n",
      "circles   \t\t0.0064    \n",
      "launch    \t\t0.0062    \n",
      "android   \t\t0.0058    \n",
      "pop       \t\t0.0057    \n",
      "today     \t\t0.0056    \n",
      "ipad2     \t\t0.0045    \n",
      "network   \t\t0.0044    \n",
      "via       \t\t0.0042    \n",
      "line      \t\t0.0039    \n",
      "get       \t\t0.0038    \n",
      "free      \t\t0.0038    \n",
      "party     \t\t0.0034    \n",
      "called    \t\t0.0034    \n",
      "mobile    \t\t0.0034    \n",
      "one       \t\t0.003     \n"
     ]
    }
   ],
   "source": [
    "fn.word_frequencies(df.tweet, 30)"
   ]
  },
  {
   "cell_type": "markdown",
   "id": "36e74ee5-7cbf-4cd5-b1a3-484b40340402",
   "metadata": {},
   "source": [
    "## Visualizing the Top 25 Words in the Raw Data"
   ]
  },
  {
   "cell_type": "code",
   "execution_count": 84,
   "id": "b8b645eb",
   "metadata": {},
   "outputs": [
    {
     "data": {
      "image/png": "[encoded data removed]",
      "text/plain": [
       "<Figure size 1080x504 with 1 Axes>"
      ]
     },
     "metadata": {},
     "output_type": "display_data"
    }
   ],
   "source": [
    "raw_words = fn.words(df.tweet)\n",
    "vz.top_word_list(raw_words, 25)"
   ]
  },
  {
   "cell_type": "markdown",
   "id": "c74ae443",
   "metadata": {},
   "source": [
    "<font size=\"4\"> We can see the 3 out of the top 5 words in the raw data are unrelated to the relevant brands.</font>"
   ]
  },
  {
   "cell_type": "markdown",
   "id": "9e4e12e8",
   "metadata": {},
   "source": [
    "#### Lemmatized Data"
   ]
  },
  {
   "cell_type": "code",
   "execution_count": 85,
   "id": "248b32a3",
   "metadata": {},
   "outputs": [
    {
     "name": "stdout",
     "output_type": "stream",
     "text": [
      "Word \t\t\tFrequency\n",
      "\n",
      "ipad      \t\t0.0358    \n",
      "google    \t\t0.0317    \n",
      "apple     \t\t0.0281    \n",
      "iphone    \t\t0.019     \n",
      "store     \t\t0.0183    \n",
      "new       \t\t0.0131    \n",
      "austin    \t\t0.0117    \n",
      "app       \t\t0.01      \n",
      "launch    \t\t0.0082    \n",
      "circle    \t\t0.0081    \n",
      "social    \t\t0.0079    \n",
      "android   \t\t0.0072    \n",
      "pop       \t\t0.0072    \n",
      "today     \t\t0.0069    \n",
      "network   \t\t0.0056    \n",
      "get       \t\t0.0055    \n",
      "line      \t\t0.0054    \n",
      "via       \t\t0.0052    \n",
      "party     \t\t0.0048    \n",
      "free      \t\t0.0047    \n",
      "mobile    \t\t0.0043    \n",
      "called    \t\t0.0042    \n",
      "one       \t\t0.0038    \n",
      "time      \t\t0.0037    \n",
      "like      \t\t0.0036    \n"
     ]
    }
   ],
   "source": [
    "fn.word_frequencies(df.lemmas, 25)"
   ]
  },
  {
   "cell_type": "markdown",
   "id": "5857c7db-8f7e-4dbb-b797-6bb6f25ec8f5",
   "metadata": {},
   "source": [
    "## Visualizing the Top 25 Words in the Lemmatized Data"
   ]
  },
  {
   "cell_type": "code",
   "execution_count": 86,
   "id": "1cffaff0",
   "metadata": {},
   "outputs": [
    {
     "data": {
      "image/png": "[encoded data removed]",
      "text/plain": [
       "<Figure size 1080x504 with 1 Axes>"
      ]
     },
     "metadata": {},
     "output_type": "display_data"
    }
   ],
   "source": [
    "lemm_words = fn.words(df.lemmas)\n",
    "vz.top_word_list(lemm_words, 25)"
   ]
  },
  {
   "cell_type": "markdown",
   "id": "df8e83f4",
   "metadata": {},
   "source": [
    "<font size=\"4\"> 4 out of the top 5 words in the lemmatized data are related to the relevant brands.</font>"
   ]
  },
  {
   "cell_type": "markdown",
   "id": "79462d7f",
   "metadata": {},
   "source": [
    "#### Stemmed Data"
   ]
  },
  {
   "cell_type": "code",
   "execution_count": 87,
   "id": "598aa1cd",
   "metadata": {},
   "outputs": [
    {
     "name": "stdout",
     "output_type": "stream",
     "text": [
      "Word \t\t\tFrequency\n",
      "\n",
      "googl     \t\t0.031     \n",
      "ipad      \t\t0.0305    \n",
      "appl      \t\t0.0274    \n",
      "iphon     \t\t0.0186    \n",
      "store     \t\t0.0179    \n",
      "new       \t\t0.0128    \n",
      "app       \t\t0.0124    \n",
      "austin    \t\t0.0114    \n",
      "launch    \t\t0.0098    \n",
      "circl     \t\t0.0079    \n",
      "social    \t\t0.0078    \n",
      "pop       \t\t0.0072    \n",
      "android   \t\t0.007     \n",
      "today     \t\t0.0068    \n",
      "get       \t\t0.0063    \n",
      "open      \t\t0.0063    \n",
      "network   \t\t0.0056    \n",
      "ipad2     \t\t0.0056    \n",
      "line      \t\t0.0054    \n",
      "via       \t\t0.0051    \n",
      "go        \t\t0.005     \n",
      "parti     \t\t0.0048    \n",
      "call      \t\t0.0046    \n",
      "free      \t\t0.0046    \n",
      "mobil     \t\t0.0042    \n"
     ]
    }
   ],
   "source": [
    "fn.word_frequencies(df.stems, 25)"
   ]
  },
  {
   "cell_type": "code",
   "execution_count": 88,
   "id": "ebd6a73d",
   "metadata": {},
   "outputs": [
    {
     "data": {
      "image/png": "[encoded data removed]",
      "text/plain": [
       "<Figure size 1080x504 with 1 Axes>"
      ]
     },
     "metadata": {},
     "output_type": "display_data"
    }
   ],
   "source": [
    "stem_words = fn.words(df.stems)\n",
    "vz.top_word_list(stem_words, 25)"
   ]
  },
  {
   "cell_type": "markdown",
   "id": "c5c08556",
   "metadata": {},
   "source": [
    "<font size=\"4\">Again,  4 out of the top 5 words in the stemmed data are related to the relevant brands.</font>"
   ]
  },
  {
   "cell_type": "markdown",
   "id": "de8fba63",
   "metadata": {},
   "source": [
    "## Vocabularies\n",
    "Checking the size of the vocabularies and looking at a sample of the tokens."
   ]
  },
  {
   "cell_type": "markdown",
   "id": "145383df",
   "metadata": {},
   "source": [
    "#### Lemmas Vocabulary"
   ]
  },
  {
   "cell_type": "code",
   "execution_count": 89,
   "id": "727e81b6",
   "metadata": {
    "tags": []
   },
   "outputs": [],
   "source": [
    "lemma_vocab = fn.vocabulary(data_clean_lemmas)"
   ]
  },
  {
   "cell_type": "code",
   "execution_count": 90,
   "id": "7b8ba84d",
   "metadata": {},
   "outputs": [
    {
     "data": {
      "text/plain": [
       "8351"
      ]
     },
     "execution_count": 90,
     "metadata": {},
     "output_type": "execute_result"
    }
   ],
   "source": [
    "# checking number of words\n",
    "len(lemma_vocab)"
   ]
  },
  {
   "cell_type": "markdown",
   "id": "619d888c-c70f-4a9c-895d-bae437be8f7a",
   "metadata": {},
   "source": [
    "<font size=\"4\">There are 8,351 tokens in the lemmatized data.</font>"
   ]
  },
  {
   "cell_type": "markdown",
   "id": "330fe32d-a2a1-4fd3-aa92-f5e124dd9100",
   "metadata": {},
   "source": [
    "## A sampling of the Lemmas"
   ]
  },
  {
   "cell_type": "code",
   "execution_count": 91,
   "id": "a935f1d7",
   "metadata": {
    "scrolled": true,
    "tags": []
   },
   "outputs": [
    {
     "name": "stdout",
     "output_type": "stream",
     "text": [
      "tshirts\n",
      "miracle\n",
      "deficit\n",
      "nab\n",
      "navigate\n",
      "quotables\n",
      "lawn\n",
      "cleared\n",
      "name\n",
      "written\n",
      "incubator\n",
      "guykawasaki\n",
      "niceness\n",
      "nearby\n",
      "regard\n",
      "glowing\n",
      "optimum\n",
      "snakeheead\n",
      "hacker\n",
      "tricket\n",
      "barcode\n",
      "archive\n",
      "analytics\n",
      "crowdsource\n",
      "palsy\n",
      "table\n",
      "standing\n",
      "hometown\n",
      "cloudsight\n",
      "thereby\n",
      "twittering\n",
      "socnet\n",
      "frabjous\n",
      "pdparticle\n",
      "sketchy\n",
      "african\n",
      "hhaha\n",
      "staircase\n",
      "worship\n",
      "bigdplace\n",
      "terror\n",
      "stretching\n",
      "1am\n",
      "christian\n",
      "typo\n",
      "androidhig\n",
      "nexus\n",
      "ridicule\n",
      "divorce\n",
      "set\n",
      "consideration\n",
      "primero\n",
      "popoup\n",
      "absolutley\n",
      "north\n",
      "smileyparty\n",
      "dock\n",
      "mindtouch\n",
      "savvy\n",
      "provider\n",
      "shortcut\n",
      "shoulda\n",
      "lord\n",
      "cry\n",
      "ht\n",
      "advance\n",
      "merchant\n",
      "supply\n",
      "feeling\n",
      "replaced\n",
      "agenda\n",
      "blow\n",
      "donating\n",
      "androidcrunch\n",
      "denotes\n",
      "mm\n",
      "portfolio\n",
      "indexed\n",
      "dugan\n",
      "w0t\n",
      "entered\n",
      "bill\n",
      "elevator\n",
      "rough\n",
      "drooling\n",
      "pdx\n",
      "never\n",
      "reconsidering\n",
      "worst\n",
      "prove\n",
      "pagerduty\n",
      "sleep\n",
      "rite\n",
      "knockout\n",
      "linking\n",
      "iphonedev\n",
      "latam\n",
      "brush\n",
      "lunatik\n",
      "tip\n"
     ]
    }
   ],
   "source": [
    "# first 100 words\n",
    "for i, val in enumerate(itertools.islice(lemma_vocab, 100)):\n",
    "    print(val)"
   ]
  },
  {
   "cell_type": "code",
   "execution_count": 92,
   "id": "bea34092",
   "metadata": {
    "scrolled": true,
    "tags": []
   },
   "outputs": [
    {
     "name": "stdout",
     "output_type": "stream",
     "text": [
      "org\n",
      "grouped\n",
      "lifelinetotheworld\n",
      "mp\n",
      "dispenses\n",
      "wt\n",
      "promoting\n",
      "lugging\n",
      "enuf\n",
      "xwave\n",
      "local\n",
      "keeping\n",
      "outsold\n",
      "punctuate\n",
      "caring\n",
      "niche\n",
      "8pm\n",
      "crappy\n",
      "skull\n",
      "entire\n",
      "per\n",
      "restroomi\n",
      "connect\n",
      "alert\n",
      "mophie\n",
      "front\n",
      "rollout\n",
      "ohio\n",
      "intelligence\n",
      "autocorrects\n",
      "connecting\n",
      "pcmag\n",
      "rediculous\n",
      "gtd\n",
      "networkcircles\n",
      "ctia\n",
      "game\n",
      "horizon\n",
      "cure\n",
      "recollection\n",
      "exposing\n",
      "amer\n",
      "wake\n",
      "newsweek\n",
      "curated\n",
      "gamesalad\n",
      "fsw\n",
      "jenny\n",
      "thewildernessdowntown\n",
      "irrelevant\n",
      "hit\n",
      "2gb\n",
      "pdf\n",
      "meyers\n",
      "concept\n",
      "techenvy\n",
      "3x\n",
      "notwinning\n",
      "bomb\n",
      "jut\n",
      "cnngrill\n",
      "nc\n",
      "purchaser\n",
      "handset\n",
      "sxswsex\n",
      "futuremf\n",
      "googleblog\n",
      "simultaneously\n",
      "perimeter\n",
      "taste\n",
      "pushed\n",
      "willpower\n",
      "desmiente\n",
      "techsmith\n",
      "banana\n",
      "stone\n",
      "amazing\n",
      "hookup\n",
      "screenfuture\n",
      "giveaway\n",
      "fr\n",
      "release\n",
      "spoken\n",
      "mostly\n",
      "staying\n",
      "tournament\n",
      "frid\n",
      "easeljs\n",
      "heating\n",
      "ifrom\n",
      "cart\n",
      "videogame\n",
      "expecting\n",
      "handled\n",
      "en6p2e\n",
      "presenter\n",
      "priest\n",
      "debut\n",
      "nutter\n",
      "pandora\n"
     ]
    }
   ],
   "source": [
    "# random 100 words\n",
    "for i, val in enumerate(random.sample(lemma_vocab, 100)):\n",
    "    print(val)"
   ]
  },
  {
   "cell_type": "markdown",
   "id": "6b7de195",
   "metadata": {},
   "source": [
    "#### Stems Vocabulary"
   ]
  },
  {
   "cell_type": "code",
   "execution_count": 93,
   "id": "dd388cc8",
   "metadata": {},
   "outputs": [],
   "source": [
    "stemma_vocab = fn.vocabulary(data_clean_stems)"
   ]
  },
  {
   "cell_type": "code",
   "execution_count": 94,
   "id": "1ecac419",
   "metadata": {},
   "outputs": [
    {
     "data": {
      "text/plain": [
       "7379"
      ]
     },
     "execution_count": 94,
     "metadata": {},
     "output_type": "execute_result"
    }
   ],
   "source": [
    "# number of words\n",
    "len(stemma_vocab)"
   ]
  },
  {
   "cell_type": "markdown",
   "id": "1d403be7-cc62-4a61-85a3-4e6bbf51bf52",
   "metadata": {},
   "source": [
    "<font size=\"4\">There are 7,379 tokens in the stemmed data.</font>"
   ]
  },
  {
   "cell_type": "markdown",
   "id": "47043ecb-733c-4030-9995-49fd2371208f",
   "metadata": {},
   "source": [
    "## A sampling of the stems."
   ]
  },
  {
   "cell_type": "code",
   "execution_count": 95,
   "id": "ed0e6970",
   "metadata": {
    "scrolled": true,
    "tags": []
   },
   "outputs": [
    {
     "name": "stdout",
     "output_type": "stream",
     "text": [
      "juwan\n",
      "kia\n",
      "bit\n",
      "verg\n",
      "incred\n",
      "boston\n",
      "traffic\n",
      "happen\n",
      "parent\n",
      "plu\n",
      "stinkin\n",
      "xcitng\n",
      "also\n",
      "cera\n",
      "okay\n",
      "gawk\n",
      "globalmoxi\n",
      "shatter\n",
      "z8\n",
      "crew\n",
      "reset\n",
      "soundtrax\n",
      "brazo\n",
      "605\n",
      "fabul\n",
      "independ\n",
      "gowalla\n",
      "hollrback\n",
      "z43\n",
      "tuesday\n",
      "memolan\n",
      "corrupt\n",
      "optimum\n",
      "superhappydevhous\n",
      "ass\n",
      "irelay\n",
      "cach\n",
      "sxswtoolkit\n",
      "gmap\n",
      "zap\n",
      "theindustryparti\n",
      "mahalo\n",
      "qualifi\n",
      "baracad\n",
      "conflagr\n",
      "att\n",
      "shrink\n",
      "obama\n",
      "keep\n",
      "011\n",
      "east\n",
      "shipment\n",
      "receiv\n",
      "wt\n",
      "ooooo\n",
      "behind\n",
      "enhanc\n",
      "rana\n",
      "stevemartocci\n",
      "bo\n",
      "pair\n",
      "yyz\n",
      "andi\n",
      "guess\n",
      "ground\n",
      "mkt\n",
      "strike\n",
      "rare\n",
      "match\n",
      "coolaid\n",
      "weasel\n",
      "rise\n",
      "btw\n",
      "buddi\n",
      "amount\n",
      "c10\n",
      "fenc\n",
      "ht\n",
      "muffin\n",
      "handsom\n",
      "recip\n",
      "china\n",
      "128\n",
      "layar\n",
      "marisa\n",
      "panic\n",
      "accelerat\n",
      "doofus\n",
      "guguchu\n",
      "facial\n",
      "maximum\n",
      "technologist\n",
      "browser\n",
      "scope\n",
      "imthatgood\n",
      "ipaddesignheadach\n",
      "imaconf\n",
      "illustr\n",
      "sixth\n",
      "z1\n"
     ]
    }
   ],
   "source": [
    "# random 100 words\n",
    "for i, val in enumerate(random.sample(stemma_vocab, 100)):\n",
    "    print(val)"
   ]
  },
  {
   "cell_type": "code",
   "execution_count": 96,
   "id": "ae94c296",
   "metadata": {
    "scrolled": true,
    "tags": []
   },
   "outputs": [
    {
     "name": "stdout",
     "output_type": "stream",
     "text": [
      "deficit\n",
      "pushsnowboard\n",
      "nab\n",
      "lawn\n",
      "name\n",
      "written\n",
      "guykawasaki\n",
      "somebodi\n",
      "of011\n",
      "regard\n",
      "c9\n",
      "moder\n",
      "peac\n",
      "optimum\n",
      "spasmat\n",
      "snakeheead\n",
      "parcelgeni\n",
      "yeasay\n",
      "hacker\n",
      "tricket\n",
      "thinmint\n",
      "hipstamat\n",
      "besid\n",
      "hometown\n",
      "googledoodl\n",
      "artifici\n",
      "adventur\n",
      "cloudsight\n",
      "texas011\n",
      "socnet\n",
      "what\n",
      "ubergeniu\n",
      "wannab\n",
      "african\n",
      "18\n",
      "hhaha\n",
      "frankeninterfac\n",
      "worship\n",
      "terror\n",
      "stall\n",
      "observ\n",
      "christian\n",
      "typo\n",
      "carri\n",
      "androidhig\n",
      "tremend\n",
      "800\n",
      "set\n",
      "primero\n",
      "melodi\n",
      "popoup\n",
      "absolutley\n",
      "north\n",
      "dock\n",
      "mindtouch\n",
      "shortcut\n",
      "shoulda\n",
      "lord\n",
      "confin\n",
      "ht\n",
      "merchant\n",
      "radiu\n",
      "blow\n",
      "agenda\n",
      "androidcrunch\n",
      "mm\n",
      "portfolio\n",
      "dugan\n",
      "bill\n",
      "miin\n",
      "rough\n",
      "pdx\n",
      "never\n",
      "ts\n",
      "expens\n",
      "worst\n",
      "prove\n",
      "servic\n",
      "unconfirm\n",
      "sleep\n",
      "rite\n",
      "knockout\n",
      "iphonedev\n",
      "latam\n",
      "brush\n",
      "lunatik\n",
      "tip\n",
      "trajan\n",
      "h4cker\n",
      "lone\n",
      "alguien\n",
      "smack\n",
      "toooo\n",
      "shareabl\n",
      "profession\n",
      "purchas\n",
      "iwantacameraonmyipad\n",
      "sure\n",
      "test\n",
      "plze\n"
     ]
    }
   ],
   "source": [
    "# first 100 words\n",
    "for i, val in enumerate(itertools.islice(stemma_vocab, 100)):\n",
    "    print(val)"
   ]
  },
  {
   "cell_type": "code",
   "execution_count": 97,
   "id": "2bd6fadd",
   "metadata": {},
   "outputs": [
    {
     "name": "stdout",
     "output_type": "stream",
     "text": [
      "string is not in data\n",
      "string is not in data\n"
     ]
    }
   ],
   "source": [
    "fn.string_checker(stemma_vocab, 'https')\n",
    "fn.string_checker(stemma_vocab, 'madebymany')"
   ]
  },
  {
   "cell_type": "markdown",
   "id": "aea90d30",
   "metadata": {},
   "source": [
    "## Augmenting the data\n",
    "Poor performance of the baseline model was largely due the the extreme class imbalance of the original data, so minority class oversampling and SMOTE methods were implemented. These strategies provided improved performance in the baseline model, but the results were still unsatisfactory.  Various other model types were tested with the oversampled data, but the performance of these alternative models was also poor.\n",
    "\n",
    "In the end, additional negative sentiment data obtained from [Kaggle](https://www.kaggle.com/shashank1558/preprocessed-twitter-tweets) and [data.world](https://data.world/crowdflower/apple-twitter-sentiment) were used to augment the baseline data. This new data greatly imroved the performance of all the models and the final results are detailed below."
   ]
  },
  {
   "cell_type": "markdown",
   "id": "11803c1f",
   "metadata": {},
   "source": [
    "#### General Negative Tweets\n",
    "Data downloaded from: [Kaggle](https://www.kaggle.com/shashank1558/preprocessed-twitter-tweets)\n",
    "\n",
    "The data was one of a set of three (negative, neutral, positve) csv files."
   ]
  },
  {
   "cell_type": "code",
   "execution_count": 98,
   "id": "93d86253",
   "metadata": {},
   "outputs": [],
   "source": [
    "# setting the path\n",
    "path = os.path.join(gparent, 'data/raw', 'processedNegative.csv')\n",
    "\n",
    "# loading the data\n",
    "load_df = pd.read_csv(path, encoding='unicode_escape')"
   ]
  },
  {
   "cell_type": "code",
   "execution_count": 99,
   "id": "5341f6d6",
   "metadata": {},
   "outputs": [
    {
     "data": {
      "text/html": [
       "<div>\n",
       "<style scoped>\n",
       "    .dataframe tbody tr th:only-of-type {\n",
       "        vertical-align: middle;\n",
       "    }\n",
       "\n",
       "    .dataframe tbody tr th {\n",
       "        vertical-align: top;\n",
       "    }\n",
       "\n",
       "    .dataframe thead th {\n",
       "        text-align: right;\n",
       "    }\n",
       "</style>\n",
       "<table border=\"1\" class=\"dataframe\">\n",
       "  <thead>\n",
       "    <tr style=\"text-align: right;\">\n",
       "      <th></th>\n",
       "      <th>How unhappy  some dogs like it though</th>\n",
       "      <th>talking to my over driver about where I'm goinghe said he'd love to go to New York too but since Trump it's probably not</th>\n",
       "      <th>Does anybody know if the Rand's likely to fall against the dollar? I got some money  I need to change into R but it keeps getting stronger unhappy</th>\n",
       "      <th>I miss going to gigs in Liverpool unhappy</th>\n",
       "      <th>There isnt a new Riverdale tonight ? unhappy</th>\n",
       "      <th>it's that A*dy guy from pop Asia and then the translator so they'll probs go with them around Aus unhappy</th>\n",
       "      <th>Who's that chair you're sitting in? Is this how I find out. Everyone knows now. You've shamed me in pu</th>\n",
       "      <th>don't like how jittery caffeine makes me sad</th>\n",
       "      <th>My area's not on the list unhappy  think I'll go LibDems anyway</th>\n",
       "      <th>I want fun plans this weekend unhappy</th>\n",
       "      <th>...</th>\n",
       "      <th>and yet if parents invest in child's emotional education by taking child out of school on holiday early that's un</th>\n",
       "      <th>YG should have sent them to MCD. I want to see them holding the trophy unhappy  anyways .9</th>\n",
       "      <th>i want more orientation unhappy</th>\n",
       "      <th>unhappy  they not</th>\n",
       "      <th>YG should have sent them to MCD. I want to see them holding the trophy unhappy  anyways .10</th>\n",
       "      <th>wish knock out lang talaga for the new school year are good and cooperative groupmates please unhappy</th>\n",
       "      <th>i miss so much unhappy</th>\n",
       "      <th>Same unhappy .1</th>\n",
       "      <th>Hi instant message your friend  friend lang</th>\n",
       "      <th>hindi close friend? unhappy</th>\n",
       "    </tr>\n",
       "  </thead>\n",
       "  <tbody>\n",
       "  </tbody>\n",
       "</table>\n",
       "<p>0 rows × 1117 columns</p>\n",
       "</div>"
      ],
      "text/plain": [
       "Empty DataFrame\n",
       "Columns: [How unhappy  some dogs like it though, talking to my over driver about where I'm goinghe said he'd love to go to New York too but since Trump it's probably not, Does anybody know if the Rand's likely to fall against the dollar? I got some money  I need to change into R but it keeps getting stronger unhappy , I miss going to gigs in Liverpool unhappy , There isnt a new Riverdale tonight ? unhappy , it's that A*dy guy from pop Asia and then the translator so they'll probs go with them around Aus unhappy , Who's that chair you're sitting in? Is this how I find out. Everyone knows now. You've shamed me in pu, don't like how jittery caffeine makes me sad , My area's not on the list unhappy  think I'll go LibDems anyway, I want fun plans this weekend unhappy , When can you notice me.  unhappy  what?  , Ahhhhh! You recognized LOGAN!!! Cinemax shows have a BAD track record for getting cancelled unhappy , Errr dude.... They're gone unhappy  Asked other league memeber to check  the guys are go , Not you again sad  , Why would Harvey be going to prison? unhappy , Missing in crying  Seaside area. , Becoz if we will depend on your promoting its waste of hardwork to all team who , I thought you'll save me crying , major waffle cravings right now sad , cant speak japanese ::(, how can people do stuff like this unhappy  , please just stop confining animals in zoos unhappy  , Feel like i shoyould be telling you to get the fuck out social media byout also feel really mean because unhappy  silence  love yoyou hope yoyoure okay , i miss you huhu so busy unhappy , it was extended family. 12 ppl.ahh wanted to show a Oh My Girl being dorky while playing a game but it got deleted unhappy , Don't do that unhappy , Jamie can you please reset the CGa grandfinal server... no administrator are responding unhappy , noOoooooo YOU GONNA MISS THE BUFFET unhappy  TAKE CARE AIN!!!!!!!!!!!!!!!!! , I wish i could vote for you unhappy , instant message so jealous okay unhappy  but never mind haha bruno can wait finals first, when i'm enlisting can please turn up like this unhappy  , unhappy  how come people like this have children where's the state intervention , Ouchhhhh unhappy  , Help... I want to stop tweeting. All I feel is endless suffering and pain. I tried to deactivate myself many times... Save me... unhappy , For those asking,  the application is Kana Kanji Funtime! Sadly,  it looks like iOS 11 is due to kill it unhappy  , Yeah did update to 16.04 ,  it froze a few times. Then went to 16.10,  froze mid install. Waited 3hrs he'd to pull plug crying , Shaandaar,  Zabardast,  Another ATBB on it's way ! I wish Srk Sir starts signing good movies unhappy  , I want Jabee crying , sociopath full raid gear sad  , When will you say hi sunshine ? unhappy  , i feel bad for doing that AHAHA unhappy , it's getting harder and harder to stay unhappy , His face looks bloated unhappy  baby get well soon , fuck. tried changing my settings but still in india. unhappy , talking to my over driver about where I'm goinghe said he'd love to go to New York too but since Trump it's probably not.1, Let's not forget that it's also Gabriel Tenma White's birthday today!I miss unhappy  , Why am i always taken for granted eversince unhappy , Ah alright,  i don%27t know if you saw my comment yet,  but what camera you shooting with,  does it have flip out scr , I miss Louis' tweets unhappy , Koalas are dying of thirst  and it's all because of us unhappy  , okay I'll shut up now. instant message just mad that lots of people will now have a VERY flawed opinion on mental health ( on mine) because of this show unhappy , pamura isa because in this very moment,  i want to explode like a grenade to the point where people will die with me. sad , YG should have sent them to MCD. I want to see them holding the trophy unhappy  anyways , i really want one of those iconic jimin stripes turtleneck shirt unhappy , I want a spoons but I cant go unhappy  honestly feels like a messy break up unhappy , Makes me so sad unhappy  they looked so unhappy when I went to SeaWorld , YG should have sent them to MCD. I want to see them holding the trophy unhappy  anyways .1, I miss Rockys posts unhappy  , Hey Tony,  oh no unhappy  Could you please tell me a little more about your issue? Im following if youd prefer to DM. Amanda, i love mason and miss mason unhappy , Cold as a mother crusher right now. Nearing the end of April. sad , we don%27t talk anymore like we used to do unhappy , YG should have sent them to MCD. I want to see them holding the trophy unhappy  anyways .2, miss biking unhappy , I miss Big brother unhappy , 6 days in camp haiss miss you a lot unhappy , It's raining so hard unhappy , Am bored and kandowiandg I have ando plaands for today is makiandg me eveand more bored unhappy , oh my god not laurie penny unhappy , can you say Hi Mekisha? unhappy , I should never draw again unhappy , Cleantha , Visual Studio Installation - 89% .. BSOD comes suddenly unhappy , i want to make waffles unhappy , So sad unhappy  , crying  muh feels, Look like somethings i will ignore xD Kart Racing when? unhappy , did ate jenna just blocked me or what? unhappy , My bed is so comfortable I don't want to get up unhappy , Is that store still in use? If so,  I sincerely hope not too many priceless antiques were destroyed. Reg , Astaga unhappy  /? , I want a puppy now unhappy , have to work unhappy  but i'll see you tomorrow!! , happy weed day without them is not the same anymore unhappy , my favourite lipstick hilang crying , Time just flies,  can't believe he will be year for next year unhappy  We're becoming old HAHAHAH :v, The new Twitter reply view has me confused... like do I capitalise my replies to people or not? unhappy , ...]\n",
       "Index: []\n",
       "\n",
       "[0 rows x 1117 columns]"
      ]
     },
     "execution_count": 99,
     "metadata": {},
     "output_type": "execute_result"
    }
   ],
   "source": [
    "# checking the head of the df\n",
    "load_df.head()"
   ]
  },
  {
   "cell_type": "markdown",
   "id": "eeed1998-cdc3-473c-bf47-af608f094146",
   "metadata": {},
   "source": [
    "<font size=\"4\">The data is arranged as column names and needs to be re-formatted.</font>"
   ]
  },
  {
   "cell_type": "markdown",
   "id": "d078fee8-2ba3-48fe-91ea-61fb94821b45",
   "metadata": {},
   "source": [
    "## Getting the Data into a Usable Format\n",
    "Creating a data frame, adding `tweet` and `emotion` columns, and setting the `emotion` values to 1."
   ]
  },
  {
   "cell_type": "code",
   "execution_count": 100,
   "id": "7ef5f07f",
   "metadata": {},
   "outputs": [],
   "source": [
    "#  making a list of tweets\n",
    "tweets = [col for col in load_df.columns]"
   ]
  },
  {
   "cell_type": "code",
   "execution_count": 101,
   "id": "01755a6e",
   "metadata": {},
   "outputs": [],
   "source": [
    "# creating a data frame\n",
    "neg_df = pd.DataFrame(tweets, columns=['tweet'])"
   ]
  },
  {
   "cell_type": "code",
   "execution_count": 102,
   "id": "bc1d3440",
   "metadata": {},
   "outputs": [],
   "source": [
    "# creating an emotion col and setting its values to 1\n",
    "neg_df['emotion'] = 1"
   ]
  },
  {
   "cell_type": "code",
   "execution_count": 103,
   "id": "0b09fe7f-64c2-448e-b819-ee7b898311db",
   "metadata": {},
   "outputs": [
    {
     "name": "stdout",
     "output_type": "stream",
     "text": [
      "<class 'pandas.core.frame.DataFrame'>\n",
      "RangeIndex: 1117 entries, 0 to 1116\n",
      "Data columns (total 2 columns):\n",
      " #   Column   Non-Null Count  Dtype \n",
      "---  ------   --------------  ----- \n",
      " 0   tweet    1117 non-null   object\n",
      " 1   emotion  1117 non-null   int64 \n",
      "dtypes: int64(1), object(1)\n",
      "memory usage: 17.6+ KB\n",
      "None\n"
     ]
    },
    {
     "data": {
      "text/html": [
       "<div>\n",
       "<style scoped>\n",
       "    .dataframe tbody tr th:only-of-type {\n",
       "        vertical-align: middle;\n",
       "    }\n",
       "\n",
       "    .dataframe tbody tr th {\n",
       "        vertical-align: top;\n",
       "    }\n",
       "\n",
       "    .dataframe thead th {\n",
       "        text-align: right;\n",
       "    }\n",
       "</style>\n",
       "<table border=\"1\" class=\"dataframe\">\n",
       "  <thead>\n",
       "    <tr style=\"text-align: right;\">\n",
       "      <th></th>\n",
       "      <th>tweet</th>\n",
       "      <th>emotion</th>\n",
       "    </tr>\n",
       "  </thead>\n",
       "  <tbody>\n",
       "    <tr>\n",
       "      <th>0</th>\n",
       "      <td>How unhappy  some dogs like it though</td>\n",
       "      <td>1</td>\n",
       "    </tr>\n",
       "    <tr>\n",
       "      <th>1</th>\n",
       "      <td>talking to my over driver about where I'm goin...</td>\n",
       "      <td>1</td>\n",
       "    </tr>\n",
       "    <tr>\n",
       "      <th>2</th>\n",
       "      <td>Does anybody know if the Rand's likely to fall...</td>\n",
       "      <td>1</td>\n",
       "    </tr>\n",
       "    <tr>\n",
       "      <th>3</th>\n",
       "      <td>I miss going to gigs in Liverpool unhappy</td>\n",
       "      <td>1</td>\n",
       "    </tr>\n",
       "    <tr>\n",
       "      <th>4</th>\n",
       "      <td>There isnt a new Riverdale tonight ? unhappy</td>\n",
       "      <td>1</td>\n",
       "    </tr>\n",
       "  </tbody>\n",
       "</table>\n",
       "</div>"
      ],
      "text/plain": [
       "                                               tweet  emotion\n",
       "0              How unhappy  some dogs like it though        1\n",
       "1  talking to my over driver about where I'm goin...        1\n",
       "2  Does anybody know if the Rand's likely to fall...        1\n",
       "3         I miss going to gigs in Liverpool unhappy         1\n",
       "4      There isnt a new Riverdale tonight ? unhappy         1"
      ]
     },
     "execution_count": 103,
     "metadata": {},
     "output_type": "execute_result"
    }
   ],
   "source": [
    "# checking work\n",
    "print(neg_df.info())\n",
    "neg_df.head()"
   ]
  },
  {
   "cell_type": "markdown",
   "id": "e293e3ca",
   "metadata": {},
   "source": [
    "## Negative Apple Tweets\n",
    "Data obtained from: [data.world](https://data.world/crowdflower/apple-twitter-sentiment)\n",
    "\n",
    "The data labels were numeric and a key was not provided, so we will have to examine to tweets and deduce which label corresponds to negative."
   ]
  },
  {
   "cell_type": "markdown",
   "id": "c112a1df-64a1-4f0f-8e9f-28a5d4d1dea2",
   "metadata": {},
   "source": [
    "## Loading the Data and Creating a DF"
   ]
  },
  {
   "cell_type": "code",
   "execution_count": 104,
   "id": "44ece6b4",
   "metadata": {},
   "outputs": [],
   "source": [
    "# setting the path\n",
    "path = os.path.join(gparent, 'data/raw', 'Apple-Twitter-Sentiment-DFE.csv')\n",
    "\n",
    "# loading the data\n",
    "apple_df = pd.read_csv(path, encoding='unicode_escape')"
   ]
  },
  {
   "cell_type": "code",
   "execution_count": 105,
   "id": "b5b6795b",
   "metadata": {},
   "outputs": [
    {
     "data": {
      "text/html": [
       "<div>\n",
       "<style scoped>\n",
       "    .dataframe tbody tr th:only-of-type {\n",
       "        vertical-align: middle;\n",
       "    }\n",
       "\n",
       "    .dataframe tbody tr th {\n",
       "        vertical-align: top;\n",
       "    }\n",
       "\n",
       "    .dataframe thead th {\n",
       "        text-align: right;\n",
       "    }\n",
       "</style>\n",
       "<table border=\"1\" class=\"dataframe\">\n",
       "  <thead>\n",
       "    <tr style=\"text-align: right;\">\n",
       "      <th></th>\n",
       "      <th>_unit_id</th>\n",
       "      <th>_golden</th>\n",
       "      <th>_unit_state</th>\n",
       "      <th>_trusted_judgments</th>\n",
       "      <th>_last_judgment_at</th>\n",
       "      <th>sentiment</th>\n",
       "      <th>sentiment:confidence</th>\n",
       "      <th>date</th>\n",
       "      <th>id</th>\n",
       "      <th>query</th>\n",
       "      <th>sentiment_gold</th>\n",
       "      <th>text</th>\n",
       "    </tr>\n",
       "  </thead>\n",
       "  <tbody>\n",
       "    <tr>\n",
       "      <th>0</th>\n",
       "      <td>623495513</td>\n",
       "      <td>True</td>\n",
       "      <td>golden</td>\n",
       "      <td>10</td>\n",
       "      <td>NaN</td>\n",
       "      <td>3</td>\n",
       "      <td>0.6264</td>\n",
       "      <td>Mon Dec 01 19:30:03 +0000 2014</td>\n",
       "      <td>5.400000e+17</td>\n",
       "      <td>#AAPL OR @Apple</td>\n",
       "      <td>3\\nnot_relevant</td>\n",
       "      <td>#AAPL:The 10 best Steve Jobs emails ever...htt...</td>\n",
       "    </tr>\n",
       "    <tr>\n",
       "      <th>1</th>\n",
       "      <td>623495514</td>\n",
       "      <td>True</td>\n",
       "      <td>golden</td>\n",
       "      <td>12</td>\n",
       "      <td>NaN</td>\n",
       "      <td>3</td>\n",
       "      <td>0.8129</td>\n",
       "      <td>Mon Dec 01 19:43:51 +0000 2014</td>\n",
       "      <td>5.400000e+17</td>\n",
       "      <td>#AAPL OR @Apple</td>\n",
       "      <td>3\\n1</td>\n",
       "      <td>RT @JPDesloges: Why AAPL Stock Had a Mini-Flas...</td>\n",
       "    </tr>\n",
       "    <tr>\n",
       "      <th>2</th>\n",
       "      <td>623495515</td>\n",
       "      <td>True</td>\n",
       "      <td>golden</td>\n",
       "      <td>10</td>\n",
       "      <td>NaN</td>\n",
       "      <td>3</td>\n",
       "      <td>1.0000</td>\n",
       "      <td>Mon Dec 01 19:50:28 +0000 2014</td>\n",
       "      <td>5.400000e+17</td>\n",
       "      <td>#AAPL OR @Apple</td>\n",
       "      <td>3</td>\n",
       "      <td>My cat only chews @apple cords. Such an #Apple...</td>\n",
       "    </tr>\n",
       "    <tr>\n",
       "      <th>3</th>\n",
       "      <td>623495516</td>\n",
       "      <td>True</td>\n",
       "      <td>golden</td>\n",
       "      <td>17</td>\n",
       "      <td>NaN</td>\n",
       "      <td>3</td>\n",
       "      <td>0.5848</td>\n",
       "      <td>Mon Dec 01 20:26:34 +0000 2014</td>\n",
       "      <td>5.400000e+17</td>\n",
       "      <td>#AAPL OR @Apple</td>\n",
       "      <td>3\\n1</td>\n",
       "      <td>I agree with @jimcramer that the #IndividualIn...</td>\n",
       "    </tr>\n",
       "    <tr>\n",
       "      <th>4</th>\n",
       "      <td>623495517</td>\n",
       "      <td>False</td>\n",
       "      <td>finalized</td>\n",
       "      <td>3</td>\n",
       "      <td>12/12/14 12:14</td>\n",
       "      <td>3</td>\n",
       "      <td>0.6474</td>\n",
       "      <td>Mon Dec 01 20:29:33 +0000 2014</td>\n",
       "      <td>5.400000e+17</td>\n",
       "      <td>#AAPL OR @Apple</td>\n",
       "      <td>NaN</td>\n",
       "      <td>Nobody expects the Spanish Inquisition #AAPL</td>\n",
       "    </tr>\n",
       "  </tbody>\n",
       "</table>\n",
       "</div>"
      ],
      "text/plain": [
       "    _unit_id  _golden _unit_state  _trusted_judgments _last_judgment_at  \\\n",
       "0  623495513     True      golden                  10               NaN   \n",
       "1  623495514     True      golden                  12               NaN   \n",
       "2  623495515     True      golden                  10               NaN   \n",
       "3  623495516     True      golden                  17               NaN   \n",
       "4  623495517    False   finalized                   3    12/12/14 12:14   \n",
       "\n",
       "  sentiment  sentiment:confidence                            date  \\\n",
       "0         3                0.6264  Mon Dec 01 19:30:03 +0000 2014   \n",
       "1         3                0.8129  Mon Dec 01 19:43:51 +0000 2014   \n",
       "2         3                1.0000  Mon Dec 01 19:50:28 +0000 2014   \n",
       "3         3                0.5848  Mon Dec 01 20:26:34 +0000 2014   \n",
       "4         3                0.6474  Mon Dec 01 20:29:33 +0000 2014   \n",
       "\n",
       "             id            query   sentiment_gold  \\\n",
       "0  5.400000e+17  #AAPL OR @Apple  3\\nnot_relevant   \n",
       "1  5.400000e+17  #AAPL OR @Apple             3\\n1   \n",
       "2  5.400000e+17  #AAPL OR @Apple                3   \n",
       "3  5.400000e+17  #AAPL OR @Apple             3\\n1   \n",
       "4  5.400000e+17  #AAPL OR @Apple              NaN   \n",
       "\n",
       "                                                text  \n",
       "0  #AAPL:The 10 best Steve Jobs emails ever...htt...  \n",
       "1  RT @JPDesloges: Why AAPL Stock Had a Mini-Flas...  \n",
       "2  My cat only chews @apple cords. Such an #Apple...  \n",
       "3  I agree with @jimcramer that the #IndividualIn...  \n",
       "4       Nobody expects the Spanish Inquisition #AAPL  "
      ]
     },
     "execution_count": 105,
     "metadata": {},
     "output_type": "execute_result"
    }
   ],
   "source": [
    "# checking the first five rows\n",
    "apple_df.head()"
   ]
  },
  {
   "cell_type": "markdown",
   "id": "68a3173d-7720-40e4-b1c4-c5fb4bf308d0",
   "metadata": {},
   "source": [
    "## Checking the Info & Sentiment Value Counts"
   ]
  },
  {
   "cell_type": "code",
   "execution_count": 106,
   "id": "71242974",
   "metadata": {},
   "outputs": [
    {
     "name": "stdout",
     "output_type": "stream",
     "text": [
      "<class 'pandas.core.frame.DataFrame'>\n",
      "RangeIndex: 3886 entries, 0 to 3885\n",
      "Data columns (total 12 columns):\n",
      " #   Column                Non-Null Count  Dtype  \n",
      "---  ------                --------------  -----  \n",
      " 0   _unit_id              3886 non-null   int64  \n",
      " 1   _golden               3886 non-null   bool   \n",
      " 2   _unit_state           3886 non-null   object \n",
      " 3   _trusted_judgments    3886 non-null   int64  \n",
      " 4   _last_judgment_at     3783 non-null   object \n",
      " 5   sentiment             3886 non-null   object \n",
      " 6   sentiment:confidence  3886 non-null   float64\n",
      " 7   date                  3886 non-null   object \n",
      " 8   id                    3886 non-null   float64\n",
      " 9   query                 3886 non-null   object \n",
      " 10  sentiment_gold        103 non-null    object \n",
      " 11  text                  3886 non-null   object \n",
      "dtypes: bool(1), float64(2), int64(2), object(7)\n",
      "memory usage: 337.9+ KB\n"
     ]
    }
   ],
   "source": [
    "apple_df.info()"
   ]
  },
  {
   "cell_type": "code",
   "execution_count": 107,
   "id": "93cf785f",
   "metadata": {},
   "outputs": [
    {
     "data": {
      "text/plain": [
       "3               2162\n",
       "1               1219\n",
       "5                423\n",
       "not_relevant      82\n",
       "Name: sentiment, dtype: int64"
      ]
     },
     "execution_count": 107,
     "metadata": {},
     "output_type": "execute_result"
    }
   ],
   "source": [
    "apple_df.sentiment.value_counts()"
   ]
  },
  {
   "cell_type": "markdown",
   "id": "aac17d3a-7e7a-4eae-be8a-f42738c04490",
   "metadata": {},
   "source": [
    "<font size=\"4\">The sentiment values are actually strings and will have to be converted to numeric.</font>"
   ]
  },
  {
   "cell_type": "markdown",
   "id": "73758e78-4fe3-4a8c-b432-fe0e27a19574",
   "metadata": {},
   "source": [
    "## Checking the Sentiment of Label 1."
   ]
  },
  {
   "cell_type": "code",
   "execution_count": 108,
   "id": "e1289d08",
   "metadata": {},
   "outputs": [
    {
     "data": {
      "text/html": [
       "<div>\n",
       "<style scoped>\n",
       "    .dataframe tbody tr th:only-of-type {\n",
       "        vertical-align: middle;\n",
       "    }\n",
       "\n",
       "    .dataframe tbody tr th {\n",
       "        vertical-align: top;\n",
       "    }\n",
       "\n",
       "    .dataframe thead th {\n",
       "        text-align: right;\n",
       "    }\n",
       "</style>\n",
       "<table border=\"1\" class=\"dataframe\">\n",
       "  <thead>\n",
       "    <tr style=\"text-align: right;\">\n",
       "      <th></th>\n",
       "      <th>_unit_id</th>\n",
       "      <th>_golden</th>\n",
       "      <th>_unit_state</th>\n",
       "      <th>_trusted_judgments</th>\n",
       "      <th>_last_judgment_at</th>\n",
       "      <th>sentiment</th>\n",
       "      <th>sentiment:confidence</th>\n",
       "      <th>date</th>\n",
       "      <th>id</th>\n",
       "      <th>query</th>\n",
       "      <th>sentiment_gold</th>\n",
       "      <th>text</th>\n",
       "    </tr>\n",
       "  </thead>\n",
       "  <tbody>\n",
       "    <tr>\n",
       "      <th>10</th>\n",
       "      <td>623495523</td>\n",
       "      <td>True</td>\n",
       "      <td>golden</td>\n",
       "      <td>12</td>\n",
       "      <td>NaN</td>\n",
       "      <td>1</td>\n",
       "      <td>1.0000</td>\n",
       "      <td>Mon Dec 01 20:46:01 +0000 2014</td>\n",
       "      <td>5.400000e+17</td>\n",
       "      <td>#AAPL OR @Apple</td>\n",
       "      <td>1</td>\n",
       "      <td>WTF MY BATTERY WAS 31% ONE SECOND AGO AND NOW ...</td>\n",
       "    </tr>\n",
       "    <tr>\n",
       "      <th>14</th>\n",
       "      <td>623495527</td>\n",
       "      <td>True</td>\n",
       "      <td>golden</td>\n",
       "      <td>17</td>\n",
       "      <td>NaN</td>\n",
       "      <td>1</td>\n",
       "      <td>1.0000</td>\n",
       "      <td>Mon Dec 01 21:09:50 +0000 2014</td>\n",
       "      <td>5.400000e+17</td>\n",
       "      <td>#AAPL OR @Apple</td>\n",
       "      <td>1</td>\n",
       "      <td>@apple Contact sync between Yosemite and iOS8 ...</td>\n",
       "    </tr>\n",
       "    <tr>\n",
       "      <th>16</th>\n",
       "      <td>623495529</td>\n",
       "      <td>True</td>\n",
       "      <td>golden</td>\n",
       "      <td>16</td>\n",
       "      <td>NaN</td>\n",
       "      <td>1</td>\n",
       "      <td>0.9399</td>\n",
       "      <td>Mon Dec 01 21:35:14 +0000 2014</td>\n",
       "      <td>5.400000e+17</td>\n",
       "      <td>#AAPL OR @Apple</td>\n",
       "      <td>1</td>\n",
       "      <td>WARNING IF YOU BUY AN IPHONE 5S UNLOCKED FROM ...</td>\n",
       "    </tr>\n",
       "    <tr>\n",
       "      <th>23</th>\n",
       "      <td>623495536</td>\n",
       "      <td>True</td>\n",
       "      <td>golden</td>\n",
       "      <td>13</td>\n",
       "      <td>NaN</td>\n",
       "      <td>1</td>\n",
       "      <td>1.0000</td>\n",
       "      <td>Mon Dec 01 23:55:55 +0000 2014</td>\n",
       "      <td>5.400000e+17</td>\n",
       "      <td>#AAPL OR @Apple</td>\n",
       "      <td>1</td>\n",
       "      <td>@Apple, For the love of GAWD, CENTER the '1'on...</td>\n",
       "    </tr>\n",
       "    <tr>\n",
       "      <th>24</th>\n",
       "      <td>623495537</td>\n",
       "      <td>True</td>\n",
       "      <td>golden</td>\n",
       "      <td>9</td>\n",
       "      <td>NaN</td>\n",
       "      <td>1</td>\n",
       "      <td>0.8928</td>\n",
       "      <td>Tue Dec 02 00:06:05 +0000 2014</td>\n",
       "      <td>5.400000e+17</td>\n",
       "      <td>#AAPL OR @Apple</td>\n",
       "      <td>1</td>\n",
       "      <td>i get the storage almost full notification lit...</td>\n",
       "    </tr>\n",
       "  </tbody>\n",
       "</table>\n",
       "</div>"
      ],
      "text/plain": [
       "     _unit_id  _golden _unit_state  _trusted_judgments _last_judgment_at  \\\n",
       "10  623495523     True      golden                  12               NaN   \n",
       "14  623495527     True      golden                  17               NaN   \n",
       "16  623495529     True      golden                  16               NaN   \n",
       "23  623495536     True      golden                  13               NaN   \n",
       "24  623495537     True      golden                   9               NaN   \n",
       "\n",
       "   sentiment  sentiment:confidence                            date  \\\n",
       "10         1                1.0000  Mon Dec 01 20:46:01 +0000 2014   \n",
       "14         1                1.0000  Mon Dec 01 21:09:50 +0000 2014   \n",
       "16         1                0.9399  Mon Dec 01 21:35:14 +0000 2014   \n",
       "23         1                1.0000  Mon Dec 01 23:55:55 +0000 2014   \n",
       "24         1                0.8928  Tue Dec 02 00:06:05 +0000 2014   \n",
       "\n",
       "              id            query sentiment_gold  \\\n",
       "10  5.400000e+17  #AAPL OR @Apple              1   \n",
       "14  5.400000e+17  #AAPL OR @Apple              1   \n",
       "16  5.400000e+17  #AAPL OR @Apple              1   \n",
       "23  5.400000e+17  #AAPL OR @Apple              1   \n",
       "24  5.400000e+17  #AAPL OR @Apple              1   \n",
       "\n",
       "                                                 text  \n",
       "10  WTF MY BATTERY WAS 31% ONE SECOND AGO AND NOW ...  \n",
       "14  @apple Contact sync between Yosemite and iOS8 ...  \n",
       "16  WARNING IF YOU BUY AN IPHONE 5S UNLOCKED FROM ...  \n",
       "23  @Apple, For the love of GAWD, CENTER the '1'on...  \n",
       "24  i get the storage almost full notification lit...  "
      ]
     },
     "execution_count": 108,
     "metadata": {},
     "output_type": "execute_result"
    }
   ],
   "source": [
    "# filtering and. checking the first five rows\n",
    "apple_df[apple_df.sentiment=='1'].head()"
   ]
  },
  {
   "cell_type": "code",
   "execution_count": 109,
   "id": "c0d75391",
   "metadata": {},
   "outputs": [
    {
     "data": {
      "text/plain": [
       "'WTF MY BATTERY WAS 31% ONE SECOND AGO AND NOW IS 29% WTF IS THIS @apple'"
      ]
     },
     "execution_count": 109,
     "metadata": {},
     "output_type": "execute_result"
    }
   ],
   "source": [
    "apple_df[apple_df.sentiment=='1'].text[10]"
   ]
  },
  {
   "cell_type": "markdown",
   "id": "b76adc78-3f52-47b6-8f43-6c0e3e8e9209",
   "metadata": {},
   "source": [
    "<font size=\"4\">These tweets look pretty negative, so it seems like we found the label we need.</font>"
   ]
  },
  {
   "cell_type": "markdown",
   "id": "ec953eb6-ec9d-4082-9135-cd6bdd01f6e0",
   "metadata": {},
   "source": [
    "## Creating a DF of the Negative Tweets"
   ]
  },
  {
   "cell_type": "code",
   "execution_count": 110,
   "id": "1d2bdf00-b655-45d7-a037-9966b9c093c6",
   "metadata": {},
   "outputs": [],
   "source": [
    "# filtering down to the negatives\n",
    "appl_neg = apple_df[apple_df.sentiment=='1']\n",
    "\n",
    "# making a df of just the text and sentiment columns\n",
    "a_neg = appl_neg[['text', 'sentiment']].copy()\n",
    "\n",
    "# converting sentiment values to numeric\n",
    "a_neg['sentiment'] = a_neg['sentiment'].apply(pd.to_numeric)\n",
    "\n",
    "# renaming the columns\n",
    "a_neg.rename(columns={'sentiment': 'emotion', 'text': 'tweet'}, inplace=True)\n",
    "\n",
    "# reseting the index\n",
    "a_neg.reset_index(drop=True, inplace=True)"
   ]
  },
  {
   "cell_type": "markdown",
   "id": "a02b2f27-0182-4c41-9ab3-fe711fc62d45",
   "metadata": {},
   "source": [
    "## Checking Work"
   ]
  },
  {
   "cell_type": "code",
   "execution_count": 111,
   "id": "c845f37f-b505-4e79-83f4-46f5c8ec46fc",
   "metadata": {},
   "outputs": [
    {
     "name": "stdout",
     "output_type": "stream",
     "text": [
      "<class 'pandas.core.frame.DataFrame'>\n",
      "RangeIndex: 1219 entries, 0 to 1218\n",
      "Data columns (total 2 columns):\n",
      " #   Column   Non-Null Count  Dtype \n",
      "---  ------   --------------  ----- \n",
      " 0   tweet    1219 non-null   object\n",
      " 1   emotion  1219 non-null   int64 \n",
      "dtypes: int64(1), object(1)\n",
      "memory usage: 19.2+ KB\n",
      "None\n"
     ]
    },
    {
     "data": {
      "text/html": [
       "<div>\n",
       "<style scoped>\n",
       "    .dataframe tbody tr th:only-of-type {\n",
       "        vertical-align: middle;\n",
       "    }\n",
       "\n",
       "    .dataframe tbody tr th {\n",
       "        vertical-align: top;\n",
       "    }\n",
       "\n",
       "    .dataframe thead th {\n",
       "        text-align: right;\n",
       "    }\n",
       "</style>\n",
       "<table border=\"1\" class=\"dataframe\">\n",
       "  <thead>\n",
       "    <tr style=\"text-align: right;\">\n",
       "      <th></th>\n",
       "      <th>tweet</th>\n",
       "      <th>emotion</th>\n",
       "    </tr>\n",
       "  </thead>\n",
       "  <tbody>\n",
       "    <tr>\n",
       "      <th>0</th>\n",
       "      <td>WTF MY BATTERY WAS 31% ONE SECOND AGO AND NOW ...</td>\n",
       "      <td>1</td>\n",
       "    </tr>\n",
       "    <tr>\n",
       "      <th>1</th>\n",
       "      <td>@apple Contact sync between Yosemite and iOS8 ...</td>\n",
       "      <td>1</td>\n",
       "    </tr>\n",
       "    <tr>\n",
       "      <th>2</th>\n",
       "      <td>WARNING IF YOU BUY AN IPHONE 5S UNLOCKED FROM ...</td>\n",
       "      <td>1</td>\n",
       "    </tr>\n",
       "    <tr>\n",
       "      <th>3</th>\n",
       "      <td>@Apple, For the love of GAWD, CENTER the '1'on...</td>\n",
       "      <td>1</td>\n",
       "    </tr>\n",
       "    <tr>\n",
       "      <th>4</th>\n",
       "      <td>i get the storage almost full notification lit...</td>\n",
       "      <td>1</td>\n",
       "    </tr>\n",
       "  </tbody>\n",
       "</table>\n",
       "</div>"
      ],
      "text/plain": [
       "                                               tweet  emotion\n",
       "0  WTF MY BATTERY WAS 31% ONE SECOND AGO AND NOW ...        1\n",
       "1  @apple Contact sync between Yosemite and iOS8 ...        1\n",
       "2  WARNING IF YOU BUY AN IPHONE 5S UNLOCKED FROM ...        1\n",
       "3  @Apple, For the love of GAWD, CENTER the '1'on...        1\n",
       "4  i get the storage almost full notification lit...        1"
      ]
     },
     "execution_count": 111,
     "metadata": {},
     "output_type": "execute_result"
    }
   ],
   "source": [
    "print(a_neg.info())\n",
    "a_neg.head()"
   ]
  },
  {
   "cell_type": "markdown",
   "id": "419e990c",
   "metadata": {},
   "source": [
    "## Joining The Data Frames & Checking Info"
   ]
  },
  {
   "cell_type": "code",
   "execution_count": 112,
   "id": "854e62d3",
   "metadata": {},
   "outputs": [],
   "source": [
    "neg_aug = pd.concat([a_neg, neg_df], axis=0, ignore_index=True)"
   ]
  },
  {
   "cell_type": "code",
   "execution_count": 113,
   "id": "4883b0ca",
   "metadata": {},
   "outputs": [
    {
     "name": "stdout",
     "output_type": "stream",
     "text": [
      "<class 'pandas.core.frame.DataFrame'>\n",
      "RangeIndex: 2336 entries, 0 to 2335\n",
      "Data columns (total 2 columns):\n",
      " #   Column   Non-Null Count  Dtype \n",
      "---  ------   --------------  ----- \n",
      " 0   tweet    2336 non-null   object\n",
      " 1   emotion  2336 non-null   int64 \n",
      "dtypes: int64(1), object(1)\n",
      "memory usage: 36.6+ KB\n"
     ]
    }
   ],
   "source": [
    "neg_aug.info()"
   ]
  },
  {
   "cell_type": "markdown",
   "id": "3192adaa-dbce-43d9-b6d1-ae4bbb15700d",
   "metadata": {},
   "source": [
    "## Getting the New DF in a Format Compatible with the Original DF"
   ]
  },
  {
   "cell_type": "markdown",
   "id": "1d82d894",
   "metadata": {},
   "source": [
    "## Setting the Hashtag Columns"
   ]
  },
  {
   "cell_type": "code",
   "execution_count": 114,
   "id": "7ec4cbe1",
   "metadata": {},
   "outputs": [],
   "source": [
    "# copying hashtags to a new column and setting any empty lists to NaNs\n",
    "neg_aug['hashtags'] = neg_aug['tweet'].apply(lambda x: \n",
    "                                   re.findall(r'\\B#\\w*[a-zA-Z]+\\w*', x))\n",
    "neg_aug['hashtags'] = neg_aug['hashtags'].apply(lambda x: np.nan if len(x) == 0 else x)"
   ]
  },
  {
   "cell_type": "code",
   "execution_count": 115,
   "id": "acb9305a",
   "metadata": {},
   "outputs": [
    {
     "data": {
      "text/html": [
       "<div>\n",
       "<style scoped>\n",
       "    .dataframe tbody tr th:only-of-type {\n",
       "        vertical-align: middle;\n",
       "    }\n",
       "\n",
       "    .dataframe tbody tr th {\n",
       "        vertical-align: top;\n",
       "    }\n",
       "\n",
       "    .dataframe thead th {\n",
       "        text-align: right;\n",
       "    }\n",
       "</style>\n",
       "<table border=\"1\" class=\"dataframe\">\n",
       "  <thead>\n",
       "    <tr style=\"text-align: right;\">\n",
       "      <th></th>\n",
       "      <th>tweet</th>\n",
       "      <th>emotion</th>\n",
       "      <th>hashtags</th>\n",
       "    </tr>\n",
       "  </thead>\n",
       "  <tbody>\n",
       "    <tr>\n",
       "      <th>0</th>\n",
       "      <td>WTF MY BATTERY WAS 31% ONE SECOND AGO AND NOW ...</td>\n",
       "      <td>1</td>\n",
       "      <td>NaN</td>\n",
       "    </tr>\n",
       "    <tr>\n",
       "      <th>1</th>\n",
       "      <td>@apple Contact sync between Yosemite and iOS8 ...</td>\n",
       "      <td>1</td>\n",
       "      <td>[#icloud, #isync]</td>\n",
       "    </tr>\n",
       "    <tr>\n",
       "      <th>2</th>\n",
       "      <td>WARNING IF YOU BUY AN IPHONE 5S UNLOCKED FROM ...</td>\n",
       "      <td>1</td>\n",
       "      <td>NaN</td>\n",
       "    </tr>\n",
       "    <tr>\n",
       "      <th>3</th>\n",
       "      <td>@Apple, For the love of GAWD, CENTER the '1'on...</td>\n",
       "      <td>1</td>\n",
       "      <td>NaN</td>\n",
       "    </tr>\n",
       "    <tr>\n",
       "      <th>4</th>\n",
       "      <td>i get the storage almost full notification lit...</td>\n",
       "      <td>1</td>\n",
       "      <td>NaN</td>\n",
       "    </tr>\n",
       "  </tbody>\n",
       "</table>\n",
       "</div>"
      ],
      "text/plain": [
       "                                               tweet  emotion  \\\n",
       "0  WTF MY BATTERY WAS 31% ONE SECOND AGO AND NOW ...        1   \n",
       "1  @apple Contact sync between Yosemite and iOS8 ...        1   \n",
       "2  WARNING IF YOU BUY AN IPHONE 5S UNLOCKED FROM ...        1   \n",
       "3  @Apple, For the love of GAWD, CENTER the '1'on...        1   \n",
       "4  i get the storage almost full notification lit...        1   \n",
       "\n",
       "            hashtags  \n",
       "0                NaN  \n",
       "1  [#icloud, #isync]  \n",
       "2                NaN  \n",
       "3                NaN  \n",
       "4                NaN  "
      ]
     },
     "execution_count": 115,
     "metadata": {},
     "output_type": "execute_result"
    }
   ],
   "source": [
    "neg_aug.head()"
   ]
  },
  {
   "cell_type": "markdown",
   "id": "c02eca13-7a84-448c-8ffe-27d6dc9c560b",
   "metadata": {},
   "source": [
    "## Cleaning and Regularizing the Tweets"
   ]
  },
  {
   "cell_type": "code",
   "execution_count": 116,
   "id": "784d8b92",
   "metadata": {},
   "outputs": [],
   "source": [
    "data_clean_lemmas = fn.clean_corpus_lem(neg_aug.tweet)\n",
    "data_clean_stems = fn.clean_corpus_stem(neg_aug.tweet)"
   ]
  },
  {
   "cell_type": "markdown",
   "id": "64ae9ad0-4d39-4389-8e9f-dc2650a19e4d",
   "metadata": {},
   "source": [
    "## Adding the `lemmas` & `stems` Columns"
   ]
  },
  {
   "cell_type": "code",
   "execution_count": 117,
   "id": "0c40d8fb",
   "metadata": {},
   "outputs": [],
   "source": [
    "neg_aug['lemmas'] = data_clean_lemmas\n",
    "neg_aug['stems'] = data_clean_stems"
   ]
  },
  {
   "cell_type": "markdown",
   "id": "1567d167-bbc9-4d27-be04-b470830bb412",
   "metadata": {},
   "source": [
    "## Adding the `brand_product` column"
   ]
  },
  {
   "cell_type": "code",
   "execution_count": 118,
   "id": "9c4b8451",
   "metadata": {},
   "outputs": [],
   "source": [
    "neg_aug['brand_product'] = np.nan"
   ]
  },
  {
   "cell_type": "markdown",
   "id": "84a00858-51d8-4c51-9848-a9a8856b4be1",
   "metadata": {},
   "source": [
    "## Checking Work"
   ]
  },
  {
   "cell_type": "code",
   "execution_count": 119,
   "id": "f4f58e95",
   "metadata": {
    "tags": []
   },
   "outputs": [
    {
     "data": {
      "text/html": [
       "<div>\n",
       "<style scoped>\n",
       "    .dataframe tbody tr th:only-of-type {\n",
       "        vertical-align: middle;\n",
       "    }\n",
       "\n",
       "    .dataframe tbody tr th {\n",
       "        vertical-align: top;\n",
       "    }\n",
       "\n",
       "    .dataframe thead th {\n",
       "        text-align: right;\n",
       "    }\n",
       "</style>\n",
       "<table border=\"1\" class=\"dataframe\">\n",
       "  <thead>\n",
       "    <tr style=\"text-align: right;\">\n",
       "      <th></th>\n",
       "      <th>tweet</th>\n",
       "      <th>emotion</th>\n",
       "      <th>hashtags</th>\n",
       "      <th>lemmas</th>\n",
       "      <th>stems</th>\n",
       "      <th>brand_product</th>\n",
       "    </tr>\n",
       "  </thead>\n",
       "  <tbody>\n",
       "    <tr>\n",
       "      <th>0</th>\n",
       "      <td>WTF MY BATTERY WAS 31% ONE SECOND AGO AND NOW ...</td>\n",
       "      <td>1</td>\n",
       "      <td>NaN</td>\n",
       "      <td>wtf battery one second ago wtf</td>\n",
       "      <td>wtf batteri 31 one second ago is9 wtf</td>\n",
       "      <td>NaN</td>\n",
       "    </tr>\n",
       "    <tr>\n",
       "      <th>1</th>\n",
       "      <td>@apple Contact sync between Yosemite and iOS8 ...</td>\n",
       "      <td>1</td>\n",
       "      <td>[#icloud, #isync]</td>\n",
       "      <td>contact sync yosemite io seriously screwed use...</td>\n",
       "      <td>contact sync yosemit ios8 serious screw use mu...</td>\n",
       "      <td>NaN</td>\n",
       "    </tr>\n",
       "    <tr>\n",
       "      <th>2</th>\n",
       "      <td>WARNING IF YOU BUY AN IPHONE 5S UNLOCKED FROM ...</td>\n",
       "      <td>1</td>\n",
       "      <td>NaN</td>\n",
       "      <td>warning buy iphone 5 unlocked iphone cannot us...</td>\n",
       "      <td>warn buy iphon 5s unlock iphon cannot use veri...</td>\n",
       "      <td>NaN</td>\n",
       "    </tr>\n",
       "    <tr>\n",
       "      <th>3</th>\n",
       "      <td>@Apple, For the love of GAWD, CENTER the '1'on...</td>\n",
       "      <td>1</td>\n",
       "      <td>NaN</td>\n",
       "      <td>love gawd center damn calendar app fixed back ...</td>\n",
       "      <td>love gawd center 1 damn calendar app fix back ...</td>\n",
       "      <td>NaN</td>\n",
       "    </tr>\n",
       "    <tr>\n",
       "      <th>4</th>\n",
       "      <td>i get the storage almost full notification lit...</td>\n",
       "      <td>1</td>\n",
       "      <td>NaN</td>\n",
       "      <td>get storage almost full notification literally...</td>\n",
       "      <td>get storag almost full notif liter everi 5 min...</td>\n",
       "      <td>NaN</td>\n",
       "    </tr>\n",
       "  </tbody>\n",
       "</table>\n",
       "</div>"
      ],
      "text/plain": [
       "                                               tweet  emotion  \\\n",
       "0  WTF MY BATTERY WAS 31% ONE SECOND AGO AND NOW ...        1   \n",
       "1  @apple Contact sync between Yosemite and iOS8 ...        1   \n",
       "2  WARNING IF YOU BUY AN IPHONE 5S UNLOCKED FROM ...        1   \n",
       "3  @Apple, For the love of GAWD, CENTER the '1'on...        1   \n",
       "4  i get the storage almost full notification lit...        1   \n",
       "\n",
       "            hashtags                                             lemmas  \\\n",
       "0                NaN                     wtf battery one second ago wtf   \n",
       "1  [#icloud, #isync]  contact sync yosemite io seriously screwed use...   \n",
       "2                NaN  warning buy iphone 5 unlocked iphone cannot us...   \n",
       "3                NaN  love gawd center damn calendar app fixed back ...   \n",
       "4                NaN  get storage almost full notification literally...   \n",
       "\n",
       "                                               stems  brand_product  \n",
       "0              wtf batteri 31 one second ago is9 wtf            NaN  \n",
       "1  contact sync yosemit ios8 serious screw use mu...            NaN  \n",
       "2  warn buy iphon 5s unlock iphon cannot use veri...            NaN  \n",
       "3  love gawd center 1 damn calendar app fix back ...            NaN  \n",
       "4  get storag almost full notif liter everi 5 min...            NaN  "
      ]
     },
     "execution_count": 119,
     "metadata": {},
     "output_type": "execute_result"
    }
   ],
   "source": [
    "neg_aug.head()"
   ]
  },
  {
   "cell_type": "markdown",
   "id": "2a98a3af-ca46-4fd2-86d4-25ba3641f66c",
   "metadata": {},
   "source": [
    "## Word Frequencies of the New Data\n",
    "The new data contains profanity so some tokens will altered before they are displayed."
   ]
  },
  {
   "cell_type": "code",
   "execution_count": 120,
   "id": "27af68c2-0d83-41c6-9443-2056e5f02662",
   "metadata": {},
   "outputs": [],
   "source": [
    "clean = fn.cloud_cleaner_lem(neg_aug.lemmas)"
   ]
  },
  {
   "cell_type": "code",
   "execution_count": 121,
   "id": "db7aecbe-dbb0-4f20-90b0-b2774d02ed16",
   "metadata": {},
   "outputs": [
    {
     "name": "stdout",
     "output_type": "stream",
     "text": [
      "Word \t\t\tFrequency\n",
      "\n",
      "unhappy   \t\t0.05      \n",
      "apple     \t\t0.0113    \n",
      "iphone    \t\t0.0092    \n",
      "need      \t\t0.0091    \n",
      "phone     \t\t0.0087    \n",
      "one       \t\t0.0086    \n",
      "aapl      \t\t0.0084    \n",
      "get       \t\t0.0077    \n",
      "f0ck      \t\t0.0071    \n",
      "battery   \t\t0.0068    \n",
      "want      \t\t0.0068    \n",
      "like      \t\t0.0064    \n",
      "computer  \t\t0.0061    \n",
      "u         \t\t0.0061    \n",
      "make      \t\t0.006     \n",
      "sh1t      \t\t0.0056    \n",
      "please    \t\t0.0053    \n",
      "people    \t\t0.0051    \n",
      "sad       \t\t0.0049    \n",
      "future    \t\t0.0048    \n",
      "studio    \t\t0.0047    \n",
      "ft        \t\t0.0047    \n",
      "fix       \t\t0.0046    \n",
      "outlet    \t\t0.0046    \n",
      "miss      \t\t0.0045    \n"
     ]
    }
   ],
   "source": [
    "fn.word_frequencies(clean, 25)"
   ]
  },
  {
   "cell_type": "markdown",
   "id": "81a3bb3c-e6dd-475c-9343-ffbbf401c5e5",
   "metadata": {},
   "source": [
    "Unhappy has the greatest frequency at 5%, and is about five times more common than the next most common word."
   ]
  },
  {
   "cell_type": "markdown",
   "id": "28404c18-f22c-48a5-9506-3bb35e312ba3",
   "metadata": {},
   "source": [
    "## Joining the Old and New DFs & Checking the Class Balance"
   ]
  },
  {
   "cell_type": "code",
   "execution_count": 122,
   "id": "34d613f0-1cc5-422f-9628-82140066862f",
   "metadata": {},
   "outputs": [
    {
     "data": {
      "text/plain": [
       "2    0.477677\n",
       "0    0.263963\n",
       "1    0.258360\n",
       "Name: emotion, dtype: float64"
      ]
     },
     "execution_count": 122,
     "metadata": {},
     "output_type": "execute_result"
    }
   ],
   "source": [
    "# joining dfs\n",
    "augmented = pd.concat([df, neg_aug], axis=0, ignore_index=True)\n",
    "\n",
    "# checking class balance\n",
    "augmented.emotion.value_counts(normalize=True)"
   ]
  },
  {
   "cell_type": "markdown",
   "id": "4d994159-06f6-4737-8d58-8bd86b215fd0",
   "metadata": {},
   "source": [
    "<font size=\"4\">The class balance is looking much more resonable now.</font>"
   ]
  },
  {
   "cell_type": "code",
   "execution_count": 123,
   "id": "8f9cd08c-fc4f-4812-846c-57f64da2f9a5",
   "metadata": {},
   "outputs": [
    {
     "name": "stdout",
     "output_type": "stream",
     "text": [
      "<class 'pandas.core.frame.DataFrame'>\n",
      "RangeIndex: 11244 entries, 0 to 11243\n",
      "Data columns (total 6 columns):\n",
      " #   Column         Non-Null Count  Dtype \n",
      "---  ------         --------------  ----- \n",
      " 0   emotion        11244 non-null  int64 \n",
      " 1   stems          11244 non-null  object\n",
      " 2   lemmas         11244 non-null  object\n",
      " 3   tweet          11244 non-null  object\n",
      " 4   brand_product  3271 non-null   object\n",
      " 5   hashtags       9236 non-null   object\n",
      "dtypes: int64(1), object(5)\n",
      "memory usage: 527.2+ KB\n"
     ]
    }
   ],
   "source": [
    "augmented.info()"
   ]
  },
  {
   "cell_type": "markdown",
   "id": "55200c36-3518-48ea-b69a-396a26a535af",
   "metadata": {},
   "source": [
    "## Cleaning up Blank Tweets"
   ]
  },
  {
   "cell_type": "code",
   "execution_count": 123,
   "id": "d2dc3d8d",
   "metadata": {},
   "outputs": [
    {
     "data": {
      "text/plain": [
       "(array([10699, 10699, 11048, 11048]), array([1, 2, 1, 2]))"
      ]
     },
     "execution_count": 123,
     "metadata": {},
     "output_type": "execute_result"
    }
   ],
   "source": [
    "# checking for blank cells\n",
    "np.where(augmented.applymap(lambda x: x == ''))"
   ]
  },
  {
   "cell_type": "code",
   "execution_count": 124,
   "id": "66f33044",
   "metadata": {},
   "outputs": [],
   "source": [
    "augmented.drop([10699, 11048], axis=0, inplace=True)\n",
    "augmented.reset_index(drop=True, inplace=True)"
   ]
  },
  {
   "cell_type": "markdown",
   "id": "d8ce3938",
   "metadata": {},
   "source": [
    "## Exporting Augmented Data for Modeling"
   ]
  },
  {
   "cell_type": "code",
   "execution_count": 125,
   "id": "2a900907",
   "metadata": {},
   "outputs": [],
   "source": [
    "# path = os.path.join(gparent, 'data/processed', 'augmented_data.csv')\n",
    "# augmented.to_csv(path, index=False)"
   ]
  },
  {
   "cell_type": "markdown",
   "id": "650bab27-36a2-459d-8822-17e5b4f14340",
   "metadata": {},
   "source": [
    "## Exporting Augmented Data for Visualizations"
   ]
  },
  {
   "cell_type": "code",
   "execution_count": 126,
   "id": "6c82308b",
   "metadata": {},
   "outputs": [],
   "source": [
    "# # converting the target integers to strings for the visualiztions\n",
    "# augmented['emotion'] = augmented['emotion'].replace([1, 0, 2],\n",
    "#                                       ['Negative',\n",
    "#                                        'Positive',\n",
    "#                                        'Neutral']\n",
    "#                                       )\n",
    "\n",
    "# path = os.path.join(gparent, 'data/processed', 'report_aug_viz.csv')\n",
    "# # augmented.to_csv(path, index=False)"
   ]
  },
  {
   "cell_type": "code",
   "execution_count": null,
   "id": "63e3fb11-768c-4c16-9f02-899f5d15f2d0",
   "metadata": {},
   "outputs": [],
   "source": []
  }
 ],
 "metadata": {
  "kernelspec": {
   "display_name": "nlp_project",
   "language": "python",
   "name": "nlp_project"
  },
  "language_info": {
   "codemirror_mode": {
    "name": "ipython",
    "version": 3
   },
   "file_extension": ".py",
   "mimetype": "text/x-python",
   "name": "python",
   "nbconvert_exporter": "python",
   "pygments_lexer": "ipython3",
   "version": "3.8.5"
  }
 },
 "nbformat": 4,
 "nbformat_minor": 5
}
