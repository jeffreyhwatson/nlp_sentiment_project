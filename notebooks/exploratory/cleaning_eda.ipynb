{
 "cells": [
  {
   "cell_type": "code",
   "execution_count": 1,
   "id": "8d9e7d61",
   "metadata": {},
   "outputs": [],
   "source": [
    "%load_ext autoreload\n",
    "%autoreload 2"
   ]
  },
  {
   "cell_type": "markdown",
   "id": "1c357f14",
   "metadata": {},
   "source": [
    "## Package Imports & Setup \n",
    "Importing the required packages, setting the project path and notebook styling."
   ]
  },
  {
   "cell_type": "code",
   "execution_count": 2,
   "id": "34460b2f",
   "metadata": {},
   "outputs": [],
   "source": [
    "# imports\n",
    "import os, sys, string, re, itertools, random \n",
    "\n",
    "#more_itertools, random\n",
    "#from more_itertools import take\n",
    "\n",
    "# setting project path\n",
    "gparent = os.path.join(os.pardir, os.pardir)\n",
    "sys.path.append(gparent)\n",
    "\n",
    "import pandas as pd\n",
    "import numpy as np\n",
    "\n",
    "import nltk\n",
    "\n",
    "from nltk.probability import FreqDist\n",
    "from nltk.corpus import stopwords\n",
    "from nltk.stem import PorterStemmer, WordNetLemmatizer\n",
    "from nltk.tokenize import RegexpTokenizer\n",
    "\n",
    "import matplotlib.pyplot as plt\n",
    "import seaborn as sns\n",
    "%matplotlib inline\n",
    "\n",
    "from src import visualizations as vz\n",
    "from src import functions as fn                                   \n",
    "\n",
    "# # updates for nltk helper packages if needed\n",
    "# nltk.download('stopwords')\n",
    "# nltk.download('punkt')\n",
    "# nltk.download('wordnet')\n",
    "                                     \n",
    "# setting style\n",
    "sns.set_theme('talk')\n",
    "plt.style.use('fivethirtyeight')\n",
    "sns.set_palette(palette='Blues_r')\n",
    "pd.options.display.max_rows = 300"
   ]
  },
  {
   "cell_type": "markdown",
   "id": "bcc52001-e23d-467a-a2ef-e84b663faaba",
   "metadata": {},
   "source": [
    "# NLP Twitter Sentiment Analysis Project\n",
    "<font size=\"4\"> Author: Jeffrey Hanif Watson </font>"
   ]
  },
  {
   "cell_type": "markdown",
   "id": "2deb2970-cad4-43fc-b0b3-0c4dc2e2e5dd",
   "metadata": {},
   "source": [
    "## Project Goals & Overview:\n",
    "Develop and train a natural language processing model to classify the sentiment of tweets."
   ]
  },
  {
   "cell_type": "markdown",
   "id": "571d8264-2cef-474d-888c-4deef7c3938d",
   "metadata": {},
   "source": [
    "## Business Understanding:\n",
    "Companies can benefit from understanding how consumers perceive and feel about their brands and products, and sentiment analysis of text data from twitter can help provide this knowledge in a timely manner."
   ]
  },
  {
   "cell_type": "markdown",
   "id": "c78b7093-d891-4a54-bd00-625fe06e472d",
   "metadata": {},
   "source": [
    "## Data Understanding:\n",
    "The data for this project consists of a csv file containing 9,093 rows of text data (tweets, brand/product ids, sentiments labels) originally sourced from [Twitter](https://twitter.com/?lang=en) and collected into the [crowdflower/brands-and-product-emotions](https://data.world/crowdflower/brands-and-product-emotions). From the overwhelming amount of SXSW hashtags, and numerous references to the iPad 2 (which was released on March 2nd, 2011), it appears that the data was collected during the 2011 South by Southwest festival (which ran from March 11th to March 20th)."
   ]
  },
  {
   "cell_type": "markdown",
   "id": "ded4a574-9232-4e4f-a538-87bb2ab67708",
   "metadata": {},
   "source": [
    "## Data Preparation I: (Exploring the Data)"
   ]
  },
  {
   "cell_type": "markdown",
   "id": "31ec1bd3",
   "metadata": {},
   "source": [
    "## `dir` Check\n",
    "Checking where we are before setting the path."
   ]
  },
  {
   "cell_type": "code",
   "execution_count": 3,
   "id": "9aa23a49",
   "metadata": {},
   "outputs": [
    {
     "name": "stdout",
     "output_type": "stream",
     "text": [
      "/Users/dsbox/Documents/Flatiron/p_4_project/nlp_sentiment_project/notebooks/exploratory\n"
     ]
    }
   ],
   "source": [
    "!pwd"
   ]
  },
  {
   "cell_type": "markdown",
   "id": "bdcb69d3",
   "metadata": {},
   "source": [
    "## Importing Data:\n",
    "Setting path to the data, creating data frame, and checking first five rows."
   ]
  },
  {
   "cell_type": "code",
   "execution_count": 4,
   "id": "e457933b",
   "metadata": {},
   "outputs": [
    {
     "data": {
      "text/html": [
       "<div>\n",
       "<style scoped>\n",
       "    .dataframe tbody tr th:only-of-type {\n",
       "        vertical-align: middle;\n",
       "    }\n",
       "\n",
       "    .dataframe tbody tr th {\n",
       "        vertical-align: top;\n",
       "    }\n",
       "\n",
       "    .dataframe thead th {\n",
       "        text-align: right;\n",
       "    }\n",
       "</style>\n",
       "<table border=\"1\" class=\"dataframe\">\n",
       "  <thead>\n",
       "    <tr style=\"text-align: right;\">\n",
       "      <th></th>\n",
       "      <th>tweet_text</th>\n",
       "      <th>emotion_in_tweet_is_directed_at</th>\n",
       "      <th>is_there_an_emotion_directed_at_a_brand_or_product</th>\n",
       "    </tr>\n",
       "  </thead>\n",
       "  <tbody>\n",
       "    <tr>\n",
       "      <th>0</th>\n",
       "      <td>.@wesley83 I have a 3G iPhone. After 3 hrs twe...</td>\n",
       "      <td>iPhone</td>\n",
       "      <td>Negative emotion</td>\n",
       "    </tr>\n",
       "    <tr>\n",
       "      <th>1</th>\n",
       "      <td>@jessedee Know about @fludapp ? Awesome iPad/i...</td>\n",
       "      <td>iPad or iPhone App</td>\n",
       "      <td>Positive emotion</td>\n",
       "    </tr>\n",
       "    <tr>\n",
       "      <th>2</th>\n",
       "      <td>@swonderlin Can not wait for #iPad 2 also. The...</td>\n",
       "      <td>iPad</td>\n",
       "      <td>Positive emotion</td>\n",
       "    </tr>\n",
       "    <tr>\n",
       "      <th>3</th>\n",
       "      <td>@sxsw I hope this year's festival isn't as cra...</td>\n",
       "      <td>iPad or iPhone App</td>\n",
       "      <td>Negative emotion</td>\n",
       "    </tr>\n",
       "    <tr>\n",
       "      <th>4</th>\n",
       "      <td>@sxtxstate great stuff on Fri #SXSW: Marissa M...</td>\n",
       "      <td>Google</td>\n",
       "      <td>Positive emotion</td>\n",
       "    </tr>\n",
       "  </tbody>\n",
       "</table>\n",
       "</div>"
      ],
      "text/plain": [
       "                                          tweet_text  \\\n",
       "0  .@wesley83 I have a 3G iPhone. After 3 hrs twe...   \n",
       "1  @jessedee Know about @fludapp ? Awesome iPad/i...   \n",
       "2  @swonderlin Can not wait for #iPad 2 also. The...   \n",
       "3  @sxsw I hope this year's festival isn't as cra...   \n",
       "4  @sxtxstate great stuff on Fri #SXSW: Marissa M...   \n",
       "\n",
       "  emotion_in_tweet_is_directed_at  \\\n",
       "0                          iPhone   \n",
       "1              iPad or iPhone App   \n",
       "2                            iPad   \n",
       "3              iPad or iPhone App   \n",
       "4                          Google   \n",
       "\n",
       "  is_there_an_emotion_directed_at_a_brand_or_product  \n",
       "0                                   Negative emotion  \n",
       "1                                   Positive emotion  \n",
       "2                                   Positive emotion  \n",
       "3                                   Negative emotion  \n",
       "4                                   Positive emotion  "
      ]
     },
     "execution_count": 4,
     "metadata": {},
     "output_type": "execute_result"
    }
   ],
   "source": [
    "path = os.path.join(gparent, 'data/raw',\\\n",
    "                           'judge-1377884607_tweet_product_company.csv')\n",
    "df = pd.read_csv(path, encoding='unicode_escape')\n",
    "df.head()"
   ]
  },
  {
   "cell_type": "markdown",
   "id": "cb10ef32-b333-4604-9fba-5a209353c485",
   "metadata": {},
   "source": [
    "## Checking the DF Info"
   ]
  },
  {
   "cell_type": "code",
   "execution_count": 5,
   "id": "765d8754",
   "metadata": {},
   "outputs": [
    {
     "name": "stdout",
     "output_type": "stream",
     "text": [
      "<class 'pandas.core.frame.DataFrame'>\n",
      "RangeIndex: 9093 entries, 0 to 9092\n",
      "Data columns (total 3 columns):\n",
      " #   Column                                              Non-Null Count  Dtype \n",
      "---  ------                                              --------------  ----- \n",
      " 0   tweet_text                                          9092 non-null   object\n",
      " 1   emotion_in_tweet_is_directed_at                     3291 non-null   object\n",
      " 2   is_there_an_emotion_directed_at_a_brand_or_product  9093 non-null   object\n",
      "dtypes: object(3)\n",
      "memory usage: 213.2+ KB\n"
     ]
    }
   ],
   "source": [
    "df.info()"
   ]
  },
  {
   "cell_type": "markdown",
   "id": "04e2c23a-96ed-4e90-9eee-39d2ddf05562",
   "metadata": {},
   "source": [
    "<font size=\"4\">We are going to look at the single missing tweet right now and save the nulls in the second column for later.</font>"
   ]
  },
  {
   "cell_type": "markdown",
   "id": "01980b93",
   "metadata": {},
   "source": [
    "## Checking the Null Tweet:\n",
    "We have one null value in the `tweet` column we need to deal with."
   ]
  },
  {
   "cell_type": "code",
   "execution_count": 6,
   "id": "7977d3ce",
   "metadata": {},
   "outputs": [
    {
     "data": {
      "text/html": [
       "<div>\n",
       "<style scoped>\n",
       "    .dataframe tbody tr th:only-of-type {\n",
       "        vertical-align: middle;\n",
       "    }\n",
       "\n",
       "    .dataframe tbody tr th {\n",
       "        vertical-align: top;\n",
       "    }\n",
       "\n",
       "    .dataframe thead th {\n",
       "        text-align: right;\n",
       "    }\n",
       "</style>\n",
       "<table border=\"1\" class=\"dataframe\">\n",
       "  <thead>\n",
       "    <tr style=\"text-align: right;\">\n",
       "      <th></th>\n",
       "      <th>tweet_text</th>\n",
       "      <th>emotion_in_tweet_is_directed_at</th>\n",
       "      <th>is_there_an_emotion_directed_at_a_brand_or_product</th>\n",
       "    </tr>\n",
       "  </thead>\n",
       "  <tbody>\n",
       "    <tr>\n",
       "      <th>6</th>\n",
       "      <td>NaN</td>\n",
       "      <td>NaN</td>\n",
       "      <td>No emotion toward brand or product</td>\n",
       "    </tr>\n",
       "  </tbody>\n",
       "</table>\n",
       "</div>"
      ],
      "text/plain": [
       "  tweet_text emotion_in_tweet_is_directed_at  \\\n",
       "6        NaN                             NaN   \n",
       "\n",
       "  is_there_an_emotion_directed_at_a_brand_or_product  \n",
       "6                 No emotion toward brand or product  "
      ]
     },
     "execution_count": 6,
     "metadata": {},
     "output_type": "execute_result"
    }
   ],
   "source": [
    "df[df['tweet_text'].isnull()]"
   ]
  },
  {
   "cell_type": "markdown",
   "id": "935b8224",
   "metadata": {},
   "source": [
    "## Dropping the Null Tweet"
   ]
  },
  {
   "cell_type": "code",
   "execution_count": 7,
   "id": "5c1231b6",
   "metadata": {},
   "outputs": [],
   "source": [
    "df.drop(6, axis=0, inplace=True)\n",
    "df.reset_index(drop=True, inplace=True)"
   ]
  },
  {
   "cell_type": "code",
   "execution_count": 8,
   "id": "68c117fc",
   "metadata": {},
   "outputs": [
    {
     "name": "stdout",
     "output_type": "stream",
     "text": [
      "<class 'pandas.core.frame.DataFrame'>\n",
      "RangeIndex: 9092 entries, 0 to 9091\n",
      "Data columns (total 3 columns):\n",
      " #   Column                                              Non-Null Count  Dtype \n",
      "---  ------                                              --------------  ----- \n",
      " 0   tweet_text                                          9092 non-null   object\n",
      " 1   emotion_in_tweet_is_directed_at                     3291 non-null   object\n",
      " 2   is_there_an_emotion_directed_at_a_brand_or_product  9092 non-null   object\n",
      "dtypes: object(3)\n",
      "memory usage: 213.2+ KB\n"
     ]
    }
   ],
   "source": [
    "df.info()"
   ]
  },
  {
   "cell_type": "markdown",
   "id": "2000487d",
   "metadata": {},
   "source": [
    "## Renaming Columns:\n",
    "The original names are a bit unwieldy."
   ]
  },
  {
   "cell_type": "code",
   "execution_count": 9,
   "id": "22cd5add",
   "metadata": {},
   "outputs": [
    {
     "data": {
      "text/html": [
       "<div>\n",
       "<style scoped>\n",
       "    .dataframe tbody tr th:only-of-type {\n",
       "        vertical-align: middle;\n",
       "    }\n",
       "\n",
       "    .dataframe tbody tr th {\n",
       "        vertical-align: top;\n",
       "    }\n",
       "\n",
       "    .dataframe thead th {\n",
       "        text-align: right;\n",
       "    }\n",
       "</style>\n",
       "<table border=\"1\" class=\"dataframe\">\n",
       "  <thead>\n",
       "    <tr style=\"text-align: right;\">\n",
       "      <th></th>\n",
       "      <th>tweet</th>\n",
       "      <th>brand_product</th>\n",
       "      <th>emotion</th>\n",
       "    </tr>\n",
       "  </thead>\n",
       "  <tbody>\n",
       "    <tr>\n",
       "      <th>0</th>\n",
       "      <td>.@wesley83 I have a 3G iPhone. After 3 hrs twe...</td>\n",
       "      <td>iPhone</td>\n",
       "      <td>Negative emotion</td>\n",
       "    </tr>\n",
       "    <tr>\n",
       "      <th>1</th>\n",
       "      <td>@jessedee Know about @fludapp ? Awesome iPad/i...</td>\n",
       "      <td>iPad or iPhone App</td>\n",
       "      <td>Positive emotion</td>\n",
       "    </tr>\n",
       "    <tr>\n",
       "      <th>2</th>\n",
       "      <td>@swonderlin Can not wait for #iPad 2 also. The...</td>\n",
       "      <td>iPad</td>\n",
       "      <td>Positive emotion</td>\n",
       "    </tr>\n",
       "    <tr>\n",
       "      <th>3</th>\n",
       "      <td>@sxsw I hope this year's festival isn't as cra...</td>\n",
       "      <td>iPad or iPhone App</td>\n",
       "      <td>Negative emotion</td>\n",
       "    </tr>\n",
       "    <tr>\n",
       "      <th>4</th>\n",
       "      <td>@sxtxstate great stuff on Fri #SXSW: Marissa M...</td>\n",
       "      <td>Google</td>\n",
       "      <td>Positive emotion</td>\n",
       "    </tr>\n",
       "  </tbody>\n",
       "</table>\n",
       "</div>"
      ],
      "text/plain": [
       "                                               tweet       brand_product  \\\n",
       "0  .@wesley83 I have a 3G iPhone. After 3 hrs twe...              iPhone   \n",
       "1  @jessedee Know about @fludapp ? Awesome iPad/i...  iPad or iPhone App   \n",
       "2  @swonderlin Can not wait for #iPad 2 also. The...                iPad   \n",
       "3  @sxsw I hope this year's festival isn't as cra...  iPad or iPhone App   \n",
       "4  @sxtxstate great stuff on Fri #SXSW: Marissa M...              Google   \n",
       "\n",
       "            emotion  \n",
       "0  Negative emotion  \n",
       "1  Positive emotion  \n",
       "2  Positive emotion  \n",
       "3  Negative emotion  \n",
       "4  Positive emotion  "
      ]
     },
     "execution_count": 9,
     "metadata": {},
     "output_type": "execute_result"
    }
   ],
   "source": [
    "rename_dict = {'tweet_text': 'tweet', \n",
    "               'emotion_in_tweet_is_directed_at': 'brand_product', \n",
    "               'is_there_an_emotion_directed_at_a_brand_or_product': 'emotion' }\n",
    "df.rename(columns=rename_dict, inplace=True)\n",
    "df.head()"
   ]
  },
  {
   "cell_type": "markdown",
   "id": "0e3359ec-addd-42ad-bdb3-7853a8da2bd6",
   "metadata": {},
   "source": [
    "## Shortening `emotion` Labels\n",
    "Same reasoning as above."
   ]
  },
  {
   "cell_type": "code",
   "execution_count": 10,
   "id": "7b5e4bad-ce26-4c52-a300-f360f63120f7",
   "metadata": {},
   "outputs": [],
   "source": [
    "df['emotion'] = df['emotion'].replace(['Negative emotion',\n",
    "                                       'Positive emotion',\n",
    "                                       'No emotion toward brand or product'],\n",
    "                                      ['Negative',\n",
    "                                       'Positive',\n",
    "                                       'Neutral'])"
   ]
  },
  {
   "cell_type": "markdown",
   "id": "a351d777",
   "metadata": {},
   "source": [
    "## Checking for Duplicated Tweets:\n",
    "If there are duplicated tweets, they probably won't add usefull information and most likely will be dropped."
   ]
  },
  {
   "cell_type": "code",
   "execution_count": 11,
   "id": "955abbeb",
   "metadata": {},
   "outputs": [
    {
     "data": {
      "text/plain": [
       "(9092, 3)"
      ]
     },
     "execution_count": 11,
     "metadata": {},
     "output_type": "execute_result"
    }
   ],
   "source": [
    "# checking the shape baseline shape and saving it to a variable\n",
    "original_shape = df.shape\n",
    "original_shape"
   ]
  },
  {
   "cell_type": "code",
   "execution_count": 12,
   "id": "15cca51c",
   "metadata": {},
   "outputs": [],
   "source": [
    "# filtering for dupes\n",
    "dupes = df[df['tweet'].duplicated()]"
   ]
  },
  {
   "cell_type": "code",
   "execution_count": 13,
   "id": "d6e189fb",
   "metadata": {},
   "outputs": [
    {
     "data": {
      "text/plain": [
       "27"
      ]
     },
     "execution_count": 13,
     "metadata": {},
     "output_type": "execute_result"
    }
   ],
   "source": [
    "# checking the number of dupes\n",
    "len(dupes)"
   ]
  },
  {
   "cell_type": "markdown",
   "id": "80593191-7dfa-4f29-9ffc-5e4e8a6d3391",
   "metadata": {},
   "source": [
    "## Examining the Dupes:\n",
    "Since there are only 27 dupes, we'll just examine all of them."
   ]
  },
  {
   "cell_type": "code",
   "execution_count": 14,
   "id": "85f4319e",
   "metadata": {},
   "outputs": [
    {
     "data": {
      "text/html": [
       "<div>\n",
       "<style scoped>\n",
       "    .dataframe tbody tr th:only-of-type {\n",
       "        vertical-align: middle;\n",
       "    }\n",
       "\n",
       "    .dataframe tbody tr th {\n",
       "        vertical-align: top;\n",
       "    }\n",
       "\n",
       "    .dataframe thead th {\n",
       "        text-align: right;\n",
       "    }\n",
       "</style>\n",
       "<table border=\"1\" class=\"dataframe\">\n",
       "  <thead>\n",
       "    <tr style=\"text-align: right;\">\n",
       "      <th></th>\n",
       "      <th>tweet</th>\n",
       "      <th>brand_product</th>\n",
       "      <th>emotion</th>\n",
       "    </tr>\n",
       "  </thead>\n",
       "  <tbody>\n",
       "    <tr>\n",
       "      <th>467</th>\n",
       "      <td>Before It Even Begins, Apple Wins #SXSW {link}</td>\n",
       "      <td>Apple</td>\n",
       "      <td>Positive</td>\n",
       "    </tr>\n",
       "    <tr>\n",
       "      <th>775</th>\n",
       "      <td>Google to Launch Major New Social Network Call...</td>\n",
       "      <td>NaN</td>\n",
       "      <td>Neutral</td>\n",
       "    </tr>\n",
       "    <tr>\n",
       "      <th>2231</th>\n",
       "      <td>Marissa Mayer: Google Will Connect the Digital...</td>\n",
       "      <td>NaN</td>\n",
       "      <td>Neutral</td>\n",
       "    </tr>\n",
       "    <tr>\n",
       "      <th>2558</th>\n",
       "      <td>Counting down the days to #sxsw plus strong Ca...</td>\n",
       "      <td>Apple</td>\n",
       "      <td>Positive</td>\n",
       "    </tr>\n",
       "    <tr>\n",
       "      <th>3812</th>\n",
       "      <td>Win free ipad 2 from webdoc.com #sxsw RT</td>\n",
       "      <td>iPad</td>\n",
       "      <td>Positive</td>\n",
       "    </tr>\n",
       "    <tr>\n",
       "      <th>3813</th>\n",
       "      <td>Win free iPad 2 from webdoc.com #sxsw RT</td>\n",
       "      <td>iPad</td>\n",
       "      <td>Positive</td>\n",
       "    </tr>\n",
       "    <tr>\n",
       "      <th>3949</th>\n",
       "      <td>Really enjoying the changes in Gowalla 3.0 for...</td>\n",
       "      <td>Android App</td>\n",
       "      <td>Positive</td>\n",
       "    </tr>\n",
       "    <tr>\n",
       "      <th>3961</th>\n",
       "      <td>#SXSW is just starting, #CTIA is around the co...</td>\n",
       "      <td>Android</td>\n",
       "      <td>Positive</td>\n",
       "    </tr>\n",
       "    <tr>\n",
       "      <th>4896</th>\n",
       "      <td>Oh. My. God. The #SXSW app for iPad is pure, u...</td>\n",
       "      <td>iPad or iPhone App</td>\n",
       "      <td>Positive</td>\n",
       "    </tr>\n",
       "    <tr>\n",
       "      <th>5337</th>\n",
       "      <td>RT @mention ÷¼ GO BEYOND BORDERS! ÷_ {link} ...</td>\n",
       "      <td>NaN</td>\n",
       "      <td>Neutral</td>\n",
       "    </tr>\n",
       "    <tr>\n",
       "      <th>5340</th>\n",
       "      <td>RT @mention ÷¼ Happy Woman's Day! Make love, ...</td>\n",
       "      <td>NaN</td>\n",
       "      <td>Neutral</td>\n",
       "    </tr>\n",
       "    <tr>\n",
       "      <th>5880</th>\n",
       "      <td>RT @mention Google to Launch Major New Social ...</td>\n",
       "      <td>NaN</td>\n",
       "      <td>Neutral</td>\n",
       "    </tr>\n",
       "    <tr>\n",
       "      <th>5881</th>\n",
       "      <td>RT @mention Google to Launch Major New Social ...</td>\n",
       "      <td>NaN</td>\n",
       "      <td>Neutral</td>\n",
       "    </tr>\n",
       "    <tr>\n",
       "      <th>5882</th>\n",
       "      <td>RT @mention Google to Launch Major New Social ...</td>\n",
       "      <td>NaN</td>\n",
       "      <td>Neutral</td>\n",
       "    </tr>\n",
       "    <tr>\n",
       "      <th>5883</th>\n",
       "      <td>RT @mention Google to Launch Major New Social ...</td>\n",
       "      <td>NaN</td>\n",
       "      <td>Neutral</td>\n",
       "    </tr>\n",
       "    <tr>\n",
       "      <th>5884</th>\n",
       "      <td>RT @mention Google to Launch Major New Social ...</td>\n",
       "      <td>NaN</td>\n",
       "      <td>Neutral</td>\n",
       "    </tr>\n",
       "    <tr>\n",
       "      <th>6293</th>\n",
       "      <td>RT @mention Marissa Mayer: Google Will Connect...</td>\n",
       "      <td>NaN</td>\n",
       "      <td>Neutral</td>\n",
       "    </tr>\n",
       "    <tr>\n",
       "      <th>6294</th>\n",
       "      <td>RT @mention Marissa Mayer: Google Will Connect...</td>\n",
       "      <td>NaN</td>\n",
       "      <td>Neutral</td>\n",
       "    </tr>\n",
       "    <tr>\n",
       "      <th>6295</th>\n",
       "      <td>RT @mention Marissa Mayer: Google Will Connect...</td>\n",
       "      <td>Google</td>\n",
       "      <td>Positive</td>\n",
       "    </tr>\n",
       "    <tr>\n",
       "      <th>6296</th>\n",
       "      <td>RT @mention Marissa Mayer: Google Will Connect...</td>\n",
       "      <td>NaN</td>\n",
       "      <td>Neutral</td>\n",
       "    </tr>\n",
       "    <tr>\n",
       "      <th>6297</th>\n",
       "      <td>RT @mention Marissa Mayer: Google Will Connect...</td>\n",
       "      <td>Google</td>\n",
       "      <td>Positive</td>\n",
       "    </tr>\n",
       "    <tr>\n",
       "      <th>6298</th>\n",
       "      <td>RT @mention Marissa Mayer: Google Will Connect...</td>\n",
       "      <td>NaN</td>\n",
       "      <td>Neutral</td>\n",
       "    </tr>\n",
       "    <tr>\n",
       "      <th>6299</th>\n",
       "      <td>RT @mention Marissa Mayer: Google Will Connect...</td>\n",
       "      <td>NaN</td>\n",
       "      <td>Neutral</td>\n",
       "    </tr>\n",
       "    <tr>\n",
       "      <th>6545</th>\n",
       "      <td>RT @mention RT @mention Google to Launch Major...</td>\n",
       "      <td>NaN</td>\n",
       "      <td>Neutral</td>\n",
       "    </tr>\n",
       "    <tr>\n",
       "      <th>6575</th>\n",
       "      <td>RT @mention RT @mention It's not a rumor: Appl...</td>\n",
       "      <td>NaN</td>\n",
       "      <td>Neutral</td>\n",
       "    </tr>\n",
       "    <tr>\n",
       "      <th>8482</th>\n",
       "      <td>I just noticed DST is coming this weekend. How...</td>\n",
       "      <td>iPhone</td>\n",
       "      <td>Negative</td>\n",
       "    </tr>\n",
       "    <tr>\n",
       "      <th>8746</th>\n",
       "      <td>Need to buy an iPad2 while I'm in Austin at #s...</td>\n",
       "      <td>iPad</td>\n",
       "      <td>Positive</td>\n",
       "    </tr>\n",
       "  </tbody>\n",
       "</table>\n",
       "</div>"
      ],
      "text/plain": [
       "                                                  tweet       brand_product  \\\n",
       "467      Before It Even Begins, Apple Wins #SXSW {link}               Apple   \n",
       "775   Google to Launch Major New Social Network Call...                 NaN   \n",
       "2231  Marissa Mayer: Google Will Connect the Digital...                 NaN   \n",
       "2558  Counting down the days to #sxsw plus strong Ca...               Apple   \n",
       "3812           Win free ipad 2 from webdoc.com #sxsw RT                iPad   \n",
       "3813           Win free iPad 2 from webdoc.com #sxsw RT                iPad   \n",
       "3949  Really enjoying the changes in Gowalla 3.0 for...         Android App   \n",
       "3961  #SXSW is just starting, #CTIA is around the co...             Android   \n",
       "4896  Oh. My. God. The #SXSW app for iPad is pure, u...  iPad or iPhone App   \n",
       "5337  RT @mention ÷¼ GO BEYOND BORDERS! ÷_ {link} ...                 NaN   \n",
       "5340  RT @mention ÷¼ Happy Woman's Day! Make love, ...                 NaN   \n",
       "5880  RT @mention Google to Launch Major New Social ...                 NaN   \n",
       "5881  RT @mention Google to Launch Major New Social ...                 NaN   \n",
       "5882  RT @mention Google to Launch Major New Social ...                 NaN   \n",
       "5883  RT @mention Google to Launch Major New Social ...                 NaN   \n",
       "5884  RT @mention Google to Launch Major New Social ...                 NaN   \n",
       "6293  RT @mention Marissa Mayer: Google Will Connect...                 NaN   \n",
       "6294  RT @mention Marissa Mayer: Google Will Connect...                 NaN   \n",
       "6295  RT @mention Marissa Mayer: Google Will Connect...              Google   \n",
       "6296  RT @mention Marissa Mayer: Google Will Connect...                 NaN   \n",
       "6297  RT @mention Marissa Mayer: Google Will Connect...              Google   \n",
       "6298  RT @mention Marissa Mayer: Google Will Connect...                 NaN   \n",
       "6299  RT @mention Marissa Mayer: Google Will Connect...                 NaN   \n",
       "6545  RT @mention RT @mention Google to Launch Major...                 NaN   \n",
       "6575  RT @mention RT @mention It's not a rumor: Appl...                 NaN   \n",
       "8482  I just noticed DST is coming this weekend. How...              iPhone   \n",
       "8746  Need to buy an iPad2 while I'm in Austin at #s...                iPad   \n",
       "\n",
       "       emotion  \n",
       "467   Positive  \n",
       "775    Neutral  \n",
       "2231   Neutral  \n",
       "2558  Positive  \n",
       "3812  Positive  \n",
       "3813  Positive  \n",
       "3949  Positive  \n",
       "3961  Positive  \n",
       "4896  Positive  \n",
       "5337   Neutral  \n",
       "5340   Neutral  \n",
       "5880   Neutral  \n",
       "5881   Neutral  \n",
       "5882   Neutral  \n",
       "5883   Neutral  \n",
       "5884   Neutral  \n",
       "6293   Neutral  \n",
       "6294   Neutral  \n",
       "6295  Positive  \n",
       "6296   Neutral  \n",
       "6297  Positive  \n",
       "6298   Neutral  \n",
       "6299   Neutral  \n",
       "6545   Neutral  \n",
       "6575   Neutral  \n",
       "8482  Negative  \n",
       "8746  Positive  "
      ]
     },
     "execution_count": 14,
     "metadata": {},
     "output_type": "execute_result"
    }
   ],
   "source": [
    "dupes"
   ]
  },
  {
   "cell_type": "markdown",
   "id": "1df0809a-b14f-4998-a4f0-53342c1570ba",
   "metadata": {},
   "source": [
    "<font size=\"4\">Other than the fact that there are a lot of retweets in the dupes, nothing else really stands out. Since we are losing only 27 rows of data, dropping seems like a safe decision.</font>"
   ]
  },
  {
   "cell_type": "markdown",
   "id": "d1678670-eae3-4c11-b6af-7aa1bcac2785",
   "metadata": {},
   "source": [
    "## Dropping Dupes"
   ]
  },
  {
   "cell_type": "code",
   "execution_count": 15,
   "id": "1d8b0f21",
   "metadata": {},
   "outputs": [],
   "source": [
    "df.drop_duplicates(subset='tweet',inplace=True)\n",
    "df.reset_index(drop=True, inplace=True)"
   ]
  },
  {
   "cell_type": "code",
   "execution_count": 16,
   "id": "f378d4a5",
   "metadata": {},
   "outputs": [
    {
     "name": "stdout",
     "output_type": "stream",
     "text": [
      "original shape: (9092, 3)\n",
      "new shape: (9065, 3)\n"
     ]
    }
   ],
   "source": [
    "# comparing shapes\n",
    "print(f'original shape: {original_shape}')\n",
    "print(f'new shape: {df.shape}')"
   ]
  },
  {
   "cell_type": "markdown",
   "id": "2ab4e506-7dbd-4dae-9f57-32a8d71e4795",
   "metadata": {},
   "source": [
    "## Checking for Links:\n",
    "Checking for url and {link} strings and getting a link count."
   ]
  },
  {
   "cell_type": "code",
   "execution_count": 17,
   "id": "9e61e01d-78e6-4e7a-8681-285eb02b1d34",
   "metadata": {},
   "outputs": [
    {
     "name": "stdout",
     "output_type": "stream",
     "text": [
      "[[('http://ht.ly/49n4M', '')], [('http://bit.ly/ieaVOB', '')], [('http://bit.ly/gVLrIn', '')], [('http://j.mp/grN7pK)', '')], [('http://bit.ly/aXZwxB', '')], [('http://tinyurl.com/4nqv92l', '')], [('http://bit.ly/hTdFim', '')], [('http://t.co/kfN3f5Q', '')], [('http://t.co/g4GZypV', '')], [('http://tumblr.com/x6t1pi6av7', '')], [('http://bit.ly/hTdFim', '')], [('http://bit.ly/etsbZk', '')], [('http://t.co/A3xvWc6', '')], [('http://itunes.apple.com/us/app/holler-gram/id420666439?mt=8', '')], [('', '{link}')], [('', '{link}')], [('', '{link}')], [('', '{link}')], [('', '{link}')], [('', '{link}')], [('', '{link}')], [('', '{link}')], [('', '{link}')], [('', '{link}')], [('', '{link}')]]\n"
     ]
    },
    {
     "data": {
      "text/plain": [
       "4175"
      ]
     },
     "execution_count": 17,
     "metadata": {},
     "output_type": "execute_result"
    }
   ],
   "source": [
    "# checking for links\n",
    "tweets = df['tweet']\n",
    "links = fn.find_strings(tweets, r'(https*\\S+)|(\\{link\\})')\n",
    "print(links[:25])\n",
    "len(links)"
   ]
  },
  {
   "cell_type": "markdown",
   "id": "ba1bb91a-9f8c-4186-91a8-04fbf639e92c",
   "metadata": {},
   "source": [
    "<font size=\"4\">Since these strings don't add sentiment information, we'll strip them out during the cleaning process.</font>"
   ]
  },
  {
   "cell_type": "markdown",
   "id": "1424de43",
   "metadata": {},
   "source": [
    "## Adding a Hashtag Column:\n",
    "Hashtags have the potential to contain value information, so we'll create a new column to help explore them."
   ]
  },
  {
   "cell_type": "code",
   "execution_count": 18,
   "id": "e28c726e",
   "metadata": {},
   "outputs": [],
   "source": [
    "# copying hashtags to a new column and setting any empty lists to NaNs\n",
    "df['hashtags'] = df['tweet'].apply(lambda x: \n",
    "                                   re.findall(r'\\B#\\w*[a-zA-Z]+\\w*', x))"
   ]
  },
  {
   "cell_type": "code",
   "execution_count": 19,
   "id": "d1a0f71d-d244-48e6-8a1f-436775d307c6",
   "metadata": {},
   "outputs": [
    {
     "name": "stdout",
     "output_type": "stream",
     "text": [
      "<class 'pandas.core.frame.DataFrame'>\n",
      "RangeIndex: 9065 entries, 0 to 9064\n",
      "Data columns (total 4 columns):\n",
      " #   Column         Non-Null Count  Dtype \n",
      "---  ------         --------------  ----- \n",
      " 0   tweet          9065 non-null   object\n",
      " 1   brand_product  3280 non-null   object\n",
      " 2   emotion        9065 non-null   object\n",
      " 3   hashtags       9065 non-null   object\n",
      "dtypes: object(4)\n",
      "memory usage: 283.4+ KB\n",
      "None\n"
     ]
    },
    {
     "data": {
      "text/html": [
       "<div>\n",
       "<style scoped>\n",
       "    .dataframe tbody tr th:only-of-type {\n",
       "        vertical-align: middle;\n",
       "    }\n",
       "\n",
       "    .dataframe tbody tr th {\n",
       "        vertical-align: top;\n",
       "    }\n",
       "\n",
       "    .dataframe thead th {\n",
       "        text-align: right;\n",
       "    }\n",
       "</style>\n",
       "<table border=\"1\" class=\"dataframe\">\n",
       "  <thead>\n",
       "    <tr style=\"text-align: right;\">\n",
       "      <th></th>\n",
       "      <th>tweet</th>\n",
       "      <th>brand_product</th>\n",
       "      <th>emotion</th>\n",
       "      <th>hashtags</th>\n",
       "    </tr>\n",
       "  </thead>\n",
       "  <tbody>\n",
       "    <tr>\n",
       "      <th>0</th>\n",
       "      <td>.@wesley83 I have a 3G iPhone. After 3 hrs twe...</td>\n",
       "      <td>iPhone</td>\n",
       "      <td>Negative</td>\n",
       "      <td>[#RISE_Austin, #SXSW]</td>\n",
       "    </tr>\n",
       "    <tr>\n",
       "      <th>1</th>\n",
       "      <td>@jessedee Know about @fludapp ? Awesome iPad/i...</td>\n",
       "      <td>iPad or iPhone App</td>\n",
       "      <td>Positive</td>\n",
       "      <td>[#SXSW]</td>\n",
       "    </tr>\n",
       "    <tr>\n",
       "      <th>2</th>\n",
       "      <td>@swonderlin Can not wait for #iPad 2 also. The...</td>\n",
       "      <td>iPad</td>\n",
       "      <td>Positive</td>\n",
       "      <td>[#iPad, #SXSW]</td>\n",
       "    </tr>\n",
       "    <tr>\n",
       "      <th>3</th>\n",
       "      <td>@sxsw I hope this year's festival isn't as cra...</td>\n",
       "      <td>iPad or iPhone App</td>\n",
       "      <td>Negative</td>\n",
       "      <td>[#sxsw]</td>\n",
       "    </tr>\n",
       "    <tr>\n",
       "      <th>4</th>\n",
       "      <td>@sxtxstate great stuff on Fri #SXSW: Marissa M...</td>\n",
       "      <td>Google</td>\n",
       "      <td>Positive</td>\n",
       "      <td>[#SXSW]</td>\n",
       "    </tr>\n",
       "  </tbody>\n",
       "</table>\n",
       "</div>"
      ],
      "text/plain": [
       "                                               tweet       brand_product  \\\n",
       "0  .@wesley83 I have a 3G iPhone. After 3 hrs twe...              iPhone   \n",
       "1  @jessedee Know about @fludapp ? Awesome iPad/i...  iPad or iPhone App   \n",
       "2  @swonderlin Can not wait for #iPad 2 also. The...                iPad   \n",
       "3  @sxsw I hope this year's festival isn't as cra...  iPad or iPhone App   \n",
       "4  @sxtxstate great stuff on Fri #SXSW: Marissa M...              Google   \n",
       "\n",
       "    emotion               hashtags  \n",
       "0  Negative  [#RISE_Austin, #SXSW]  \n",
       "1  Positive                [#SXSW]  \n",
       "2  Positive         [#iPad, #SXSW]  \n",
       "3  Negative                [#sxsw]  \n",
       "4  Positive                [#SXSW]  "
      ]
     },
     "execution_count": 19,
     "metadata": {},
     "output_type": "execute_result"
    }
   ],
   "source": [
    "# checking info & first 5 rows\n",
    "print(df.info())\n",
    "df.head()"
   ]
  },
  {
   "cell_type": "markdown",
   "id": "a0727bff",
   "metadata": {},
   "source": [
    "## Exploring the Hashtags\n",
    "Creating a list and checking the length."
   ]
  },
  {
   "cell_type": "code",
   "execution_count": 20,
   "id": "87b9838a",
   "metadata": {},
   "outputs": [],
   "source": [
    "# creating a hashtag list\n",
    "hashlists = df['hashtags'].tolist()"
   ]
  },
  {
   "cell_type": "code",
   "execution_count": 21,
   "id": "47d12634-2337-4446-844d-38ce50377380",
   "metadata": {},
   "outputs": [
    {
     "name": "stdout",
     "output_type": "stream",
     "text": [
      "hashlists length: 9065\n"
     ]
    }
   ],
   "source": [
    "print(f'hashlists length: {len(hashlists)}')"
   ]
  },
  {
   "cell_type": "code",
   "execution_count": 22,
   "id": "b415ed6e-5255-40e2-8a92-666574eaa94a",
   "metadata": {},
   "outputs": [
    {
     "data": {
      "text/plain": [
       "[['#RISE_Austin', '#SXSW'],\n",
       " ['#SXSW'],\n",
       " ['#iPad', '#SXSW'],\n",
       " ['#sxsw'],\n",
       " ['#SXSW']]"
      ]
     },
     "execution_count": 22,
     "metadata": {},
     "output_type": "execute_result"
    }
   ],
   "source": [
    "hashlists[:5]"
   ]
  },
  {
   "cell_type": "code",
   "execution_count": 23,
   "id": "faac1f9d-6976-40c2-bbc1-6023b0b81fb8",
   "metadata": {
    "tags": []
   },
   "outputs": [
    {
     "name": "stdout",
     "output_type": "stream",
     "text": [
      "total tags: 15779\n",
      "ave tags: 1.7406508549365691\n",
      "max tags: 12\n"
     ]
    }
   ],
   "source": [
    "hash_counts = []\n",
    "for listy in hashlists:\n",
    "    hash_counts.append(len(listy))\n",
    "print(f'total tags: {np.sum(hash_counts)}')\n",
    "print(f'ave tags: {np.sum(hash_counts)/len(hash_counts)}')\n",
    "print(f'max tags: {max(hash_counts)}')"
   ]
  },
  {
   "cell_type": "markdown",
   "id": "9f7f5c7c-8393-401b-983e-189eb8b24aa2",
   "metadata": {},
   "source": [
    "<font size=\"5\"> There are 15,779 hashtags.</font>\n",
    "\n",
    "<font size=\"5\"> The average number of hashtags per tweet is 1.74.</font>\n",
    "\n",
    "<font size=\"5\"> The maximum number of hashtags in a single tweet is 12.</font>\n",
    "\n",
    "<font size =\"5\"> Below is the tweet with the max number of hashtags and a list of the hashtags.</font>"
   ]
  },
  {
   "cell_type": "code",
   "execution_count": 24,
   "id": "81de77e7-8a4f-4c8c-8bba-46a44d0584ab",
   "metadata": {},
   "outputs": [
    {
     "name": "stdout",
     "output_type": "stream",
     "text": [
      "iPad 2 and Its Rivals: How They Stack Up {link} #bnet #biz #ipad2 #apple #sxsw #ipad #tablet #xoom #tech #laptop #pics #sale\n",
      "['#bnet', '#biz', '#ipad2', '#apple', '#sxsw', '#ipad', '#tablet', '#xoom', '#tech', '#laptop', '#pics', '#sale']\n"
     ]
    }
   ],
   "source": [
    "print(df.iloc[np.argmax(hash_counts)][0])\n",
    "\n",
    "print(hashlists[np.argmax(hash_counts)])"
   ]
  },
  {
   "cell_type": "markdown",
   "id": "9956cfb2-7261-4ba1-868f-a8b523b97679",
   "metadata": {},
   "source": [
    "## Checking for Empty Lists & Converting to NaNs\n",
    "Converting and checking length."
   ]
  },
  {
   "cell_type": "code",
   "execution_count": 25,
   "id": "156ecdd3-7680-4a8c-8ff5-77f4ab5a4f5d",
   "metadata": {},
   "outputs": [],
   "source": [
    "df['hashtags'] = df['hashtags'].apply(lambda x: np.nan if len(x) == 0 else x)"
   ]
  },
  {
   "cell_type": "code",
   "execution_count": 26,
   "id": "1c589e04-8e9a-4069-b269-9f9eee13bf1d",
   "metadata": {},
   "outputs": [
    {
     "data": {
      "text/plain": [
       "10"
      ]
     },
     "execution_count": 26,
     "metadata": {},
     "output_type": "execute_result"
    }
   ],
   "source": [
    "df['hashtags'].isna().sum()"
   ]
  },
  {
   "cell_type": "markdown",
   "id": "3cd534e8-a75c-45e8-bb5c-fabc628fe539",
   "metadata": {},
   "source": [
    "## Checking Tweets with no Hashtags\n",
    "There are 10 tweets that don't have a hashtag that we'll examine."
   ]
  },
  {
   "cell_type": "code",
   "execution_count": 27,
   "id": "f11020ef-8ab5-42a8-9a38-b74c1ba21025",
   "metadata": {},
   "outputs": [
    {
     "data": {
      "text/html": [
       "<div>\n",
       "<style scoped>\n",
       "    .dataframe tbody tr th:only-of-type {\n",
       "        vertical-align: middle;\n",
       "    }\n",
       "\n",
       "    .dataframe tbody tr th {\n",
       "        vertical-align: top;\n",
       "    }\n",
       "\n",
       "    .dataframe thead th {\n",
       "        text-align: right;\n",
       "    }\n",
       "</style>\n",
       "<table border=\"1\" class=\"dataframe\">\n",
       "  <thead>\n",
       "    <tr style=\"text-align: right;\">\n",
       "      <th></th>\n",
       "      <th>tweet</th>\n",
       "      <th>brand_product</th>\n",
       "      <th>emotion</th>\n",
       "      <th>hashtags</th>\n",
       "    </tr>\n",
       "  </thead>\n",
       "  <tbody>\n",
       "    <tr>\n",
       "      <th>307</th>\n",
       "      <td>And a few are Android too RT @mention 10 New M...</td>\n",
       "      <td>Android App</td>\n",
       "      <td>Positive</td>\n",
       "      <td>NaN</td>\n",
       "    </tr>\n",
       "    <tr>\n",
       "      <th>471</th>\n",
       "      <td>Before It Even Begins, Apple WinsåÊ#SxSW, {lin...</td>\n",
       "      <td>Apple</td>\n",
       "      <td>Positive</td>\n",
       "      <td>NaN</td>\n",
       "    </tr>\n",
       "    <tr>\n",
       "      <th>768</th>\n",
       "      <td>Google to Launch Major New Social Network Call...</td>\n",
       "      <td>Google</td>\n",
       "      <td>Positive</td>\n",
       "      <td>NaN</td>\n",
       "    </tr>\n",
       "    <tr>\n",
       "      <th>791</th>\n",
       "      <td>Google to Launch Major New Social Network Call...</td>\n",
       "      <td>NaN</td>\n",
       "      <td>Neutral</td>\n",
       "      <td>NaN</td>\n",
       "    </tr>\n",
       "    <tr>\n",
       "      <th>930</th>\n",
       "      <td>To buy or not to buy RT @mention Before It Eve...</td>\n",
       "      <td>Apple</td>\n",
       "      <td>Positive</td>\n",
       "      <td>NaN</td>\n",
       "    </tr>\n",
       "    <tr>\n",
       "      <th>1139</th>\n",
       "      <td>ÛÏ@mention The 10 most dangerous IPhone apps....</td>\n",
       "      <td>NaN</td>\n",
       "      <td>Neutral</td>\n",
       "      <td>NaN</td>\n",
       "    </tr>\n",
       "    <tr>\n",
       "      <th>2427</th>\n",
       "      <td>Extra iPad 2 for sale in Austin convention cen...</td>\n",
       "      <td>NaN</td>\n",
       "      <td>Neutral</td>\n",
       "      <td>NaN</td>\n",
       "    </tr>\n",
       "    <tr>\n",
       "      <th>3477</th>\n",
       "      <td>GENIUS behind Google Circles.\\n¡á¾_Î¾Ð¡____...</td>\n",
       "      <td>Other Google product or service</td>\n",
       "      <td>Positive</td>\n",
       "      <td>NaN</td>\n",
       "    </tr>\n",
       "    <tr>\n",
       "      <th>5015</th>\n",
       "      <td>RT @mention</td>\n",
       "      <td>NaN</td>\n",
       "      <td>Neutral</td>\n",
       "      <td>NaN</td>\n",
       "    </tr>\n",
       "    <tr>\n",
       "      <th>5538</th>\n",
       "      <td>RT @mention Before It Even Begins, Apple Winså...</td>\n",
       "      <td>Apple</td>\n",
       "      <td>Positive</td>\n",
       "      <td>NaN</td>\n",
       "    </tr>\n",
       "  </tbody>\n",
       "</table>\n",
       "</div>"
      ],
      "text/plain": [
       "                                                  tweet  \\\n",
       "307   And a few are Android too RT @mention 10 New M...   \n",
       "471   Before It Even Begins, Apple WinsåÊ#SxSW, {lin...   \n",
       "768   Google to Launch Major New Social Network Call...   \n",
       "791   Google to Launch Major New Social Network Call...   \n",
       "930   To buy or not to buy RT @mention Before It Eve...   \n",
       "1139  ÛÏ@mention The 10 most dangerous IPhone apps....   \n",
       "2427  Extra iPad 2 for sale in Austin convention cen...   \n",
       "3477  GENIUS behind Google Circles.\\n¡á¾_Î¾Ð¡____...   \n",
       "5015                                        RT @mention   \n",
       "5538  RT @mention Before It Even Begins, Apple Winså...   \n",
       "\n",
       "                        brand_product   emotion hashtags  \n",
       "307                       Android App  Positive      NaN  \n",
       "471                             Apple  Positive      NaN  \n",
       "768                            Google  Positive      NaN  \n",
       "791                               NaN   Neutral      NaN  \n",
       "930                             Apple  Positive      NaN  \n",
       "1139                              NaN   Neutral      NaN  \n",
       "2427                              NaN   Neutral      NaN  \n",
       "3477  Other Google product or service  Positive      NaN  \n",
       "5015                              NaN   Neutral      NaN  \n",
       "5538                            Apple  Positive      NaN  "
      ]
     },
     "execution_count": 27,
     "metadata": {},
     "output_type": "execute_result"
    }
   ],
   "source": [
    "df[df['hashtags'].isna()]"
   ]
  },
  {
   "cell_type": "markdown",
   "id": "70f72f83-ca08-4252-b6c7-d6a6701d6b06",
   "metadata": {},
   "source": [
    "<font size=\"4\">It doesn't appear that there is any pattern to the tweets with no hashtags.</font>"
   ]
  },
  {
   "cell_type": "markdown",
   "id": "0735a15d-9a79-4ac0-ab57-61cb3e5db155",
   "metadata": {},
   "source": [
    "## Checking the Hashtag Set\n",
    "Removing NaNs, making a list, converting to lowercase and forming a set."
   ]
  },
  {
   "cell_type": "code",
   "execution_count": 28,
   "id": "5ec5a931-2343-4967-abc6-9ce33023748e",
   "metadata": {
    "tags": []
   },
   "outputs": [],
   "source": [
    "# removing Nans\n",
    "hashlists = df.hashtags.tolist()\n",
    "hashlists = [h_list for h_list in hashlists if str(h_list) != 'nan']"
   ]
  },
  {
   "cell_type": "code",
   "execution_count": 29,
   "id": "1c49d551-5497-447d-8a41-d5fbb1fef47b",
   "metadata": {},
   "outputs": [
    {
     "data": {
      "text/plain": [
       "9055"
      ]
     },
     "execution_count": 29,
     "metadata": {},
     "output_type": "execute_result"
    }
   ],
   "source": [
    "# checking length\n",
    "len(hashlists)"
   ]
  },
  {
   "cell_type": "code",
   "execution_count": 30,
   "id": "aa9db683",
   "metadata": {},
   "outputs": [],
   "source": [
    "# unpacking hashtags & lowercasing\n",
    "hashtags = [hashtag.lower() for h_list in hashlists for hashtag in h_list]"
   ]
  },
  {
   "cell_type": "code",
   "execution_count": 31,
   "id": "6ffe6483",
   "metadata": {},
   "outputs": [
    {
     "data": {
      "text/plain": [
       "['#rise_austin', '#sxsw', '#sxsw', '#ipad', '#sxsw']"
      ]
     },
     "execution_count": 31,
     "metadata": {},
     "output_type": "execute_result"
    }
   ],
   "source": [
    "# checking work\n",
    "hashtags[:5]"
   ]
  },
  {
   "cell_type": "code",
   "execution_count": 32,
   "id": "25b25049",
   "metadata": {},
   "outputs": [
    {
     "data": {
      "text/plain": [
       "1460"
      ]
     },
     "execution_count": 32,
     "metadata": {},
     "output_type": "execute_result"
    }
   ],
   "source": [
    "# making a set and checking length\n",
    "len(set(hashtags))"
   ]
  },
  {
   "cell_type": "markdown",
   "id": "7561ceb9-b148-495f-885f-cbe287c23269",
   "metadata": {},
   "source": [
    "<font size=\"4\">There are 1,460 unique hashtags.</font>"
   ]
  },
  {
   "cell_type": "markdown",
   "id": "e894b137-8ed4-4e3f-b512-049a605caa26",
   "metadata": {},
   "source": [
    "## Visualizing the Top 20 Hashtags\n",
    "Graphing the counts and frequencies of the top 20 hashtags."
   ]
  },
  {
   "cell_type": "code",
   "execution_count": 33,
   "id": "ffa23ae1",
   "metadata": {},
   "outputs": [],
   "source": [
    "# creating a dataframe for the plots\n",
    "hts = pd.DataFrame(hashtags, columns=['hashtags'])"
   ]
  },
  {
   "cell_type": "code",
   "execution_count": 34,
   "id": "bfae6f24-9da9-4b53-8f2d-2bbce0034e81",
   "metadata": {},
   "outputs": [
    {
     "data": {
      "image/png": "[encoded data removed]",
      "text/plain": [
       "<Figure size 1152x576 with 1 Axes>"
      ]
     },
     "metadata": {},
     "output_type": "display_data"
    }
   ],
   "source": [
    "vz.hashtag_c(hts)"
   ]
  },
  {
   "cell_type": "code",
   "execution_count": 35,
   "id": "c7f29420-0239-4b64-b111-fce5f732bc86",
   "metadata": {},
   "outputs": [
    {
     "data": {
      "text/plain": [
       "#sxsw          9087\n",
       "#apple          416\n",
       "#google         321\n",
       "#sxswi          316\n",
       "#ipad2          296\n",
       "#iphone         265\n",
       "#ipad           264\n",
       "#android        131\n",
       "#austin         112\n",
       "#circles         98\n",
       "#tech            87\n",
       "#ubersocial      68\n",
       "#gsdm            64\n",
       "#japan           58\n",
       "#tapworthy       54\n",
       "#fb              52\n",
       "#qagb            50\n",
       "#infektd         48\n",
       "#winning         44\n",
       "#uxdes           40\n",
       "Name: hashtags, dtype: int64"
      ]
     },
     "execution_count": 35,
     "metadata": {},
     "output_type": "execute_result"
    }
   ],
   "source": [
    "hts['hashtags'].value_counts()[:20]"
   ]
  },
  {
   "cell_type": "code",
   "execution_count": 36,
   "id": "99dd7f96",
   "metadata": {},
   "outputs": [
    {
     "data": {
      "image/png": "[encoded data removed]",
      "text/plain": [
       "<Figure size 1152x576 with 1 Axes>"
      ]
     },
     "metadata": {},
     "output_type": "display_data"
    }
   ],
   "source": [
    "vz.hashtag_p(hts)"
   ]
  },
  {
   "cell_type": "code",
   "execution_count": 37,
   "id": "832dd4e7-7b9b-4b48-afee-58f615dfaa50",
   "metadata": {},
   "outputs": [
    {
     "data": {
      "text/plain": [
       "#sxsw          0.575892\n",
       "#apple         0.026364\n",
       "#google        0.020343\n",
       "#sxswi         0.020027\n",
       "#ipad2         0.018759\n",
       "#iphone        0.016794\n",
       "#ipad          0.016731\n",
       "#android       0.008302\n",
       "#austin        0.007098\n",
       "#circles       0.006211\n",
       "#tech          0.005514\n",
       "#ubersocial    0.004310\n",
       "#gsdm          0.004056\n",
       "#japan         0.003676\n",
       "#tapworthy     0.003422\n",
       "#fb            0.003296\n",
       "#qagb          0.003169\n",
       "#infektd       0.003042\n",
       "#winning       0.002789\n",
       "#uxdes         0.002535\n",
       "Name: hashtags, dtype: float64"
      ]
     },
     "execution_count": 37,
     "metadata": {},
     "output_type": "execute_result"
    }
   ],
   "source": [
    "hts['hashtags'].value_counts(normalize=True)[:20]"
   ]
  },
  {
   "cell_type": "markdown",
   "id": "83c854a4-6d39-46ed-8674-41d74bb5122d",
   "metadata": {},
   "source": [
    "<font size=\"4\">We can see from the graphs above that the vast majority (58%) of the hashtags are `#sxsw`. Every other hashtag is less than 2.7% of the total number of hashtags.</font>"
   ]
  },
  {
   "cell_type": "markdown",
   "id": "c9410595-b8e7-43d6-a219-8a0d7f4c89f0",
   "metadata": {},
   "source": [
    "## Checking for RTs\n",
    "Collecting the retweets checking the count. "
   ]
  },
  {
   "cell_type": "code",
   "execution_count": 38,
   "id": "f28d65b5-e888-439c-840a-1d5de188ff66",
   "metadata": {},
   "outputs": [],
   "source": [
    "RTs = fn.find_strings(df['tweet'], '(RT\\s@[A-Za-z]+[A-Za-z0-9-_]+)')"
   ]
  },
  {
   "cell_type": "code",
   "execution_count": 39,
   "id": "dd605471-df92-458a-96a0-a8bdcf288346",
   "metadata": {},
   "outputs": [
    {
     "data": {
      "text/plain": [
       "[['RT @madebymany'],\n",
       " ['RT @hamsandwich'],\n",
       " ['RT @malbonster'],\n",
       " ['RT @LaurieShook'],\n",
       " ['RT @mention']]"
      ]
     },
     "execution_count": 39,
     "metadata": {},
     "output_type": "execute_result"
    }
   ],
   "source": [
    "RTs[:5]"
   ]
  },
  {
   "cell_type": "code",
   "execution_count": 40,
   "id": "9e636cfc-7b91-4b6e-a2c5-45a0675e5a1e",
   "metadata": {},
   "outputs": [
    {
     "data": {
      "text/plain": [
       "2551"
      ]
     },
     "execution_count": 40,
     "metadata": {},
     "output_type": "execute_result"
    }
   ],
   "source": [
    "len(RTs)"
   ]
  },
  {
   "cell_type": "markdown",
   "id": "f811f902-955c-4784-960b-890c0e449a3d",
   "metadata": {},
   "source": [
    "<font size=\"4\"> There are 2551 retweets. </font>"
   ]
  },
  {
   "cell_type": "markdown",
   "id": "b9175555-3185-4705-b4ab-11c513c54664",
   "metadata": {},
   "source": [
    "## Checking for Mentions\n",
    "Collecting the mentions checking the count"
   ]
  },
  {
   "cell_type": "code",
   "execution_count": 41,
   "id": "307ec2db-4de8-4f97-a102-0c9ca72bc8d8",
   "metadata": {},
   "outputs": [
    {
     "data": {
      "text/plain": [
       "[['@wesley83'],\n",
       " ['@jessedee', '@fludapp'],\n",
       " ['@swonderlin'],\n",
       " ['@sxsw'],\n",
       " ['@sxtxstate']]"
      ]
     },
     "execution_count": 41,
     "metadata": {},
     "output_type": "execute_result"
    }
   ],
   "source": [
    "ats = fn.find_strings(df['tweet'], '@[A-Za-z]+[A-Za-z0-9-_]+')\n",
    "ats[:5]"
   ]
  },
  {
   "cell_type": "code",
   "execution_count": 42,
   "id": "6e63415c-6f63-49c5-93a9-2248fdd3a6ef",
   "metadata": {},
   "outputs": [
    {
     "data": {
      "text/plain": [
       "4903"
      ]
     },
     "execution_count": 42,
     "metadata": {},
     "output_type": "execute_result"
    }
   ],
   "source": [
    "len(ats)"
   ]
  },
  {
   "cell_type": "markdown",
   "id": "834ae75c-c50a-434e-9cfd-321d5d6df002",
   "metadata": {},
   "source": [
    "<font size=\"4\"> There are 4903 mentions. </font>"
   ]
  },
  {
   "cell_type": "markdown",
   "id": "292cdef8",
   "metadata": {},
   "source": [
    "## Checking Brand/Product Counts and Frequencies"
   ]
  },
  {
   "cell_type": "code",
   "execution_count": 43,
   "id": "d9a423f8",
   "metadata": {},
   "outputs": [
    {
     "data": {
      "text/plain": [
       "10"
      ]
     },
     "execution_count": 43,
     "metadata": {},
     "output_type": "execute_result"
    }
   ],
   "source": [
    "len(df.brand_product.unique())"
   ]
  },
  {
   "cell_type": "markdown",
   "id": "273276d2-1262-4ea4-8033-e67635482c80",
   "metadata": {},
   "source": [
    "<font size=\"4\">The are 10 unique values in the `Brand/Product` column including `NaN`.</font>"
   ]
  },
  {
   "cell_type": "code",
   "execution_count": 44,
   "id": "700c8ccf",
   "metadata": {},
   "outputs": [
    {
     "data": {
      "text/plain": [
       "0.6381687810259239"
      ]
     },
     "execution_count": 44,
     "metadata": {},
     "output_type": "execute_result"
    }
   ],
   "source": [
    "df.brand_product.isna().sum()/df.shape[0]"
   ]
  },
  {
   "cell_type": "markdown",
   "id": "907b5c1d-cd2c-4c6a-b0a4-ee4d8f5c8524",
   "metadata": {},
   "source": [
    "<font size=\"4\">63% of the rows have null values in the `Brand/Product` column.</font>"
   ]
  },
  {
   "cell_type": "code",
   "execution_count": 45,
   "id": "7d873212",
   "metadata": {},
   "outputs": [
    {
     "data": {
      "text/plain": [
       "0.3618312189740761"
      ]
     },
     "execution_count": 45,
     "metadata": {},
     "output_type": "execute_result"
    }
   ],
   "source": [
    "df.brand_product.value_counts().sum()/df.shape[0]"
   ]
  },
  {
   "cell_type": "markdown",
   "id": "2f60b3b8-fc90-4cca-9615-b8ab655c1f1d",
   "metadata": {},
   "source": [
    "<font size=\"4\">36% of rows have non-null brand data.</font >"
   ]
  },
  {
   "cell_type": "code",
   "execution_count": 46,
   "id": "dbe65717-a6d8-4768-aea9-3770db7cd188",
   "metadata": {},
   "outputs": [
    {
     "data": {
      "text/plain": [
       "iPad                               0.287500\n",
       "Apple                              0.200915\n",
       "iPad or iPhone App                 0.142988\n",
       "Google                             0.130488\n",
       "iPhone                             0.090244\n",
       "Other Google product or service    0.089329\n",
       "Android App                        0.024390\n",
       "Android                            0.023476\n",
       "Other Apple product or service     0.010671\n",
       "Name: brand_product, dtype: float64"
      ]
     },
     "execution_count": 46,
     "metadata": {},
     "output_type": "execute_result"
    }
   ],
   "source": [
    "df.brand_product.value_counts(normalize=True)"
   ]
  },
  {
   "cell_type": "code",
   "execution_count": 47,
   "id": "2c7959fd-8693-4ff2-8242-3dff07d0da92",
   "metadata": {},
   "outputs": [
    {
     "data": {
      "text/plain": [
       "0.7323170731707316"
      ]
     },
     "execution_count": 47,
     "metadata": {},
     "output_type": "execute_result"
    }
   ],
   "source": [
    "idx = [0, 1, 2, 4, 8]\n",
    "sum = 0\n",
    "for i in idx:\n",
    "    sum += df.brand_product.value_counts(normalize=True)[i]\n",
    "sum"
   ]
  },
  {
   "cell_type": "markdown",
   "id": "12ea7956-646a-4db5-a07b-dddf4866a46a",
   "metadata": {},
   "source": [
    "<font size=\"4\">The Apple brand and Apple products account for 73% of the brand data.</font>"
   ]
  },
  {
   "cell_type": "code",
   "execution_count": 48,
   "id": "0741a500-98cf-42d4-8d5f-260ead287ac9",
   "metadata": {},
   "outputs": [
    {
     "data": {
      "image/png": "[encoded data removed]",
      "text/plain": [
       "<Figure size 1440x576 with 1 Axes>"
      ]
     },
     "metadata": {},
     "output_type": "display_data"
    }
   ],
   "source": [
    "vz.brand_freqs(df)"
   ]
  },
  {
   "cell_type": "markdown",
   "id": "89391d5d-3c64-4a6f-ba77-b8bbd141ef6a",
   "metadata": {},
   "source": [
    "<font size=\"4\"> The graph above confirm Apple's predominance in the `Brand/Product` column. </font>"
   ]
  },
  {
   "cell_type": "markdown",
   "id": "5aceb821",
   "metadata": {},
   "source": [
    "## Checking Emotion Unique Values"
   ]
  },
  {
   "cell_type": "code",
   "execution_count": 49,
   "id": "3992aacd",
   "metadata": {},
   "outputs": [
    {
     "data": {
      "text/plain": [
       "4"
      ]
     },
     "execution_count": 49,
     "metadata": {},
     "output_type": "execute_result"
    }
   ],
   "source": [
    "len(df.emotion.unique())"
   ]
  },
  {
   "cell_type": "markdown",
   "id": "c7023a62-f9e0-4ab7-9e9b-78ca8b8e9581",
   "metadata": {},
   "source": [
    "<font size=\"4\">There are 4 unique values in the emotion category.</font>"
   ]
  },
  {
   "cell_type": "code",
   "execution_count": 50,
   "id": "5a829df8",
   "metadata": {
    "tags": []
   },
   "outputs": [
    {
     "data": {
      "text/plain": [
       "Neutral         5372\n",
       "Positive        2968\n",
       "Negative         569\n",
       "I can't tell     156\n",
       "Name: emotion, dtype: int64"
      ]
     },
     "execution_count": 50,
     "metadata": {},
     "output_type": "execute_result"
    }
   ],
   "source": [
    "df.emotion.value_counts()"
   ]
  },
  {
   "cell_type": "code",
   "execution_count": 51,
   "id": "c0f7c345-4c3c-4970-8bfc-07246b50ebf2",
   "metadata": {
    "tags": []
   },
   "outputs": [
    {
     "data": {
      "text/plain": [
       "Neutral         0.592609\n",
       "Positive        0.327413\n",
       "Negative        0.062769\n",
       "I can't tell    0.017209\n",
       "Name: emotion, dtype: float64"
      ]
     },
     "execution_count": 51,
     "metadata": {},
     "output_type": "execute_result"
    }
   ],
   "source": [
    "df.emotion.value_counts(normalize=True)"
   ]
  },
  {
   "cell_type": "code",
   "execution_count": 52,
   "id": "86712027",
   "metadata": {},
   "outputs": [
    {
     "data": {
      "image/png": "[encoded data removed]",
      "text/plain": [
       "<Figure size 1440x576 with 1 Axes>"
      ]
     },
     "metadata": {},
     "output_type": "display_data"
    }
   ],
   "source": [
    "vz.emotion_freqs(df)"
   ]
  },
  {
   "cell_type": "markdown",
   "id": "8ead0b56-4602-4ee7-aa67-4715de0ca0de",
   "metadata": {},
   "source": [
    "<font size=\"4\">`No emotion` accounts for 59% of the data.</font>\n",
    "\n",
    "<font size=\"4\">`Positive emotion`                   accounts for 33% of the data.</font>\n",
    "\n",
    "<font size=\"4\">`Negative emotion`                   accounts for 6% of the data.</font>\n",
    "\n",
    "<font size=\"4\">`I can't tell`                       accounts for 2% of the data.</font>"
   ]
  },
  {
   "cell_type": "markdown",
   "id": "55fb9ced-442e-4ecf-911f-f5a7bdef753c",
   "metadata": {},
   "source": [
    "<font size=\"4\">We want to be able to detect the emotional sentiment of the tweets so we'll drop the `I can't tell` labels.</font>"
   ]
  },
  {
   "cell_type": "code",
   "execution_count": 53,
   "id": "dc7714f5-297f-4636-a717-4e474439b615",
   "metadata": {},
   "outputs": [
    {
     "data": {
      "text/plain": [
       "True"
      ]
     },
     "execution_count": 53,
     "metadata": {},
     "output_type": "execute_result"
    }
   ],
   "source": [
    "# getting the original number of rows\n",
    "before = df.shape[0]\n",
    "\n",
    "# saving number of 'can't tell' rows\n",
    "num_cant_tell =df.emotion.value_counts()[3]\n",
    "\n",
    "# dropping the 'can't tell' rows\n",
    "df = df[~(df['emotion']=='I can\\'t tell')]\n",
    "\n",
    "# resetting index\n",
    "df.reset_index(drop=True, inplace=True)\n",
    "\n",
    "# checking that the number of rows dropped match the number of 'can't tell' rows\n",
    "before - df.shape[0] == num_cant_tell"
   ]
  },
  {
   "cell_type": "markdown",
   "id": "07c86348",
   "metadata": {},
   "source": [
    "## Emotions by Brand"
   ]
  },
  {
   "cell_type": "code",
   "execution_count": 54,
   "id": "6a08abc8-c61c-4c49-948c-eda4c5481a8e",
   "metadata": {},
   "outputs": [
    {
     "data": {
      "image/png": "[encoded data removed]",
      "text/plain": [
       "<Figure size 1152x576 with 1 Axes>"
      ]
     },
     "metadata": {},
     "output_type": "display_data"
    }
   ],
   "source": [
    "vz.brand_emotions(df)"
   ]
  },
  {
   "cell_type": "code",
   "execution_count": 55,
   "id": "a50e818d-eb2c-4634-8826-ffa7d0cbf12d",
   "metadata": {},
   "outputs": [
    {
     "data": {
      "image/png": "[encoded data removed]",
      "text/plain": [
       "<Figure size 1152x576 with 1 Axes>"
      ]
     },
     "metadata": {},
     "output_type": "display_data"
    }
   ],
   "source": [
    "vz.brand_emotion_n(df)"
   ]
  },
  {
   "cell_type": "markdown",
   "id": "b31ae81e",
   "metadata": {},
   "source": [
    "## Checking Nulls in Product Column"
   ]
  },
  {
   "cell_type": "code",
   "execution_count": 56,
   "id": "ae4843ff",
   "metadata": {},
   "outputs": [],
   "source": [
    "product_nulls = df[df['brand_product'].isnull()]"
   ]
  },
  {
   "cell_type": "code",
   "execution_count": 57,
   "id": "a53c5c05",
   "metadata": {},
   "outputs": [
    {
     "data": {
      "text/html": [
       "<div>\n",
       "<style scoped>\n",
       "    .dataframe tbody tr th:only-of-type {\n",
       "        vertical-align: middle;\n",
       "    }\n",
       "\n",
       "    .dataframe tbody tr th {\n",
       "        vertical-align: top;\n",
       "    }\n",
       "\n",
       "    .dataframe thead th {\n",
       "        text-align: right;\n",
       "    }\n",
       "</style>\n",
       "<table border=\"1\" class=\"dataframe\">\n",
       "  <thead>\n",
       "    <tr style=\"text-align: right;\">\n",
       "      <th></th>\n",
       "      <th>tweet</th>\n",
       "      <th>brand_product</th>\n",
       "      <th>emotion</th>\n",
       "      <th>hashtags</th>\n",
       "    </tr>\n",
       "  </thead>\n",
       "  <tbody>\n",
       "    <tr>\n",
       "      <th>5</th>\n",
       "      <td>@teachntech00 New iPad Apps For #SpeechTherapy...</td>\n",
       "      <td>NaN</td>\n",
       "      <td>Neutral</td>\n",
       "      <td>[#SpeechTherapy, #SXSW, #iear, #edchat, #asd]</td>\n",
       "    </tr>\n",
       "    <tr>\n",
       "      <th>15</th>\n",
       "      <td>Holler Gram for iPad on the iTunes App Store -...</td>\n",
       "      <td>NaN</td>\n",
       "      <td>Neutral</td>\n",
       "      <td>[#sxsw]</td>\n",
       "    </tr>\n",
       "    <tr>\n",
       "      <th>31</th>\n",
       "      <td>Attn: All  #SXSW frineds, @mention Register fo...</td>\n",
       "      <td>NaN</td>\n",
       "      <td>Neutral</td>\n",
       "      <td>[#SXSW, #GDGTLive]</td>\n",
       "    </tr>\n",
       "    <tr>\n",
       "      <th>32</th>\n",
       "      <td>Anyone at  #sxsw want to sell their old iPad?</td>\n",
       "      <td>NaN</td>\n",
       "      <td>Neutral</td>\n",
       "      <td>[#sxsw]</td>\n",
       "    </tr>\n",
       "    <tr>\n",
       "      <th>33</th>\n",
       "      <td>Anyone at  #SXSW who bought the new iPad want ...</td>\n",
       "      <td>NaN</td>\n",
       "      <td>Neutral</td>\n",
       "      <td>[#SXSW]</td>\n",
       "    </tr>\n",
       "  </tbody>\n",
       "</table>\n",
       "</div>"
      ],
      "text/plain": [
       "                                                tweet brand_product  emotion  \\\n",
       "5   @teachntech00 New iPad Apps For #SpeechTherapy...           NaN  Neutral   \n",
       "15  Holler Gram for iPad on the iTunes App Store -...           NaN  Neutral   \n",
       "31  Attn: All  #SXSW frineds, @mention Register fo...           NaN  Neutral   \n",
       "32      Anyone at  #sxsw want to sell their old iPad?           NaN  Neutral   \n",
       "33  Anyone at  #SXSW who bought the new iPad want ...           NaN  Neutral   \n",
       "\n",
       "                                         hashtags  \n",
       "5   [#SpeechTherapy, #SXSW, #iear, #edchat, #asd]  \n",
       "15                                        [#sxsw]  \n",
       "31                             [#SXSW, #GDGTLive]  \n",
       "32                                        [#sxsw]  \n",
       "33                                        [#SXSW]  "
      ]
     },
     "execution_count": 57,
     "metadata": {},
     "output_type": "execute_result"
    }
   ],
   "source": [
    "product_nulls.head()"
   ]
  },
  {
   "cell_type": "code",
   "execution_count": 58,
   "id": "7c734862",
   "metadata": {},
   "outputs": [
    {
     "name": "stdout",
     "output_type": "stream",
     "text": [
      "<class 'pandas.core.frame.DataFrame'>\n",
      "Int64Index: 5638 entries, 5 to 8908\n",
      "Data columns (total 4 columns):\n",
      " #   Column         Non-Null Count  Dtype \n",
      "---  ------         --------------  ----- \n",
      " 0   tweet          5638 non-null   object\n",
      " 1   brand_product  0 non-null      object\n",
      " 2   emotion        5638 non-null   object\n",
      " 3   hashtags       5634 non-null   object\n",
      "dtypes: object(4)\n",
      "memory usage: 220.2+ KB\n"
     ]
    }
   ],
   "source": [
    "product_nulls.info()"
   ]
  },
  {
   "cell_type": "code",
   "execution_count": 59,
   "id": "5256d611",
   "metadata": {},
   "outputs": [
    {
     "data": {
      "text/plain": [
       "Neutral     5281\n",
       "Positive     306\n",
       "Negative      51\n",
       "Name: emotion, dtype: int64"
      ]
     },
     "execution_count": 59,
     "metadata": {},
     "output_type": "execute_result"
    }
   ],
   "source": [
    "product_nulls['emotion'].value_counts()"
   ]
  },
  {
   "cell_type": "markdown",
   "id": "fd8dd4c8",
   "metadata": {},
   "source": [
    "## Checking Null Brands Emotion Data"
   ]
  },
  {
   "cell_type": "code",
   "execution_count": 60,
   "id": "471cbcec",
   "metadata": {},
   "outputs": [],
   "source": [
    "null_brand_emotions = df[(df['brand_product'].isna()) &\\\n",
    "                        (df['emotion'] != 'Neutral')]"
   ]
  },
  {
   "cell_type": "code",
   "execution_count": 61,
   "id": "6b5b97cb",
   "metadata": {},
   "outputs": [
    {
     "name": "stdout",
     "output_type": "stream",
     "text": [
      "<class 'pandas.core.frame.DataFrame'>\n",
      "Int64Index: 357 entries, 45 to 8872\n",
      "Data columns (total 4 columns):\n",
      " #   Column         Non-Null Count  Dtype \n",
      "---  ------         --------------  ----- \n",
      " 0   tweet          357 non-null    object\n",
      " 1   brand_product  0 non-null      object\n",
      " 2   emotion        357 non-null    object\n",
      " 3   hashtags       357 non-null    object\n",
      "dtypes: object(4)\n",
      "memory usage: 13.9+ KB\n"
     ]
    }
   ],
   "source": [
    "null_brand_emotions.info()"
   ]
  },
  {
   "cell_type": "code",
   "execution_count": 62,
   "id": "9bdaf3ee",
   "metadata": {},
   "outputs": [
    {
     "data": {
      "text/html": [
       "<div>\n",
       "<style scoped>\n",
       "    .dataframe tbody tr th:only-of-type {\n",
       "        vertical-align: middle;\n",
       "    }\n",
       "\n",
       "    .dataframe tbody tr th {\n",
       "        vertical-align: top;\n",
       "    }\n",
       "\n",
       "    .dataframe thead th {\n",
       "        text-align: right;\n",
       "    }\n",
       "</style>\n",
       "<table border=\"1\" class=\"dataframe\">\n",
       "  <thead>\n",
       "    <tr style=\"text-align: right;\">\n",
       "      <th></th>\n",
       "      <th>tweet</th>\n",
       "      <th>brand_product</th>\n",
       "      <th>emotion</th>\n",
       "      <th>hashtags</th>\n",
       "    </tr>\n",
       "  </thead>\n",
       "  <tbody>\n",
       "    <tr>\n",
       "      <th>45</th>\n",
       "      <td>Hand-Held Û÷HoboÛª: Drafthouse launches Û÷H...</td>\n",
       "      <td>NaN</td>\n",
       "      <td>Positive</td>\n",
       "      <td>[#SXSW]</td>\n",
       "    </tr>\n",
       "    <tr>\n",
       "      <th>63</th>\n",
       "      <td>Again? RT @mention Line at the Apple store is ...</td>\n",
       "      <td>NaN</td>\n",
       "      <td>Negative</td>\n",
       "      <td>[#sxsw]</td>\n",
       "    </tr>\n",
       "    <tr>\n",
       "      <th>67</th>\n",
       "      <td>Boooo! RT @mention Flipboard is developing an ...</td>\n",
       "      <td>NaN</td>\n",
       "      <td>Negative</td>\n",
       "      <td>[#sxsw]</td>\n",
       "    </tr>\n",
       "    <tr>\n",
       "      <th>100</th>\n",
       "      <td>Know that &amp;quot;dataviz&amp;quot; translates to &amp;q...</td>\n",
       "      <td>NaN</td>\n",
       "      <td>Negative</td>\n",
       "      <td>[#sxsw]</td>\n",
       "    </tr>\n",
       "    <tr>\n",
       "      <th>109</th>\n",
       "      <td>Spark for #android is up for a #teamandroid aw...</td>\n",
       "      <td>NaN</td>\n",
       "      <td>Positive</td>\n",
       "      <td>[#android, #teamandroid, #SXSW]</td>\n",
       "    </tr>\n",
       "  </tbody>\n",
       "</table>\n",
       "</div>"
      ],
      "text/plain": [
       "                                                 tweet brand_product  \\\n",
       "45   Hand-Held Û÷HoboÛª: Drafthouse launches Û÷H...           NaN   \n",
       "63   Again? RT @mention Line at the Apple store is ...           NaN   \n",
       "67   Boooo! RT @mention Flipboard is developing an ...           NaN   \n",
       "100  Know that &quot;dataviz&quot; translates to &q...           NaN   \n",
       "109  Spark for #android is up for a #teamandroid aw...           NaN   \n",
       "\n",
       "      emotion                         hashtags  \n",
       "45   Positive                          [#SXSW]  \n",
       "63   Negative                          [#sxsw]  \n",
       "67   Negative                          [#sxsw]  \n",
       "100  Negative                          [#sxsw]  \n",
       "109  Positive  [#android, #teamandroid, #SXSW]  "
      ]
     },
     "execution_count": 62,
     "metadata": {},
     "output_type": "execute_result"
    }
   ],
   "source": [
    "null_brand_emotions.head()"
   ]
  },
  {
   "cell_type": "markdown",
   "id": "51781d9e",
   "metadata": {},
   "source": [
    "## Null Brand Emotion Counts"
   ]
  },
  {
   "cell_type": "code",
   "execution_count": 63,
   "id": "17e1495b",
   "metadata": {},
   "outputs": [
    {
     "data": {
      "image/png": "[encoded data removed]",
      "text/plain": [
       "<Figure size 1440x576 with 1 Axes>"
      ]
     },
     "metadata": {},
     "output_type": "display_data"
    }
   ],
   "source": [
    "vz.null_brand_emotions(df)"
   ]
  },
  {
   "cell_type": "markdown",
   "id": "e0a0e211",
   "metadata": {},
   "source": [
    "## Examining Some Null Brand Tweets"
   ]
  },
  {
   "cell_type": "code",
   "execution_count": 64,
   "id": "e88fb8aa",
   "metadata": {
    "tags": []
   },
   "outputs": [
    {
     "name": "stdout",
     "output_type": "stream",
     "text": [
      "Hand-Held Û÷HoboÛª: Drafthouse launches Û÷Hobo With a ShotgunÛª iPhone app #SXSW {link}\n"
     ]
    }
   ],
   "source": [
    "print(null_brand_emotions.tweet[45])"
   ]
  },
  {
   "cell_type": "code",
   "execution_count": 65,
   "id": "be668fac",
   "metadata": {},
   "outputs": [
    {
     "name": "stdout",
     "output_type": "stream",
     "text": [
      "Again? RT @mention Line at the Apple store is insane.. #sxsw\n"
     ]
    }
   ],
   "source": [
    "print(null_brand_emotions.tweet[63])"
   ]
  },
  {
   "cell_type": "code",
   "execution_count": 66,
   "id": "d592f664",
   "metadata": {},
   "outputs": [
    {
     "name": "stdout",
     "output_type": "stream",
     "text": [
      "Boooo! RT @mention Flipboard is developing an iPhone version, not Android, says @mention #sxsw\n"
     ]
    }
   ],
   "source": [
    "print(null_brand_emotions.tweet[67])"
   ]
  },
  {
   "cell_type": "markdown",
   "id": "c04ce3af-16d7-4985-8354-c43a09b56d2f",
   "metadata": {},
   "source": [
    "## Data Preparation II: (Cleaning the Data)\n",
    "The master cleaning functions remove punctuation, urls, retweets, mentions, other unwanted substrings ('{link}', &amp, &quot, &nbsp, &lt, &gt), lower case all letters, and return a list of clean and regularized (lemmas or stems) tweets."
   ]
  },
  {
   "cell_type": "code",
   "execution_count": 67,
   "id": "863f6fc8-df94-4f96-b94b-f6b267340f2e",
   "metadata": {},
   "outputs": [],
   "source": [
    "data_clean_lemmas = fn.clean_corpus_lem(df.tweet)"
   ]
  },
  {
   "cell_type": "code",
   "execution_count": 68,
   "id": "780c93f8-d45f-4095-8e65-a89d4a9abf02",
   "metadata": {},
   "outputs": [],
   "source": [
    "data_clean_stems = fn.clean_corpus_stem(df.tweet)"
   ]
  },
  {
   "cell_type": "markdown",
   "id": "8898c5e5-8134-45bc-9571-ab50bee7bcf6",
   "metadata": {},
   "source": [
    "## Comparing Raw Tweets to the Cleaned & Regularized Tweets"
   ]
  },
  {
   "cell_type": "code",
   "execution_count": 69,
   "id": "6a4f0143-8524-4b8e-b9c4-65351440f1da",
   "metadata": {
    "scrolled": true,
    "tags": []
   },
   "outputs": [
    {
     "name": "stdout",
     "output_type": "stream",
     "text": [
      "original: .@wesley83 I have a 3G iPhone. After 3 hrs tweeting at #RISE_Austin, it was dead!  I need to upgrade. Plugin stations at #SXSW.\n",
      "\n",
      "lemms: 3g iphone 3 hr tweeting rise austin dead need upgrade plugin station sxsw\n",
      "stems: 3g iphon 3 hr tweet rise austin dead need upgrad plugin station sxsw\n",
      "\n",
      "original: @jessedee Know about @fludapp ? Awesome iPad/iPhone app that you'll likely appreciate for its design. Also, they're giving free Ts at #SXSW\n",
      "\n",
      "lemms: know awesome ipad iphone app likely appreciate design also giving free t sxsw\n",
      "stems: know awesom ipad iphon app like appreci design also give free ts sxsw\n",
      "\n",
      "original: @swonderlin Can not wait for #iPad 2 also. They should sale them down at #SXSW.\n",
      "\n",
      "lemms: wait ipad 2 also sale sxsw\n",
      "stems: wait ipad 2 also sale sxsw\n",
      "\n",
      "original: @sxsw I hope this year's festival isn't as crashy as this year's iPhone app. #sxsw\n",
      "\n",
      "lemms: hope year festival crashy year iphone app sxsw\n",
      "stems: hope year festiv crashi year iphon app sxsw\n",
      "\n",
      "original: @sxtxstate great stuff on Fri #SXSW: Marissa Mayer (Google), Tim O'Reilly (tech books/conferences) &amp; Matt Mullenweg (Wordpress)\n",
      "\n",
      "lemms: great stuff fri sxsw marissa mayer google tim reilly tech book conference matt mullenweg wordpress\n",
      "stems: great stuff fri sxsw marissa mayer googl tim reilli tech book confer matt mullenweg wordpress\n",
      "\n",
      "original: @teachntech00 New iPad Apps For #SpeechTherapy And Communication Are Showcased At The #SXSW Conference http://ht.ly/49n4M #iear #edchat #asd\n",
      "\n",
      "lemms: new ipad apps speechtherapy communication showcased sxsw conference iear edchat asd\n",
      "stems: new ipad app speechtherapi commun showcas sxsw confer iear edchat asd\n",
      "\n",
      "original: #SXSW is just starting, #CTIA is around the corner and #googleio is only a hop skip and a jump from there, good time to be an #android fan\n",
      "\n",
      "lemms: sxsw starting ctia around corner googleio hop skip jump good time android fan\n",
      "stems: sxsw start ctia around corner googleio hop skip jump good time android fan\n",
      "\n",
      "original: Beautifully smart and simple idea RT @madebymany @thenextweb wrote about our #hollergram iPad app for #sxsw! http://bit.ly/ieaVOB\n",
      "\n",
      "lemms: beautifully smart simple idea wrote hollergram ipad app sxsw\n",
      "stems: beauti smart simpl idea wrote hollergram ipad app sxsw\n",
      "\n",
      "original: Counting down the days to #sxsw plus strong Canadian dollar means stock up on Apple gear\n",
      "\n",
      "lemms: counting day sxsw plus strong canadian dollar mean stock apple gear\n",
      "stems: count day sxsw plu strong canadian dollar mean stock appl gear\n",
      "\n",
      "original: Excited to meet the @samsungmobileus at #sxsw so I can show them my Sprint Galaxy S still running Android 2.1.   #fail\n",
      "\n",
      "lemms: excited meet sxsw show sprint galaxy still running android 2 1 fail\n",
      "stems: excit meet sxsw show sprint galaxi still run android 2 1 fail\n",
      "\n",
      "original: Find &amp; Start Impromptu Parties at #SXSW With @HurricaneParty http://bit.ly/gVLrIn I can't wait til the Android app comes out.\n",
      "\n",
      "lemms: find start impromptu party sxsw wait til android app come\n",
      "stems: find start impromptu parti sxsw wait til android app come\n",
      "\n",
      "original: Foursquare ups the game, just in time for #SXSW http://j.mp/grN7pK) - Still prefer @Gowalla by far, best looking Android app to date.\n",
      "\n",
      "lemms: foursquare ups game time sxsw still prefer far best looking android app date\n",
      "stems: foursquar up game time sxsw still prefer far best look android app date\n",
      "\n",
      "original: Gotta love this #SXSW Google Calendar featuring top parties/ show cases to check out.  RT @hamsandwich via @ischafer =&gt;http://bit.ly/aXZwxB\n",
      "\n",
      "lemms: gotta love sxsw google calendar featuring top party show case check via\n",
      "stems: gotta love sxsw googl calendar featur top parti show case check via\n",
      "\n",
      "original: Great #sxsw ipad app from @madebymany: http://tinyurl.com/4nqv92l\n",
      "\n",
      "lemms: great sxsw ipad app\n",
      "stems: great sxsw ipad app\n",
      "\n",
      "original: haha, awesomely rad iPad app by @madebymany http://bit.ly/hTdFim #hollergram #sxsw\n",
      "\n",
      "lemms: haha awesomely rad ipad app hollergram sxsw\n",
      "stems: haha awesom rad ipad app hollergram sxsw\n",
      "\n",
      "original: Holler Gram for iPad on the iTunes App Store -  http://t.co/kfN3f5Q (via @marc_is_ken) #sxsw\n",
      "\n",
      "lemms: holler gram ipad itunes app store via sxsw\n",
      "stems: holler gram ipad itun app store via sxsw\n",
      "\n",
      "original: I just noticed DST is coming this weekend. How many iPhone users will be an hour late at SXSW come Sunday morning? #SXSW #iPhone\n",
      "\n",
      "lemms: noticed dst coming weekend many iphone user hour late sxsw come sunday morning sxsw iphone\n",
      "stems: notic dst come weekend mani iphon user hour late sxsw come sunday morn sxsw iphon\n",
      "\n",
      "original: Just added my #SXSW flights to @planely. Matching people on planes/airports. Also downloaded the @KLM iPhone app, nicely done.\n",
      "\n",
      "lemms: added sxsw flight matching people plane airport also downloaded iphone app nicely done\n",
      "stems: ad sxsw flight match peopl plane airport also download iphon app nice done\n",
      "\n",
      "original: Must have #SXSW app! RT @malbonster: Lovely review from Forbes for our SXSW iPad app Holler Gram - http://t.co/g4GZypV\n",
      "\n",
      "lemms: must sxsw app lovely review forbes sxsw ipad app holler gram\n",
      "stems: must sxsw app love review forb sxsw ipad app holler gram\n",
      "\n",
      "original: Need to buy an iPad2 while I'm in Austin at #sxsw. Not sure if I'll need to Q up at an Austin Apple store?\n",
      "\n",
      "lemms: need buy ipad2 austin sxsw sure need q austin apple store\n",
      "stems: need buy ipad2 austin sxsw sure need q austin appl store\n",
      "\n",
      "original: Oh. My. God. The #SXSW app for iPad is pure, unadulterated awesome. It's easier to browse events on iPad than on the website!!!\n",
      "\n",
      "lemms: oh god sxsw app ipad pure unadulterated awesome easier browse event ipad website\n",
      "stems: oh god sxsw app ipad pure unadulter awesom easier brows event ipad websit\n",
      "\n",
      "original: Okay, this is really it: yay new @Foursquare for #Android app!!!!11 kthxbai. #sxsw\n",
      "\n",
      "lemms: okay really yay new android app 11 kthxbai sxsw\n",
      "stems: okay realli yay new android app 11 kthxbai sxsw\n",
      "\n",
      "original: Photo: Just installed the #SXSW iPhone app, which is really nice! http://tumblr.com/x6t1pi6av7\n",
      "\n",
      "lemms: photo installed sxsw iphone app really nice\n",
      "stems: photo instal sxsw iphon app realli nice\n",
      "\n",
      "original: Really enjoying the changes in Gowalla 3.0 for Android! Looking forward to seeing what else they &amp; Foursquare have up their sleeves at #SXSW\n",
      "\n",
      "lemms: really enjoying change gowalla 3 0 android looking forward seeing else foursquare sleeve sxsw\n",
      "stems: realli enjoy chang gowalla 3 0 android look forward see els foursquar sleev sxsw\n",
      "\n",
      "original: RT @LaurieShook: I'm looking forward to the #SMCDallas pre #SXSW party Wed., and hoping I'll win an #iPad resulting from my shameless promotion.  #ChevySMC\n",
      "\n",
      "lemms: looking forward smcdallas pre sxsw party wed hoping win ipad resulting shameless promotion chevysmc\n",
      "stems: look forward smcdalla pre sxsw parti wed hope win ipad result shameless promot chevysmc\n",
      "\n",
      "original: RT haha, awesomely rad iPad app by @madebymany http://bit.ly/hTdFim #hollergram #sxsw (via @michaelpiliero)\n",
      "\n",
      "lemms: haha awesomely rad ipad app hollergram sxsw via\n",
      "stems: haha awesom rad ipad app hollergram sxsw via\n",
      "\n",
      "original: someone started an #austin @PartnerHub group in google groups, pre-#sxsw. great idea\n",
      "\n",
      "lemms: someone started austin group google group pre sxsw great idea\n",
      "stems: someon start austin group googl group pre sxsw great idea\n",
      "\n",
      "original: The new #4sq3 looks like it is going to rock. Update for iPhone and Android should push tonight http://bit.ly/etsbZk #SXSW #KeepAustinWeird\n",
      "\n",
      "lemms: new 4sq3 look like going rock update iphone android push tonight sxsw keepaustinweird\n",
      "stems: new 4sq3 look like go rock updat iphon android push tonight sxsw keepaustinweird\n",
      "\n",
      "original: They were right, the @gowalla 3 app on #android is sweeeeet! Nice job by the team there. #sxsw\n",
      "\n",
      "lemms: right 3 app android sweeeeet nice job team sxsw\n",
      "stems: right 3 app android sweeeeet nice job team sxsw\n",
      "\n",
      "original: Very smart from @madebymany #hollergram iPad app for #sxsw! http://t.co/A3xvWc6 (may leave my vuvuzela at home now)\n",
      "\n",
      "lemms: smart hollergram ipad app sxsw may leave vuvuzela home\n",
      "stems: smart hollergram ipad app sxsw may leav vuvuzela home\n",
      "\n",
      "original: You must have this app for your iPad if you are going to #SXSW http://itunes.apple.com/us/app/holler-gram/id420666439?mt=8 #hollergram\n",
      "\n",
      "lemms: must app ipad going sxsw hollergram\n",
      "stems: must app ipad go sxsw hollergram\n",
      "\n",
      "original: Attn: All  #SXSW frineds, @mention Register for #GDGTLive  and see Cobra iRadar for Android. {link}\n",
      "\n",
      "lemms: attn sxsw frineds register gdgtlive see cobra iradar android\n",
      "stems: attn sxsw frine regist gdgtlive see cobra iradar android\n",
      "\n",
      "original: Anyone at  #sxsw want to sell their old iPad?\n",
      "\n",
      "lemms: anyone sxsw want sell old ipad\n",
      "stems: anyon sxsw want sell old ipad\n",
      "\n",
      "original: Anyone at  #SXSW who bought the new iPad want to sell their older iPad to me?\n",
      "\n",
      "lemms: anyone sxsw bought new ipad want sell older ipad\n",
      "stems: anyon sxsw bought new ipad want sell older ipad\n",
      "\n",
      "original: At #sxsw.  Oooh. RT @mention Google to Launch Major New Social Network Called Circles, Possibly Today {link}\n",
      "\n",
      "lemms: sxsw oooh google launch major new social network called circle possibly today\n",
      "stems: sxsw oooh googl launch major new social network call circl possibl today\n",
      "\n",
      "original: The best!  RT @mention Ha! First in line for #ipad2 at #sxsw &quot;pop-up&quot; Apple store was an event planner #eventprofs #pcma #engage365\n",
      "\n",
      "lemms: best ha first line ipad2 sxsw pop apple store event planner eventprofs pcma engage365\n",
      "stems: best ha first line ipad2 sxsw pop appl store event planner eventprof pcma engage365\n",
      "\n",
      "original: SPIN Play - a new concept in music discovery for your iPad from @mention &amp; spin.com {link} #iTunes #sxsw @mention\n",
      "\n",
      "lemms: spin play new concept music discovery ipad spin com itunes sxsw\n",
      "stems: spin play new concept music discoveri ipad spin com itun sxsw\n",
      "\n",
      "original: @mention  - False Alarm: Google Circles Not Coming NowÛÒand Probably Not Ever? - {link} #Google #Circles #Social #SXSW\n",
      "\n",
      "lemms: false alarm google circle coming probably ever google circle social sxsw\n",
      "stems: fals alarm googl circl come probabl ever googl circl social sxsw\n",
      "\n",
      "original: VatorNews - Google And Apple Force Print Media to Evolve? {link} #sxsw\n",
      "\n",
      "lemms: vatornews google apple force print medium evolve sxsw\n",
      "stems: vatornew googl appl forc print media evolv sxsw\n",
      "\n",
      "original: @mention  - Great weather to greet you for #sxsw! Still need a sweater at night..Apple putting up &quot;flash store&quot; downtown to sell iPad2\n",
      "\n",
      "lemms: great weather greet sxsw still need sweater night apple putting flash store downtown sell ipad2\n",
      "stems: great weather greet sxsw still need sweater night appl put flash store downtown sell ipad2\n",
      "\n",
      "original: HootSuite - HootSuite Mobile for #SXSW ~ Updates for iPhone, BlackBerry &amp; Android: Whether youÛªre getting friend... {link}\n",
      "\n",
      "lemms: hootsuite hootsuite mobile sxsw update iphone blackberry android whether getting friend\n",
      "stems: hootsuit hootsuit mobil sxsw updat iphon blackberri android whether get friend\n",
      "\n",
      "original: Hey #SXSW - How long do you think it takes us to make an iPhone case? answer @mention using #zazzlesxsw and weÛªll make you one!\n",
      "\n",
      "lemms: hey sxsw long think take u make iphone case answer using zazzlesxsw make one\n",
      "stems: hey sxsw long think take us make iphon case answer use zazzlesxsw make one\n",
      "\n",
      "original: Mashable! - The iPad 2 Takes Over SXSW [VIDEO] #ipad #sxsw #gadgets {link}\n",
      "\n",
      "lemms: mashable ipad 2 take sxsw video ipad sxsw gadget\n",
      "stems: mashabl ipad 2 take sxsw video ipad sxsw gadget\n",
      "\n",
      "original: For I-Pad ?RT @mention New #UberSocial for #iPhone now in the App Store includes UberGuide to #SXSW sponsored by ... {link}\n",
      "\n",
      "lemms: pad new ubersocial iphone app store includes uberguide sxsw sponsored\n",
      "stems: pad new ubersoci iphon app store includ uberguid sxsw sponsor\n",
      "\n",
      "original: #IPad2 's Û÷#SmartCoverÛª Opens to Instant Access - I should have waited to get one! - {link} #apple #SXSW\n",
      "\n",
      "lemms: ipad2 smartcover open instant access waited get one apple sxsw\n",
      "stems: ipad2 smartcov open instant access wait get one appl sxsw\n",
      "\n",
      "original: Hand-Held Û÷HoboÛª: Drafthouse launches Û÷Hobo With a ShotgunÛª iPhone app #SXSW {link}\n",
      "\n",
      "lemms: hand held hobo drafthouse launch hobo shotgun iphone app sxsw\n",
      "stems: hand held hobo drafthous launch hobo shotgun iphon app sxsw\n",
      "\n",
      "original: HOORAY RT ÛÏ@mention Apple Is Opening A Pop-Up Store In Austin For #SXSW | @mention {link}\n",
      "\n",
      "lemms: hooray apple opening pop store austin sxsw\n",
      "stems: hooray appl open pop store austin sxsw\n",
      "\n",
      "original: Orly....? ÛÏ@mention Google set to launch new social network #Circles today at #sxswÛ\n",
      "\n",
      "lemms: orly google set launch new social network circle today sxsw\n",
      "stems: orli googl set launch new social network circl today sxsw\n",
      "\n",
      "original: wooooo!!! ÛÏ@mention Apple store downtown Austin open til Midnight. #sxswÛ\n",
      "\n",
      "lemms: wooooo apple store downtown austin open til midnight sxsw\n",
      "stems: wooooo appl store downtown austin open til midnight sxsw\n",
      "\n",
      "original: Khoi Vinh (@mention says Conde Nast's headlong rush into iPad publishing was a &quot;fundamental misunderstanding&quot; of the platform #sxsw\n",
      "\n",
      "lemms: khoi vinh say conde nast headlong rush ipad publishing fundamental misunderstanding platform sxsw\n",
      "stems: khoi vinh say cond nast headlong rush ipad publish fundament misunderstand platform sxsw\n",
      "\n",
      "original: ÛÏ@mention {link} &lt;-- HELP ME FORWARD THIS DOC to all Anonymous accounts, techies,&amp; ppl who can help us JAM #libya #SXSW\n",
      "\n",
      "lemms: help forward doc anonymous account techie ppl help u jam libya sxsw\n",
      "stems: help forward doc anonym account techi ppl help us jam libya sxsw\n",
      "\n",
      "original: ÷¼ WHAT? ÷_ {link} ã_ #edchat #musedchat #sxsw #sxswi #classical #newTwitter\n",
      "\n",
      "lemms: edchat musedchat sxsw sxswi classical newtwitter\n",
      "stems: edchat musedchat sxsw sxswi classic newtwitt\n",
      "\n",
      "original: .@mention @mention on the location-based 'fast, fun and future' - {link} (via @mention #sxsw\n",
      "\n",
      "lemms: location based fast fun future via sxsw\n",
      "stems: locat base fast fun futur via sxsw\n",
      "\n",
      "original: ÛÏ@mention @mention #Google Will Connect the Digital &amp; Physical Worlds Through Mobile - {link} #sxswÛ @mention\n",
      "\n",
      "lemms: google connect digital physical world mobile sxsw\n",
      "stems: googl connect digit physic world mobil sxsw\n",
      "\n",
      "original: ÛÏ@mention @mention talking about {link} - Google's effort to allow users to have open systems #bettercloud #sxswÛ\n",
      "\n",
      "lemms: talking google effort allow user open system bettercloud sxsw\n",
      "stems: talk googl effort allow user open system bettercloud sxsw\n",
      "\n",
      "original: {link} RT @mention &quot;Google before you tweet&quot; is the new &quot;think before you speak.&quot; - Mark Belinsky, #911tweets panel at #SXSW.\n",
      "\n",
      "lemms: google tweet new think speak mark belinsky 911tweets panel sxsw\n",
      "stems: googl tweet new think speak mark belinski 911tweet panel sxsw\n",
      "\n",
      "original: {link} RT @mention 1st stop on the #SXSW #Chaos &amp; @mention hunt: Austin Java. Get in the spy game 4 a chance 2 win an iPad!\n",
      "\n",
      "lemms: 1st stop sxsw chaos hunt austin java get spy game 4 chance 2 win ipad\n",
      "stems: 1st stop sxsw chao hunt austin java get spi game 4 chanc 2 win ipad\n",
      "\n",
      "original: {link} RT @mention Those at #SXSW check out the Holler Gram ipad app from @mention  {link}\n",
      "\n",
      "lemms: sxsw check holler gram ipad app\n",
      "stems: sxsw check holler gram ipad app\n",
      "\n",
      "original: @mention  @mention &amp;  @mention having fun at #google [pic] #SXSW {link}\n",
      "\n",
      "lemms: fun google pic sxsw\n",
      "stems: fun googl pic sxsw\n",
      "\n",
      "original: &quot;via @mention : {link} Guy Kawasaki talks 'Enchanted' at SXSW - HE knows his stuff! #books #internet #Apple #sxsw  &quot;\n",
      "\n",
      "lemms: via guy kawasaki talk enchanted sxsw know stuff book internet apple sxsw\n",
      "stems: via guy kawasaki talk enchant sxsw know stuff book internet appl sxsw\n",
      "\n",
      "original: #futuremf @mention {link} spec for recipes on the web, now in google search: {link}  #sxsw\n",
      "\n",
      "lemms: futuremf spec recipe web google search sxsw\n",
      "stems: futuremf spec recip web googl search sxsw\n",
      "\n",
      "original: #OMFG! RT @mention Heard about Apple's pop-up store in downtown Austin? Pics are already on Gowalla: {link} #sxsw #iPad2\n",
      "\n",
      "lemms: omfg heard apple pop store downtown austin pic already gowalla sxsw ipad2\n",
      "stems: omfg heard appl pop store downtown austin pic alreadi gowalla sxsw ipad2\n",
      "\n",
      "original: #Smile RT @mention I think Apple's &quot;pop-up store&quot; in Austin would be a lot more interesting if it actually, you know... popped up #sxsw\n",
      "\n",
      "lemms: smile think apple pop store austin would lot interesting actually know popped sxsw\n",
      "stems: smile think appl pop store austin would lot interest actual know pop sxsw\n",
      "\n",
      "original: Again? RT @mention Line at the Apple store is insane.. #sxsw\n",
      "\n",
      "lemms: line apple store insane sxsw\n",
      "stems: line appl store insan sxsw\n",
      "\n",
      "original: Agree. RT @mention Wait. FIONA APPLE is in town??? Somebody kidnap her and put her in a recording studio until she records a new album. #sxsw\n",
      "\n",
      "lemms: agree wait fiona apple town somebody kidnap put recording studio record new album sxsw\n",
      "stems: agre wait fiona appl town somebodi kidnap put record studio record new album sxsw\n",
      "\n",
      "original: At #sxsw? @mention / @mention wanna buy you a drink. 7pm at Fado on 4th. {link} Join us!\n",
      "\n",
      "lemms: sxsw wanna buy drink 7pm fado 4th join u\n",
      "stems: sxsw wanna buy drink 7pm fado 4th join us\n",
      "\n",
      "original: attending @mention iPad design headaches #sxsw {link}\n",
      "\n",
      "lemms: attending ipad design headache sxsw\n",
      "stems: attend ipad design headach sxsw\n",
      "\n",
      "original: Boooo! RT @mention Flipboard is developing an iPhone version, not Android, says @mention #sxsw\n",
      "\n",
      "lemms: boooo flipboard developing iphone version android say sxsw\n",
      "stems: boooo flipboard develop iphon version android say sxsw\n",
      "\n",
      "original: Check out @mention @mention &amp; @mention in line for their iPad 2 in Austin. Power to them! #sxswi #SXSW  {link}\n",
      "\n",
      "lemms: check line ipad 2 austin power sxswi sxsw\n",
      "stems: check line ipad 2 austin power sxswi sxsw\n",
      "\n",
      "original: Check! RT @mention giving added value to location based services needs to battle check-in fatigue #google #pnid #sxsw\n",
      "\n",
      "lemms: check giving added value location based service need battle check fatigue google pnid sxsw\n",
      "stems: check give ad valu locat base servic need battl check fatigu googl pnid sxsw\n",
      "\n",
      "original: Chilcott: @mention #SXSW stand talking with Blogger staff. Too late to win competition for best tweet mentioning @mention So no t-shirt.\n",
      "\n",
      "lemms: chilcott sxsw stand talking blogger staff late win competition best tweet mentioning shirt\n",
      "stems: chilcott sxsw stand talk blogger staff late win competit best tweet mention shirt\n",
      "\n",
      "original: Do it. RT @mention Come party w/ Google tonight at #sxsw! {link} - Bands, food, art, ice cream, nifty interactive maps!\n",
      "\n",
      "lemms: come party w google tonight sxsw band food art ice cream nifty interactive map\n",
      "stems: come parti w googl tonight sxsw band food art ice cream nifti interact map\n",
      "\n",
      "original: Gowalla's @mention promises to launch Foursquare check-in + Groupon rewards-type service at #SXSW. Finger's crossed. {link}\n",
      "\n",
      "lemms: gowalla promise launch foursquare check groupon reward type service sxsw finger crossed\n",
      "stems: gowalla promis launch foursquar check groupon reward type servic sxsw finger cross\n",
      "\n",
      "original: Ha.ha. RT @mention #SXSW News: Yahoo.com is loosing search traffic to new site, Google.com. Doubt it will last tho w/ that weird name.\n",
      "\n",
      "lemms: ha ha sxsw news yahoo com loosing search traffic new site google com doubt last tho w weird name\n",
      "stems: ha ha sxsw news yahoo com loos search traffic new site googl com doubt last tho w weird name\n",
      "\n",
      "original: Holla! RT @mention At google party. Best ever! Get your butt over here. #sxsw\n",
      "\n",
      "lemms: holla google party best ever get butt sxsw\n",
      "stems: holla googl parti best ever get butt sxsw\n",
      "\n",
      "original: I love my @mention iPhone case from #Sxsw but I can't get my phone out of it #fail\n",
      "\n",
      "lemms: love iphone case sxsw get phone fail\n",
      "stems: love iphon case sxsw get phone fail\n",
      "\n",
      "original: I worship @mention {link} #SXSW\n",
      "\n",
      "lemms: worship sxsw\n",
      "stems: worship sxsw\n",
      "\n",
      "original: iPad2? RT @mention Droid &amp; Mac here :) RT @mention My #agnerd confession, using laptop, iPad &amp; blackberry to follow #SXSW\n",
      "\n",
      "lemms: ipad2 droid mac agnerd confession using laptop ipad blackberry follow sxsw\n",
      "stems: ipad2 droid mac agnerd confess use laptop ipad blackberri follow sxsw\n",
      "\n",
      "original: Launching @mention #SxSW? RT @mention @mention Denies Social Network Called Circles Will Debut Today, Despite Report {link}\n",
      "\n",
      "lemms: launching sxsw denies social network called circle debut today despite report\n",
      "stems: launch sxsw deni social network call circl debut today despit report\n",
      "\n",
      "original: New Post: @mention iPhone app makes it easy to connect on all social networks with people you meet  {link} #sxsw\n",
      "\n",
      "lemms: new post iphone app make easy connect social network people meet sxsw\n",
      "stems: new post iphon app make easi connect social network peopl meet sxsw\n",
      "\n",
      "original: Nice that @mention iPhone app is behaving today. Crashes yesterday were ridiculous. #sxsw\n",
      "\n",
      "lemms: nice iphone app behaving today crash yesterday ridiculous sxsw\n",
      "stems: nice iphon app behav today crash yesterday ridicul sxsw\n",
      "\n",
      "original: Nice!  RT @mention Apple opening popup store for iPad launch in downtown Austin during #SXSW {link} via @mention\n",
      "\n",
      "lemms: nice apple opening popup store ipad launch downtown austin sxsw via\n",
      "stems: nice appl open popup store ipad launch downtown austin sxsw via\n",
      "\n",
      "original: Nice!! RT @mention Hey, Apple fans! Get a peek at the space that's slated to be a pop-up #SXSW Apple Store tomorrow: {link}\n",
      "\n",
      "lemms: nice hey apple fan get peek space slated pop sxsw apple store tomorrow\n",
      "stems: nice hey appl fan get peek space slate pop sxsw appl store tomorrow\n",
      "\n",
      "original: one thing @mention is doing so great is get a great, down to earth face to Google as a company - You can only love her #sxsw #sxwsi\n",
      "\n",
      "lemms: one thing great get great earth face google company love sxsw sxwsi\n",
      "stems: one thing great get great earth face googl compani love sxsw sxwsi\n",
      "\n",
      "original: Stay tune @mention showcase #H4ckers {link} #SXSW\n",
      "\n",
      "lemms: stay tune showcase h4ckers sxsw\n",
      "stems: stay tune showcas h4cker sxsw\n",
      "\n",
      "original: Thank you @mention @mention for the #touchingstories preso #SXSW . Here's their deck {link}\n",
      "\n",
      "lemms: thank touchingstories preso sxsw deck\n",
      "stems: thank touchingstori preso sxsw deck\n",
      "\n",
      "original: Thank you @mention for an awesome #sxsw party! {link}\n",
      "\n",
      "lemms: thank awesome sxsw party\n",
      "stems: thank awesom sxsw parti\n",
      "\n",
      "original: Thanks RT @mention If you're trying to contact friends or family in #Japan, @mention has created a person finder: {link} #SXSW\n",
      "\n",
      "lemms: thanks trying contact friend family japan created person finder sxsw\n",
      "stems: thank tri contact friend famili japan creat person finder sxsw\n",
      "\n",
      "original: Thanks to @mention for her mention of our new #Speech iPad apps being showcased at the #SXSW Conf. {link} #sxswh #sxsh\n",
      "\n",
      "lemms: thanks mention new speech ipad apps showcased sxsw conf sxswh sxsh\n",
      "stems: thank mention new speech ipad app showcas sxsw conf sxswh sxsh\n",
      "\n",
      "original: Thanks to @mention for publishing the news of our new medical Apps in the #sxswi conf. blog {link} #sxsw #sxswh #mhealth\n",
      "\n",
      "lemms: thanks publishing news new medical apps sxswi conf blog sxsw sxswh mhealth\n",
      "stems: thank publish news new medic app sxswi conf blog sxsw sxswh mhealth\n",
      "\n",
      "original: What !?!? @mention  #SXSW does not provide iPhone chargers?!?  I've changed my mind about going next year!\n",
      "\n",
      "lemms: sxsw provide iphone charger changed mind going next year\n",
      "stems: sxsw provid iphon charger chang mind go next year\n",
      "\n",
      "original: Wonder if @mention &amp; @mention will be in the apple flashmob: tcrn.ch/fcs45j #SXSW #ipad2\n",
      "\n",
      "lemms: wonder apple flashmob tcrn ch fcs45j sxsw ipad2\n",
      "stems: wonder appl flashmob tcrn ch fcs45j sxsw ipad2\n",
      "\n",
      "original: Wonder if @mention is putting tips from the @mention API... #SxSW #SUxSW\n",
      "\n",
      "lemms: wonder putting tip api sxsw suxsw\n",
      "stems: wonder put tip api sxsw suxsw\n",
      "\n",
      "original: XMAS!! RT @mention Shiny new @mention @mention @mention apps, a new @garyvee book, pop-up iPad 2 stores... #SXSW is Christmas for nerds.\n",
      "\n",
      "lemms: xmas shiny new apps new book pop ipad 2 store sxsw christmas nerd\n",
      "stems: xma shini new app new book pop ipad 2 store sxsw christma nerd\n",
      "\n",
      "original: Yai!!! RT @mention New #UberSocial for #iPhone now in the App Store includes UberGuide to #SXSW sponsored by (cont) {link}\n",
      "\n",
      "lemms: yai new ubersocial iphone app store includes uberguide sxsw sponsored cont\n",
      "stems: yai new ubersoci iphon app store includ uberguid sxsw sponsor cont\n",
      "\n",
      "original: Yes!!! RT @mention hey @mention , i've got another gem for you --&gt; free @mention sxsw {link} #SXSW\n",
      "\n",
      "lemms: yes hey got another gem free sxsw sxsw\n",
      "stems: ye hey got anoth gem free sxsw sxsw\n",
      "\n",
      "original: Fast, Fun &amp; Future: @mention of Google presenting at #sxsw on search, local and mobile\n",
      "\n",
      "lemms: fast fun future google presenting sxsw search local mobile\n",
      "stems: fast fun futur googl present sxsw search local mobil\n",
      "\n",
      "original: GSD&amp;M &amp; Google's Industry Party Tonight @mention - See u there! {link} #SXSW #Austin #Welivehere #GSDM\n",
      "\n",
      "lemms: gsd google industry party tonight see u sxsw austin welivehere gsdm\n",
      "stems: gsd googl industri parti tonight see u sxsw austin weliveher gsdm\n",
      "\n",
      "original: New buzz? &quot;@mention Google to Launch Major New Social Network Called Circles, Possibly Today {link} rt @mention #sxsw&quot;\n",
      "\n",
      "lemms: new buzz google launch major new social network called circle possibly today rt sxsw\n",
      "stems: new buzz googl launch major new social network call circl possibl today rt sxsw\n",
      "\n",
      "original: Headline: &quot;#iPad 2 is the Must-Have Gadget at #SXSW&quot; Hmm... I could have seen that one coming! {link} #gadget\n",
      "\n",
      "lemms: headline ipad 2 must gadget sxsw hmm could seen one coming gadget\n",
      "stems: headlin ipad 2 must gadget sxsw hmm could seen one come gadget\n",
      "\n"
     ]
    }
   ],
   "source": [
    "for i in range(100):\n",
    "    print(f'original: {df.tweet[i]}\\n')\n",
    "    print(f'lemms: {data_clean_lemmas[i]}')\n",
    "    print(f'stems: {data_clean_stems[i]}\\n')"
   ]
  },
  {
   "cell_type": "markdown",
   "id": "00d2a453-5438-416f-b860-20cfd7ccc3ed",
   "metadata": {},
   "source": [
    "<font size=\"4\">Looks good, so we''ll add the lemmatized and stemmed tweets  to the data frame as columns.</font>"
   ]
  },
  {
   "cell_type": "code",
   "execution_count": 70,
   "id": "32b0bc27-5e7d-4b30-b495-3b04acf3d52e",
   "metadata": {},
   "outputs": [],
   "source": [
    "df['lemmas'] = data_clean_lemmas"
   ]
  },
  {
   "cell_type": "code",
   "execution_count": 71,
   "id": "2e3711da-868e-40db-b684-ab151ae9ceff",
   "metadata": {},
   "outputs": [],
   "source": [
    "df['stems'] = data_clean_stems"
   ]
  },
  {
   "cell_type": "code",
   "execution_count": 72,
   "id": "e2a3da93-f97e-4d33-99f1-97d7645ac651",
   "metadata": {},
   "outputs": [
    {
     "data": {
      "text/html": [
       "<div>\n",
       "<style scoped>\n",
       "    .dataframe tbody tr th:only-of-type {\n",
       "        vertical-align: middle;\n",
       "    }\n",
       "\n",
       "    .dataframe tbody tr th {\n",
       "        vertical-align: top;\n",
       "    }\n",
       "\n",
       "    .dataframe thead th {\n",
       "        text-align: right;\n",
       "    }\n",
       "</style>\n",
       "<table border=\"1\" class=\"dataframe\">\n",
       "  <thead>\n",
       "    <tr style=\"text-align: right;\">\n",
       "      <th></th>\n",
       "      <th>tweet</th>\n",
       "      <th>brand_product</th>\n",
       "      <th>emotion</th>\n",
       "      <th>hashtags</th>\n",
       "      <th>lemmas</th>\n",
       "      <th>stems</th>\n",
       "    </tr>\n",
       "  </thead>\n",
       "  <tbody>\n",
       "    <tr>\n",
       "      <th>0</th>\n",
       "      <td>.@wesley83 I have a 3G iPhone. After 3 hrs twe...</td>\n",
       "      <td>iPhone</td>\n",
       "      <td>Negative</td>\n",
       "      <td>[#RISE_Austin, #SXSW]</td>\n",
       "      <td>3g iphone 3 hr tweeting rise austin dead need ...</td>\n",
       "      <td>3g iphon 3 hr tweet rise austin dead need upgr...</td>\n",
       "    </tr>\n",
       "    <tr>\n",
       "      <th>1</th>\n",
       "      <td>@jessedee Know about @fludapp ? Awesome iPad/i...</td>\n",
       "      <td>iPad or iPhone App</td>\n",
       "      <td>Positive</td>\n",
       "      <td>[#SXSW]</td>\n",
       "      <td>know awesome ipad iphone app likely appreciate...</td>\n",
       "      <td>know awesom ipad iphon app like appreci design...</td>\n",
       "    </tr>\n",
       "    <tr>\n",
       "      <th>2</th>\n",
       "      <td>@swonderlin Can not wait for #iPad 2 also. The...</td>\n",
       "      <td>iPad</td>\n",
       "      <td>Positive</td>\n",
       "      <td>[#iPad, #SXSW]</td>\n",
       "      <td>wait ipad 2 also sale sxsw</td>\n",
       "      <td>wait ipad 2 also sale sxsw</td>\n",
       "    </tr>\n",
       "    <tr>\n",
       "      <th>3</th>\n",
       "      <td>@sxsw I hope this year's festival isn't as cra...</td>\n",
       "      <td>iPad or iPhone App</td>\n",
       "      <td>Negative</td>\n",
       "      <td>[#sxsw]</td>\n",
       "      <td>hope year festival crashy year iphone app sxsw</td>\n",
       "      <td>hope year festiv crashi year iphon app sxsw</td>\n",
       "    </tr>\n",
       "    <tr>\n",
       "      <th>4</th>\n",
       "      <td>@sxtxstate great stuff on Fri #SXSW: Marissa M...</td>\n",
       "      <td>Google</td>\n",
       "      <td>Positive</td>\n",
       "      <td>[#SXSW]</td>\n",
       "      <td>great stuff fri sxsw marissa mayer google tim ...</td>\n",
       "      <td>great stuff fri sxsw marissa mayer googl tim r...</td>\n",
       "    </tr>\n",
       "  </tbody>\n",
       "</table>\n",
       "</div>"
      ],
      "text/plain": [
       "                                               tweet       brand_product  \\\n",
       "0  .@wesley83 I have a 3G iPhone. After 3 hrs twe...              iPhone   \n",
       "1  @jessedee Know about @fludapp ? Awesome iPad/i...  iPad or iPhone App   \n",
       "2  @swonderlin Can not wait for #iPad 2 also. The...                iPad   \n",
       "3  @sxsw I hope this year's festival isn't as cra...  iPad or iPhone App   \n",
       "4  @sxtxstate great stuff on Fri #SXSW: Marissa M...              Google   \n",
       "\n",
       "    emotion               hashtags  \\\n",
       "0  Negative  [#RISE_Austin, #SXSW]   \n",
       "1  Positive                [#SXSW]   \n",
       "2  Positive         [#iPad, #SXSW]   \n",
       "3  Negative                [#sxsw]   \n",
       "4  Positive                [#SXSW]   \n",
       "\n",
       "                                              lemmas  \\\n",
       "0  3g iphone 3 hr tweeting rise austin dead need ...   \n",
       "1  know awesome ipad iphone app likely appreciate...   \n",
       "2                         wait ipad 2 also sale sxsw   \n",
       "3     hope year festival crashy year iphone app sxsw   \n",
       "4  great stuff fri sxsw marissa mayer google tim ...   \n",
       "\n",
       "                                               stems  \n",
       "0  3g iphon 3 hr tweet rise austin dead need upgr...  \n",
       "1  know awesom ipad iphon app like appreci design...  \n",
       "2                         wait ipad 2 also sale sxsw  \n",
       "3        hope year festiv crashi year iphon app sxsw  \n",
       "4  great stuff fri sxsw marissa mayer googl tim r...  "
      ]
     },
     "execution_count": 72,
     "metadata": {},
     "output_type": "execute_result"
    }
   ],
   "source": [
    "df.head()"
   ]
  },
  {
   "cell_type": "markdown",
   "id": "f8cc6323",
   "metadata": {},
   "source": [
    "## Making the `emotion` Target Ternary"
   ]
  },
  {
   "cell_type": "code",
   "execution_count": 73,
   "id": "cd389988-f45d-4ef6-8053-1962ed484819",
   "metadata": {},
   "outputs": [
    {
     "data": {
      "text/plain": [
       "Neutral     5372\n",
       "Positive    2968\n",
       "Negative     569\n",
       "Name: emotion, dtype: int64"
      ]
     },
     "execution_count": 73,
     "metadata": {},
     "output_type": "execute_result"
    }
   ],
   "source": [
    "df.emotion.value_counts()"
   ]
  },
  {
   "cell_type": "code",
   "execution_count": 74,
   "id": "43495d03",
   "metadata": {},
   "outputs": [],
   "source": [
    "df['emotion'] = df['emotion'].replace(['Negative',\n",
    "                                       'Positive',\n",
    "                                       'Neutral'],\n",
    "                                       [0, 1, 2])"
   ]
  },
  {
   "cell_type": "code",
   "execution_count": 75,
   "id": "d2bdc52f",
   "metadata": {},
   "outputs": [
    {
     "data": {
      "text/plain": [
       "2    5372\n",
       "1    2968\n",
       "0     569\n",
       "Name: emotion, dtype: int64"
      ]
     },
     "execution_count": 75,
     "metadata": {},
     "output_type": "execute_result"
    }
   ],
   "source": [
    "df['emotion'].value_counts()"
   ]
  },
  {
   "cell_type": "code",
   "execution_count": 76,
   "id": "05a67458-2436-41ea-9608-a14a28b33da2",
   "metadata": {
    "tags": []
   },
   "outputs": [
    {
     "data": {
      "text/html": [
       "<div>\n",
       "<style scoped>\n",
       "    .dataframe tbody tr th:only-of-type {\n",
       "        vertical-align: middle;\n",
       "    }\n",
       "\n",
       "    .dataframe tbody tr th {\n",
       "        vertical-align: top;\n",
       "    }\n",
       "\n",
       "    .dataframe thead th {\n",
       "        text-align: right;\n",
       "    }\n",
       "</style>\n",
       "<table border=\"1\" class=\"dataframe\">\n",
       "  <thead>\n",
       "    <tr style=\"text-align: right;\">\n",
       "      <th></th>\n",
       "      <th>tweet</th>\n",
       "      <th>brand_product</th>\n",
       "      <th>emotion</th>\n",
       "      <th>hashtags</th>\n",
       "      <th>lemmas</th>\n",
       "      <th>stems</th>\n",
       "    </tr>\n",
       "  </thead>\n",
       "  <tbody>\n",
       "    <tr>\n",
       "      <th>0</th>\n",
       "      <td>.@wesley83 I have a 3G iPhone. After 3 hrs twe...</td>\n",
       "      <td>iPhone</td>\n",
       "      <td>0</td>\n",
       "      <td>[#RISE_Austin, #SXSW]</td>\n",
       "      <td>3g iphone 3 hr tweeting rise austin dead need ...</td>\n",
       "      <td>3g iphon 3 hr tweet rise austin dead need upgr...</td>\n",
       "    </tr>\n",
       "    <tr>\n",
       "      <th>1</th>\n",
       "      <td>@jessedee Know about @fludapp ? Awesome iPad/i...</td>\n",
       "      <td>iPad or iPhone App</td>\n",
       "      <td>1</td>\n",
       "      <td>[#SXSW]</td>\n",
       "      <td>know awesome ipad iphone app likely appreciate...</td>\n",
       "      <td>know awesom ipad iphon app like appreci design...</td>\n",
       "    </tr>\n",
       "    <tr>\n",
       "      <th>2</th>\n",
       "      <td>@swonderlin Can not wait for #iPad 2 also. The...</td>\n",
       "      <td>iPad</td>\n",
       "      <td>1</td>\n",
       "      <td>[#iPad, #SXSW]</td>\n",
       "      <td>wait ipad 2 also sale sxsw</td>\n",
       "      <td>wait ipad 2 also sale sxsw</td>\n",
       "    </tr>\n",
       "    <tr>\n",
       "      <th>3</th>\n",
       "      <td>@sxsw I hope this year's festival isn't as cra...</td>\n",
       "      <td>iPad or iPhone App</td>\n",
       "      <td>0</td>\n",
       "      <td>[#sxsw]</td>\n",
       "      <td>hope year festival crashy year iphone app sxsw</td>\n",
       "      <td>hope year festiv crashi year iphon app sxsw</td>\n",
       "    </tr>\n",
       "    <tr>\n",
       "      <th>4</th>\n",
       "      <td>@sxtxstate great stuff on Fri #SXSW: Marissa M...</td>\n",
       "      <td>Google</td>\n",
       "      <td>1</td>\n",
       "      <td>[#SXSW]</td>\n",
       "      <td>great stuff fri sxsw marissa mayer google tim ...</td>\n",
       "      <td>great stuff fri sxsw marissa mayer googl tim r...</td>\n",
       "    </tr>\n",
       "  </tbody>\n",
       "</table>\n",
       "</div>"
      ],
      "text/plain": [
       "                                               tweet       brand_product  \\\n",
       "0  .@wesley83 I have a 3G iPhone. After 3 hrs twe...              iPhone   \n",
       "1  @jessedee Know about @fludapp ? Awesome iPad/i...  iPad or iPhone App   \n",
       "2  @swonderlin Can not wait for #iPad 2 also. The...                iPad   \n",
       "3  @sxsw I hope this year's festival isn't as cra...  iPad or iPhone App   \n",
       "4  @sxtxstate great stuff on Fri #SXSW: Marissa M...              Google   \n",
       "\n",
       "   emotion               hashtags  \\\n",
       "0        0  [#RISE_Austin, #SXSW]   \n",
       "1        1                [#SXSW]   \n",
       "2        1         [#iPad, #SXSW]   \n",
       "3        0                [#sxsw]   \n",
       "4        1                [#SXSW]   \n",
       "\n",
       "                                              lemmas  \\\n",
       "0  3g iphone 3 hr tweeting rise austin dead need ...   \n",
       "1  know awesome ipad iphone app likely appreciate...   \n",
       "2                         wait ipad 2 also sale sxsw   \n",
       "3     hope year festival crashy year iphone app sxsw   \n",
       "4  great stuff fri sxsw marissa mayer google tim ...   \n",
       "\n",
       "                                               stems  \n",
       "0  3g iphon 3 hr tweet rise austin dead need upgr...  \n",
       "1  know awesom ipad iphon app like appreci design...  \n",
       "2                         wait ipad 2 also sale sxsw  \n",
       "3        hope year festiv crashi year iphon app sxsw  \n",
       "4  great stuff fri sxsw marissa mayer googl tim r...  "
      ]
     },
     "execution_count": 76,
     "metadata": {},
     "output_type": "execute_result"
    }
   ],
   "source": [
    "df.head()"
   ]
  },
  {
   "cell_type": "markdown",
   "id": "acf912b3-148c-44be-a481-df8c99b2a1a4",
   "metadata": {},
   "source": [
    "## Moving the Target and Regularized Columns to the Front of the Data Frame"
   ]
  },
  {
   "cell_type": "code",
   "execution_count": 77,
   "id": "065ce5f7-806e-4f2b-84c7-f6f3d7f361c6",
   "metadata": {},
   "outputs": [
    {
     "data": {
      "text/html": [
       "<div>\n",
       "<style scoped>\n",
       "    .dataframe tbody tr th:only-of-type {\n",
       "        vertical-align: middle;\n",
       "    }\n",
       "\n",
       "    .dataframe tbody tr th {\n",
       "        vertical-align: top;\n",
       "    }\n",
       "\n",
       "    .dataframe thead th {\n",
       "        text-align: right;\n",
       "    }\n",
       "</style>\n",
       "<table border=\"1\" class=\"dataframe\">\n",
       "  <thead>\n",
       "    <tr style=\"text-align: right;\">\n",
       "      <th></th>\n",
       "      <th>emotion</th>\n",
       "      <th>stems</th>\n",
       "      <th>lemmas</th>\n",
       "      <th>tweet</th>\n",
       "      <th>brand_product</th>\n",
       "      <th>hashtags</th>\n",
       "    </tr>\n",
       "  </thead>\n",
       "  <tbody>\n",
       "    <tr>\n",
       "      <th>0</th>\n",
       "      <td>0</td>\n",
       "      <td>3g iphon 3 hr tweet rise austin dead need upgr...</td>\n",
       "      <td>3g iphone 3 hr tweeting rise austin dead need ...</td>\n",
       "      <td>.@wesley83 I have a 3G iPhone. After 3 hrs twe...</td>\n",
       "      <td>iPhone</td>\n",
       "      <td>[#RISE_Austin, #SXSW]</td>\n",
       "    </tr>\n",
       "    <tr>\n",
       "      <th>1</th>\n",
       "      <td>1</td>\n",
       "      <td>know awesom ipad iphon app like appreci design...</td>\n",
       "      <td>know awesome ipad iphone app likely appreciate...</td>\n",
       "      <td>@jessedee Know about @fludapp ? Awesome iPad/i...</td>\n",
       "      <td>iPad or iPhone App</td>\n",
       "      <td>[#SXSW]</td>\n",
       "    </tr>\n",
       "    <tr>\n",
       "      <th>2</th>\n",
       "      <td>1</td>\n",
       "      <td>wait ipad 2 also sale sxsw</td>\n",
       "      <td>wait ipad 2 also sale sxsw</td>\n",
       "      <td>@swonderlin Can not wait for #iPad 2 also. The...</td>\n",
       "      <td>iPad</td>\n",
       "      <td>[#iPad, #SXSW]</td>\n",
       "    </tr>\n",
       "    <tr>\n",
       "      <th>3</th>\n",
       "      <td>0</td>\n",
       "      <td>hope year festiv crashi year iphon app sxsw</td>\n",
       "      <td>hope year festival crashy year iphone app sxsw</td>\n",
       "      <td>@sxsw I hope this year's festival isn't as cra...</td>\n",
       "      <td>iPad or iPhone App</td>\n",
       "      <td>[#sxsw]</td>\n",
       "    </tr>\n",
       "    <tr>\n",
       "      <th>4</th>\n",
       "      <td>1</td>\n",
       "      <td>great stuff fri sxsw marissa mayer googl tim r...</td>\n",
       "      <td>great stuff fri sxsw marissa mayer google tim ...</td>\n",
       "      <td>@sxtxstate great stuff on Fri #SXSW: Marissa M...</td>\n",
       "      <td>Google</td>\n",
       "      <td>[#SXSW]</td>\n",
       "    </tr>\n",
       "  </tbody>\n",
       "</table>\n",
       "</div>"
      ],
      "text/plain": [
       "   emotion                                              stems  \\\n",
       "0        0  3g iphon 3 hr tweet rise austin dead need upgr...   \n",
       "1        1  know awesom ipad iphon app like appreci design...   \n",
       "2        1                         wait ipad 2 also sale sxsw   \n",
       "3        0        hope year festiv crashi year iphon app sxsw   \n",
       "4        1  great stuff fri sxsw marissa mayer googl tim r...   \n",
       "\n",
       "                                              lemmas  \\\n",
       "0  3g iphone 3 hr tweeting rise austin dead need ...   \n",
       "1  know awesome ipad iphone app likely appreciate...   \n",
       "2                         wait ipad 2 also sale sxsw   \n",
       "3     hope year festival crashy year iphone app sxsw   \n",
       "4  great stuff fri sxsw marissa mayer google tim ...   \n",
       "\n",
       "                                               tweet       brand_product  \\\n",
       "0  .@wesley83 I have a 3G iPhone. After 3 hrs twe...              iPhone   \n",
       "1  @jessedee Know about @fludapp ? Awesome iPad/i...  iPad or iPhone App   \n",
       "2  @swonderlin Can not wait for #iPad 2 also. The...                iPad   \n",
       "3  @sxsw I hope this year's festival isn't as cra...  iPad or iPhone App   \n",
       "4  @sxtxstate great stuff on Fri #SXSW: Marissa M...              Google   \n",
       "\n",
       "                hashtags  \n",
       "0  [#RISE_Austin, #SXSW]  \n",
       "1                [#SXSW]  \n",
       "2         [#iPad, #SXSW]  \n",
       "3                [#sxsw]  \n",
       "4                [#SXSW]  "
      ]
     },
     "execution_count": 77,
     "metadata": {},
     "output_type": "execute_result"
    }
   ],
   "source": [
    "cols = ['lemmas', 'stems', 'emotion']\n",
    "\n",
    "for col in cols:\n",
    "    c = df.pop(col)\n",
    "    df.insert(0, col, c)\n",
    "df.head()"
   ]
  },
  {
   "cell_type": "markdown",
   "id": "3a05aa78-342d-4320-ac42-9143dc171a53",
   "metadata": {},
   "source": [
    "## Exporting the Ternary Data for Modeling"
   ]
  },
  {
   "cell_type": "code",
   "execution_count": 78,
   "id": "da19fe99-432a-462b-9170-acdc17b4d4f9",
   "metadata": {},
   "outputs": [],
   "source": [
    "# path = os.path.join(gparent, 'data/processed', 'modeling_ternary.csv')\n",
    "# df.to_csv(path, index=False)"
   ]
  },
  {
   "cell_type": "markdown",
   "id": "38ce8b1f-4653-410a-a831-0ffbc705fb0e",
   "metadata": {},
   "source": [
    "## EDA on Clean, Regularized Data"
   ]
  },
  {
   "cell_type": "markdown",
   "id": "3a6eeeb9-3d10-4c40-976d-b9805ba06b91",
   "metadata": {},
   "source": [
    "## Frequency Distributions of Raw vs Cleaned Data"
   ]
  },
  {
   "cell_type": "markdown",
   "id": "d8a7f912-6f62-4b67-93dd-5ff0f0090853",
   "metadata": {},
   "source": [
    "#### Raw Data"
   ]
  },
  {
   "cell_type": "code",
   "execution_count": 79,
   "id": "7eb240d0-14c3-4a18-948e-8053fdf46f45",
   "metadata": {},
   "outputs": [
    {
     "name": "stdout",
     "output_type": "stream",
     "text": [
      "Word \t\t\tFrequency\n",
      "\n",
      "sxsw      \t\t0.0843    \n",
      "mention   \t\t0.0625    \n",
      "link      \t\t0.0379    \n",
      "rt        \t\t0.026     \n",
      "google    \t\t0.0232    \n",
      "ipad      \t\t0.0221    \n",
      "apple     \t\t0.0205    \n",
      "quot      \t\t0.0148    \n",
      "iphone    \t\t0.0138    \n",
      "store     \t\t0.0131    \n",
      "2         \t\t0.0105    \n",
      "new       \t\t0.0096    \n",
      "austin    \t\t0.0085    \n",
      "amp       \t\t0.0074    \n",
      "app       \t\t0.0073    \n",
      "social    \t\t0.0058    \n",
      "circles   \t\t0.0058    \n",
      "launch    \t\t0.0057    \n",
      "android   \t\t0.0053    \n",
      "pop       \t\t0.0052    \n",
      "today     \t\t0.0051    \n",
      "ipad2     \t\t0.0041    \n",
      "network   \t\t0.004     \n",
      "via       \t\t0.0038    \n",
      "line      \t\t0.0036    \n",
      "get       \t\t0.0035    \n",
      "free      \t\t0.0035    \n",
      "party     \t\t0.0031    \n",
      "called    \t\t0.0031    \n",
      "mobile    \t\t0.0031    \n"
     ]
    }
   ],
   "source": [
    "fn.word_frequencies(df.tweet, 30)"
   ]
  },
  {
   "cell_type": "code",
   "execution_count": 80,
   "id": "f000361d-3033-4fc0-b085-88fd0817a59f",
   "metadata": {},
   "outputs": [
    {
     "data": {
      "image/png": "[encoded data removed]",
      "text/plain": [
       "<Figure size 1080x504 with 1 Axes>"
      ]
     },
     "metadata": {},
     "output_type": "display_data"
    }
   ],
   "source": [
    "raw_words = fn.words(df.tweet)\n",
    "vz.top_word_list(raw_words, 25)"
   ]
  },
  {
   "cell_type": "markdown",
   "id": "9888fe34-b751-43ab-aea5-8bbe1628a3da",
   "metadata": {},
   "source": [
    "<font size=\"4\"> SXSW is by far the most prevalent value, and we can see the 4 out of the top 5 words are unrelated to the relevant brands.</font>"
   ]
  },
  {
   "cell_type": "markdown",
   "id": "7b693852-3b41-4707-9ca1-a03941f08a1b",
   "metadata": {},
   "source": [
    "#### Lemmatized Data"
   ]
  },
  {
   "cell_type": "code",
   "execution_count": 81,
   "id": "3a5bc4cd-b243-4e2c-85ba-5622dea5a62a",
   "metadata": {},
   "outputs": [
    {
     "name": "stdout",
     "output_type": "stream",
     "text": [
      "Word \t\t\tFrequency\n",
      "\n",
      "sxsw      \t\t0.0993    \n",
      "google    \t\t0.0273    \n",
      "ipad      \t\t0.0261    \n",
      "apple     \t\t0.0242    \n",
      "iphone    \t\t0.0163    \n",
      "store     \t\t0.0158    \n",
      "2         \t\t0.0127    \n",
      "new       \t\t0.0113    \n",
      "austin    \t\t0.0101    \n",
      "app       \t\t0.0086    \n",
      "launch    \t\t0.0071    \n",
      "circle    \t\t0.007     \n",
      "social    \t\t0.0068    \n",
      "android   \t\t0.0062    \n",
      "pop       \t\t0.0062    \n",
      "today     \t\t0.006     \n",
      "network   \t\t0.0048    \n",
      "ipad2     \t\t0.0048    \n",
      "get       \t\t0.0048    \n",
      "line      \t\t0.0046    \n",
      "via       \t\t0.0045    \n",
      "party     \t\t0.0042    \n",
      "free      \t\t0.0041    \n",
      "mobile    \t\t0.0037    \n",
      "called    \t\t0.0036    \n"
     ]
    }
   ],
   "source": [
    "fn.word_frequencies(df.lemmas, 25)"
   ]
  },
  {
   "cell_type": "code",
   "execution_count": 82,
   "id": "1c1c71e6-abf2-43d1-b68d-e0ca8e989fb4",
   "metadata": {},
   "outputs": [
    {
     "data": {
      "image/png": "[encoded data removed]",
      "text/plain": [
       "<Figure size 1080x504 with 1 Axes>"
      ]
     },
     "metadata": {},
     "output_type": "display_data"
    }
   ],
   "source": [
    "lemm_words = fn.words(df.lemmas)\n",
    "vz.top_word_list(lemm_words, 25)"
   ]
  },
  {
   "cell_type": "markdown",
   "id": "fab82416-e83a-4f66-a1ff-b516e0d98bbe",
   "metadata": {},
   "source": [
    "<font size=\"4\"> SXSW still predominates, but the other 4 in the top 5 are now relevant to the brands.</font>"
   ]
  },
  {
   "cell_type": "markdown",
   "id": "387c406e-6d66-4d52-abe4-5aaeea7334cf",
   "metadata": {},
   "source": [
    "#### Stemmed Data"
   ]
  },
  {
   "cell_type": "code",
   "execution_count": 83,
   "id": "3bd07300-ac5c-4d4c-a26f-acf0ac9b172e",
   "metadata": {},
   "outputs": [
    {
     "name": "stdout",
     "output_type": "stream",
     "text": [
      "Word \t\t\tFrequency\n",
      "\n",
      "sxsw      \t\t0.0994    \n",
      "googl     \t\t0.0274    \n",
      "ipad      \t\t0.027     \n",
      "appl      \t\t0.0242    \n",
      "iphon     \t\t0.0164    \n",
      "store     \t\t0.0159    \n",
      "2         \t\t0.0124    \n",
      "new       \t\t0.0113    \n",
      "app       \t\t0.011     \n",
      "austin    \t\t0.0101    \n",
      "launch    \t\t0.0087    \n",
      "circl     \t\t0.007     \n",
      "social    \t\t0.0069    \n",
      "pop       \t\t0.0063    \n",
      "android   \t\t0.0062    \n",
      "today     \t\t0.006     \n",
      "open      \t\t0.0056    \n",
      "get       \t\t0.0056    \n",
      "network   \t\t0.005     \n",
      "ipad2     \t\t0.005     \n",
      "line      \t\t0.0048    \n",
      "via       \t\t0.0045    \n",
      "go        \t\t0.0044    \n",
      "parti     \t\t0.0042    \n",
      "free      \t\t0.0041    \n"
     ]
    }
   ],
   "source": [
    "fn.word_frequencies(df.stems, 25)"
   ]
  },
  {
   "cell_type": "code",
   "execution_count": 84,
   "id": "bba05e0f-0047-49e5-8bc9-b31ce4a50824",
   "metadata": {},
   "outputs": [
    {
     "data": {
      "image/png": "[encoded data removed]",
      "text/plain": [
       "<Figure size 1080x504 with 1 Axes>"
      ]
     },
     "metadata": {},
     "output_type": "display_data"
    }
   ],
   "source": [
    "stem_words = fn.words(df.stems)\n",
    "vz.top_word_list(stem_words, 25)"
   ]
  },
  {
   "cell_type": "markdown",
   "id": "4da72856-07fe-4572-ac31-840553cf8037",
   "metadata": {},
   "source": [
    "<font size=\"4\"> Again, SXSW dominates, but the rest of the top 4 relate to the relevant brands.</font>"
   ]
  },
  {
   "cell_type": "markdown",
   "id": "e012451f",
   "metadata": {},
   "source": [
    "## Vocabularies"
   ]
  },
  {
   "cell_type": "markdown",
   "id": "d091a8c6",
   "metadata": {},
   "source": [
    "#### Lemmas Vocabulary"
   ]
  },
  {
   "cell_type": "code",
   "execution_count": 85,
   "id": "8676eac3-83fb-4f68-bdb1-dbd7b711efd1",
   "metadata": {
    "tags": []
   },
   "outputs": [],
   "source": [
    "lemma_vocab = fn.vocabulary(data_clean_lemmas)"
   ]
  },
  {
   "cell_type": "code",
   "execution_count": 86,
   "id": "0f6dcd10",
   "metadata": {},
   "outputs": [
    {
     "data": {
      "text/plain": [
       "8636"
      ]
     },
     "execution_count": 86,
     "metadata": {},
     "output_type": "execute_result"
    }
   ],
   "source": [
    "# checking number of words\n",
    "len(lemma_vocab)"
   ]
  },
  {
   "cell_type": "code",
   "execution_count": 87,
   "id": "45c9659d",
   "metadata": {
    "scrolled": true,
    "tags": []
   },
   "outputs": [
    {
     "name": "stdout",
     "output_type": "stream",
     "text": [
      "zynga\n",
      "pub\n",
      "ipads\n",
      "localmind\n",
      "iear\n",
      "functionality\n",
      "pst\n",
      "liveley\n",
      "salon\n",
      "chasing\n",
      "tonchidot\n",
      "intel\n",
      "industrialdesign\n",
      "tonigh\n",
      "geeksrule\n",
      "ripping\n",
      "futureofed\n",
      "yr\n",
      "occasion\n",
      "living\n",
      "synced\n",
      "popplet\n",
      "topicality\n",
      "heart\n",
      "cop\n",
      "psfk\n",
      "uploaded\n",
      "pledge\n",
      "standard\n",
      "sapo\n",
      "mymom\n",
      "versione\n",
      "4\n",
      "msusxsw\n",
      "unpaid\n",
      "cup\n",
      "och\n",
      "tahoe\n",
      "articulate\n",
      "4sqchat\n",
      "begin\n",
      "publicly\n",
      "icenhaur\n",
      "man\n",
      "merchant\n",
      "spasmatics\n",
      "clover\n",
      "yet\n",
      "la\n",
      "story\n",
      "providing\n",
      "cheapen\n",
      "source\n",
      "gamesalad\n",
      "parra\n",
      "copper\n",
      "twit\n",
      "rendering\n",
      "istock\n",
      "customized\n",
      "somehow\n",
      "chair\n",
      "interoperability\n",
      "lb\n",
      "initiate\n",
      "web3\n",
      "startupbus\n",
      "hopefully\n",
      "spreadsheet\n",
      "mag\n",
      "fuckyeah\n",
      "slightly\n",
      "exploring\n",
      "evan\n",
      "outoftheloop\n",
      "proper\n",
      "summary\n",
      "sheeple\n",
      "artistic\n",
      "microformats\n",
      "worm\n",
      "consumption\n",
      "gsd\n",
      "cera\n",
      "sqft\n",
      "tokii\n",
      "12\n",
      "ultimate\n",
      "setup\n",
      "detect\n",
      "carpet\n",
      "8800\n",
      "ie\n",
      "stuck\n",
      "mindtouchers\n",
      "publicradio\n",
      "part\n",
      "fine\n",
      "i7\n",
      "mixtape\n"
     ]
    }
   ],
   "source": [
    "# first 100 words\n",
    "for i, val in enumerate(itertools.islice(lemma_vocab, 100)):\n",
    "    print(val)"
   ]
  },
  {
   "cell_type": "code",
   "execution_count": 88,
   "id": "e34a5b49",
   "metadata": {
    "scrolled": true,
    "tags": []
   },
   "outputs": [
    {
     "name": "stdout",
     "output_type": "stream",
     "text": [
      "familiarize\n",
      "ifr3dw\n",
      "also\n",
      "angrybirds\n",
      "medium\n",
      "donut\n",
      "clone\n",
      "download\n",
      "sack\n",
      "43\n",
      "analytics\n",
      "relatable\n",
      "kit\n",
      "guess\n",
      "tiny\n",
      "removable\n",
      "pulse\n",
      "investor\n",
      "shy\n",
      "challenged\n",
      "omega\n",
      "ausxsw\n",
      "activate\n",
      "ben\n",
      "liked\n",
      "parenthesis\n",
      "unconvinced\n",
      "acceptable\n",
      "anymore\n",
      "lucky\n",
      "tamale\n",
      "idea\n",
      "pull\n",
      "lowest\n",
      "dwindling\n",
      "gatorade\n",
      "respectfully\n",
      "expand\n",
      "booya\n",
      "gaga\n",
      "shame\n",
      "barton\n",
      "character\n",
      "bluezoom\n",
      "unexpected\n",
      "searchable\n",
      "payitforward\n",
      "install\n",
      "portion\n",
      "90\n",
      "compilation\n",
      "choose\n",
      "dslr\n",
      "transitapps\n",
      "rm\n",
      "dog\n",
      "pump\n",
      "flypost\n",
      "turnstone\n",
      "evri\n",
      "prime\n",
      "andoid\n",
      "ate\n",
      "grew\n",
      "disagree\n",
      "dope\n",
      "austinwins\n",
      "hype\n",
      "tme\n",
      "svcs\n",
      "puregenius\n",
      "bajillions\n",
      "headset\n",
      "responsibility\n",
      "qualifies\n",
      "globalbestaward\n",
      "overall\n",
      "sim\n",
      "futureofed\n",
      "confusion\n",
      "toe\n",
      "gap\n",
      "acknowledge\n",
      "circle\n",
      "605\n",
      "11pm\n",
      "clock\n",
      "nfb\n",
      "within\n",
      "imparted\n",
      "context\n",
      "void\n",
      "18\n",
      "stealing\n",
      "win\n",
      "protection\n",
      "employee\n",
      "wonderful\n",
      "bemyneighbor\n",
      "strum\n"
     ]
    }
   ],
   "source": [
    "# random 100 words\n",
    "for i, val in enumerate(random.sample(lemma_vocab, 100)):\n",
    "    print(val)"
   ]
  },
  {
   "cell_type": "code",
   "execution_count": 89,
   "id": "8022a4da",
   "metadata": {},
   "outputs": [
    {
     "name": "stdout",
     "output_type": "stream",
     "text": [
      "string is not in data\n",
      "string is in data\n"
     ]
    }
   ],
   "source": [
    "fn.string_checker(lemma_vocab, 'https')\n",
    "fn.string_checker(lemma_vocab, 'madebymany')"
   ]
  },
  {
   "cell_type": "markdown",
   "id": "eb853d77",
   "metadata": {},
   "source": [
    "#### Stems Vocabulary"
   ]
  },
  {
   "cell_type": "code",
   "execution_count": 90,
   "id": "37939377-f752-4eed-821b-6f7ca0429e7a",
   "metadata": {},
   "outputs": [],
   "source": [
    "stemma_vocab = fn.vocabulary(data_clean_stems)"
   ]
  },
  {
   "cell_type": "code",
   "execution_count": 91,
   "id": "948dac3c",
   "metadata": {},
   "outputs": [
    {
     "data": {
      "text/plain": [
       "7342"
      ]
     },
     "execution_count": 91,
     "metadata": {},
     "output_type": "execute_result"
    }
   ],
   "source": [
    "# number of words\n",
    "len(stemma_vocab)"
   ]
  },
  {
   "cell_type": "code",
   "execution_count": 92,
   "id": "c093e75d",
   "metadata": {
    "scrolled": true,
    "tags": []
   },
   "outputs": [
    {
     "name": "stdout",
     "output_type": "stream",
     "text": [
      "zynga\n",
      "pub\n",
      "localmind\n",
      "iear\n",
      "pst\n",
      "liveley\n",
      "salon\n",
      "tonchidot\n",
      "intel\n",
      "industrialdesign\n",
      "tonigh\n",
      "yr\n",
      "occasion\n",
      "popplet\n",
      "bu\n",
      "heart\n",
      "cop\n",
      "psfk\n",
      "proce\n",
      "standard\n",
      "sapo\n",
      "mymom\n",
      "laker\n",
      "pictionari\n",
      "4\n",
      "appropri\n",
      "exactli\n",
      "msusxsw\n",
      "unpaid\n",
      "cup\n",
      "och\n",
      "4sqchat\n",
      "begin\n",
      "icenhaur\n",
      "man\n",
      "merchant\n",
      "clover\n",
      "yet\n",
      "la\n",
      "disgrac\n",
      "crashi\n",
      "dotright\n",
      "cheapen\n",
      "gamesalad\n",
      "parra\n",
      "copper\n",
      "twit\n",
      "gadgetenvi\n",
      "istock\n",
      "somehow\n",
      "chair\n",
      "lb\n",
      "reportedli\n",
      "web3\n",
      "austinj\n",
      "spreadsheet\n",
      "mag\n",
      "fuckyeah\n",
      "ungrat\n",
      "outoftheloop\n",
      "evan\n",
      "proper\n",
      "worm\n",
      "singl\n",
      "gsd\n",
      "cera\n",
      "sqft\n",
      "tokii\n",
      "12\n",
      "setup\n",
      "detect\n",
      "carpet\n",
      "8800\n",
      "ie\n",
      "coffe\n",
      "tronlegaci\n",
      "stuck\n",
      "publicradio\n",
      "part\n",
      "fine\n",
      "mindshar\n",
      "ramp\n",
      "i7\n",
      "moot\n",
      "pvhous\n",
      "cocoon\n",
      "thirsti\n",
      "000\n",
      "drumbeat\n",
      "refer\n",
      "wilt\n",
      "tnx\n",
      "wild\n",
      "hunt\n",
      "stabil\n",
      "vast\n",
      "dan\n",
      "persist\n",
      "musicviz\n",
      "eg\n"
     ]
    }
   ],
   "source": [
    "# first 100 words\n",
    "for i, val in enumerate(itertools.islice(stemma_vocab, 100)):\n",
    "    print(val)"
   ]
  },
  {
   "cell_type": "code",
   "execution_count": 93,
   "id": "fe874f54",
   "metadata": {
    "scrolled": true,
    "tags": []
   },
   "outputs": [
    {
     "name": "stdout",
     "output_type": "stream",
     "text": [
      "jr\n",
      "richard\n",
      "sight\n",
      "2rd\n",
      "lt\n",
      "jinx\n",
      "thanksforthebrandedshad\n",
      "would\n",
      "angrybird\n",
      "wannab\n",
      "contribut\n",
      "cynic\n",
      "eurorscg\n",
      "learnt\n",
      "mania\n",
      "donkey\n",
      "darknet\n",
      "dongl\n",
      "bettercloud\n",
      "elonsxsw\n",
      "141st\n",
      "guilti\n",
      "punchout\n",
      "xplat\n",
      "amismarternow\n",
      "power\n",
      "ahold\n",
      "hyatt\n",
      "natur\n",
      "bro\n",
      "window\n",
      "spazzmat\n",
      "klick\n",
      "umm\n",
      "attn\n",
      "samsungsxsw\n",
      "achiev\n",
      "flip\n",
      "smarter\n",
      "layar\n",
      "keepingupwithdkm\n",
      "fuckit\n",
      "smoke\n",
      "surgeri\n",
      "thoma\n",
      "checkout\n",
      "ver\n",
      "franken\n",
      "darn\n",
      "swimsuit\n",
      "gabacustweet\n",
      "at038t\n",
      "finder\n",
      "cup\n",
      "pluck\n",
      "fewer\n",
      "dawg\n",
      "bio\n",
      "revamp\n",
      "virtualwallet\n",
      "glass\n",
      "douch\n",
      "net\n",
      "issu\n",
      "icross\n",
      "hannukah\n",
      "main\n",
      "suggest\n",
      "lanyrd\n",
      "cnn\n",
      "sundayswagg\n",
      "succeed\n",
      "io\n",
      "woefulli\n",
      "advis\n",
      "leg\n",
      "e\n",
      "commun\n",
      "beechwood\n",
      "milyoni\n",
      "diari\n",
      "parakeet\n",
      "hollrback\n",
      "96\n",
      "childish\n",
      "condesa\n",
      "mock\n",
      "ambl\n",
      "harhar\n",
      "htxsw\n",
      "regular\n",
      "superbia\n",
      "view\n",
      "tablet\n",
      "rechristen\n",
      "exploit\n",
      "song\n",
      "comm\n",
      "dwell\n",
      "b4\n"
     ]
    }
   ],
   "source": [
    "# random 100 words\n",
    "for i, val in enumerate(random.sample(stemma_vocab, 100)):\n",
    "    print(val)"
   ]
  },
  {
   "cell_type": "code",
   "execution_count": 94,
   "id": "5fe216a2",
   "metadata": {},
   "outputs": [
    {
     "name": "stdout",
     "output_type": "stream",
     "text": [
      "string is not in data\n",
      "string is not in data\n"
     ]
    }
   ],
   "source": [
    "fn.string_checker(stemma_vocab, 'https')\n",
    "fn.string_checker(stemma_vocab, 'madebymany')"
   ]
  },
  {
   "cell_type": "markdown",
   "id": "28f36471",
   "metadata": {},
   "source": [
    "## Filtering Down to Binary Target Data\n",
    "<font size=\"4\"> We want to develop a viable binary classification model first, and then, if time permits, expand it to a ternary model.  Thus, we will filter the data down to rows with positive or negative sentiment.</font>"
   ]
  },
  {
   "cell_type": "code",
   "execution_count": 95,
   "id": "a73f6103",
   "metadata": {},
   "outputs": [],
   "source": [
    "# filtering\n",
    "binary_data = df[(df['emotion'] == 0) |\\\n",
    "                 (df['emotion'] == 1)].copy()"
   ]
  },
  {
   "cell_type": "code",
   "execution_count": 96,
   "id": "bb803553",
   "metadata": {},
   "outputs": [],
   "source": [
    "# resetting the index\n",
    "binary_data.reset_index(drop=True, inplace=True)"
   ]
  },
  {
   "cell_type": "code",
   "execution_count": 97,
   "id": "f3c811d7",
   "metadata": {},
   "outputs": [
    {
     "data": {
      "text/html": [
       "<div>\n",
       "<style scoped>\n",
       "    .dataframe tbody tr th:only-of-type {\n",
       "        vertical-align: middle;\n",
       "    }\n",
       "\n",
       "    .dataframe tbody tr th {\n",
       "        vertical-align: top;\n",
       "    }\n",
       "\n",
       "    .dataframe thead th {\n",
       "        text-align: right;\n",
       "    }\n",
       "</style>\n",
       "<table border=\"1\" class=\"dataframe\">\n",
       "  <thead>\n",
       "    <tr style=\"text-align: right;\">\n",
       "      <th></th>\n",
       "      <th>emotion</th>\n",
       "      <th>stems</th>\n",
       "      <th>lemmas</th>\n",
       "      <th>tweet</th>\n",
       "      <th>brand_product</th>\n",
       "      <th>hashtags</th>\n",
       "    </tr>\n",
       "  </thead>\n",
       "  <tbody>\n",
       "    <tr>\n",
       "      <th>0</th>\n",
       "      <td>0</td>\n",
       "      <td>3g iphon 3 hr tweet rise austin dead need upgr...</td>\n",
       "      <td>3g iphone 3 hr tweeting rise austin dead need ...</td>\n",
       "      <td>.@wesley83 I have a 3G iPhone. After 3 hrs twe...</td>\n",
       "      <td>iPhone</td>\n",
       "      <td>[#RISE_Austin, #SXSW]</td>\n",
       "    </tr>\n",
       "    <tr>\n",
       "      <th>1</th>\n",
       "      <td>1</td>\n",
       "      <td>know awesom ipad iphon app like appreci design...</td>\n",
       "      <td>know awesome ipad iphone app likely appreciate...</td>\n",
       "      <td>@jessedee Know about @fludapp ? Awesome iPad/i...</td>\n",
       "      <td>iPad or iPhone App</td>\n",
       "      <td>[#SXSW]</td>\n",
       "    </tr>\n",
       "    <tr>\n",
       "      <th>2</th>\n",
       "      <td>1</td>\n",
       "      <td>wait ipad 2 also sale sxsw</td>\n",
       "      <td>wait ipad 2 also sale sxsw</td>\n",
       "      <td>@swonderlin Can not wait for #iPad 2 also. The...</td>\n",
       "      <td>iPad</td>\n",
       "      <td>[#iPad, #SXSW]</td>\n",
       "    </tr>\n",
       "    <tr>\n",
       "      <th>3</th>\n",
       "      <td>0</td>\n",
       "      <td>hope year festiv crashi year iphon app sxsw</td>\n",
       "      <td>hope year festival crashy year iphone app sxsw</td>\n",
       "      <td>@sxsw I hope this year's festival isn't as cra...</td>\n",
       "      <td>iPad or iPhone App</td>\n",
       "      <td>[#sxsw]</td>\n",
       "    </tr>\n",
       "    <tr>\n",
       "      <th>4</th>\n",
       "      <td>1</td>\n",
       "      <td>great stuff fri sxsw marissa mayer googl tim r...</td>\n",
       "      <td>great stuff fri sxsw marissa mayer google tim ...</td>\n",
       "      <td>@sxtxstate great stuff on Fri #SXSW: Marissa M...</td>\n",
       "      <td>Google</td>\n",
       "      <td>[#SXSW]</td>\n",
       "    </tr>\n",
       "  </tbody>\n",
       "</table>\n",
       "</div>"
      ],
      "text/plain": [
       "   emotion                                              stems  \\\n",
       "0        0  3g iphon 3 hr tweet rise austin dead need upgr...   \n",
       "1        1  know awesom ipad iphon app like appreci design...   \n",
       "2        1                         wait ipad 2 also sale sxsw   \n",
       "3        0        hope year festiv crashi year iphon app sxsw   \n",
       "4        1  great stuff fri sxsw marissa mayer googl tim r...   \n",
       "\n",
       "                                              lemmas  \\\n",
       "0  3g iphone 3 hr tweeting rise austin dead need ...   \n",
       "1  know awesome ipad iphone app likely appreciate...   \n",
       "2                         wait ipad 2 also sale sxsw   \n",
       "3     hope year festival crashy year iphone app sxsw   \n",
       "4  great stuff fri sxsw marissa mayer google tim ...   \n",
       "\n",
       "                                               tweet       brand_product  \\\n",
       "0  .@wesley83 I have a 3G iPhone. After 3 hrs twe...              iPhone   \n",
       "1  @jessedee Know about @fludapp ? Awesome iPad/i...  iPad or iPhone App   \n",
       "2  @swonderlin Can not wait for #iPad 2 also. The...                iPad   \n",
       "3  @sxsw I hope this year's festival isn't as cra...  iPad or iPhone App   \n",
       "4  @sxtxstate great stuff on Fri #SXSW: Marissa M...              Google   \n",
       "\n",
       "                hashtags  \n",
       "0  [#RISE_Austin, #SXSW]  \n",
       "1                [#SXSW]  \n",
       "2         [#iPad, #SXSW]  \n",
       "3                [#sxsw]  \n",
       "4                [#SXSW]  "
      ]
     },
     "execution_count": 97,
     "metadata": {},
     "output_type": "execute_result"
    }
   ],
   "source": [
    "# checking the first five rows\n",
    "binary_data.head()"
   ]
  },
  {
   "cell_type": "code",
   "execution_count": 98,
   "id": "c4e62f60",
   "metadata": {},
   "outputs": [
    {
     "name": "stdout",
     "output_type": "stream",
     "text": [
      "<class 'pandas.core.frame.DataFrame'>\n",
      "RangeIndex: 3537 entries, 0 to 3536\n",
      "Data columns (total 6 columns):\n",
      " #   Column         Non-Null Count  Dtype \n",
      "---  ------         --------------  ----- \n",
      " 0   emotion        3537 non-null   int64 \n",
      " 1   stems          3537 non-null   object\n",
      " 2   lemmas         3537 non-null   object\n",
      " 3   tweet          3537 non-null   object\n",
      " 4   brand_product  3180 non-null   object\n",
      " 5   hashtags       3531 non-null   object\n",
      "dtypes: int64(1), object(5)\n",
      "memory usage: 165.9+ KB\n"
     ]
    }
   ],
   "source": [
    "# checking the info\n",
    "binary_data.info()"
   ]
  },
  {
   "cell_type": "code",
   "execution_count": 99,
   "id": "7f8a9ee1",
   "metadata": {
    "tags": []
   },
   "outputs": [
    {
     "data": {
      "text/plain": [
       "emotion            0\n",
       "stems              0\n",
       "lemmas             0\n",
       "tweet              0\n",
       "brand_product    357\n",
       "hashtags           6\n",
       "dtype: int64"
      ]
     },
     "execution_count": 99,
     "metadata": {},
     "output_type": "execute_result"
    }
   ],
   "source": [
    "# checking for nulls\n",
    "binary_data.isna().sum()"
   ]
  },
  {
   "cell_type": "code",
   "execution_count": 100,
   "id": "46140183",
   "metadata": {},
   "outputs": [
    {
     "data": {
      "text/plain": [
       "1    2968\n",
       "0     569\n",
       "Name: emotion, dtype: int64"
      ]
     },
     "execution_count": 100,
     "metadata": {},
     "output_type": "execute_result"
    }
   ],
   "source": [
    "# checking the value counts\n",
    "binary_data['emotion'].value_counts()"
   ]
  },
  {
   "cell_type": "markdown",
   "id": "acd28e48",
   "metadata": {},
   "source": [
    "## Exporting the Binary Data for Modeling"
   ]
  },
  {
   "cell_type": "code",
   "execution_count": 101,
   "id": "ad627dbe-4189-4fe0-ac42-4a4527052415",
   "metadata": {},
   "outputs": [],
   "source": [
    "# path = os.path.join(gparent, 'data/processed', 'modeling_binary.csv')\n",
    "# binary_data.to_csv(path, index=False)"
   ]
  },
  {
   "cell_type": "code",
   "execution_count": null,
   "id": "6c483768-a520-42dd-864d-dc23d0b5485c",
   "metadata": {},
   "outputs": [],
   "source": []
  }
 ],
 "metadata": {
  "kernelspec": {
   "display_name": "nlp_project",
   "language": "python",
   "name": "nlp_project"
  },
  "language_info": {
   "codemirror_mode": {
    "name": "ipython",
    "version": 3
   },
   "file_extension": ".py",
   "mimetype": "text/x-python",
   "name": "python",
   "nbconvert_exporter": "python",
   "pygments_lexer": "ipython3",
   "version": "3.8.5"
  }
 },
 "nbformat": 4,
 "nbformat_minor": 5
}
