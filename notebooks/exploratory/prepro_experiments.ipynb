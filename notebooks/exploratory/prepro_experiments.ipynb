{
 "cells": [
  {
   "cell_type": "code",
   "execution_count": 1,
   "id": "67ca021e-d54a-4ebe-bc8d-c2ddc4d4171c",
   "metadata": {},
   "outputs": [],
   "source": [
    "%load_ext autoreload\n",
    "%autoreload 2"
   ]
  },
  {
   "cell_type": "markdown",
   "id": "9ed6caf3-cfff-4b57-9e5b-a26c1432e93b",
   "metadata": {},
   "source": [
    "## Importing & Setting Style"
   ]
  },
  {
   "cell_type": "code",
   "execution_count": 169,
   "id": "3020f4c8-a51a-4996-9c0d-566da8377132",
   "metadata": {},
   "outputs": [],
   "source": [
    "# imports\n",
    "import os, sys, string, re, itertools, random\n",
    "\n",
    "# setting project path\n",
    "gparent = os.path.join(os.pardir, os.pardir)\n",
    "sys.path.append(gparent)\n",
    "\n",
    "import pandas as pd\n",
    "import numpy as np\n",
    "\n",
    "import nltk\n",
    "\n",
    "from nltk.probability import FreqDist\n",
    "from nltk.corpus import stopwords\n",
    "from nltk.stem import PorterStemmer, WordNetLemmatizer\n",
    "from nltk.tokenize import RegexpTokenizer\n",
    "\n",
    "# # updates for nltk helper packages\n",
    "# nltk.download('stopwords')\n",
    "# nltk.download('punkt')\n",
    "# nltk.download('wordnet')\n",
    "\n",
    "import matplotlib.pyplot as plt\n",
    "from matplotlib import cm\n",
    "import seaborn as sns\n",
    "%matplotlib inline\n",
    "\n",
    "from src import visualizations as vz\n",
    "from src import functions as fn\n",
    "\n",
    "# setting style\n",
    "sns.set_theme('talk')\n",
    "plt.style.use('fivethirtyeight')\n",
    "sns.set_palette(palette='Blues_r')\n",
    "pd.options.display.max_rows = 300"
   ]
  },
  {
   "cell_type": "markdown",
   "id": "bee933f1-a477-4b47-bff6-702e87f44e93",
   "metadata": {},
   "source": [
    "## `dir` Check"
   ]
  },
  {
   "cell_type": "code",
   "execution_count": 66,
   "id": "1f9f66eb-6c03-4f42-a4e1-7a1d5c355957",
   "metadata": {},
   "outputs": [
    {
     "name": "stdout",
     "output_type": "stream",
     "text": [
      "/Users/dsbox/Documents/Flatiron/p_4_project/nlp_sentiment_project/notebooks/exploratory\n"
     ]
    }
   ],
   "source": [
    "!pwd"
   ]
  },
  {
   "cell_type": "markdown",
   "id": "3d1a2f23-a9ac-4253-9be3-8a02bab38a4b",
   "metadata": {},
   "source": [
    "## Importing Data & Checking Info"
   ]
  },
  {
   "cell_type": "code",
   "execution_count": 4,
   "id": "5342f9d5-22e9-4e7e-9ee8-40d0280c5b8b",
   "metadata": {},
   "outputs": [
    {
     "data": {
      "text/html": [
       "<div>\n",
       "<style scoped>\n",
       "    .dataframe tbody tr th:only-of-type {\n",
       "        vertical-align: middle;\n",
       "    }\n",
       "\n",
       "    .dataframe tbody tr th {\n",
       "        vertical-align: top;\n",
       "    }\n",
       "\n",
       "    .dataframe thead th {\n",
       "        text-align: right;\n",
       "    }\n",
       "</style>\n",
       "<table border=\"1\" class=\"dataframe\">\n",
       "  <thead>\n",
       "    <tr style=\"text-align: right;\">\n",
       "      <th></th>\n",
       "      <th>tweet_text</th>\n",
       "      <th>emotion_in_tweet_is_directed_at</th>\n",
       "      <th>is_there_an_emotion_directed_at_a_brand_or_product</th>\n",
       "    </tr>\n",
       "  </thead>\n",
       "  <tbody>\n",
       "    <tr>\n",
       "      <th>0</th>\n",
       "      <td>.@wesley83 I have a 3G iPhone. After 3 hrs twe...</td>\n",
       "      <td>iPhone</td>\n",
       "      <td>Negative emotion</td>\n",
       "    </tr>\n",
       "    <tr>\n",
       "      <th>1</th>\n",
       "      <td>@jessedee Know about @fludapp ? Awesome iPad/i...</td>\n",
       "      <td>iPad or iPhone App</td>\n",
       "      <td>Positive emotion</td>\n",
       "    </tr>\n",
       "    <tr>\n",
       "      <th>2</th>\n",
       "      <td>@swonderlin Can not wait for #iPad 2 also. The...</td>\n",
       "      <td>iPad</td>\n",
       "      <td>Positive emotion</td>\n",
       "    </tr>\n",
       "    <tr>\n",
       "      <th>3</th>\n",
       "      <td>@sxsw I hope this year's festival isn't as cra...</td>\n",
       "      <td>iPad or iPhone App</td>\n",
       "      <td>Negative emotion</td>\n",
       "    </tr>\n",
       "    <tr>\n",
       "      <th>4</th>\n",
       "      <td>@sxtxstate great stuff on Fri #SXSW: Marissa M...</td>\n",
       "      <td>Google</td>\n",
       "      <td>Positive emotion</td>\n",
       "    </tr>\n",
       "  </tbody>\n",
       "</table>\n",
       "</div>"
      ],
      "text/plain": [
       "                                          tweet_text  \\\n",
       "0  .@wesley83 I have a 3G iPhone. After 3 hrs twe...   \n",
       "1  @jessedee Know about @fludapp ? Awesome iPad/i...   \n",
       "2  @swonderlin Can not wait for #iPad 2 also. The...   \n",
       "3  @sxsw I hope this year's festival isn't as cra...   \n",
       "4  @sxtxstate great stuff on Fri #SXSW: Marissa M...   \n",
       "\n",
       "  emotion_in_tweet_is_directed_at  \\\n",
       "0                          iPhone   \n",
       "1              iPad or iPhone App   \n",
       "2                            iPad   \n",
       "3              iPad or iPhone App   \n",
       "4                          Google   \n",
       "\n",
       "  is_there_an_emotion_directed_at_a_brand_or_product  \n",
       "0                                   Negative emotion  \n",
       "1                                   Positive emotion  \n",
       "2                                   Positive emotion  \n",
       "3                                   Negative emotion  \n",
       "4                                   Positive emotion  "
      ]
     },
     "execution_count": 4,
     "metadata": {},
     "output_type": "execute_result"
    }
   ],
   "source": [
    "path = path = os.path.join(gparent, 'data/raw',\\\n",
    "                           'judge-1377884607_tweet_product_company.csv')\n",
    "df = pd.read_csv(path, encoding='unicode_escape')\n",
    "df.head()"
   ]
  },
  {
   "cell_type": "code",
   "execution_count": 5,
   "id": "ac986cde-7c52-4fd0-99ef-3f62a0c4c87a",
   "metadata": {},
   "outputs": [
    {
     "name": "stdout",
     "output_type": "stream",
     "text": [
      "<class 'pandas.core.frame.DataFrame'>\n",
      "RangeIndex: 9093 entries, 0 to 9092\n",
      "Data columns (total 3 columns):\n",
      " #   Column                                              Non-Null Count  Dtype \n",
      "---  ------                                              --------------  ----- \n",
      " 0   tweet_text                                          9092 non-null   object\n",
      " 1   emotion_in_tweet_is_directed_at                     3291 non-null   object\n",
      " 2   is_there_an_emotion_directed_at_a_brand_or_product  9093 non-null   object\n",
      "dtypes: object(3)\n",
      "memory usage: 213.2+ KB\n"
     ]
    }
   ],
   "source": [
    "df.info()"
   ]
  },
  {
   "cell_type": "markdown",
   "id": "bdcaab23-4313-4243-aa98-3d6ed34b63bf",
   "metadata": {},
   "source": [
    "## Checking Null Tweet"
   ]
  },
  {
   "cell_type": "code",
   "execution_count": 6,
   "id": "a3761369-be58-40e6-aed1-ffca9ca1d5f1",
   "metadata": {},
   "outputs": [
    {
     "data": {
      "text/html": [
       "<div>\n",
       "<style scoped>\n",
       "    .dataframe tbody tr th:only-of-type {\n",
       "        vertical-align: middle;\n",
       "    }\n",
       "\n",
       "    .dataframe tbody tr th {\n",
       "        vertical-align: top;\n",
       "    }\n",
       "\n",
       "    .dataframe thead th {\n",
       "        text-align: right;\n",
       "    }\n",
       "</style>\n",
       "<table border=\"1\" class=\"dataframe\">\n",
       "  <thead>\n",
       "    <tr style=\"text-align: right;\">\n",
       "      <th></th>\n",
       "      <th>tweet_text</th>\n",
       "      <th>emotion_in_tweet_is_directed_at</th>\n",
       "      <th>is_there_an_emotion_directed_at_a_brand_or_product</th>\n",
       "    </tr>\n",
       "  </thead>\n",
       "  <tbody>\n",
       "    <tr>\n",
       "      <th>6</th>\n",
       "      <td>NaN</td>\n",
       "      <td>NaN</td>\n",
       "      <td>No emotion toward brand or product</td>\n",
       "    </tr>\n",
       "  </tbody>\n",
       "</table>\n",
       "</div>"
      ],
      "text/plain": [
       "  tweet_text emotion_in_tweet_is_directed_at  \\\n",
       "6        NaN                             NaN   \n",
       "\n",
       "  is_there_an_emotion_directed_at_a_brand_or_product  \n",
       "6                 No emotion toward brand or product  "
      ]
     },
     "execution_count": 6,
     "metadata": {},
     "output_type": "execute_result"
    }
   ],
   "source": [
    "df[df['tweet_text'].isnull()]"
   ]
  },
  {
   "cell_type": "markdown",
   "id": "0c89e9ce-9314-4279-9de8-49320bbbfb1d",
   "metadata": {},
   "source": [
    "## Dropping Null Tweet"
   ]
  },
  {
   "cell_type": "code",
   "execution_count": 7,
   "id": "16d7ab1b-0742-4645-acc4-e537845bafc3",
   "metadata": {},
   "outputs": [],
   "source": [
    "df.drop(6, axis=0, inplace=True)\n",
    "df.reset_index(drop=True, inplace=True)"
   ]
  },
  {
   "cell_type": "code",
   "execution_count": 8,
   "id": "b5f8325b-c404-4eaa-a2e1-4cab5525646f",
   "metadata": {},
   "outputs": [
    {
     "name": "stdout",
     "output_type": "stream",
     "text": [
      "<class 'pandas.core.frame.DataFrame'>\n",
      "RangeIndex: 9092 entries, 0 to 9091\n",
      "Data columns (total 3 columns):\n",
      " #   Column                                              Non-Null Count  Dtype \n",
      "---  ------                                              --------------  ----- \n",
      " 0   tweet_text                                          9092 non-null   object\n",
      " 1   emotion_in_tweet_is_directed_at                     3291 non-null   object\n",
      " 2   is_there_an_emotion_directed_at_a_brand_or_product  9092 non-null   object\n",
      "dtypes: object(3)\n",
      "memory usage: 213.2+ KB\n"
     ]
    }
   ],
   "source": [
    "df.info()"
   ]
  },
  {
   "cell_type": "markdown",
   "id": "8b53eeee-3ff8-4d83-876f-d8aa64528faf",
   "metadata": {},
   "source": [
    "## Checking Nulls in Product Column"
   ]
  },
  {
   "cell_type": "code",
   "execution_count": 9,
   "id": "8bb6cc12-7a94-4aba-b453-ee2f0d8d6f49",
   "metadata": {},
   "outputs": [
    {
     "data": {
      "text/plain": [
       "Index(['tweet_text', 'emotion_in_tweet_is_directed_at',\n",
       "       'is_there_an_emotion_directed_at_a_brand_or_product'],\n",
       "      dtype='object')"
      ]
     },
     "execution_count": 9,
     "metadata": {},
     "output_type": "execute_result"
    }
   ],
   "source": [
    "df.columns"
   ]
  },
  {
   "cell_type": "code",
   "execution_count": 10,
   "id": "8159d9d5-00b6-4440-b740-39966d73ac3b",
   "metadata": {},
   "outputs": [
    {
     "data": {
      "text/html": [
       "<div>\n",
       "<style scoped>\n",
       "    .dataframe tbody tr th:only-of-type {\n",
       "        vertical-align: middle;\n",
       "    }\n",
       "\n",
       "    .dataframe tbody tr th {\n",
       "        vertical-align: top;\n",
       "    }\n",
       "\n",
       "    .dataframe thead th {\n",
       "        text-align: right;\n",
       "    }\n",
       "</style>\n",
       "<table border=\"1\" class=\"dataframe\">\n",
       "  <thead>\n",
       "    <tr style=\"text-align: right;\">\n",
       "      <th></th>\n",
       "      <th>tweet_text</th>\n",
       "      <th>emotion_in_tweet_is_directed_at</th>\n",
       "      <th>is_there_an_emotion_directed_at_a_brand_or_product</th>\n",
       "    </tr>\n",
       "  </thead>\n",
       "  <tbody>\n",
       "    <tr>\n",
       "      <th>5</th>\n",
       "      <td>@teachntech00 New iPad Apps For #SpeechTherapy...</td>\n",
       "      <td>NaN</td>\n",
       "      <td>No emotion toward brand or product</td>\n",
       "    </tr>\n",
       "    <tr>\n",
       "      <th>15</th>\n",
       "      <td>Holler Gram for iPad on the iTunes App Store -...</td>\n",
       "      <td>NaN</td>\n",
       "      <td>No emotion toward brand or product</td>\n",
       "    </tr>\n",
       "    <tr>\n",
       "      <th>31</th>\n",
       "      <td>Attn: All  #SXSW frineds, @mention Register fo...</td>\n",
       "      <td>NaN</td>\n",
       "      <td>No emotion toward brand or product</td>\n",
       "    </tr>\n",
       "    <tr>\n",
       "      <th>32</th>\n",
       "      <td>Anyone at  #sxsw want to sell their old iPad?</td>\n",
       "      <td>NaN</td>\n",
       "      <td>No emotion toward brand or product</td>\n",
       "    </tr>\n",
       "    <tr>\n",
       "      <th>33</th>\n",
       "      <td>Anyone at  #SXSW who bought the new iPad want ...</td>\n",
       "      <td>NaN</td>\n",
       "      <td>No emotion toward brand or product</td>\n",
       "    </tr>\n",
       "  </tbody>\n",
       "</table>\n",
       "</div>"
      ],
      "text/plain": [
       "                                           tweet_text  \\\n",
       "5   @teachntech00 New iPad Apps For #SpeechTherapy...   \n",
       "15  Holler Gram for iPad on the iTunes App Store -...   \n",
       "31  Attn: All  #SXSW frineds, @mention Register fo...   \n",
       "32      Anyone at  #sxsw want to sell their old iPad?   \n",
       "33  Anyone at  #SXSW who bought the new iPad want ...   \n",
       "\n",
       "   emotion_in_tweet_is_directed_at  \\\n",
       "5                              NaN   \n",
       "15                             NaN   \n",
       "31                             NaN   \n",
       "32                             NaN   \n",
       "33                             NaN   \n",
       "\n",
       "   is_there_an_emotion_directed_at_a_brand_or_product  \n",
       "5                  No emotion toward brand or product  \n",
       "15                 No emotion toward brand or product  \n",
       "31                 No emotion toward brand or product  \n",
       "32                 No emotion toward brand or product  \n",
       "33                 No emotion toward brand or product  "
      ]
     },
     "execution_count": 10,
     "metadata": {},
     "output_type": "execute_result"
    }
   ],
   "source": [
    "df[df['emotion_in_tweet_is_directed_at'].isnull()].head()"
   ]
  },
  {
   "cell_type": "markdown",
   "id": "e0996e82-c16c-48ee-a858-1edf6886c07c",
   "metadata": {},
   "source": [
    "## Renaming Columns\n",
    "The original names are a bit unwieldy."
   ]
  },
  {
   "cell_type": "code",
   "execution_count": 11,
   "id": "fa44960a-3a20-4c85-96b5-ab640e9c6e51",
   "metadata": {},
   "outputs": [
    {
     "data": {
      "text/html": [
       "<div>\n",
       "<style scoped>\n",
       "    .dataframe tbody tr th:only-of-type {\n",
       "        vertical-align: middle;\n",
       "    }\n",
       "\n",
       "    .dataframe tbody tr th {\n",
       "        vertical-align: top;\n",
       "    }\n",
       "\n",
       "    .dataframe thead th {\n",
       "        text-align: right;\n",
       "    }\n",
       "</style>\n",
       "<table border=\"1\" class=\"dataframe\">\n",
       "  <thead>\n",
       "    <tr style=\"text-align: right;\">\n",
       "      <th></th>\n",
       "      <th>tweet</th>\n",
       "      <th>brand_product</th>\n",
       "      <th>emotion</th>\n",
       "    </tr>\n",
       "  </thead>\n",
       "  <tbody>\n",
       "    <tr>\n",
       "      <th>0</th>\n",
       "      <td>.@wesley83 I have a 3G iPhone. After 3 hrs twe...</td>\n",
       "      <td>iPhone</td>\n",
       "      <td>Negative emotion</td>\n",
       "    </tr>\n",
       "    <tr>\n",
       "      <th>1</th>\n",
       "      <td>@jessedee Know about @fludapp ? Awesome iPad/i...</td>\n",
       "      <td>iPad or iPhone App</td>\n",
       "      <td>Positive emotion</td>\n",
       "    </tr>\n",
       "    <tr>\n",
       "      <th>2</th>\n",
       "      <td>@swonderlin Can not wait for #iPad 2 also. The...</td>\n",
       "      <td>iPad</td>\n",
       "      <td>Positive emotion</td>\n",
       "    </tr>\n",
       "    <tr>\n",
       "      <th>3</th>\n",
       "      <td>@sxsw I hope this year's festival isn't as cra...</td>\n",
       "      <td>iPad or iPhone App</td>\n",
       "      <td>Negative emotion</td>\n",
       "    </tr>\n",
       "    <tr>\n",
       "      <th>4</th>\n",
       "      <td>@sxtxstate great stuff on Fri #SXSW: Marissa M...</td>\n",
       "      <td>Google</td>\n",
       "      <td>Positive emotion</td>\n",
       "    </tr>\n",
       "  </tbody>\n",
       "</table>\n",
       "</div>"
      ],
      "text/plain": [
       "                                               tweet       brand_product  \\\n",
       "0  .@wesley83 I have a 3G iPhone. After 3 hrs twe...              iPhone   \n",
       "1  @jessedee Know about @fludapp ? Awesome iPad/i...  iPad or iPhone App   \n",
       "2  @swonderlin Can not wait for #iPad 2 also. The...                iPad   \n",
       "3  @sxsw I hope this year's festival isn't as cra...  iPad or iPhone App   \n",
       "4  @sxtxstate great stuff on Fri #SXSW: Marissa M...              Google   \n",
       "\n",
       "            emotion  \n",
       "0  Negative emotion  \n",
       "1  Positive emotion  \n",
       "2  Positive emotion  \n",
       "3  Negative emotion  \n",
       "4  Positive emotion  "
      ]
     },
     "execution_count": 11,
     "metadata": {},
     "output_type": "execute_result"
    }
   ],
   "source": [
    "rename_dict = {'tweet_text': 'tweet', \n",
    "               'emotion_in_tweet_is_directed_at': 'brand_product', \n",
    "               'is_there_an_emotion_directed_at_a_brand_or_product': 'emotion' }\n",
    "df.rename(columns=rename_dict, inplace=True)\n",
    "df.head()"
   ]
  },
  {
   "cell_type": "markdown",
   "id": "beca53ac-3597-4b78-9eed-461e416a7f6b",
   "metadata": {},
   "source": [
    "## Checking Brand/Product Unique Values"
   ]
  },
  {
   "cell_type": "code",
   "execution_count": 12,
   "id": "8efe4201-eacc-4988-b8d9-6df43000c0ca",
   "metadata": {},
   "outputs": [
    {
     "data": {
      "text/plain": [
       "array(['iPhone', 'iPad or iPhone App', 'iPad', 'Google', nan, 'Android',\n",
       "       'Apple', 'Android App', 'Other Google product or service',\n",
       "       'Other Apple product or service'], dtype=object)"
      ]
     },
     "execution_count": 12,
     "metadata": {},
     "output_type": "execute_result"
    }
   ],
   "source": [
    "df.brand_product.unique()"
   ]
  },
  {
   "cell_type": "code",
   "execution_count": 13,
   "id": "e7fc4bfb-8c32-4270-9a9a-1264a424ee6d",
   "metadata": {},
   "outputs": [
    {
     "data": {
      "image/png": "[encoded data removed]",
      "text/plain": [
       "<Figure size 1440x576 with 1 Axes>"
      ]
     },
     "metadata": {},
     "output_type": "display_data"
    }
   ],
   "source": [
    "vz.brand_counts(df)"
   ]
  },
  {
   "cell_type": "code",
   "execution_count": 14,
   "id": "11e9cb8b-c66e-41f3-9015-44128f6514b3",
   "metadata": {},
   "outputs": [
    {
     "data": {
      "text/plain": [
       "iPad                               946\n",
       "Apple                              661\n",
       "iPad or iPhone App                 470\n",
       "Google                             430\n",
       "iPhone                             297\n",
       "Other Google product or service    293\n",
       "Android App                         81\n",
       "Android                             78\n",
       "Other Apple product or service      35\n",
       "Name: brand_product, dtype: int64"
      ]
     },
     "execution_count": 14,
     "metadata": {},
     "output_type": "execute_result"
    }
   ],
   "source": [
    "df.brand_product.value_counts()"
   ]
  },
  {
   "cell_type": "code",
   "execution_count": 15,
   "id": "2dea16af-9c2a-49eb-ae65-32152435353e",
   "metadata": {},
   "outputs": [
    {
     "data": {
      "text/plain": [
       "5801"
      ]
     },
     "execution_count": 15,
     "metadata": {},
     "output_type": "execute_result"
    }
   ],
   "source": [
    "df.brand_product.isna().sum()"
   ]
  },
  {
   "cell_type": "markdown",
   "id": "41fe3f65-2ffe-4fe9-b423-14e2d15125bf",
   "metadata": {},
   "source": [
    "## Checking Emotion Unique Values"
   ]
  },
  {
   "cell_type": "code",
   "execution_count": 16,
   "id": "2eb5e92a-6263-439c-8dc0-dc4f1eb664c4",
   "metadata": {},
   "outputs": [
    {
     "data": {
      "text/plain": [
       "array(['Negative emotion', 'Positive emotion',\n",
       "       'No emotion toward brand or product', \"I can't tell\"], dtype=object)"
      ]
     },
     "execution_count": 16,
     "metadata": {},
     "output_type": "execute_result"
    }
   ],
   "source": [
    "df.emotion.unique()"
   ]
  },
  {
   "cell_type": "code",
   "execution_count": 17,
   "id": "cc82154e-11e8-4749-9f71-713f8b5002f9",
   "metadata": {},
   "outputs": [
    {
     "data": {
      "image/png": "[encoded data removed]",
      "text/plain": [
       "<Figure size 1440x576 with 1 Axes>"
      ]
     },
     "metadata": {},
     "output_type": "display_data"
    }
   ],
   "source": [
    "vz.emotion_counts(df)"
   ]
  },
  {
   "cell_type": "code",
   "execution_count": 18,
   "id": "c41234c2-8847-4f4a-b60d-d7955978a533",
   "metadata": {},
   "outputs": [
    {
     "data": {
      "text/plain": [
       "No emotion toward brand or product    5388\n",
       "Positive emotion                      2978\n",
       "Negative emotion                       570\n",
       "I can't tell                           156\n",
       "Name: emotion, dtype: int64"
      ]
     },
     "execution_count": 18,
     "metadata": {},
     "output_type": "execute_result"
    }
   ],
   "source": [
    "df.emotion.value_counts()"
   ]
  },
  {
   "cell_type": "markdown",
   "id": "8c747a15-654e-4a61-ae3f-15dfe046e234",
   "metadata": {},
   "source": [
    "## Emotions by Brand"
   ]
  },
  {
   "cell_type": "code",
   "execution_count": 178,
   "id": "f28d11b3-b08d-437c-8e9e-dfda6962066f",
   "metadata": {},
   "outputs": [
    {
     "data": {
      "image/png": "[encoded data removed]",
      "text/plain": [
       "<Figure size 1440x720 with 1 Axes>"
      ]
     },
     "metadata": {},
     "output_type": "display_data"
    }
   ],
   "source": [
    "vz.brand_emotions(df)"
   ]
  },
  {
   "cell_type": "markdown",
   "id": "373f3a71-40f9-478b-9063-d9f7266beb81",
   "metadata": {},
   "source": [
    "## Checking Null Brands Emotion Data"
   ]
  },
  {
   "cell_type": "code",
   "execution_count": 19,
   "id": "788da5f0-f175-4048-8bdd-c542499d4fbb",
   "metadata": {},
   "outputs": [],
   "source": [
    "null_brand_emotions = df[(df['brand_product'].isna()) &\\\n",
    "                        (df['emotion'] != 'No emotion toward brand or product')]"
   ]
  },
  {
   "cell_type": "code",
   "execution_count": 20,
   "id": "5bfdf246-9dcc-41d2-93dd-8db606b48e94",
   "metadata": {},
   "outputs": [
    {
     "name": "stdout",
     "output_type": "stream",
     "text": [
      "<class 'pandas.core.frame.DataFrame'>\n",
      "Int64Index: 504 entries, 45 to 9057\n",
      "Data columns (total 3 columns):\n",
      " #   Column         Non-Null Count  Dtype \n",
      "---  ------         --------------  ----- \n",
      " 0   tweet          504 non-null    object\n",
      " 1   brand_product  0 non-null      object\n",
      " 2   emotion        504 non-null    object\n",
      "dtypes: object(3)\n",
      "memory usage: 15.8+ KB\n"
     ]
    }
   ],
   "source": [
    "null_brand_emotions.info()"
   ]
  },
  {
   "cell_type": "code",
   "execution_count": 21,
   "id": "36089b56-61ab-43a8-934b-cecef7708fcb",
   "metadata": {},
   "outputs": [
    {
     "data": {
      "text/html": [
       "<div>\n",
       "<style scoped>\n",
       "    .dataframe tbody tr th:only-of-type {\n",
       "        vertical-align: middle;\n",
       "    }\n",
       "\n",
       "    .dataframe tbody tr th {\n",
       "        vertical-align: top;\n",
       "    }\n",
       "\n",
       "    .dataframe thead th {\n",
       "        text-align: right;\n",
       "    }\n",
       "</style>\n",
       "<table border=\"1\" class=\"dataframe\">\n",
       "  <thead>\n",
       "    <tr style=\"text-align: right;\">\n",
       "      <th></th>\n",
       "      <th>tweet</th>\n",
       "      <th>brand_product</th>\n",
       "      <th>emotion</th>\n",
       "    </tr>\n",
       "  </thead>\n",
       "  <tbody>\n",
       "    <tr>\n",
       "      <th>45</th>\n",
       "      <td>Hand-Held Û÷HoboÛª: Drafthouse launches Û÷H...</td>\n",
       "      <td>NaN</td>\n",
       "      <td>Positive emotion</td>\n",
       "    </tr>\n",
       "    <tr>\n",
       "      <th>63</th>\n",
       "      <td>Again? RT @mention Line at the Apple store is ...</td>\n",
       "      <td>NaN</td>\n",
       "      <td>Negative emotion</td>\n",
       "    </tr>\n",
       "    <tr>\n",
       "      <th>67</th>\n",
       "      <td>Boooo! RT @mention Flipboard is developing an ...</td>\n",
       "      <td>NaN</td>\n",
       "      <td>Negative emotion</td>\n",
       "    </tr>\n",
       "    <tr>\n",
       "      <th>89</th>\n",
       "      <td>Thanks to @mention for publishing the news of ...</td>\n",
       "      <td>NaN</td>\n",
       "      <td>I can't tell</td>\n",
       "    </tr>\n",
       "    <tr>\n",
       "      <th>101</th>\n",
       "      <td>ÛÏ@mention &amp;quot;Apple has opened a pop-up st...</td>\n",
       "      <td>NaN</td>\n",
       "      <td>I can't tell</td>\n",
       "    </tr>\n",
       "  </tbody>\n",
       "</table>\n",
       "</div>"
      ],
      "text/plain": [
       "                                                 tweet brand_product  \\\n",
       "45   Hand-Held Û÷HoboÛª: Drafthouse launches Û÷H...           NaN   \n",
       "63   Again? RT @mention Line at the Apple store is ...           NaN   \n",
       "67   Boooo! RT @mention Flipboard is developing an ...           NaN   \n",
       "89   Thanks to @mention for publishing the news of ...           NaN   \n",
       "101  ÛÏ@mention &quot;Apple has opened a pop-up st...           NaN   \n",
       "\n",
       "              emotion  \n",
       "45   Positive emotion  \n",
       "63   Negative emotion  \n",
       "67   Negative emotion  \n",
       "89       I can't tell  \n",
       "101      I can't tell  "
      ]
     },
     "execution_count": 21,
     "metadata": {},
     "output_type": "execute_result"
    }
   ],
   "source": [
    "null_brand_emotions.head()"
   ]
  },
  {
   "cell_type": "markdown",
   "id": "93555a6d-630a-40e0-96be-bfe6e5711ddc",
   "metadata": {},
   "source": [
    "## Examining Some Tweets"
   ]
  },
  {
   "cell_type": "code",
   "execution_count": 22,
   "id": "b03f0c06-8a55-4e4b-88c9-7d3aeb75d6ba",
   "metadata": {
    "tags": []
   },
   "outputs": [
    {
     "name": "stdout",
     "output_type": "stream",
     "text": [
      "Hand-Held Û÷HoboÛª: Drafthouse launches Û÷Hobo With a ShotgunÛª iPhone app #SXSW {link}\n"
     ]
    }
   ],
   "source": [
    "print(null_brand_emotions.tweet[45])"
   ]
  },
  {
   "cell_type": "code",
   "execution_count": 23,
   "id": "6baddcca-0fbd-4bc2-b3f2-a896ebac0fc8",
   "metadata": {},
   "outputs": [
    {
     "name": "stdout",
     "output_type": "stream",
     "text": [
      "Again? RT @mention Line at the Apple store is insane.. #sxsw\n"
     ]
    }
   ],
   "source": [
    "print(null_brand_emotions.tweet[63])"
   ]
  },
  {
   "cell_type": "code",
   "execution_count": 24,
   "id": "056ac36d-fb2f-43db-8d61-6a01e87afd18",
   "metadata": {},
   "outputs": [
    {
     "name": "stdout",
     "output_type": "stream",
     "text": [
      "Boooo! RT @mention Flipboard is developing an iPhone version, not Android, says @mention #sxsw\n"
     ]
    }
   ],
   "source": [
    "print(null_brand_emotions.tweet[67])"
   ]
  },
  {
   "cell_type": "markdown",
   "id": "95b0e16a-9ad6-420c-b5dd-2d4500770b3a",
   "metadata": {},
   "source": [
    "## Null Brand Emotion Counts"
   ]
  },
  {
   "cell_type": "code",
   "execution_count": 25,
   "id": "3256b4ff-abdd-4d47-add4-7685a335561a",
   "metadata": {},
   "outputs": [
    {
     "data": {
      "image/png": "[encoded data removed]",
      "text/plain": [
       "<Figure size 1440x576 with 1 Axes>"
      ]
     },
     "metadata": {},
     "output_type": "display_data"
    }
   ],
   "source": [
    "vz.null_brand_emotions(df)"
   ]
  },
  {
   "cell_type": "markdown",
   "id": "6e99be65-1f3e-4402-a9e5-42fdee48fa4d",
   "metadata": {},
   "source": [
    "## Filtering for Binary Emotion Data\n",
    "The model will be trained to classify positive and negative sentiments."
   ]
  },
  {
   "cell_type": "code",
   "execution_count": 26,
   "id": "7d79a66a-c702-4dcb-826e-2d991826b8a7",
   "metadata": {},
   "outputs": [
    {
     "data": {
      "text/plain": [
       "array(['Negative emotion', 'Positive emotion',\n",
       "       'No emotion toward brand or product', \"I can't tell\"], dtype=object)"
      ]
     },
     "execution_count": 26,
     "metadata": {},
     "output_type": "execute_result"
    }
   ],
   "source": [
    "df['emotion'].unique()"
   ]
  },
  {
   "cell_type": "code",
   "execution_count": 40,
   "id": "60ded795-2c9e-4d7b-8ebe-37e279d8f3a2",
   "metadata": {},
   "outputs": [],
   "source": [
    "binary_data = df[(df['emotion'] == 'Positive emotion') |\\\n",
    "                 (df['emotion'] == 'Negative emotion')].copy()"
   ]
  },
  {
   "cell_type": "code",
   "execution_count": 41,
   "id": "783839f5-8ddd-4ea8-bf4e-73eb754bc59b",
   "metadata": {},
   "outputs": [],
   "source": [
    "binary_data.reset_index(drop=True, inplace=True)"
   ]
  },
  {
   "cell_type": "code",
   "execution_count": 42,
   "id": "2f9ed188-68fd-4889-b2e2-923f5db0dc19",
   "metadata": {},
   "outputs": [
    {
     "data": {
      "text/html": [
       "<div>\n",
       "<style scoped>\n",
       "    .dataframe tbody tr th:only-of-type {\n",
       "        vertical-align: middle;\n",
       "    }\n",
       "\n",
       "    .dataframe tbody tr th {\n",
       "        vertical-align: top;\n",
       "    }\n",
       "\n",
       "    .dataframe thead th {\n",
       "        text-align: right;\n",
       "    }\n",
       "</style>\n",
       "<table border=\"1\" class=\"dataframe\">\n",
       "  <thead>\n",
       "    <tr style=\"text-align: right;\">\n",
       "      <th></th>\n",
       "      <th>tweet</th>\n",
       "      <th>brand_product</th>\n",
       "      <th>emotion</th>\n",
       "    </tr>\n",
       "  </thead>\n",
       "  <tbody>\n",
       "    <tr>\n",
       "      <th>0</th>\n",
       "      <td>.@wesley83 I have a 3G iPhone. After 3 hrs twe...</td>\n",
       "      <td>iPhone</td>\n",
       "      <td>Negative emotion</td>\n",
       "    </tr>\n",
       "    <tr>\n",
       "      <th>1</th>\n",
       "      <td>@jessedee Know about @fludapp ? Awesome iPad/i...</td>\n",
       "      <td>iPad or iPhone App</td>\n",
       "      <td>Positive emotion</td>\n",
       "    </tr>\n",
       "    <tr>\n",
       "      <th>2</th>\n",
       "      <td>@swonderlin Can not wait for #iPad 2 also. The...</td>\n",
       "      <td>iPad</td>\n",
       "      <td>Positive emotion</td>\n",
       "    </tr>\n",
       "    <tr>\n",
       "      <th>3</th>\n",
       "      <td>@sxsw I hope this year's festival isn't as cra...</td>\n",
       "      <td>iPad or iPhone App</td>\n",
       "      <td>Negative emotion</td>\n",
       "    </tr>\n",
       "    <tr>\n",
       "      <th>4</th>\n",
       "      <td>@sxtxstate great stuff on Fri #SXSW: Marissa M...</td>\n",
       "      <td>Google</td>\n",
       "      <td>Positive emotion</td>\n",
       "    </tr>\n",
       "  </tbody>\n",
       "</table>\n",
       "</div>"
      ],
      "text/plain": [
       "                                               tweet       brand_product  \\\n",
       "0  .@wesley83 I have a 3G iPhone. After 3 hrs twe...              iPhone   \n",
       "1  @jessedee Know about @fludapp ? Awesome iPad/i...  iPad or iPhone App   \n",
       "2  @swonderlin Can not wait for #iPad 2 also. The...                iPad   \n",
       "3  @sxsw I hope this year's festival isn't as cra...  iPad or iPhone App   \n",
       "4  @sxtxstate great stuff on Fri #SXSW: Marissa M...              Google   \n",
       "\n",
       "            emotion  \n",
       "0  Negative emotion  \n",
       "1  Positive emotion  \n",
       "2  Positive emotion  \n",
       "3  Negative emotion  \n",
       "4  Positive emotion  "
      ]
     },
     "execution_count": 42,
     "metadata": {},
     "output_type": "execute_result"
    }
   ],
   "source": [
    "binary_data.head()"
   ]
  },
  {
   "cell_type": "code",
   "execution_count": 43,
   "id": "ed320f56-f0e2-4686-9f0e-8fa169649904",
   "metadata": {},
   "outputs": [
    {
     "name": "stdout",
     "output_type": "stream",
     "text": [
      "<class 'pandas.core.frame.DataFrame'>\n",
      "RangeIndex: 3548 entries, 0 to 3547\n",
      "Data columns (total 3 columns):\n",
      " #   Column         Non-Null Count  Dtype \n",
      "---  ------         --------------  ----- \n",
      " 0   tweet          3548 non-null   object\n",
      " 1   brand_product  3191 non-null   object\n",
      " 2   emotion        3548 non-null   object\n",
      "dtypes: object(3)\n",
      "memory usage: 83.3+ KB\n"
     ]
    }
   ],
   "source": [
    "binary_data.info()"
   ]
  },
  {
   "cell_type": "code",
   "execution_count": 44,
   "id": "4c743ee7-6a72-44c4-ae1b-eeefdfc862bf",
   "metadata": {},
   "outputs": [
    {
     "data": {
      "text/plain": [
       "tweet              0\n",
       "brand_product    357\n",
       "emotion            0\n",
       "dtype: int64"
      ]
     },
     "execution_count": 44,
     "metadata": {},
     "output_type": "execute_result"
    }
   ],
   "source": [
    "binary_data.isna().sum()"
   ]
  },
  {
   "cell_type": "code",
   "execution_count": 45,
   "id": "1b8cec4d-4d8c-414b-95ae-dc0fc7213e5d",
   "metadata": {},
   "outputs": [
    {
     "data": {
      "text/plain": [
       "Positive emotion    2978\n",
       "Negative emotion     570\n",
       "Name: emotion, dtype: int64"
      ]
     },
     "execution_count": 45,
     "metadata": {},
     "output_type": "execute_result"
    }
   ],
   "source": [
    "binary_data['emotion'].value_counts()"
   ]
  },
  {
   "cell_type": "markdown",
   "id": "77da1a26-3422-49fa-ba79-8143d6fdf205",
   "metadata": {},
   "source": [
    "## Binarizing Emotion Target"
   ]
  },
  {
   "cell_type": "code",
   "execution_count": 46,
   "id": "317b6c38-6992-43e8-9999-b5f824fe834e",
   "metadata": {},
   "outputs": [],
   "source": [
    "binary_data['emotion'] = binary_data['emotion'].replace(['Negative emotion'], 0)"
   ]
  },
  {
   "cell_type": "code",
   "execution_count": 47,
   "id": "35b65705-a300-4def-b863-1ac876df7b11",
   "metadata": {},
   "outputs": [],
   "source": [
    "binary_data['emotion'] = binary_data['emotion'].map(lambda x: 1 if x != 0 else 0)"
   ]
  },
  {
   "cell_type": "code",
   "execution_count": 49,
   "id": "7a1cd17c-b92a-4498-b5e5-6f2722c266e9",
   "metadata": {},
   "outputs": [
    {
     "data": {
      "text/plain": [
       "1    2978\n",
       "0     570\n",
       "Name: emotion, dtype: int64"
      ]
     },
     "execution_count": 49,
     "metadata": {},
     "output_type": "execute_result"
    }
   ],
   "source": [
    "binary_data['emotion'].value_counts()"
   ]
  },
  {
   "cell_type": "markdown",
   "id": "f3fc981a-0238-42b7-8206-9a814ac7efaf",
   "metadata": {},
   "source": [
    "## Setting `data` & `target`"
   ]
  },
  {
   "cell_type": "code",
   "execution_count": 51,
   "id": "6bab1c16-aabb-4113-8c22-3f5996eb41ea",
   "metadata": {},
   "outputs": [],
   "source": [
    "data = binary_data['tweet']\n",
    "target = binary_data['emotion']"
   ]
  },
  {
   "cell_type": "code",
   "execution_count": 52,
   "id": "8bd33761-670f-4412-a3ac-58ed95f11e8c",
   "metadata": {},
   "outputs": [
    {
     "data": {
      "text/plain": [
       "0"
      ]
     },
     "execution_count": 52,
     "metadata": {},
     "output_type": "execute_result"
    }
   ],
   "source": [
    "data.isna().sum()"
   ]
  },
  {
   "cell_type": "code",
   "execution_count": 53,
   "id": "9330de32-9e86-4f95-a31f-d8bbc2a8db8a",
   "metadata": {},
   "outputs": [
    {
     "data": {
      "text/plain": [
       "0"
      ]
     },
     "execution_count": 53,
     "metadata": {},
     "output_type": "execute_result"
    }
   ],
   "source": [
    "target.isna().sum()"
   ]
  },
  {
   "cell_type": "code",
   "execution_count": 54,
   "id": "806d4850-9381-4991-86c8-f9bcfa0b5057",
   "metadata": {},
   "outputs": [
    {
     "data": {
      "text/plain": [
       "3548"
      ]
     },
     "execution_count": 54,
     "metadata": {},
     "output_type": "execute_result"
    }
   ],
   "source": [
    "len(data)"
   ]
  },
  {
   "cell_type": "code",
   "execution_count": 55,
   "id": "590d79df-ccb2-4034-8eab-b70aa4a408ec",
   "metadata": {},
   "outputs": [
    {
     "data": {
      "text/plain": [
       "True"
      ]
     },
     "execution_count": 55,
     "metadata": {},
     "output_type": "execute_result"
    }
   ],
   "source": [
    "len(data) == len(target)"
   ]
  },
  {
   "cell_type": "code",
   "execution_count": 57,
   "id": "9a19d5da-76ea-4a83-8641-196bb017b2ef",
   "metadata": {},
   "outputs": [
    {
     "data": {
      "text/plain": [
       "'.@wesley83 I have a 3G iPhone. After 3 hrs tweeting at #RISE_Austin, it was dead!  I need to upgrade. Plugin stations at #SXSW.'"
      ]
     },
     "execution_count": 57,
     "metadata": {},
     "output_type": "execute_result"
    }
   ],
   "source": [
    "data[0]"
   ]
  },
  {
   "cell_type": "markdown",
   "id": "b132e230-ccf3-4552-a965-25faa50b68cb",
   "metadata": {},
   "source": [
    "## Testing Tokenizations"
   ]
  },
  {
   "cell_type": "markdown",
   "id": "5405ba72-216d-4670-8f1f-83780438dd60",
   "metadata": {},
   "source": [
    "### Strategy: (stopwords, string.punctuation)"
   ]
  },
  {
   "cell_type": "code",
   "execution_count": 58,
   "id": "63dbadb7-2402-4abc-af1f-337afcdf529e",
   "metadata": {},
   "outputs": [],
   "source": [
    "# removing stopwords & punx\n",
    "processed_data = list(map(fn.tweet_tokens, data))\n",
    "\n",
    "# making vocab set\n",
    "vocabulary = fn.vocabulary(processed_data)"
   ]
  },
  {
   "cell_type": "markdown",
   "id": "11238b65-b5c2-40cd-b78b-45025101340a",
   "metadata": {},
   "source": [
    "#### Checking Out Our Vocab"
   ]
  },
  {
   "cell_type": "code",
   "execution_count": 59,
   "id": "29212c2f-66c5-44e5-a6b8-a98bff0b5ec0",
   "metadata": {},
   "outputs": [
    {
     "data": {
      "text/plain": [
       "6280"
      ]
     },
     "execution_count": 59,
     "metadata": {},
     "output_type": "execute_result"
    }
   ],
   "source": [
    "# checking number of words\n",
    "len(vocabulary)"
   ]
  },
  {
   "cell_type": "code",
   "execution_count": 60,
   "id": "ddc70bd2-1996-45a3-805e-69ed6a41049f",
   "metadata": {
    "scrolled": true,
    "tags": []
   },
   "outputs": [
    {
     "name": "stdout",
     "output_type": "stream",
     "text": [
      "marty\n",
      "industry\n",
      "festivalgenius\n",
      "entry\n",
      "summer\n",
      "may\n",
      "iphone/ipad\n",
      "joke\n",
      "integration\n",
      "claims\n",
      "sound\n",
      "costume\n",
      "pic\n",
      "appreciation\n",
      "enjoys\n",
      "81\n",
      "tdg\n",
      "airports\n",
      "dancing\n",
      "whiteboarding\n",
      "notsomuch\n",
      "docomo\n",
      "iphone\n",
      "harris\n",
      "impediment\n",
      "avenue\n",
      "borrow\n",
      "relationship\n",
      "car'-use\n",
      "beechwood\n",
      "straight\n",
      "inferior\n",
      "fastcompanygrille\n",
      "aquent\n",
      "steady\n",
      "cheer\n",
      "photobooth\n",
      "whowillrise\n",
      "flavor\n",
      "top\n",
      "choose\n",
      "amid\n",
      "hijack\n",
      "eventseekr\n",
      "checkins\n",
      "custome\n",
      "khoi\n",
      "two\n",
      "checking\n",
      "foing\n",
      "cake\n",
      "blue\n",
      "ah\n",
      "genius\n",
      "preferences\n",
      "conquered\n",
      "trailer\n",
      "profile\n",
      "wintel\n",
      "devices\n",
      "view\n",
      "appleaddiction\n",
      "code\n",
      "study\n",
      "winning\n",
      "weve\n",
      "alive\n",
      "ossum\n",
      "psych\n",
      "development\n",
      "sloanxsw\n",
      "timechange\n",
      "pour\n",
      "x\n",
      "individuals\n",
      "notionink\n",
      "passport\n",
      "imho\n",
      "passerby\n",
      "installed\n",
      "stays\n",
      "fb\n",
      "nuts\n",
      "gruber\n",
      "finish\n",
      "score\n",
      "leave\n",
      "bug\n",
      "actual\n",
      "learn\n",
      "suck\n",
      "high-fiving\n",
      "harlow\n",
      "crowd-curated\n",
      "orly\n",
      "duking\n",
      "crappy\n",
      "messenger\n",
      "randomly\n",
      "webvisions\n"
     ]
    }
   ],
   "source": [
    "# first 100 words\n",
    "for i, val in enumerate(itertools.islice(vocabulary, 100)):\n",
    "    print(val)"
   ]
  },
  {
   "cell_type": "code",
   "execution_count": 61,
   "id": "62d16d28-bd20-4bbf-a288-5eb7bb383622",
   "metadata": {
    "scrolled": true,
    "tags": []
   },
   "outputs": [
    {
     "name": "stdout",
     "output_type": "stream",
     "text": [
      "kik\n",
      "handy\n",
      "raises\n",
      "forget\n",
      "59\n",
      "clearly\n",
      "'thing'.\n",
      "hangover\n",
      "jessedee\n",
      "figure\n",
      "marketing\n",
      "basics\n",
      "powermat\n",
      "9:30\n",
      "professionals\n",
      "recommendations\n",
      "unite\n",
      "bandwidth\n",
      "screenings\n",
      "brought\n",
      "speller\n",
      "3-d\n",
      "matching\n",
      "bleed\n",
      "logo\n",
      "stacks\n",
      "meat-pointer\n",
      "bulletin\n",
      "battlela\n",
      "ended\n",
      "socialmedia\n",
      "kick\n",
      "image\n",
      "theft\n",
      "recharge\n",
      "chumps\n",
      "-maybe\n",
      "manage\n",
      "allows\n",
      "flip\n",
      "hmm\n",
      "tweetignite\n",
      "inferior\n",
      "frozen\n",
      "13\n",
      "mypov\n",
      "pac-man\n",
      "totalitarian\n",
      "baby\n",
      "bit.ly/ajs2011\n",
      "bldg\n",
      "cwebb\n",
      "farm\n",
      "ref\n",
      "appealing\n",
      "buying\n",
      "haha\n",
      "local\n",
      "plugin\n",
      "austinites\n",
      "wrapping\n",
      "playsxswû\n",
      "enter\n",
      "newest\n",
      "orange\n",
      "tdg\n",
      "cuts\n",
      "uncertainty\n",
      "larger\n",
      "yr\n",
      "poole\n",
      "mill\n",
      "enjoyed\n",
      "-mayer\n",
      "alarms\n",
      "w/o\n",
      "appleaddiction\n",
      "michael\n",
      "pair\n",
      "town\n",
      "surplus\n",
      "worked\n",
      "concierge\n",
      "pour\n",
      "automatically\n",
      "cc\n",
      "searchable\n",
      "hitlantis\n",
      "unstable\n",
      "dream\n",
      "jobsco\n",
      "lightbulb\n",
      "size\n",
      "robot\n",
      "edition\n",
      "iphone.workin\n",
      "length\n",
      "gold\n",
      "causing\n",
      "kicked\n"
     ]
    }
   ],
   "source": [
    "# random 100 words\n",
    "for i, val in enumerate(random.sample(vocabulary, 100)):\n",
    "    print(val)"
   ]
  },
  {
   "cell_type": "markdown",
   "id": "4c3fb0a6-481e-42dc-b955-0a01e6de5cdf",
   "metadata": {},
   "source": [
    "### Strategy: (Regex: r'[a-zA-Z0-9]+')"
   ]
  },
  {
   "cell_type": "code",
   "execution_count": 149,
   "id": "31458e7c-c880-4b43-8af0-2cf24bfb7bf1",
   "metadata": {},
   "outputs": [],
   "source": [
    "# removing stopwords & punx\n",
    "processed_data = list(map(fn.re_tokens, data))\n",
    "\n",
    "vocabulary_re = fn.vocabulary(processed_data)"
   ]
  },
  {
   "cell_type": "markdown",
   "id": "625e5425-46d3-4eae-b679-078dec8e3e8e",
   "metadata": {},
   "source": [
    "#### Checking Out Our Vocab"
   ]
  },
  {
   "cell_type": "code",
   "execution_count": 63,
   "id": "2b4341fd-b3d7-4413-9358-fd65e2e020ef",
   "metadata": {},
   "outputs": [
    {
     "data": {
      "text/plain": [
       "5861"
      ]
     },
     "execution_count": 63,
     "metadata": {},
     "output_type": "execute_result"
    }
   ],
   "source": [
    "# number of words\n",
    "len(vocabulary_re)"
   ]
  },
  {
   "cell_type": "code",
   "execution_count": 64,
   "id": "638948c6-8fba-4f6a-a73a-4c5f2d268cad",
   "metadata": {
    "scrolled": true,
    "tags": []
   },
   "outputs": [
    {
     "name": "stdout",
     "output_type": "stream",
     "text": [
      "marty\n",
      "industry\n",
      "festivalgenius\n",
      "entry\n",
      "summer\n",
      "may\n",
      "joke\n",
      "integration\n",
      "claims\n",
      "sound\n",
      "costume\n",
      "pic\n",
      "appreciation\n",
      "enjoys\n",
      "81\n",
      "tdg\n",
      "airports\n",
      "dancing\n",
      "whiteboarding\n",
      "notsomuch\n",
      "docomo\n",
      "iphone\n",
      "harris\n",
      "checkout\n",
      "impediment\n",
      "avenue\n",
      "borrow\n",
      "relationship\n",
      "beechwood\n",
      "crowdbeacon\n",
      "straight\n",
      "inferior\n",
      "fastcompanygrille\n",
      "aquent\n",
      "steady\n",
      "cheer\n",
      "photobooth\n",
      "whowillrise\n",
      "flavor\n",
      "top\n",
      "choose\n",
      "amid\n",
      "hijack\n",
      "eventseekr\n",
      "checkins\n",
      "custome\n",
      "khoi\n",
      "two\n",
      "checking\n",
      "foing\n",
      "cake\n",
      "blue\n",
      "ah\n",
      "genius\n",
      "preferences\n",
      "conquered\n",
      "trailer\n",
      "profile\n",
      "wintel\n",
      "devices\n",
      "view\n",
      "appleaddiction\n",
      "code\n",
      "study\n",
      "winning\n",
      "weve\n",
      "alive\n",
      "ossum\n",
      "psych\n",
      "development\n",
      "sloanxsw\n",
      "timechange\n",
      "pour\n",
      "x\n",
      "individuals\n",
      "notionink\n",
      "passport\n",
      "imho\n",
      "passerby\n",
      "installed\n",
      "stays\n",
      "fb\n",
      "nuts\n",
      "gruber\n",
      "finish\n",
      "score\n",
      "leave\n",
      "bug\n",
      "actual\n",
      "learn\n",
      "suck\n",
      "harlow\n",
      "orly\n",
      "duking\n",
      "crappy\n",
      "messenger\n",
      "randomly\n",
      "webvisions\n",
      "mapped\n",
      "front\n"
     ]
    }
   ],
   "source": [
    "# first 100 words\n",
    "for i, val in enumerate(itertools.islice(vocabulary_re, 100)):\n",
    "    print(val)"
   ]
  },
  {
   "cell_type": "code",
   "execution_count": 65,
   "id": "bd2047c2-9edb-4d32-bda9-e698ad0d05ab",
   "metadata": {
    "scrolled": true,
    "tags": []
   },
   "outputs": [
    {
     "name": "stdout",
     "output_type": "stream",
     "text": [
      "flew\n",
      "devices\n",
      "battledecks\n",
      "database\n",
      "magnifying\n",
      "jet\n",
      "un\n",
      "greater\n",
      "breaking\n",
      "imo\n",
      "problem\n",
      "genius\n",
      "googleio\n",
      "wr\n",
      "preparing\n",
      "circles\n",
      "flummoxed\n",
      "dog\n",
      "skateboards\n",
      "ball\n",
      "notch\n",
      "andro\n",
      "meaning\n",
      "khoi\n",
      "courtyard\n",
      "tron\n",
      "rather\n",
      "monetization\n",
      "exceptionally\n",
      "behavior\n",
      "4am\n",
      "city\n",
      "basics\n",
      "emulates\n",
      "brains\n",
      "footnotes\n",
      "83323324\n",
      "200\n",
      "kindle\n",
      "battery\n",
      "creek\n",
      "graphic\n",
      "realtime\n",
      "instead\n",
      "huge\n",
      "dine\n",
      "equates\n",
      "intimidated\n",
      "takes\n",
      "sabotaged\n",
      "softlayer\n",
      "gogo\n",
      "3k\n",
      "listen\n",
      "1415\n",
      "cut\n",
      "klick\n",
      "iphones\n",
      "firstworldproblems\n",
      "path\n",
      "guide\n",
      "kickass\n",
      "accommodate\n",
      "desperate\n",
      "bruises\n",
      "movies\n",
      "vb\n",
      "sec\n",
      "eg\n",
      "collective\n",
      "mid\n",
      "dropping\n",
      "trumping\n",
      "16mins\n",
      "bestie\n",
      "create\n",
      "pen\n",
      "elevation\n",
      "cuz\n",
      "porting\n",
      "tough\n",
      "highlights\n",
      "2moro\n",
      "hotel\n",
      "either\n",
      "object\n",
      "upstairs\n",
      "ixd\n",
      "crushit\n",
      "enuf\n",
      "agree\n",
      "natural\n",
      "replenished\n",
      "customers\n",
      "stranger\n",
      "worth\n",
      "eightbit\n",
      "puts\n",
      "voicefeed\n",
      "years\n"
     ]
    }
   ],
   "source": [
    "# random 100 words\n",
    "for i, val in enumerate(random.sample(vocabulary_re, 100)):\n",
    "    print(val)"
   ]
  },
  {
   "cell_type": "markdown",
   "id": "4bbeb37d-8792-46bb-a2b3-c504dc05ede7",
   "metadata": {},
   "source": [
    "## Lemmatizing Data"
   ]
  },
  {
   "cell_type": "code",
   "execution_count": 126,
   "id": "ee3f8081-a345-4e25-8c87-93bcb941e250",
   "metadata": {},
   "outputs": [],
   "source": [
    "lemmas = fn.lemmatize(processed_data)"
   ]
  },
  {
   "cell_type": "code",
   "execution_count": 142,
   "id": "5cce01e7-d031-481d-90ab-5f249bb163f9",
   "metadata": {},
   "outputs": [
    {
     "data": {
      "text/plain": [
       "3548"
      ]
     },
     "execution_count": 142,
     "metadata": {},
     "output_type": "execute_result"
    }
   ],
   "source": [
    "len(lemmas)"
   ]
  },
  {
   "cell_type": "code",
   "execution_count": 131,
   "id": "6bed1f47-3fef-41a1-af43-9bea3fddf87c",
   "metadata": {
    "scrolled": true,
    "tags": []
   },
   "outputs": [
    {
     "data": {
      "text/plain": [
       "['wesley83 3g iphone 3 hr tweeting rise austin dead need upgrade plugin station sxsw',\n",
       " 'jessedee know fludapp awesome ipad iphone app likely appreciate design also giving free t sxsw',\n",
       " 'swonderlin wait ipad 2 also sale sxsw',\n",
       " 'sxsw hope year festival crashy year iphone app sxsw',\n",
       " 'sxtxstate great stuff fri sxsw marissa mayer google tim reilly tech book conference amp matt mullenweg wordpress']"
      ]
     },
     "execution_count": 131,
     "metadata": {},
     "output_type": "execute_result"
    }
   ],
   "source": [
    "lemmas[:5]"
   ]
  },
  {
   "cell_type": "code",
   "execution_count": 129,
   "id": "58bd392e-89e7-41e2-8bf3-e43dfce3dcec",
   "metadata": {},
   "outputs": [
    {
     "name": "stdout",
     "output_type": "stream",
     "text": [
      "wesley83 3g iphone 3 hr tweeting rise austin dead need upgrade plugin station sxsw\n",
      ".@wesley83 I have a 3G iPhone. After 3 hrs tweeting at #RISE_Austin, it was dead!  I need to upgrade. Plugin stations at #SXSW.\n"
     ]
    }
   ],
   "source": [
    "print(lemmas[0])\n",
    "print(data[0])"
   ]
  },
  {
   "cell_type": "markdown",
   "id": "89525ba5-ac94-410e-8747-9685bb5b93bb",
   "metadata": {},
   "source": [
    "## Stemming Data"
   ]
  },
  {
   "cell_type": "code",
   "execution_count": 140,
   "id": "bb35d51b-3600-4676-9472-ae06fa06460a",
   "metadata": {},
   "outputs": [],
   "source": [
    "stems = fn.stemmatize(processed_data)"
   ]
  },
  {
   "cell_type": "code",
   "execution_count": 141,
   "id": "eeac6d49-d2dc-4e73-9cde-3a19817950e9",
   "metadata": {},
   "outputs": [
    {
     "data": {
      "text/plain": [
       "3548"
      ]
     },
     "execution_count": 141,
     "metadata": {},
     "output_type": "execute_result"
    }
   ],
   "source": [
    "len(stems)"
   ]
  },
  {
   "cell_type": "code",
   "execution_count": 143,
   "id": "cbecd6cf-a967-4a75-8129-3a4f622510d9",
   "metadata": {},
   "outputs": [
    {
     "data": {
      "text/plain": [
       "['wesley83 3g iphon 3 hr tweet rise austin dead need upgrad plugin station sxsw',\n",
       " 'jessede know fludapp awesom ipad iphon app like appreci design also give free ts sxsw',\n",
       " 'swonderlin wait ipad 2 also sale sxsw',\n",
       " 'sxsw hope year festiv crashi year iphon app sxsw',\n",
       " 'sxtxstate great stuff fri sxsw marissa mayer googl tim reilli tech book confer amp matt mullenweg wordpress']"
      ]
     },
     "execution_count": 143,
     "metadata": {},
     "output_type": "execute_result"
    }
   ],
   "source": [
    "stems[:5]"
   ]
  },
  {
   "cell_type": "code",
   "execution_count": 144,
   "id": "9a9d61a0-974e-4157-a320-c2e739e59ec1",
   "metadata": {},
   "outputs": [
    {
     "name": "stdout",
     "output_type": "stream",
     "text": [
      "wesley83 3g iphon 3 hr tweet rise austin dead need upgrad plugin station sxsw\n",
      ".@wesley83 I have a 3G iPhone. After 3 hrs tweeting at #RISE_Austin, it was dead!  I need to upgrade. Plugin stations at #SXSW.\n"
     ]
    }
   ],
   "source": [
    "print(stems[0])\n",
    "print(data[0])"
   ]
  },
  {
   "cell_type": "markdown",
   "id": "12b5d6af-7202-4d58-b6fe-aa8e52fec97e",
   "metadata": {},
   "source": [
    "## Stem versus Lemm"
   ]
  },
  {
   "cell_type": "code",
   "execution_count": 153,
   "id": "1b8da131-ac27-43a2-9cbe-b26ca0862563",
   "metadata": {},
   "outputs": [
    {
     "name": "stdout",
     "output_type": "stream",
     "text": [
      "stem: wesley83 3g iphon 3 hr tweet rise austin dead need upgrad plugin station sxsw\n",
      "lemm: wesley83 3g iphone 3 hr tweeting rise austin dead need upgrade plugin station sxsw \n",
      "\n",
      "stem: jessede know fludapp awesom ipad iphon app like appreci design also give free ts sxsw\n",
      "lemm: jessedee know fludapp awesome ipad iphone app likely appreciate design also giving free t sxsw \n",
      "\n",
      "stem: swonderlin wait ipad 2 also sale sxsw\n",
      "lemm: swonderlin wait ipad 2 also sale sxsw \n",
      "\n",
      "stem: sxsw hope year festiv crashi year iphon app sxsw\n",
      "lemm: sxsw hope year festival crashy year iphone app sxsw \n",
      "\n",
      "stem: sxtxstate great stuff fri sxsw marissa mayer googl tim reilli tech book confer amp matt mullenweg wordpress\n",
      "lemm: sxtxstate great stuff fri sxsw marissa mayer google tim reilly tech book conference amp matt mullenweg wordpress \n",
      "\n",
      "stem: sxsw start ctia around corner googleio hop skip jump good time android fan\n",
      "lemm: sxsw starting ctia around corner googleio hop skip jump good time android fan \n",
      "\n",
      "stem: beauti smart simpl idea rt madebymani thenextweb wrote hollergram ipad app sxsw http bit ly ieavob\n",
      "lemm: beautifully smart simple idea rt madebymany thenextweb wrote hollergram ipad app sxsw http bit ly ieavob \n",
      "\n",
      "stem: count day sxsw plu strong canadian dollar mean stock appl gear\n",
      "lemm: counting day sxsw plus strong canadian dollar mean stock apple gear \n",
      "\n",
      "stem: excit meet samsungmobileu sxsw show sprint galaxi still run android 2 1 fail\n",
      "lemm: excited meet samsungmobileus sxsw show sprint galaxy still running android 2 1 fail \n",
      "\n",
      "stem: find amp start impromptu parti sxsw hurricaneparti http bit ly gvlrin wait til android app come\n",
      "lemm: find amp start impromptu party sxsw hurricaneparty http bit ly gvlrin wait til android app come \n",
      "\n"
     ]
    }
   ],
   "source": [
    "for i in range(10):\n",
    "    print(f'stem: {stems[i]}')\n",
    "    print(f'lemm: {lemmas[i]} \\n')"
   ]
  },
  {
   "cell_type": "markdown",
   "id": "d9c283e5-dba9-4188-b9e1-a19283602d76",
   "metadata": {},
   "source": [
    "## Splitting Emotions"
   ]
  },
  {
   "cell_type": "code",
   "execution_count": 104,
   "id": "75f61fe4-26ae-4d97-af43-447f9f37320d",
   "metadata": {
    "tags": []
   },
   "outputs": [],
   "source": [
    "bin_positive = binary_data[binary_data['emotion']==1]\n",
    "bin_negative = binary_data[binary_data['emotion']==0]"
   ]
  },
  {
   "cell_type": "code",
   "execution_count": 105,
   "id": "d5054bb9-2536-4d0d-aef8-052a8e8f8f9c",
   "metadata": {},
   "outputs": [],
   "source": [
    "df_positive = bin_positive['tweet']\n",
    "df_negative = bin_negative['tweet']"
   ]
  },
  {
   "cell_type": "code",
   "execution_count": 106,
   "id": "b5476c25-1187-419e-a6b3-9f5ef8c51f36",
   "metadata": {},
   "outputs": [
    {
     "data": {
      "text/plain": [
       "5027"
      ]
     },
     "execution_count": 106,
     "metadata": {},
     "output_type": "execute_result"
    }
   ],
   "source": [
    "process_pos = list(map(fn.re_tokens, df_positive))\n",
    "vocab_re_pos = fn.vocabulary(process_pos)\n",
    "len(vocab_re_pos)"
   ]
  },
  {
   "cell_type": "code",
   "execution_count": 108,
   "id": "e582b212-f0a2-4c47-b0e6-0878d27ed687",
   "metadata": {},
   "outputs": [
    {
     "data": {
      "text/plain": [
       "2041"
      ]
     },
     "execution_count": 108,
     "metadata": {},
     "output_type": "execute_result"
    }
   ],
   "source": [
    "process_neg = list(map(fn.re_tokens, df_negative))\n",
    "vocab_re_neg = fn.vocabulary(process_neg)\n",
    "len(vocab_re_neg)"
   ]
  },
  {
   "cell_type": "code",
   "execution_count": null,
   "id": "9be590fd-ab4f-459d-873b-4e3d18e15719",
   "metadata": {},
   "outputs": [],
   "source": []
  },
  {
   "cell_type": "code",
   "execution_count": null,
   "id": "d28f52e6-d81a-46f5-85b4-6b198ca85a4e",
   "metadata": {},
   "outputs": [],
   "source": []
  }
 ],
 "metadata": {
  "kernelspec": {
   "display_name": "nlp_project",
   "language": "python",
   "name": "nlp_project"
  },
  "language_info": {
   "codemirror_mode": {
    "name": "ipython",
    "version": 3
   },
   "file_extension": ".py",
   "mimetype": "text/x-python",
   "name": "python",
   "nbconvert_exporter": "python",
   "pygments_lexer": "ipython3",
   "version": "3.8.5"
  }
 },
 "nbformat": 4,
 "nbformat_minor": 5
}
